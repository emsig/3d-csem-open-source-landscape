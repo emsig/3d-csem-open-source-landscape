{
 "cells": [
  {
   "cell_type": "code",
   "execution_count": 1,
   "metadata": {},
   "outputs": [],
   "source": [
    "# core python libraries we rely on\n",
    "import numpy as np\n",
    "import matplotlib.pyplot as plt\n",
    "import xarray as xr\n",
    "\n",
    "# SimPEG ecosystem \n",
    "import discretize\n",
    "from discretize.utils import mkvc\n",
    "from SimPEG.electromagnetics import frequency_domain as fdem\n",
    "from pymatsolver import Pardiso\n",
    "import ipywidgets\n",
    "%load_ext memory_profiler"
   ]
  },
  {
   "cell_type": "code",
   "execution_count": 2,
   "metadata": {},
   "outputs": [
    {
     "data": {
      "text/html": [
       "<table>\n",
       "  <tr>\n",
       "    <td style='font-weight: bold; font-size: 1.2em; text-align: center;' colspan='3'>TensorMesh</td>\n",
       "    <td style='font-size: 1.2em; text-align: center;'colspan='4'>90,172,895 cells</td>\n",
       "  </tr>\n",
       "  <tr>\n",
       "    <th></th>\n",
       "    <th></th>\n",
       "    <th colspan='2' style='padding: 5px 20px 5px 20px;'>MESH EXTENT</th>\n",
       "    <th colspan='2' style='padding: 5px 20px 5px 20px;'>CELL WIDTH</th>\n",
       "    <th style='padding: 5px 20px 5px 20px;'>FACTOR</th>\n",
       "  </tr>\n",
       "  <tr>\n",
       "    <th style='padding: 5px 20px 5px 20px;'>dir</th>\n",
       "    <th style='padding: 5px 20px 5px 20px;'>nC</th>\n",
       "    <th style='padding: 5px 20px 5px 20px;'>min</th>\n",
       "    <th style='padding: 5px 20px 5px 20px;'>max</th>\n",
       "    <th style='padding: 5px 20px 5px 20px;'>min</th>\n",
       "    <th style='padding: 5px 20px 5px 20px;'>max</th>\n",
       "    <th style='padding: 5px 20px 5px 20px;'>max</th>\n",
       "  </tr>\n",
       "  <tr>\n",
       "    <td style='padding: 5px 20px 5px 20px;'>x</td>\n",
       "    <td style='padding: 5px 20px 5px 20px;'>515</td>\n",
       "    <td style='padding: 5px 20px 5px 20px;'>364,325.00</td>\n",
       "    <td style='padding: 5px 20px 5px 20px;'>415,825.00</td>\n",
       "    <td style='padding: 5px 20px 5px 20px;'>100.00</td>\n",
       "    <td style='padding: 5px 20px 5px 20px;'>100.00</td>\n",
       "    <td style='padding: 5px 20px 5px 20px;'>1.00</td>\n",
       "  </tr>\n",
       "  <tr>\n",
       "    <td style='padding: 5px 20px 5px 20px;'>y</td>\n",
       "    <td style='padding: 5px 20px 5px 20px;'>563</td>\n",
       "    <td style='padding: 5px 20px 5px 20px;'>7,490,049.00</td>\n",
       "    <td style='padding: 5px 20px 5px 20px;'>7,546,349.00</td>\n",
       "    <td style='padding: 5px 20px 5px 20px;'>100.00</td>\n",
       "    <td style='padding: 5px 20px 5px 20px;'>100.00</td>\n",
       "    <td style='padding: 5px 20px 5px 20px;'>1.00</td>\n",
       "  </tr>\n",
       "  <tr>\n",
       "    <td style='padding: 5px 20px 5px 20px;'>z</td>\n",
       "    <td style='padding: 5px 20px 5px 20px;'>311</td>\n",
       "    <td style='padding: 5px 20px 5px 20px;'>-6,200.00</td>\n",
       "    <td style='padding: 5px 20px 5px 20px;'>20.00</td>\n",
       "    <td style='padding: 5px 20px 5px 20px;'>20.00</td>\n",
       "    <td style='padding: 5px 20px 5px 20px;'>20.00</td>\n",
       "    <td style='padding: 5px 20px 5px 20px;'>1.00</td>\n",
       "  </tr>\n",
       "</table>\n"
      ],
      "text/plain": [
       "\n",
       "  TensorMesh: 90,172,895 cells\n",
       "\n",
       "                      MESH EXTENT             CELL WIDTH      FACTOR\n",
       "  dir    nC        min           max         min       max      max\n",
       "  ---   ---  ---------------------------  ------------------  ------\n",
       "   x    515    364,325.00    415,825.00    100.00    100.00    1.00\n",
       "   y    563  7,490,049.00  7,546,349.00    100.00    100.00    1.00\n",
       "   z    311     -6,200.00         20.00     20.00     20.00    1.00\n"
      ]
     },
     "execution_count": 2,
     "metadata": {},
     "output_type": "execute_result"
    }
   ],
   "source": [
    "data = np.load('../marlim_comp.npz')  #  or 'marlim_orig.npz'\n",
    "tres_h = data['res_h']\n",
    "tres_v = data['res_v']\n",
    "\n",
    "# We have to add an air layer\n",
    "hz = np.r_[data['hz'], 20]\n",
    "\n",
    "mesh_full = discretize.TensorMesh(\n",
    "    [data['hx'], data['hy'], hz], x0=data['x0']\n",
    ")\n",
    "\n",
    "# Add air resistivity\n",
    "res_h_full = 1e8*np.ones(mesh_full.vnC)\n",
    "res_v_full = 1e8*np.ones(mesh_full.vnC)\n",
    "res_h_full[:, :, :-1] = tres_h\n",
    "res_v_full[:, :, :-1] = tres_v\n",
    "del data, tres_h, tres_v\n",
    "\n",
    "mesh_full"
   ]
  },
  {
   "cell_type": "code",
   "execution_count": 3,
   "metadata": {},
   "outputs": [
    {
     "data": {
      "text/plain": [
       "Text(0.5, 1.0, 'rho_v')"
      ]
     },
     "execution_count": 3,
     "metadata": {},
     "output_type": "execute_result"
    },
    {
     "data": {
      "image/png": "[encoded data removed]",
      "text/plain": [
       "<Figure size 864x288 with 2 Axes>"
      ]
     },
     "metadata": {
      "needs_background": "light"
     },
     "output_type": "display_data"
    }
   ],
   "source": [
    "fig, ax = plt.subplots(1, 2, figsize=(12, 4))\n",
    "\n",
    "histh = ax[0].hist(np.log10(mkvc(res_h_full)), 50);\n",
    "histv = ax[1].hist(np.log10(mkvc(res_v_full)), 50);\n",
    "\n",
    "ax[0].set_xlim([-1, 1])\n",
    "ax[1].set_xlim([-1, 1])\n",
    "\n",
    "ax[0].set_title(\"rho_h\")\n",
    "ax[1].set_title(\"rho_v\")"
   ]
  },
  {
   "cell_type": "code",
   "execution_count": 4,
   "metadata": {},
   "outputs": [],
   "source": [
    "hist[1][0]"
   ]
  },
  {
   "cell_type": "code",
   "execution_count": 5,
   "metadata": {},
   "outputs": [
    {
     "data": {
      "text/plain": [
       "0.15320244050825693"
      ]
     },
     "execution_count": 5,
     "metadata": {},
     "output_type": "execute_result"
    }
   ],
   "source": [
    "10**histh[1][1] - 10**histh[1][0]"
   ]
  },
  {
   "cell_type": "code",
   "execution_count": 6,
   "metadata": {},
   "outputs": [
    {
     "data": {
      "text/plain": [
       "(-0.49485003138733225, -0.49485003138733225)"
      ]
     },
     "execution_count": 6,
     "metadata": {},
     "output_type": "execute_result"
    }
   ],
   "source": [
    "np.min(np.log10(res_h_full)), np.min(np.log10(res_v_full))"
   ]
  },
  {
   "cell_type": "code",
   "execution_count": 7,
   "metadata": {},
   "outputs": [
    {
     "data": {
      "text/plain": [
       "(0.3199999928474426, 0.3199999928474426)"
      ]
     },
     "execution_count": 7,
     "metadata": {},
     "output_type": "execute_result"
    }
   ],
   "source": [
    "np.min(res_h_full), np.min(res_v_full)"
   ]
  },
  {
   "cell_type": "code",
   "execution_count": 8,
   "metadata": {},
   "outputs": [
    {
     "name": "stdout",
     "output_type": "stream",
     "text": [
      "CPU times: user 25.9 s, sys: 10.7 s, total: 36.5 s\n",
      "Wall time: 37 s\n"
     ]
    }
   ],
   "source": [
    "%%time\n",
    "# compute the total gradient\n",
    "dmdx_h = np.abs(mesh_full._cellGradxStencil * mkvc(res_h_full))\n",
    "dmdy_h = np.abs(mesh_full._cellGradyStencil * mkvc(res_h_full))\n",
    "dmdz_h = np.abs(mesh_full._cellGradzStencil * mkvc(res_h_full))"
   ]
  },
  {
   "cell_type": "code",
   "execution_count": 9,
   "metadata": {},
   "outputs": [
    {
     "name": "stdout",
     "output_type": "stream",
     "text": [
      "CPU times: user 26.2 s, sys: 10.8 s, total: 37 s\n",
      "Wall time: 37.7 s\n"
     ]
    }
   ],
   "source": [
    "%%time\n",
    "# compute the total gradient\n",
    "dmdx_v = np.abs(mesh_full._cellGradxStencil * mkvc(res_v_full))\n",
    "dmdy_v = np.abs(mesh_full._cellGradyStencil * mkvc(res_v_full))\n",
    "dmdz_v = np.abs(mesh_full._cellGradzStencil * mkvc(res_v_full))"
   ]
  },
  {
   "cell_type": "code",
   "execution_count": 10,
   "metadata": {},
   "outputs": [],
   "source": [
    "dmdx_h_nz = np.nonzero(dmdx_h)[0]\n",
    "dmdy_h_nz = np.nonzero(dmdy_h)[0]\n",
    "dmdz_h_nz = np.nonzero(dmdz_h)[0]"
   ]
  },
  {
   "cell_type": "code",
   "execution_count": 11,
   "metadata": {},
   "outputs": [],
   "source": [
    "dmdx_v_nz = np.nonzero(dmdx_v)[0]\n",
    "dmdy_v_nz = np.nonzero(dmdy_v)[0]\n",
    "dmdz_v_nz = np.nonzero(dmdz_v)[0]"
   ]
  },
  {
   "cell_type": "code",
   "execution_count": 12,
   "metadata": {},
   "outputs": [
    {
     "data": {
      "image/png": "[encoded data removed]",
      "text/plain": [
       "<Figure size 864x288 with 2 Axes>"
      ]
     },
     "metadata": {
      "needs_background": "light"
     },
     "output_type": "display_data"
    }
   ],
   "source": [
    "fig, ax = plt.subplots(1, 2, figsize=(12, 4))\n",
    "for dim, h, v in zip(\n",
    "    [\"x\", \"y\", \"z\"],\n",
    "    [dmdx_h[dmdx_h_nz], dmdy_h[dmdy_h_nz], dmdz_h[dmdz_h_nz]],\n",
    "    [dmdx_v[dmdx_v_nz], dmdy_v[dmdy_v_nz], dmdz_v[dmdz_v_nz]]\n",
    "):\n",
    "\n",
    "    ax[0].hist(np.log10(np.abs(mkvc(h))), 30, alpha=0.5);\n",
    "    ax[1].hist(np.log10(np.abs(mkvc(v))), 30, alpha=0.5);\n",
    "\n",
    "    ax[0].set_title(\"rho_h\")\n",
    "    ax[1].set_title(\"rho_v\")"
   ]
  },
  {
   "cell_type": "code",
   "execution_count": 13,
   "metadata": {},
   "outputs": [],
   "source": [
    "# average to cell centers and sum\n",
    "\n",
    "dmdh = (\n",
    "    mesh_full.aveFx2CC * dmdx_h + \n",
    "    mesh_full.aveFy2CC * dmdy_h + \n",
    "    mesh_full.aveFz2CC * dmdz_h\n",
    ")\n",
    "\n",
    "dmdv = (\n",
    "    mesh_full.aveFx2CC * dmdx_v + \n",
    "    mesh_full.aveFy2CC * dmdy_v + \n",
    "    mesh_full.aveFz2CC * dmdz_v\n",
    ")"
   ]
  },
  {
   "cell_type": "code",
   "execution_count": 14,
   "metadata": {},
   "outputs": [],
   "source": [
    "dm = dmdh + dmdv"
   ]
  },
  {
   "cell_type": "code",
   "execution_count": 15,
   "metadata": {},
   "outputs": [],
   "source": [
    "dm_nonzero = np.nonzero(dm)[0]"
   ]
  },
  {
   "cell_type": "code",
   "execution_count": 16,
   "metadata": {},
   "outputs": [
    {
     "data": {
      "text/plain": [
       "(array([8.0000000e+00, 1.8500000e+02, 3.2470000e+03, 3.0404000e+04,\n",
       "        1.2459800e+05, 2.3574100e+05, 5.3933000e+05, 3.1231820e+06,\n",
       "        5.4718920e+06, 1.3605903e+07, 7.4602590e+06, 7.8334060e+06,\n",
       "        5.6419890e+06, 1.7179740e+06, 3.6301900e+05, 1.6212700e+05,\n",
       "        2.9446200e+05, 6.2767800e+05, 4.8823100e+05, 1.2782330e+06,\n",
       "        2.9898000e+04, 0.0000000e+00, 0.0000000e+00, 0.0000000e+00,\n",
       "        0.0000000e+00, 0.0000000e+00, 0.0000000e+00, 0.0000000e+00,\n",
       "        0.0000000e+00, 5.7989000e+05]),\n",
       " array([-6.32162991, -5.84424225, -5.36685458, -4.88946692, -4.41207925,\n",
       "        -3.93469159, -3.45730393, -2.97991626, -2.5025286 , -2.02514094,\n",
       "        -1.54775327, -1.07036561, -0.59297795, -0.11559028,  0.36179738,\n",
       "         0.83918504,  1.31657271,  1.79396037,  2.27134804,  2.7487357 ,\n",
       "         3.22612336,  3.70351103,  4.18089869,  4.65828635,  5.13567402,\n",
       "         5.61306168,  6.09044934,  6.56783701,  7.04522467,  7.52261234,\n",
       "         8.        ]),\n",
       " <a list of 30 Patch objects>)"
      ]
     },
     "execution_count": 16,
     "metadata": {},
     "output_type": "execute_result"
    },
    {
     "data": {
      "image/png": "[encoded data removed]",
      "text/plain": [
       "<Figure size 432x288 with 1 Axes>"
      ]
     },
     "metadata": {
      "needs_background": "light"
     },
     "output_type": "display_data"
    }
   ],
   "source": [
    "plt.hist(np.log10(dm[dm_nonzero]), 30)"
   ]
  },
  {
   "cell_type": "code",
   "execution_count": 17,
   "metadata": {},
   "outputs": [],
   "source": [
    "threshold = 0.1\n",
    "significant_dm = dm >= threshold"
   ]
  },
  {
   "cell_type": "code",
   "execution_count": 18,
   "metadata": {},
   "outputs": [
    {
     "data": {
      "text/plain": [
       "18134780"
      ]
     },
     "execution_count": 18,
     "metadata": {},
     "output_type": "execute_result"
    }
   ],
   "source": [
    "significant_dm.sum()"
   ]
  },
  {
   "cell_type": "code",
   "execution_count": 20,
   "metadata": {},
   "outputs": [
    {
     "data": {
      "image/png": "[encoded data removed]",
      "text/plain": [
       "<Figure size 432x288 with 4 Axes>"
      ]
     },
     "metadata": {
      "needs_background": "light"
     },
     "output_type": "display_data"
    }
   ],
   "source": [
    "mesh_full.plot_3d_slicer(np.log10(res_h_full),  clim=[np.log10(0.32), np.log10(2000)])"
   ]
  },
  {
   "cell_type": "code",
   "execution_count": 21,
   "metadata": {},
   "outputs": [
    {
     "data": {
      "image/png": "[encoded data removed]",
      "text/plain": [
       "<Figure size 432x288 with 4 Axes>"
      ]
     },
     "metadata": {
      "needs_background": "light"
     },
     "output_type": "display_data"
    }
   ],
   "source": [
    "mesh_full.plot_3d_slicer(significant_dm)"
   ]
  },
  {
   "cell_type": "markdown",
   "metadata": {},
   "source": [
    "## load survey info"
   ]
  },
  {
   "cell_type": "code",
   "execution_count": 22,
   "metadata": {},
   "outputs": [],
   "source": [
    "ds = xr.load_dataset('../marlim_survey.nc', engine='h5netcdf')"
   ]
  },
  {
   "cell_type": "code",
   "execution_count": 23,
   "metadata": {},
   "outputs": [
    {
     "name": "stdout",
     "output_type": "stream",
     "text": [
      "True\n"
     ]
    }
   ],
   "source": [
    "# Use reciprocity: rec becomes src\n",
    "src = [\n",
    "    ds.rec_x, ds.rec_y, ds.rec_z,\n",
    "    ds.rec_theta, ds.rec_dip\n",
    "]\n",
    "\n",
    "# Use reciprocity: src becomes rec\n",
    "rec_x = ds.data_il.src_x[::2]\n",
    "rec_y_il = ds.data_il.src_y\n",
    "rec_z_il = ds.data_il.src_z\n",
    "\n",
    "# Ensure same coordinates\n",
    "print(np.allclose(rec_x, ds.data_bs.src_x[::2]))\n",
    "\n",
    "rec_y_bs = ds.data_bs.src_y\n",
    "rec_z_bs = ds.data_bs.src_z\n",
    "\n",
    "rec_locs_il = discretize.utils.ndgrid([rec_x.data, rec_y_il, rec_z_il])\n",
    "rec_locs_bs = discretize.utils.ndgrid([rec_x.data, rec_y_bs, rec_z_bs])\n",
    "\n",
    "# Frequency\n",
    "freqs = ds.freqs.values"
   ]
  },
  {
   "cell_type": "code",
   "execution_count": 24,
   "metadata": {},
   "outputs": [
    {
     "name": "stdout",
     "output_type": "stream",
     "text": [
      "<xarray.DataArray 'src_x' ()>\n",
      "array(21800., dtype=float32)\n",
      "0.0\n",
      "0.0\n",
      "432.17328\n",
      "429.44952\n"
     ]
    }
   ],
   "source": [
    "print(rec_x.max() - rec_x.min())\n",
    "print(rec_y_il.max() - rec_y_il.min())\n",
    "print(rec_y_bs.max() - rec_y_bs.min())\n",
    "print(rec_z_il.max() - rec_z_il.min())\n",
    "print(rec_z_bs.max() - rec_z_bs.min())\n",
    "# print(rec_z.max() - rec_z.min())"
   ]
  },
  {
   "cell_type": "code",
   "execution_count": 53,
   "metadata": {},
   "outputs": [
    {
     "data": {
      "text/plain": [
       "379375.0"
      ]
     },
     "execution_count": 53,
     "metadata": {},
     "output_type": "execute_result"
    }
   ],
   "source": []
  },
  {
   "cell_type": "code",
   "execution_count": 60,
   "metadata": {},
   "outputs": [],
   "source": [
    "# only refine in the core region where we are collecting data \n",
    "\n",
    "extra = 800. \n",
    "\n",
    "refine_points_core = significant_dm & (\n",
    "    (mesh_full.gridCC[:, 0] > rec_x.data.min() - extra) &\n",
    "    (mesh_full.gridCC[:, 0] < rec_x.data.max() + extra) & \n",
    "    (mesh_full.gridCC[:, 1] > rec_x.data.min()) &\n",
    "    (mesh_full.gridCC[:, 1] > rec_x.data.max())\n",
    ")\n",
    "\n",
    "refine_points = mesh_full.gridCC[refine_points_core, :]"
   ]
  },
  {
   "cell_type": "code",
   "execution_count": 61,
   "metadata": {},
   "outputs": [],
   "source": [
    "tmp = refine_points_core.nonzero()"
   ]
  },
  {
   "cell_type": "code",
   "execution_count": 62,
   "metadata": {},
   "outputs": [
    {
     "data": {
      "text/plain": [
       "(10241564,)"
      ]
     },
     "execution_count": 62,
     "metadata": {},
     "output_type": "execute_result"
    }
   ],
   "source": [
    "tmp[0].shape"
   ]
  },
  {
   "cell_type": "code",
   "execution_count": 63,
   "metadata": {},
   "outputs": [
    {
     "data": {
      "text/plain": [
       "(18134780,)"
      ]
     },
     "execution_count": 63,
     "metadata": {},
     "output_type": "execute_result"
    }
   ],
   "source": [
    "significant_dm.nonzero()[0].shape"
   ]
  },
  {
   "cell_type": "code",
   "execution_count": 64,
   "metadata": {},
   "outputs": [
    {
     "data": {
      "image/png": "[encoded data removed]",
      "text/plain": [
       "<Figure size 432x288 with 1 Axes>"
      ]
     },
     "metadata": {
      "needs_background": "light"
     },
     "output_type": "display_data"
    }
   ],
   "source": [
    "fig, ax = plt.subplots(1,1)\n",
    "ax.hist(np.log10(503/np.sqrt(freqs[0]/mkvc(res_h_full))), 50, alpha=0.5);\n",
    "ax.hist(np.log10(503/np.sqrt(freqs[0]/mkvc(res_v_full))), 50, alpha=0.5);"
   ]
  },
  {
   "cell_type": "markdown",
   "metadata": {},
   "source": [
    "## design a mesh"
   ]
  },
  {
   "cell_type": "code",
   "execution_count": 78,
   "metadata": {},
   "outputs": [
    {
     "name": "stdout",
     "output_type": "stream",
     "text": [
      "218.0 109.0 155.0 3683110.0\n",
      "256 128 256 8388608\n"
     ]
    }
   ],
   "source": [
    "# use the same discretization and domain extent in each dimension\n",
    "dx, dy, dz = 100, 100, 40 \n",
    "\n",
    "domain_x = float(rec_x.max() - rec_x.min())\n",
    "domain_y = domain_x / 2\n",
    "domain_z = refine_points[:, 2].max() - refine_points[:, 2].min()\n",
    "\n",
    "ncore_x = domain_x/dx\n",
    "ncore_y = domain_y/dy\n",
    "ncore_z = domain_z/dz\n",
    "\n",
    "print(ncore_x, ncore_y, ncore_z, ncore_x*ncore_y*ncore_z)\n",
    "\n",
    "npad_x = 9\n",
    "npad_y = 9\n",
    "npad_z = 9\n",
    "\n",
    "ncx = 2**int(np.ceil(np.log(ncore_x + npad_x*2)/np.log(2.)))\n",
    "ncy = 2**int(np.ceil(np.log(ncore_y + npad_y*2)/np.log(2.)))\n",
    "ncz = 2**int(np.ceil(np.log(ncore_z + npad_z*2)/np.log(2.)))\n",
    "\n",
    "print(ncx, ncy, ncz, ncx*ncy*ncz)\n",
    "\n",
    "pf = 1.4\n"
   ]
  },
  {
   "cell_type": "code",
   "execution_count": 79,
   "metadata": {},
   "outputs": [
    {
     "data": {
      "text/plain": [
       "array([ 3.643250e+05,  7.490049e+06, -6.200000e+03])"
      ]
     },
     "execution_count": 79,
     "metadata": {},
     "output_type": "execute_result"
    }
   ],
   "source": [
    "mesh_full.x0"
   ]
  },
  {
   "cell_type": "code",
   "execution_count": 80,
   "metadata": {},
   "outputs": [],
   "source": [
    "mesh_full_center = np.r_[\n",
    "    (mesh_full.gridCC[:, 0].min() + mesh_full.gridCC[:, 0].max())/2,\n",
    "    (mesh_full.gridCC[:, 1].min() + mesh_full.gridCC[:, 1].max())/2,\n",
    "    (mesh_full.gridCC[:, 2].min() + mesh_full.gridCC[:, 2].max())/2\n",
    "]"
   ]
  },
  {
   "cell_type": "code",
   "execution_count": 81,
   "metadata": {},
   "outputs": [
    {
     "data": {
      "text/plain": [
       "array([ 3.900750e+05,  7.518199e+06, -3.090000e+03])"
      ]
     },
     "execution_count": 81,
     "metadata": {},
     "output_type": "execute_result"
    }
   ],
   "source": [
    "mesh_full_center"
   ]
  },
  {
   "cell_type": "code",
   "execution_count": 82,
   "metadata": {},
   "outputs": [
    {
     "name": "stdout",
     "output_type": "stream",
     "text": [
      "0 [     0 102416]\n",
      "1 [102416 204832]\n",
      "2 [204832 307248]\n",
      "3 [307248 409664]\n",
      "4 [409664 512080]\n",
      "5 [512080 614496]\n",
      "6 [614496 716912]\n",
      "7 [716912 819328]\n",
      "8 [819328 921744]\n",
      "9 [ 921744 1024160]\n",
      "10 [1024160 1126576]\n",
      "11 [1126576 1228992]\n",
      "12 [1228992 1331408]\n",
      "13 [1331408 1433824]\n",
      "14 [1433824 1536240]\n",
      "15 [1536240 1638656]\n",
      "16 [1638656 1741072]\n",
      "17 [1741072 1843488]\n",
      "18 [1843488 1945904]\n",
      "19 [1945904 2048320]\n",
      "20 [2048320 2150736]\n",
      "21 [2150736 2253152]\n",
      "22 [2253152 2355568]\n",
      "23 [2355568 2457984]\n",
      "24 [2457984 2560400]\n",
      "25 [2560400 2662816]\n",
      "26 [2662816 2765232]\n",
      "27 [2765232 2867648]\n",
      "28 [2867648 2970064]\n",
      "29 [2970064 3072480]\n",
      "30 [3072480 3174896]\n",
      "31 [3174896 3277312]\n",
      "32 [3277312 3379728]\n",
      "33 [3379728 3482144]\n",
      "34 [3482144 3584560]\n",
      "35 [3584560 3686976]\n",
      "36 [3686976 3789392]\n",
      "37 [3789392 3891808]\n",
      "38 [3891808 3994224]\n",
      "39 [3994224 4096640]\n",
      "40 [4096640 4199056]\n",
      "41 [4199056 4301472]\n",
      "42 [4301472 4403888]\n",
      "43 [4403888 4506304]\n",
      "44 [4506304 4608720]\n",
      "45 [4608720 4711136]\n",
      "46 [4711136 4813552]\n",
      "47 [4813552 4915968]\n",
      "48 [4915968 5018384]\n",
      "49 [5018384 5120800]\n",
      "50 [5120800 5223216]\n",
      "51 [5223216 5325632]\n",
      "52 [5325632 5428048]\n",
      "53 [5428048 5530464]\n",
      "54 [5530464 5632880]\n",
      "55 [5632880 5735296]\n",
      "56 [5735296 5837712]\n",
      "57 [5837712 5940128]\n",
      "58 [5940128 6042544]\n",
      "59 [6042544 6144960]\n",
      "60 [6144960 6247376]\n",
      "61 [6247376 6349792]\n",
      "62 [6349792 6452208]\n",
      "63 [6452208 6554624]\n",
      "64 [6554624 6657040]\n",
      "65 [6657040 6759456]\n",
      "66 [6759456 6861872]\n",
      "67 [6861872 6964288]\n",
      "68 [6964288 7066704]\n",
      "69 [7066704 7169120]\n",
      "70 [7169120 7271536]\n",
      "71 [7271536 7373952]\n",
      "72 [7373952 7476368]\n",
      "73 [7476368 7578784]\n",
      "74 [7578784 7681200]\n",
      "75 [7681200 7783616]\n",
      "76 [7783616 7886032]\n",
      "77 [7886032 7988448]\n",
      "78 [7988448 8090864]\n",
      "79 [8090864 8193280]\n",
      "80 [8193280 8295696]\n",
      "81 [8295696 8398112]\n",
      "82 [8398112 8500528]\n",
      "83 [8500528 8602944]\n",
      "84 [8602944 8705360]\n",
      "85 [8705360 8807776]\n",
      "86 [8807776 8910192]\n",
      "87 [8910192 9012608]\n",
      "88 [9012608 9115024]\n",
      "89 [9115024 9217440]\n",
      "90 [9217440 9319856]\n",
      "91 [9319856 9422272]\n",
      "92 [9422272 9524688]\n",
      "93 [9524688 9627104]\n",
      "94 [9627104 9729520]\n",
      "95 [9729520 9831936]\n",
      "96 [9831936 9934352]\n",
      "97 [ 9934352 10036768]\n",
      "98 [10036768 10139184]\n",
      "99 [10139184 10241564]\n",
      "100 [10241600 10241564]\n"
     ]
    }
   ],
   "source": [
    "# define the base mesh\n",
    "mesh = discretize.TreeMesh(\n",
    "    [\n",
    "        [(dx, npad_x, -pf), (dx, ncx-npad_x*2), (dx, npad_x, pf)], \n",
    "        [(dy, npad_y, -pf), (dy, ncy-npad_y*2), (dy, npad_y, pf)], \n",
    "        [(dz, npad_z, -pf), (dz, ncz-npad_z*2), (dz, npad_z, pf)]\n",
    "    ]\n",
    ")\n",
    "\n",
    "mesh.x0 = np.r_[\n",
    "    -np.sum(mesh.h[0])/2., -np.sum(mesh.h[1])/2., -np.sum(mesh.h[2][:ncz-npad_z])\n",
    "] + mesh_full_center\n",
    "\n",
    "\n",
    "# refine around the sources and receivers\n",
    "xr, yr, zr = np.meshgrid(src[0:2], src[2] + dy/2*np.r_[-1, 1], src[4] + dz/2*np.r_[-1, 1]) \n",
    "src_refine = np.c_[mkvc(xr), mkvc(yr), mkvc(zr)]\n",
    "\n",
    "mesh = discretize.utils.refine_tree_xyz(\n",
    "    mesh, src_refine, \n",
    "    octree_levels=[2, 2, 1], method=\"box\", finalize=False\n",
    ")\n",
    "\n",
    "mesh = discretize.utils.refine_tree_xyz(\n",
    "    mesh, rec_locs_il, \n",
    "    octree_levels=[2, 2, 1], method=\"radial\", finalize=False\n",
    ")\n",
    "\n",
    "mesh = discretize.utils.refine_tree_xyz(\n",
    "    mesh, rec_locs_bs, \n",
    "    octree_levels=[2, 2, 1], method=\"radial\", finalize=False\n",
    ")\n",
    "\n",
    "# refine around interesting surfaces\n",
    "# this is currently not the best way to do this... \n",
    "n_batches = 100\n",
    "n_values = np.ceil(refine_points.shape[0]/n_batches)\n",
    "for i in range(n_batches+1): \n",
    "    inds = np.r_[int(i*n_values), int(np.min([(i+1)*n_values, refine_points.shape[0]]))]\n",
    "    print(i, inds)\n",
    "    mesh = discretize.utils.refine_tree_xyz(\n",
    "        mesh, refine_points[slice(inds[0], inds[1]), :], \n",
    "        octree_levels=[1, 1], method=\"radial\", finalize=False\n",
    "    )\n",
    "\n",
    "mesh.finalize()\n",
    "\n",
    "# return mesh"
   ]
  },
  {
   "cell_type": "code",
   "execution_count": 83,
   "metadata": {},
   "outputs": [
    {
     "data": {
      "text/html": [
       "<table>\n",
       "<tr>\n",
       "<td style='font-weight: bold; font-size: 1.2em; text-align: center;'>OcTreeMesh</td>\n",
       "<td style='font-size: 1.2em; text-align: center;' colspan='2'>29.16% filled</td>\n",
       "</tr>\n",
       "<tr>\n",
       "<td>\n",
       "<table>\n",
       "<tr>\n",
       "<th style='padding: 5px 20px 5px 20px;'>Level</th>\n",
       "<th style='padding: 5px 20px 5px 20px;'>Number of cells</th>\n",
       "</tr>\n",
       "<tr>\n",
       "<td style='padding: 5px 20px 5px 20px;'>2</td>\n",
       "<td style='padding: 5px 20px 5px 20px;'>8</td>\n",
       "</tr>\n",
       "<tr>\n",
       "<td style='padding: 5px 20px 5px 20px;'>3</td>\n",
       "<td style='padding: 5px 20px 5px 20px;'>64</td>\n",
       "</tr>\n",
       "<tr>\n",
       "<td style='padding: 5px 20px 5px 20px;'>4</td>\n",
       "<td style='padding: 5px 20px 5px 20px;'>130</td>\n",
       "</tr>\n",
       "<tr>\n",
       "<td style='padding: 5px 20px 5px 20px;'>5</td>\n",
       "<td style='padding: 5px 20px 5px 20px;'>1042</td>\n",
       "</tr>\n",
       "<tr>\n",
       "<td style='padding: 5px 20px 5px 20px;'>6</td>\n",
       "<td style='padding: 5px 20px 5px 20px;'>6439</td>\n",
       "</tr>\n",
       "<tr>\n",
       "<td style='padding: 5px 20px 5px 20px;'>7</td>\n",
       "<td style='padding: 5px 20px 5px 20px;'>39731</td>\n",
       "</tr>\n",
       "<tr>\n",
       "<td style='padding: 5px 20px 5px 20px;'>8</td>\n",
       "<td style='padding: 5px 20px 5px 20px;'>2398376</td>\n",
       "</tr>\n",
       "<tr>\n",
       "<td style='font-weight: bold; padding: 5px 20px 5px 20px;'> Total </td>\n",
       "<td style='padding: 5px 20px 5px 20px;'> 2445790 </td>\n",
       "</tr>\n",
       "</table>\n",
       "</td>\n",
       "<td>\n",
       "<table>\n",
       "<tr>\n",
       "<th></th>\n",
       "<th style='padding: 5px 20px 5px 20px;' colspan='2'>Mesh extent</th>\n",
       "<th style='padding: 5px 20px 5px 20px;' colspan='2'>Cell widths</th>\n",
       "</tr>\n",
       "<tr>\n",
       "<th></th>\n",
       "<th style='padding: 5px 20px 5px 20px;'>min</th>\n",
       "<th style='padding: 5px 20px 5px 20px;'>max</th>\n",
       "<th style='padding: 5px 20px 5px 20px;'>min</th>\n",
       "<th style='padding: 5px 20px 5px 20px;'>max</th>\n",
       "</tr>\n",
       "<tr>\n",
       "<td style='padding: 5px 20px 5px 20px;'>x</td>\n",
       "<td style='padding: 5px 20px 5px 20px;'>371293.6336256</td>\n",
       "<td style='padding: 5px 20px 5px 20px;'>408856.36637440004</td>\n",
       "<td style='padding: 5px 20px 5px 20px;'>100.0</td>\n",
       "<td style='padding: 5px 20px 5px 20px;'>12381.366374400037</td>\n",
       "</tr>\n",
       "<tr>\n",
       "<td style='padding: 5px 20px 5px 20px;'>y</td>\n",
       "<td style='padding: 5px 20px 5px 20px;'>7505817.6336256</td>\n",
       "<td style='padding: 5px 20px 5px 20px;'>7530580.3663743995</td>\n",
       "<td style='padding: 5px 20px 5px 20px;'>100.0</td>\n",
       "<td style='padding: 5px 20px 5px 20px;'>12381.366374400444</td>\n",
       "</tr>\n",
       "<tr>\n",
       "<td style='padding: 5px 20px 5px 20px;'>z</td>\n",
       "<td style='padding: 5px 20px 5px 20px;'>-15362.546549759998</td>\n",
       "<td style='padding: 5px 20px 5px 20px;'>-337.45345024000017</td>\n",
       "<td style='padding: 5px 20px 5px 20px;'>40.0</td>\n",
       "<td style='padding: 5px 20px 5px 20px;'>4952.546549759998</td>\n",
       "</tr>\n",
       "</table>\n",
       "</td>\n",
       "</tr>\n",
       "</table>\n"
      ],
      "text/plain": [
       "\n",
       "OcTreeMesh: 29.16% filled\n",
       "\n",
       "Level : Number of cells               Mesh Extent               Cell Widths    \n",
       "-----------------------           min     ,     max            min   ,   max   \n",
       "  2   :        8             ---------------------------   --------------------\n",
       "  3   :       64          x: 371293.6336256,408856.36637440004     100.0   , 12381.366374400037\n",
       "  4   :       130         y: 7505817.6336256,7530580.3663743995     100.0   , 12381.366374400444\n",
       "  5   :      1042         z: -15362.546549759998,-337.45345024000017      40.0   , 4952.546549759998\n",
       "  6   :      6439      \n",
       "  7   :      39731     \n",
       "  8   :     2398376    \n",
       "-----------------------\n",
       "Total :     2445790    "
      ]
     },
     "execution_count": 83,
     "metadata": {},
     "output_type": "execute_result"
    }
   ],
   "source": [
    "mesh"
   ]
  },
  {
   "cell_type": "code",
   "execution_count": 84,
   "metadata": {},
   "outputs": [
    {
     "data": {
      "text/plain": [
       "2445790"
      ]
     },
     "execution_count": 84,
     "metadata": {},
     "output_type": "execute_result"
    }
   ],
   "source": [
    "mesh.nC"
   ]
  },
  {
   "cell_type": "code",
   "execution_count": null,
   "metadata": {},
   "outputs": [],
   "source": []
  }
 ],
 "metadata": {
  "kernelspec": {
   "display_name": "Python 3",
   "language": "python",
   "name": "python3"
  },
  "language_info": {
   "codemirror_mode": {
    "name": "ipython",
    "version": 3
   },
   "file_extension": ".py",
   "mimetype": "text/x-python",
   "name": "python",
   "nbconvert_exporter": "python",
   "pygments_lexer": "ipython3",
   "version": "3.7.3"
  }
 },
 "nbformat": 4,
 "nbformat_minor": 4
}
