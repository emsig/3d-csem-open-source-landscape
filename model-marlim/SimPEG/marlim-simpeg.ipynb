{
 "cells": [
  {
   "cell_type": "markdown",
   "metadata": {
    "iooxa": {
     "id": {
      "block": "BqAWL6KtHODCBRMPQ5ee",
      "project": "LHTckXXHJDEgbriKJT9S",
      "version": 1
     }
    }
   },
   "source": [
    "# SimPEG marlim model\n",
    "\n",
    "Note this is running on the `volume_average` branch of `discretize` "
   ]
  },
  {
   "cell_type": "code",
   "execution_count": 2,
   "metadata": {
    "iooxa": {
     "id": {
      "block": "6S6WRLcppNnf3xLGrSt1",
      "project": "LHTckXXHJDEgbriKJT9S",
      "version": 1
     },
     "outputId": {
      "block": "tltGPJzgfCOFnq1QML3x",
      "project": "LHTckXXHJDEgbriKJT9S",
      "version": 1
     }
    }
   },
   "outputs": [
    {
     "name": "stdout",
     "output_type": "stream",
     "text": [
      "The memory_profiler extension is already loaded. To reload it, use:\n",
      "  %reload_ext memory_profiler\n"
     ]
    }
   ],
   "source": [
    "# core python libraries we rely on\n",
    "import numpy as np\n",
    "import matplotlib.pyplot as plt\n",
    "import xarray as xr\n",
    "\n",
    "# SimPEG ecosystem \n",
    "import discretize\n",
    "from discretize.utils import mkvc\n",
    "from SimPEG import Data\n",
    "from SimPEG.electromagnetics import frequency_domain as fdem\n",
    "from pymatsolver import Pardiso\n",
    "import ipywidgets\n",
    "%load_ext memory_profiler"
   ]
  },
  {
   "cell_type": "code",
   "execution_count": 3,
   "metadata": {
    "iooxa": {
     "id": {
      "block": "igYucSNqFaXDAIb2yN1d",
      "project": "LHTckXXHJDEgbriKJT9S",
      "version": 1
     },
     "outputId": {
      "block": "FMlSgeFTcRGpQ7OOSYWT",
      "project": "LHTckXXHJDEgbriKJT9S",
      "version": 1
     }
    }
   },
   "outputs": [
    {
     "data": {
      "text/html": [
       "<table>\n",
       "  <tr>\n",
       "    <td style='font-weight: bold; font-size: 1.2em; text-align: center;' colspan='3'>TensorMesh</td>\n",
       "    <td style='font-size: 1.2em; text-align: center;'colspan='4'>90,172,895 cells</td>\n",
       "  </tr>\n",
       "  <tr>\n",
       "    <th></th>\n",
       "    <th></th>\n",
       "    <th colspan='2' style='padding: 5px 20px 5px 20px;'>MESH EXTENT</th>\n",
       "    <th colspan='2' style='padding: 5px 20px 5px 20px;'>CELL WIDTH</th>\n",
       "    <th style='padding: 5px 20px 5px 20px;'>FACTOR</th>\n",
       "  </tr>\n",
       "  <tr>\n",
       "    <th style='padding: 5px 20px 5px 20px;'>dir</th>\n",
       "    <th style='padding: 5px 20px 5px 20px;'>nC</th>\n",
       "    <th style='padding: 5px 20px 5px 20px;'>min</th>\n",
       "    <th style='padding: 5px 20px 5px 20px;'>max</th>\n",
       "    <th style='padding: 5px 20px 5px 20px;'>min</th>\n",
       "    <th style='padding: 5px 20px 5px 20px;'>max</th>\n",
       "    <th style='padding: 5px 20px 5px 20px;'>max</th>\n",
       "  </tr>\n",
       "  <tr>\n",
       "    <td style='padding: 5px 20px 5px 20px;'>x</td>\n",
       "    <td style='padding: 5px 20px 5px 20px;'>515</td>\n",
       "    <td style='padding: 5px 20px 5px 20px;'>364,325.00</td>\n",
       "    <td style='padding: 5px 20px 5px 20px;'>415,825.00</td>\n",
       "    <td style='padding: 5px 20px 5px 20px;'>100.00</td>\n",
       "    <td style='padding: 5px 20px 5px 20px;'>100.00</td>\n",
       "    <td style='padding: 5px 20px 5px 20px;'>1.00</td>\n",
       "  </tr>\n",
       "  <tr>\n",
       "    <td style='padding: 5px 20px 5px 20px;'>y</td>\n",
       "    <td style='padding: 5px 20px 5px 20px;'>563</td>\n",
       "    <td style='padding: 5px 20px 5px 20px;'>7,490,049.00</td>\n",
       "    <td style='padding: 5px 20px 5px 20px;'>7,546,349.00</td>\n",
       "    <td style='padding: 5px 20px 5px 20px;'>100.00</td>\n",
       "    <td style='padding: 5px 20px 5px 20px;'>100.00</td>\n",
       "    <td style='padding: 5px 20px 5px 20px;'>1.00</td>\n",
       "  </tr>\n",
       "  <tr>\n",
       "    <td style='padding: 5px 20px 5px 20px;'>z</td>\n",
       "    <td style='padding: 5px 20px 5px 20px;'>311</td>\n",
       "    <td style='padding: 5px 20px 5px 20px;'>-6,200.00</td>\n",
       "    <td style='padding: 5px 20px 5px 20px;'>20.00</td>\n",
       "    <td style='padding: 5px 20px 5px 20px;'>20.00</td>\n",
       "    <td style='padding: 5px 20px 5px 20px;'>20.00</td>\n",
       "    <td style='padding: 5px 20px 5px 20px;'>1.00</td>\n",
       "  </tr>\n",
       "</table>\n"
      ],
      "text/plain": [
       "\n",
       "  TensorMesh: 90,172,895 cells\n",
       "\n",
       "                      MESH EXTENT             CELL WIDTH      FACTOR\n",
       "  dir    nC        min           max         min       max      max\n",
       "  ---   ---  ---------------------------  ------------------  ------\n",
       "   x    515    364,325.00    415,825.00    100.00    100.00    1.00\n",
       "   y    563  7,490,049.00  7,546,349.00    100.00    100.00    1.00\n",
       "   z    311     -6,200.00         20.00     20.00     20.00    1.00\n"
      ]
     },
     "execution_count": 3,
     "metadata": {},
     "output_type": "execute_result"
    }
   ],
   "source": [
    "data = np.load('../marlim_comp.npz')  #  or 'marlim_orig.npz'\n",
    "tres_h = data['res_h']\n",
    "tres_v = data['res_v']\n",
    "\n",
    "# We have to add an air layer\n",
    "hz = np.r_[data['hz'], 20]\n",
    "\n",
    "mesh_full = discretize.TensorMesh(\n",
    "    [data['hx'], data['hy'], hz], x0=data['x0']\n",
    ")\n",
    "\n",
    "# Add air resistivity\n",
    "res_h_full = 1e8*np.ones(mesh_full.vnC)\n",
    "res_v_full = 1e8*np.ones(mesh_full.vnC)\n",
    "res_h_full[:, :, :-1] = tres_h\n",
    "res_v_full[:, :, :-1] = tres_v\n",
    "del data, tres_h, tres_v\n",
    "\n",
    "mesh_full"
   ]
  },
  {
   "cell_type": "code",
   "execution_count": 4,
   "metadata": {
    "iooxa": {
     "id": {
      "block": "uDBQrP6rZ6Gux8GufEVt",
      "project": "LHTckXXHJDEgbriKJT9S",
      "version": 1
     },
     "outputId": {
      "block": "Eukm1Bku7vLV1mQrZnkE",
      "project": "LHTckXXHJDEgbriKJT9S",
      "version": 1
     }
    }
   },
   "outputs": [
    {
     "data": {
      "text/plain": [
       "Text(0.5, 1.0, 'rho_v')"
      ]
     },
     "execution_count": 4,
     "metadata": {},
     "output_type": "execute_result"
    },
    {
     "data": {
      "image/png": "[encoded data removed]",
      "text/plain": [
       "<Figure size 864x288 with 2 Axes>"
      ]
     },
     "metadata": {
      "needs_background": "light"
     },
     "output_type": "display_data"
    }
   ],
   "source": [
    "fig, ax = plt.subplots(1, 2, figsize=(12, 4))\n",
    "\n",
    "histh = ax[0].hist(np.log10(mkvc(res_h_full)), 10);\n",
    "histv = ax[1].hist(np.log10(mkvc(res_v_full)), 10);\n",
    "\n",
    "# ax[0].set_xlim([-1, 1])\n",
    "# ax[1].set_xlim([-1, 1])\n",
    "\n",
    "ax[0].set_title(\"rho_h\")\n",
    "ax[1].set_title(\"rho_v\")"
   ]
  },
  {
   "cell_type": "code",
   "execution_count": 5,
   "metadata": {
    "iooxa": {
     "id": {
      "block": "9FWgNWa4I6etc3Vqes6r",
      "project": "LHTckXXHJDEgbriKJT9S",
      "version": 1
     },
     "outputId": {
      "block": "T2mVLs2sw7ivhNxBVUPz",
      "project": "LHTckXXHJDEgbriKJT9S",
      "version": 1
     }
    }
   },
   "outputs": [
    {
     "data": {
      "text/plain": [
       "0.3199999928474426"
      ]
     },
     "execution_count": 5,
     "metadata": {},
     "output_type": "execute_result"
    }
   ],
   "source": [
    "10**histh[1][0]"
   ]
  },
  {
   "cell_type": "code",
   "execution_count": 6,
   "metadata": {
    "iooxa": {
     "id": {
      "block": "Ppoa2cmy7qkaElohOXvl",
      "project": "LHTckXXHJDEgbriKJT9S",
      "version": 1
     },
     "outputId": {
      "block": "P8ZHVymSrjMGC3l4fV8G",
      "project": "LHTckXXHJDEgbriKJT9S",
      "version": 1
     }
    }
   },
   "outputs": [
    {
     "data": {
      "text/plain": [
       "2.262741654278355"
      ]
     },
     "execution_count": 6,
     "metadata": {},
     "output_type": "execute_result"
    }
   ],
   "source": [
    "10**histh[1][1]"
   ]
  },
  {
   "cell_type": "code",
   "execution_count": 7,
   "metadata": {
    "iooxa": {
     "id": {
      "block": "Rh9e5fK5F87cEc16TFn8",
      "project": "LHTckXXHJDEgbriKJT9S",
      "version": 1
     },
     "outputId": {
      "block": "DAfhDwiK3Q0SqbhbRJ82",
      "project": "LHTckXXHJDEgbriKJT9S",
      "version": 1
     }
    }
   },
   "outputs": [
    {
     "data": {
      "text/plain": [
       "1.9427416614309125"
      ]
     },
     "execution_count": 7,
     "metadata": {},
     "output_type": "execute_result"
    }
   ],
   "source": [
    "10**histh[1][1] - 10**histh[1][0]"
   ]
  },
  {
   "cell_type": "code",
   "execution_count": 8,
   "metadata": {
    "iooxa": {
     "id": {
      "block": "6YmvMtWCMtxyXNC2yYiW",
      "project": "LHTckXXHJDEgbriKJT9S",
      "version": 1
     },
     "outputId": {
      "block": "S69LaDHC2QxDMoXmwnrK",
      "project": "LHTckXXHJDEgbriKJT9S",
      "version": 1
     }
    }
   },
   "outputs": [
    {
     "data": {
      "text/plain": [
       "(-0.49485003138733225, -0.49485003138733225)"
      ]
     },
     "execution_count": 8,
     "metadata": {},
     "output_type": "execute_result"
    }
   ],
   "source": [
    "np.min(np.log10(res_h_full)), np.min(np.log10(res_v_full))"
   ]
  },
  {
   "cell_type": "code",
   "execution_count": 9,
   "metadata": {
    "iooxa": {
     "id": {
      "block": "vmz9fNGUsUKGBZjtlXiO",
      "project": "LHTckXXHJDEgbriKJT9S",
      "version": 1
     },
     "outputId": {
      "block": "X27IrJ82Dwrc5VYIJV4V",
      "project": "LHTckXXHJDEgbriKJT9S",
      "version": 1
     }
    }
   },
   "outputs": [
    {
     "data": {
      "text/plain": [
       "(0.3199999928474426, 0.3199999928474426)"
      ]
     },
     "execution_count": 9,
     "metadata": {},
     "output_type": "execute_result"
    }
   ],
   "source": [
    "np.min(res_h_full), np.min(res_v_full)"
   ]
  },
  {
   "cell_type": "code",
   "execution_count": 10,
   "metadata": {
    "iooxa": {
     "id": {
      "block": "yJHTjwUWKJnm6qeGQmSA",
      "project": "LHTckXXHJDEgbriKJT9S",
      "version": 1
     },
     "outputId": {
      "block": "6dR37YyXs4k4IlwhRtoQ",
      "project": "LHTckXXHJDEgbriKJT9S",
      "version": 1
     }
    }
   },
   "outputs": [
    {
     "name": "stdout",
     "output_type": "stream",
     "text": [
      "CPU times: user 26.4 s, sys: 14.7 s, total: 41.1 s\n",
      "Wall time: 43 s\n"
     ]
    }
   ],
   "source": [
    "%%time\n",
    "# compute the total gradient\n",
    "dmdx_h = np.abs(mesh_full._cellGradxStencil * mkvc(res_h_full))\n",
    "dmdy_h = np.abs(mesh_full._cellGradyStencil * mkvc(res_h_full))\n",
    "dmdz_h = np.abs(mesh_full._cellGradzStencil * mkvc(res_h_full))"
   ]
  },
  {
   "cell_type": "code",
   "execution_count": 11,
   "metadata": {
    "iooxa": {
     "id": {
      "block": "oSuuOIqbqQ9DouFccV46",
      "project": "LHTckXXHJDEgbriKJT9S",
      "version": 1
     },
     "outputId": {
      "block": "zRRJMh2RqcwzsmVdjZkQ",
      "project": "LHTckXXHJDEgbriKJT9S",
      "version": 1
     }
    }
   },
   "outputs": [
    {
     "name": "stdout",
     "output_type": "stream",
     "text": [
      "CPU times: user 25 s, sys: 10.7 s, total: 35.7 s\n",
      "Wall time: 36.1 s\n"
     ]
    }
   ],
   "source": [
    "%%time\n",
    "# compute the total gradient\n",
    "dmdx_v = np.abs(mesh_full._cellGradxStencil * mkvc(res_v_full))\n",
    "dmdy_v = np.abs(mesh_full._cellGradyStencil * mkvc(res_v_full))\n",
    "dmdz_v = np.abs(mesh_full._cellGradzStencil * mkvc(res_v_full))"
   ]
  },
  {
   "cell_type": "code",
   "execution_count": 12,
   "metadata": {
    "iooxa": {
     "id": {
      "block": "2hupH0qfa4PFVoqmBm7v",
      "project": "LHTckXXHJDEgbriKJT9S",
      "version": 1
     },
     "outputId": {
      "block": "qHYfUT9SV0RlOthdu0Vi",
      "project": "LHTckXXHJDEgbriKJT9S",
      "version": 1
     }
    }
   },
   "outputs": [],
   "source": [
    "dmdx_h_nz = np.nonzero(dmdx_h)[0]\n",
    "dmdy_h_nz = np.nonzero(dmdy_h)[0]\n",
    "dmdz_h_nz = np.nonzero(dmdz_h)[0]"
   ]
  },
  {
   "cell_type": "code",
   "execution_count": 13,
   "metadata": {
    "iooxa": {
     "id": {
      "block": "ZD6uKWTIkAcOuqrm40EH",
      "project": "LHTckXXHJDEgbriKJT9S",
      "version": 1
     },
     "outputId": {
      "block": "ew3awXbFHkLzqGFuS6wI",
      "project": "LHTckXXHJDEgbriKJT9S",
      "version": 1
     }
    }
   },
   "outputs": [],
   "source": [
    "dmdx_v_nz = np.nonzero(dmdx_v)[0]\n",
    "dmdy_v_nz = np.nonzero(dmdy_v)[0]\n",
    "dmdz_v_nz = np.nonzero(dmdz_v)[0]"
   ]
  },
  {
   "cell_type": "code",
   "execution_count": 14,
   "metadata": {
    "iooxa": {
     "id": {
      "block": "Fa8UdGVQwasCHALmTWtP",
      "project": "LHTckXXHJDEgbriKJT9S",
      "version": 1
     },
     "outputId": {
      "block": "rAgz5yH7kuEhvq2FvcNY",
      "project": "LHTckXXHJDEgbriKJT9S",
      "version": 1
     }
    }
   },
   "outputs": [
    {
     "data": {
      "image/png": "[encoded data removed]",
      "text/plain": [
       "<Figure size 864x288 with 2 Axes>"
      ]
     },
     "metadata": {
      "needs_background": "light"
     },
     "output_type": "display_data"
    }
   ],
   "source": [
    "fig, ax = plt.subplots(1, 2, figsize=(12, 4))\n",
    "for dim, h, v in zip(\n",
    "    [\"x\", \"y\", \"z\"],\n",
    "    [dmdx_h[dmdx_h_nz], dmdy_h[dmdy_h_nz], dmdz_h[dmdz_h_nz]],\n",
    "    [dmdx_v[dmdx_v_nz], dmdy_v[dmdy_v_nz], dmdz_v[dmdz_v_nz]]\n",
    "):\n",
    "\n",
    "    ax[0].hist(np.log10(np.abs(mkvc(h))), 30, alpha=0.5);\n",
    "    ax[1].hist(np.log10(np.abs(mkvc(v))), 30, alpha=0.5);\n",
    "\n",
    "    ax[0].set_title(\"rho_h\")\n",
    "    ax[1].set_title(\"rho_v\")"
   ]
  },
  {
   "cell_type": "code",
   "execution_count": 15,
   "metadata": {
    "iooxa": {
     "id": {
      "block": "aQY0efExCjypVS16sYG2",
      "project": "LHTckXXHJDEgbriKJT9S",
      "version": 1
     },
     "outputId": {
      "block": "BC878dfjGu5MpYTLcn9a",
      "project": "LHTckXXHJDEgbriKJT9S",
      "version": 1
     }
    }
   },
   "outputs": [],
   "source": [
    "# average to cell centers and sum\n",
    "\n",
    "dmdh = (\n",
    "    mesh_full.aveFx2CC * dmdx_h + \n",
    "    mesh_full.aveFy2CC * dmdy_h + \n",
    "    mesh_full.aveFz2CC * dmdz_h\n",
    ")\n",
    "\n",
    "dmdv = (\n",
    "    mesh_full.aveFx2CC * dmdx_v + \n",
    "    mesh_full.aveFy2CC * dmdy_v + \n",
    "    mesh_full.aveFz2CC * dmdz_v\n",
    ")"
   ]
  },
  {
   "cell_type": "code",
   "execution_count": 16,
   "metadata": {
    "iooxa": {
     "id": {
      "block": "qiW95eZiBz529ghjpVw2",
      "project": "LHTckXXHJDEgbriKJT9S",
      "version": 1
     },
     "outputId": {
      "block": "uZencsCGBWyl1rMPxm0P",
      "project": "LHTckXXHJDEgbriKJT9S",
      "version": 1
     }
    }
   },
   "outputs": [],
   "source": [
    "dm = dmdh + dmdv"
   ]
  },
  {
   "cell_type": "code",
   "execution_count": 17,
   "metadata": {
    "iooxa": {
     "id": {
      "block": "dKfZO0b3509AZdYkaysu",
      "project": "LHTckXXHJDEgbriKJT9S",
      "version": 1
     },
     "outputId": {
      "block": "lIpxcapHfwGpIdEWIF3u",
      "project": "LHTckXXHJDEgbriKJT9S",
      "version": 1
     }
    }
   },
   "outputs": [],
   "source": [
    "dm_nonzero = np.nonzero(dm)[0]"
   ]
  },
  {
   "cell_type": "code",
   "execution_count": 18,
   "metadata": {},
   "outputs": [
    {
     "data": {
      "text/plain": [
       "49611656"
      ]
     },
     "execution_count": 18,
     "metadata": {},
     "output_type": "execute_result"
    }
   ],
   "source": [
    "len(dm_nonzero)"
   ]
  },
  {
   "cell_type": "code",
   "execution_count": 19,
   "metadata": {
    "iooxa": {
     "id": {
      "block": "ncxAqPP2xI2NKkJmd56i",
      "project": "LHTckXXHJDEgbriKJT9S",
      "version": 1
     },
     "outputId": {
      "block": "hPK90gsvAGRcuCYAVt4d",
      "project": "LHTckXXHJDEgbriKJT9S",
      "version": 1
     }
    }
   },
   "outputs": [
    {
     "data": {
      "image/png": "[encoded data removed]",
      "text/plain": [
       "<Figure size 432x288 with 1 Axes>"
      ]
     },
     "metadata": {
      "needs_background": "light"
     },
     "output_type": "display_data"
    }
   ],
   "source": [
    "plt.hist(np.log10(dm[dm_nonzero]), 30);"
   ]
  },
  {
   "cell_type": "code",
   "execution_count": 20,
   "metadata": {
    "iooxa": {
     "id": {
      "block": "uVpCRnpgVcFJY7H9OAkJ",
      "project": "LHTckXXHJDEgbriKJT9S",
      "version": 1
     },
     "outputId": {
      "block": "AxREeBXah1eiWFwLMGYo",
      "project": "LHTckXXHJDEgbriKJT9S",
      "version": 1
     }
    }
   },
   "outputs": [],
   "source": [
    "threshold = 1\n",
    "significant_dm = dm >= threshold"
   ]
  },
  {
   "cell_type": "code",
   "execution_count": 21,
   "metadata": {
    "iooxa": {
     "id": {
      "block": "QueUkgoNAONGJVDzjQp8",
      "project": "LHTckXXHJDEgbriKJT9S",
      "version": 1
     },
     "outputId": {
      "block": "4B8i7sKPQqL9DPBcuL6h",
      "project": "LHTckXXHJDEgbriKJT9S",
      "version": 1
     }
    }
   },
   "outputs": [
    {
     "data": {
      "text/plain": [
       "5040738"
      ]
     },
     "execution_count": 21,
     "metadata": {},
     "output_type": "execute_result"
    }
   ],
   "source": [
    "significant_dm.sum()"
   ]
  },
  {
   "cell_type": "code",
   "execution_count": 22,
   "metadata": {
    "iooxa": {
     "id": {
      "block": "omikZyGBOYLVfawhb4yq",
      "project": "LHTckXXHJDEgbriKJT9S",
      "version": 1
     },
     "outputId": {
      "block": "GwmdvO4nlOs7g0U6qjvt",
      "project": "LHTckXXHJDEgbriKJT9S",
      "version": 1
     }
    }
   },
   "outputs": [
    {
     "data": {
      "image/png": "[encoded data removed]",
      "text/plain": [
       "<Figure size 432x288 with 4 Axes>"
      ]
     },
     "metadata": {
      "needs_background": "light"
     },
     "output_type": "display_data"
    }
   ],
   "source": [
    "mesh_full.plot_3d_slicer(np.log10(res_h_full),  clim=[np.log10(0.32), np.log10(2000)])"
   ]
  },
  {
   "cell_type": "code",
   "execution_count": 23,
   "metadata": {
    "iooxa": {
     "id": {
      "block": "xWkEqX27UuUoOu8zzzYr",
      "project": "LHTckXXHJDEgbriKJT9S",
      "version": 1
     },
     "outputId": {
      "block": "Chl5IJ0puT3V8AcYbh5I",
      "project": "LHTckXXHJDEgbriKJT9S",
      "version": 1
     }
    }
   },
   "outputs": [
    {
     "data": {
      "image/png": "[encoded data removed]",
      "text/plain": [
       "<Figure size 432x288 with 4 Axes>"
      ]
     },
     "metadata": {
      "needs_background": "light"
     },
     "output_type": "display_data"
    }
   ],
   "source": [
    "mesh_full.plot_3d_slicer(significant_dm)"
   ]
  },
  {
   "cell_type": "markdown",
   "metadata": {
    "iooxa": {
     "id": {
      "block": "cYaAQzvH6tuoNpYTlOTJ",
      "project": "LHTckXXHJDEgbriKJT9S",
      "version": 1
     }
    }
   },
   "source": [
    "## load survey info"
   ]
  },
  {
   "cell_type": "code",
   "execution_count": 24,
   "metadata": {
    "iooxa": {
     "id": {
      "block": "RcAHRLQroqXytv6csjcT",
      "project": "LHTckXXHJDEgbriKJT9S",
      "version": 1
     },
     "outputId": {
      "block": "1m4IzE65mQPrdUXNXQCV",
      "project": "LHTckXXHJDEgbriKJT9S",
      "version": 1
     }
    }
   },
   "outputs": [],
   "source": [
    "ds = xr.load_dataset('../marlim_survey.nc', engine='h5netcdf')"
   ]
  },
  {
   "cell_type": "code",
   "execution_count": 25,
   "metadata": {
    "iooxa": {
     "id": {
      "block": "Crs9UMGHlEi1wdv1BMwd",
      "project": "LHTckXXHJDEgbriKJT9S",
      "version": 1
     },
     "outputId": {
      "block": "D4ky32yrT66waiUuZpZc",
      "project": "LHTckXXHJDEgbriKJT9S",
      "version": 1
     }
    }
   },
   "outputs": [
    {
     "name": "stdout",
     "output_type": "stream",
     "text": [
      "True\n"
     ]
    }
   ],
   "source": [
    "# Use reciprocity: rec becomes src\n",
    "src = [\n",
    "    ds.rec_x, ds.rec_y, ds.rec_z,\n",
    "    ds.rec_theta, ds.rec_dip\n",
    "]\n",
    "\n",
    "# Use reciprocity: src becomes rec\n",
    "rec_x = ds.data_il.src_x[::2]\n",
    "rec_y_il = ds.data_il.src_y\n",
    "rec_z_il = ds.data_il.src_z\n",
    "\n",
    "# Ensure same coordinates\n",
    "print(np.allclose(rec_x, ds.data_bs.src_x[::2]))\n",
    "\n",
    "rec_y_bs = ds.data_bs.src_y\n",
    "rec_z_bs = ds.data_bs.src_z\n",
    "\n",
    "rec_locs_il = np.vstack([rec_x.data, np.ones_like(rec_x.data)*rec_y_il, rec_z_il]).T\n",
    "rec_locs_bs = np.vstack([rec_x.data, np.ones_like(rec_x.data)*rec_y_bs, rec_z_bs]).T\n",
    "\n",
    "# Frequency\n",
    "freqs = ds.freqs.values"
   ]
  },
  {
   "cell_type": "code",
   "execution_count": 26,
   "metadata": {
    "iooxa": {
     "id": {
      "block": "llPveJEvKkm3gjLGKHIs",
      "project": "LHTckXXHJDEgbriKJT9S",
      "version": 1
     },
     "outputId": {
      "block": "wEi2pxMstAqxlL5rcAVb",
      "project": "LHTckXXHJDEgbriKJT9S",
      "version": 1
     }
    }
   },
   "outputs": [
    {
     "name": "stdout",
     "output_type": "stream",
     "text": [
      "<xarray.DataArray 'src_x' ()>\n",
      "array(21800., dtype=float32)\n",
      "0.0\n",
      "0.0\n",
      "432.17328\n",
      "429.44952\n",
      "-1053.3586 -623.9091\n",
      "-1034.6903 -602.517\n"
     ]
    }
   ],
   "source": [
    "print(rec_x.max() - rec_x.min())\n",
    "print(rec_y_il.max() - rec_y_il.min())\n",
    "print(rec_y_bs.max() - rec_y_bs.min())\n",
    "print(rec_z_il.max() - rec_z_il.min())\n",
    "print(rec_z_bs.max() - rec_z_bs.min())\n",
    "\n",
    "print(rec_z_bs.min(), rec_z_bs.max())\n",
    "print(rec_z_il.min(), rec_z_il.max())"
   ]
  },
  {
   "cell_type": "code",
   "execution_count": 27,
   "metadata": {
    "iooxa": {
     "id": {
      "block": "utfjz8eDJVKD9xN3htou",
      "project": "LHTckXXHJDEgbriKJT9S",
      "version": 1
     },
     "outputId": {
      "block": "Le6L7YtJ70ePL1MSL95B",
      "project": "LHTckXXHJDEgbriKJT9S",
      "version": 1
     }
    }
   },
   "outputs": [
    {
     "name": "stdout",
     "output_type": "stream",
     "text": [
      "[379375. 401175.]\n",
      "[7516812. 7517812.]\n",
      "[-1053.3586  -602.517 ]\n"
     ]
    }
   ],
   "source": [
    "# # only refine in the core region where we are collecting data \n",
    "\n",
    "extra = 400. \n",
    "\n",
    "survey_x = np.r_[rec_x.data.min(), rec_x.data.max()]\n",
    "survey_y = np.r_[np.hstack([rec_y_il, rec_y_bs]).min(), np.hstack([rec_y_il, rec_y_bs]).max()]\n",
    "survey_z = np.r_[np.hstack([rec_z_il, rec_z_bs]).min(), np.hstack([rec_z_il, rec_z_bs]).max()]\n",
    "\n",
    "print(survey_x)\n",
    "print(survey_y)\n",
    "print(survey_z)"
   ]
  },
  {
   "cell_type": "code",
   "execution_count": 28,
   "metadata": {
    "iooxa": {
     "id": {
      "block": "SeV3qs71XAXeM01N4fUl",
      "project": "LHTckXXHJDEgbriKJT9S",
      "version": 1
     },
     "outputId": {
      "block": "wKujmxHLI9FtLxZH5IW9",
      "project": "LHTckXXHJDEgbriKJT9S",
      "version": 1
     }
    }
   },
   "outputs": [],
   "source": [
    "# tmp = refine_points_core.nonzero()"
   ]
  },
  {
   "cell_type": "code",
   "execution_count": 29,
   "metadata": {
    "iooxa": {
     "id": {
      "block": "qF3Edwo3qDfunJQbmHFb",
      "project": "LHTckXXHJDEgbriKJT9S",
      "version": 1
     },
     "outputId": {
      "block": "lVWVjq0grikFNBBUMZuU",
      "project": "LHTckXXHJDEgbriKJT9S",
      "version": 1
     }
    }
   },
   "outputs": [],
   "source": [
    "# tmp[0].shape"
   ]
  },
  {
   "cell_type": "code",
   "execution_count": 30,
   "metadata": {
    "iooxa": {
     "id": {
      "block": "2vfDCBY19xilgf9UppDH",
      "project": "LHTckXXHJDEgbriKJT9S",
      "version": 1
     },
     "outputId": {
      "block": "k7HnliAOHOjZE2ADODlb",
      "project": "LHTckXXHJDEgbriKJT9S",
      "version": 1
     }
    }
   },
   "outputs": [],
   "source": [
    "# significant_dm.nonzero()[0].shape"
   ]
  },
  {
   "cell_type": "code",
   "execution_count": 31,
   "metadata": {
    "iooxa": {
     "id": {
      "block": "zzkJKAOJOvklTHL817bg",
      "project": "LHTckXXHJDEgbriKJT9S",
      "version": 1
     },
     "outputId": {
      "block": "eQTGvOc708kkN93Hy03c",
      "project": "LHTckXXHJDEgbriKJT9S",
      "version": 1
     }
    }
   },
   "outputs": [],
   "source": [
    "# fig, ax = plt.subplots(1,1)\n",
    "# ax.hist(np.log10(503/np.sqrt(freqs[0]/mkvc(res_h_full))), 50, alpha=0.5);\n",
    "# ax.hist(np.log10(503/np.sqrt(freqs[0]/mkvc(res_v_full))), 50, alpha=0.5);"
   ]
  },
  {
   "cell_type": "markdown",
   "metadata": {
    "iooxa": {
     "id": {
      "block": "XKgSrHArvCBFNgJMWPHW",
      "project": "LHTckXXHJDEgbriKJT9S",
      "version": 1
     }
    }
   },
   "source": [
    "## design a mesh"
   ]
  },
  {
   "cell_type": "code",
   "execution_count": 32,
   "metadata": {
    "iooxa": {
     "id": {
      "block": "f9ndt22CpZa4DShyaSR2",
      "project": "LHTckXXHJDEgbriKJT9S",
      "version": 1
     },
     "outputId": {
      "block": "zQno8eYHV1vcrECtrxzR",
      "project": "LHTckXXHJDEgbriKJT9S",
      "version": 1
     }
    }
   },
   "outputs": [
    {
     "name": "stdout",
     "output_type": "stream",
     "text": [
      "218 88 12 230208\n"
     ]
    }
   ],
   "source": [
    "# use the same discretization and domain extent in each dimension\n",
    "dx, dy, dz = 100, 100, 40 \n",
    "\n",
    "domain_x = np.diff(survey_x)\n",
    "domain_y = 0.4*domain_x \n",
    "domain_z = np.diff(survey_z)\n",
    "\n",
    "ncore_x = int(np.ceil(domain_x/dx))\n",
    "ncore_y = int(np.ceil(domain_y/dy))\n",
    "ncore_z = int(np.ceil(domain_z/dz))\n",
    "\n",
    "print(ncore_x, ncore_y, ncore_z, ncore_x*ncore_y*ncore_z)\n"
   ]
  },
  {
   "cell_type": "code",
   "execution_count": 33,
   "metadata": {},
   "outputs": [
    {
     "name": "stdout",
     "output_type": "stream",
     "text": [
      "1024 512 1024\n"
     ]
    }
   ],
   "source": [
    "pad_x = 20000\n",
    "pad_y = 20000\n",
    "pad_z = 20000\n",
    "\n",
    "length_x = pad_x * 2 + domain_x\n",
    "length_y = pad_y * 2 + domain_y\n",
    "length_z = pad_z * 2 + domain_z\n",
    "\n",
    "nx = int(length_x/dx)\n",
    "ny = int(length_y/dy)\n",
    "nz = int(length_z/dz)\n",
    "\n",
    "nx = 2**int(np.ceil(np.log(nx)/np.log(2.)))\n",
    "ny = 2**int(np.ceil(np.log(ny)/np.log(2.)))\n",
    "nz = 2**int(np.ceil(np.log(nz)/np.log(2.)))\n",
    "\n",
    "print(nx, ny, nz)\n",
    "\n",
    "hx = np.ones(nx) * dx\n",
    "hy = np.ones(ny) * dy\n",
    "hz = np.ones(nz) * dz\n",
    "\n",
    "mesh = discretize.TreeMesh([hx, hy, hz])"
   ]
  },
  {
   "cell_type": "code",
   "execution_count": 34,
   "metadata": {
    "iooxa": {
     "id": {
      "block": "ySTqVk4B5lMcJPBEZeFo",
      "project": "LHTckXXHJDEgbriKJT9S",
      "version": 1
     },
     "outputId": {
      "block": "wo4n2vkXG91NIecoPOSp",
      "project": "LHTckXXHJDEgbriKJT9S",
      "version": 1
     }
    }
   },
   "outputs": [],
   "source": [
    "mesh_full_center = np.r_[\n",
    "    (mesh_full.gridCC[:, 0].min() + mesh_full.gridCC[:, 0].max())/2,\n",
    "    (mesh_full.gridCC[:, 1].min() + mesh_full.gridCC[:, 1].max())/2,\n",
    "    (mesh_full.gridCC[:, 2].min() + mesh_full.gridCC[:, 2].max())/2\n",
    "]\n",
    "\n",
    "mesh.x0 = np.r_[\n",
    "    -np.sum(mesh.h[0])/2. + mesh_full_center[0], \n",
    "    -np.sum(mesh.h[1])/2. + mesh_full_center[1], \n",
    "    -np.sum(mesh.h[2]*3/4.)\n",
    "] "
   ]
  },
  {
   "cell_type": "code",
   "execution_count": 35,
   "metadata": {
    "iooxa": {
     "id": {
      "block": "apPseFXJB2wGwU2UpJ3H",
      "project": "LHTckXXHJDEgbriKJT9S",
      "version": 1
     },
     "outputId": {
      "block": "SGEUauPSXwiuw1Gl8rpz",
      "project": "LHTckXXHJDEgbriKJT9S",
      "version": 1
     }
    }
   },
   "outputs": [],
   "source": [
    "# define the base mesh\n",
    "\n",
    "\n",
    "# refine around the sources and receivers\n",
    "src_refine = np.c_[src[0], src[1], src[2]]\n",
    "\n",
    "mesh = discretize.utils.refine_tree_xyz(\n",
    "    mesh, src_refine, \n",
    "    octree_levels=[2, 2, 1], method=\"radial\", finalize=False\n",
    ")\n",
    "\n",
    "mesh = discretize.utils.refine_tree_xyz(\n",
    "    mesh, rec_locs_il, \n",
    "    octree_levels=[2, 2, 1], method=\"radial\", finalize=False\n",
    ")\n",
    "\n",
    "mesh = discretize.utils.refine_tree_xyz(\n",
    "    mesh, rec_locs_bs, \n",
    "    octree_levels=[2, 2, 1], method=\"radial\", finalize=False\n",
    ")\n"
   ]
  },
  {
   "cell_type": "code",
   "execution_count": 36,
   "metadata": {},
   "outputs": [],
   "source": [
    "# air interface\n",
    "xrefine = survey_x\n",
    "yrefine = survey_y\n",
    "xr, yr, zr = np.meshgrid(xrefine, yrefine, np.r_[0])\n",
    "air_interface = np.c_[mkvc(xr), mkvc(yr), mkvc(zr)]\n",
    "mesh = discretize.utils.refine_tree_xyz(\n",
    "    mesh, air_interface, \n",
    "    octree_levels=[1, 1], method=\"surface\", finalize=False\n",
    ")\n",
    "\n",
    "\n",
    "# return mesh"
   ]
  },
  {
   "cell_type": "code",
   "execution_count": 37,
   "metadata": {},
   "outputs": [
    {
     "data": {
      "text/plain": [
       "array([False, False, False, ...,  True,  True,  True])"
      ]
     },
     "execution_count": 37,
     "metadata": {},
     "output_type": "execute_result"
    }
   ],
   "source": [
    "significant_dm"
   ]
  },
  {
   "cell_type": "code",
   "execution_count": 38,
   "metadata": {},
   "outputs": [
    {
     "name": "stdout",
     "output_type": "stream",
     "text": [
      "2614\n"
     ]
    }
   ],
   "source": [
    "refine_inds = significant_dm & (\n",
    "    (mesh_full.gridCC[:, 0] >= survey_x.min()) &\n",
    "    (mesh_full.gridCC[:, 0] <= survey_x.max()) &\n",
    "    (mesh_full.gridCC[:, 1] >= survey_y.min()) &\n",
    "    (mesh_full.gridCC[:, 1] <= survey_y.max()) &\n",
    "    (mesh_full.gridCC[:, 2] >= survey_z.min()) &\n",
    "    (mesh_full.gridCC[:, 2] <= survey_z.max()) \n",
    ")\n",
    "print(refine_inds.sum())\n",
    "refine_points = mesh_full.gridCC[refine_inds, :]\n",
    "\n",
    "mesh = discretize.utils.refine_tree_xyz(\n",
    "    mesh, refine_points, \n",
    "    octree_levels=[0, 0, 1], method=\"radial\", finalize=False\n",
    ")\n",
    "\n",
    "mesh.finalize()"
   ]
  },
  {
   "cell_type": "code",
   "execution_count": 39,
   "metadata": {
    "iooxa": {
     "id": {
      "block": "GgIco683hEXs9qH7rwDP",
      "project": "LHTckXXHJDEgbriKJT9S",
      "version": 1
     },
     "outputId": {
      "block": "HqMcn1ho989GqUlUC7bx",
      "project": "LHTckXXHJDEgbriKJT9S",
      "version": 1
     }
    }
   },
   "outputs": [
    {
     "data": {
      "text/html": [
       "<table>\n",
       "  <tr>\n",
       "    <td style='font-weight: bold; font-size: 1.2em; text-align: center;' colspan='3'>TensorMesh</td>\n",
       "    <td style='font-size: 1.2em; text-align: center;'colspan='4'>90,172,895 cells</td>\n",
       "  </tr>\n",
       "  <tr>\n",
       "    <th></th>\n",
       "    <th></th>\n",
       "    <th colspan='2' style='padding: 5px 20px 5px 20px;'>MESH EXTENT</th>\n",
       "    <th colspan='2' style='padding: 5px 20px 5px 20px;'>CELL WIDTH</th>\n",
       "    <th style='padding: 5px 20px 5px 20px;'>FACTOR</th>\n",
       "  </tr>\n",
       "  <tr>\n",
       "    <th style='padding: 5px 20px 5px 20px;'>dir</th>\n",
       "    <th style='padding: 5px 20px 5px 20px;'>nC</th>\n",
       "    <th style='padding: 5px 20px 5px 20px;'>min</th>\n",
       "    <th style='padding: 5px 20px 5px 20px;'>max</th>\n",
       "    <th style='padding: 5px 20px 5px 20px;'>min</th>\n",
       "    <th style='padding: 5px 20px 5px 20px;'>max</th>\n",
       "    <th style='padding: 5px 20px 5px 20px;'>max</th>\n",
       "  </tr>\n",
       "  <tr>\n",
       "    <td style='padding: 5px 20px 5px 20px;'>x</td>\n",
       "    <td style='padding: 5px 20px 5px 20px;'>515</td>\n",
       "    <td style='padding: 5px 20px 5px 20px;'>364,325.00</td>\n",
       "    <td style='padding: 5px 20px 5px 20px;'>415,825.00</td>\n",
       "    <td style='padding: 5px 20px 5px 20px;'>100.00</td>\n",
       "    <td style='padding: 5px 20px 5px 20px;'>100.00</td>\n",
       "    <td style='padding: 5px 20px 5px 20px;'>1.00</td>\n",
       "  </tr>\n",
       "  <tr>\n",
       "    <td style='padding: 5px 20px 5px 20px;'>y</td>\n",
       "    <td style='padding: 5px 20px 5px 20px;'>563</td>\n",
       "    <td style='padding: 5px 20px 5px 20px;'>7,490,049.00</td>\n",
       "    <td style='padding: 5px 20px 5px 20px;'>7,546,349.00</td>\n",
       "    <td style='padding: 5px 20px 5px 20px;'>100.00</td>\n",
       "    <td style='padding: 5px 20px 5px 20px;'>100.00</td>\n",
       "    <td style='padding: 5px 20px 5px 20px;'>1.00</td>\n",
       "  </tr>\n",
       "  <tr>\n",
       "    <td style='padding: 5px 20px 5px 20px;'>z</td>\n",
       "    <td style='padding: 5px 20px 5px 20px;'>311</td>\n",
       "    <td style='padding: 5px 20px 5px 20px;'>-6,200.00</td>\n",
       "    <td style='padding: 5px 20px 5px 20px;'>20.00</td>\n",
       "    <td style='padding: 5px 20px 5px 20px;'>20.00</td>\n",
       "    <td style='padding: 5px 20px 5px 20px;'>20.00</td>\n",
       "    <td style='padding: 5px 20px 5px 20px;'>1.00</td>\n",
       "  </tr>\n",
       "</table>\n"
      ],
      "text/plain": [
       "\n",
       "  TensorMesh: 90,172,895 cells\n",
       "\n",
       "                      MESH EXTENT             CELL WIDTH      FACTOR\n",
       "  dir    nC        min           max         min       max      max\n",
       "  ---   ---  ---------------------------  ------------------  ------\n",
       "   x    515    364,325.00    415,825.00    100.00    100.00    1.00\n",
       "   y    563  7,490,049.00  7,546,349.00    100.00    100.00    1.00\n",
       "   z    311     -6,200.00         20.00     20.00     20.00    1.00\n"
      ]
     },
     "execution_count": 39,
     "metadata": {},
     "output_type": "execute_result"
    }
   ],
   "source": [
    "mesh_full"
   ]
  },
  {
   "cell_type": "code",
   "execution_count": 40,
   "metadata": {
    "iooxa": {
     "id": {
      "block": "1i06al983T6wr4oOTOmt",
      "project": "LHTckXXHJDEgbriKJT9S",
      "version": 1
     },
     "outputId": {
      "block": "eUahUSQJjFliwXuYfrm6",
      "project": "LHTckXXHJDEgbriKJT9S",
      "version": 1
     }
    }
   },
   "outputs": [
    {
     "data": {
      "text/html": [
       "<table>\n",
       "<tr>\n",
       "<td style='font-weight: bold; font-size: 1.2em; text-align: center;'>OcTreeMesh</td>\n",
       "<td style='font-size: 1.2em; text-align: center;' colspan='2'>0.01% filled</td>\n",
       "</tr>\n",
       "<tr>\n",
       "<td>\n",
       "<table>\n",
       "<tr>\n",
       "<th style='padding: 5px 20px 5px 20px;'>Level</th>\n",
       "<th style='padding: 5px 20px 5px 20px;'>Number of cells</th>\n",
       "</tr>\n",
       "<tr>\n",
       "<td style='padding: 5px 20px 5px 20px;'>2</td>\n",
       "<td style='padding: 5px 20px 5px 20px;'>12</td>\n",
       "</tr>\n",
       "<tr>\n",
       "<td style='padding: 5px 20px 5px 20px;'>3</td>\n",
       "<td style='padding: 5px 20px 5px 20px;'>133</td>\n",
       "</tr>\n",
       "<tr>\n",
       "<td style='padding: 5px 20px 5px 20px;'>4</td>\n",
       "<td style='padding: 5px 20px 5px 20px;'>173</td>\n",
       "</tr>\n",
       "<tr>\n",
       "<td style='padding: 5px 20px 5px 20px;'>5</td>\n",
       "<td style='padding: 5px 20px 5px 20px;'>256</td>\n",
       "</tr>\n",
       "<tr>\n",
       "<td style='padding: 5px 20px 5px 20px;'>6</td>\n",
       "<td style='padding: 5px 20px 5px 20px;'>502</td>\n",
       "</tr>\n",
       "<tr>\n",
       "<td style='padding: 5px 20px 5px 20px;'>7</td>\n",
       "<td style='padding: 5px 20px 5px 20px;'>898</td>\n",
       "</tr>\n",
       "<tr>\n",
       "<td style='padding: 5px 20px 5px 20px;'>8</td>\n",
       "<td style='padding: 5px 20px 5px 20px;'>3423</td>\n",
       "</tr>\n",
       "<tr>\n",
       "<td style='padding: 5px 20px 5px 20px;'>9</td>\n",
       "<td style='padding: 5px 20px 5px 20px;'>16109</td>\n",
       "</tr>\n",
       "<tr>\n",
       "<td style='padding: 5px 20px 5px 20px;'>10</td>\n",
       "<td style='padding: 5px 20px 5px 20px;'>19672</td>\n",
       "</tr>\n",
       "<tr>\n",
       "<td style='font-weight: bold; padding: 5px 20px 5px 20px;'> Total </td>\n",
       "<td style='padding: 5px 20px 5px 20px;'> 41178 </td>\n",
       "</tr>\n",
       "</table>\n",
       "</td>\n",
       "<td>\n",
       "<table>\n",
       "<tr>\n",
       "<th></th>\n",
       "<th style='padding: 5px 20px 5px 20px;' colspan='2'>Mesh extent</th>\n",
       "<th style='padding: 5px 20px 5px 20px;' colspan='2'>Cell widths</th>\n",
       "</tr>\n",
       "<tr>\n",
       "<th></th>\n",
       "<th style='padding: 5px 20px 5px 20px;'>min</th>\n",
       "<th style='padding: 5px 20px 5px 20px;'>max</th>\n",
       "<th style='padding: 5px 20px 5px 20px;'>min</th>\n",
       "<th style='padding: 5px 20px 5px 20px;'>max</th>\n",
       "</tr>\n",
       "<tr>\n",
       "<td style='padding: 5px 20px 5px 20px;'>x</td>\n",
       "<td style='padding: 5px 20px 5px 20px;'>338875.0</td>\n",
       "<td style='padding: 5px 20px 5px 20px;'>441275.0</td>\n",
       "<td style='padding: 5px 20px 5px 20px;'>100.0</td>\n",
       "<td style='padding: 5px 20px 5px 20px;'>25600.0</td>\n",
       "</tr>\n",
       "<tr>\n",
       "<td style='padding: 5px 20px 5px 20px;'>y</td>\n",
       "<td style='padding: 5px 20px 5px 20px;'>7492599.0</td>\n",
       "<td style='padding: 5px 20px 5px 20px;'>7543799.0</td>\n",
       "<td style='padding: 5px 20px 5px 20px;'>100.0</td>\n",
       "<td style='padding: 5px 20px 5px 20px;'>25600.0</td>\n",
       "</tr>\n",
       "<tr>\n",
       "<td style='padding: 5px 20px 5px 20px;'>z</td>\n",
       "<td style='padding: 5px 20px 5px 20px;'>-30720.0</td>\n",
       "<td style='padding: 5px 20px 5px 20px;'>10240.0</td>\n",
       "<td style='padding: 5px 20px 5px 20px;'>40.0</td>\n",
       "<td style='padding: 5px 20px 5px 20px;'>10240.0</td>\n",
       "</tr>\n",
       "</table>\n",
       "</td>\n",
       "</tr>\n",
       "</table>\n"
      ],
      "text/plain": [
       "\n",
       "OcTreeMesh: 0.01% filled\n",
       "\n",
       "Level : Number of cells               Mesh Extent               Cell Widths    \n",
       "-----------------------           min     ,     max            min   ,   max   \n",
       "  2   :       12             ---------------------------   --------------------\n",
       "  3   :       133         x:   338875.0   ,  441275.0        100.0   ,  25600.0  \n",
       "  4   :       173         y:   7492599.0  ,  7543799.0       100.0   ,  25600.0  \n",
       "  5   :       256         z:   -30720.0   ,   10240.0         40.0   ,  10240.0  \n",
       "  6   :       502      \n",
       "  7   :       898      \n",
       "  8   :      3423      \n",
       "  9   :      16109     \n",
       " 10   :      19672     \n",
       "-----------------------\n",
       "Total :      41178     "
      ]
     },
     "execution_count": 40,
     "metadata": {},
     "output_type": "execute_result"
    }
   ],
   "source": [
    "mesh"
   ]
  },
  {
   "cell_type": "code",
   "execution_count": 75,
   "metadata": {
    "iooxa": {
     "id": {
      "block": "4bsdhgkF3ecwDSgRo0Zw",
      "project": "LHTckXXHJDEgbriKJT9S",
      "version": 1
     },
     "outputId": {
      "block": "hy5TQjXDKwVes6gwQyXC",
      "project": "LHTckXXHJDEgbriKJT9S",
      "version": 1
     }
    }
   },
   "outputs": [
    {
     "data": {
      "text/plain": [
       "array([ 338875., 7492599.,  -30720.])"
      ]
     },
     "execution_count": 75,
     "metadata": {},
     "output_type": "execute_result"
    }
   ],
   "source": [
    "mesh.x0"
   ]
  },
  {
   "cell_type": "code",
   "execution_count": 41,
   "metadata": {
    "iooxa": {
     "id": {
      "block": "LPe3s1JyrBnMwYSKlQz2",
      "project": "LHTckXXHJDEgbriKJT9S",
      "version": 1
     },
     "outputId": {
      "block": "KCgFsVLIQkuGdNOPE40x",
      "project": "LHTckXXHJDEgbriKJT9S",
      "version": 1
     }
    }
   },
   "outputs": [
    {
     "data": {
      "text/plain": [
       "(<matplotlib.cm.ScalarMappable at 0x145debe50>,)"
      ]
     },
     "execution_count": 41,
     "metadata": {},
     "output_type": "execute_result"
    },
    {
     "data": {
      "image/png": "[encoded data removed]",
      "text/plain": [
       "<Figure size 432x288 with 1 Axes>"
      ]
     },
     "metadata": {
      "needs_background": "light"
     },
     "output_type": "display_data"
    }
   ],
   "source": [
    "fig, ax = plt.subplots(1, 1)\n",
    "mesh.plotSlice(np.log10(mesh.vol), normal='y', grid=True, ax=ax)\n",
    "# ax.set_xlim(mesh.x0[1] + np.r_[-1, 1]*domain_y)\n",
    "\n",
    "# ax.set_xlim(src[0] + 10000*np.r_[-1, 1])\n",
    "# ax.set_ylim(np.r_[-4000, 100])\n",
    "\n",
    "# ax.plot(src[0], src[2], 'ro')"
   ]
  },
  {
   "cell_type": "markdown",
   "metadata": {
    "iooxa": {
     "id": {
      "block": "S2QZbP5exquajZVoMacZ",
      "project": "LHTckXXHJDEgbriKJT9S",
      "version": 1
     }
    }
   },
   "source": [
    "## Interpolate model from basemesh to simulation mesh"
   ]
  },
  {
   "cell_type": "code",
   "execution_count": 43,
   "metadata": {},
   "outputs": [
    {
     "data": {
      "text/plain": [
       "(515, 563, 311)"
      ]
     },
     "execution_count": 43,
     "metadata": {},
     "output_type": "execute_result"
    }
   ],
   "source": [
    "res_h_full.shape"
   ]
  },
  {
   "cell_type": "code",
   "execution_count": 44,
   "metadata": {},
   "outputs": [],
   "source": [
    "# Use volume averaging in log space\n",
    "from discretize.utils.interputils import volume_average\n",
    "rhoh = np.exp(volume_average(mesh_full, mesh, np.log(mkvc(res_h_full))))\n",
    "rhov = np.exp(volume_average(mesh_full, mesh, np.log(mkvc(res_v_full))))"
   ]
  },
  {
   "cell_type": "code",
   "execution_count": 38,
   "metadata": {
    "iooxa": {
     "id": {
      "block": "PShNuqmk8PsHu4N9y1hs",
      "project": "LHTckXXHJDEgbriKJT9S",
      "version": 1
     },
     "outputId": {
      "block": "UqvWWrKWXdrKkISDEpls",
      "project": "LHTckXXHJDEgbriKJT9S",
      "version": 1
     }
    }
   },
   "outputs": [],
   "source": [
    "# interpolate_inds = (\n",
    "#     (mesh.gridCC[:, 0] >= mesh_full.vectorNx.min()) & (mesh.gridCC[:, 0] <= mesh_full.vectorNx.max()) &\n",
    "#     (mesh.gridCC[:, 1] >= mesh_full.vectorNy.min()) & (mesh.gridCC[:, 1] <= mesh_full.vectorNy.max()) &\n",
    "#     (mesh.gridCC[:, 2] >= mesh_full.vectorNz.min()) & (mesh.gridCC[:, 2] <= mesh_full.vectorNz.max()) \n",
    "# )\n",
    "# P = mesh_full.getInterpolationMat(mesh.gridCC[interpolate_inds, :], \"CC\")"
   ]
  },
  {
   "cell_type": "code",
   "execution_count": 39,
   "metadata": {
    "iooxa": {
     "id": {
      "block": "j7k5IrRhimGMmm829qGE",
      "project": "LHTckXXHJDEgbriKJT9S",
      "version": 1
     },
     "outputId": {
      "block": "JIg1xyOqxUR5VYvSXpS6",
      "project": "LHTckXXHJDEgbriKJT9S",
      "version": 1
     }
    }
   },
   "outputs": [],
   "source": [
    "# rho_h = res_h_full[-1, -1, 0]*np.ones(mesh.nC)\n",
    "# rho_v = res_v_full[-1, -1, 0]*np.ones(mesh.nC)\n",
    "\n",
    "# rho_h[mesh.gridCC[:, 2] > 0] = 1e8\n",
    "# rho_v[mesh.gridCC[:, 2] > 0] = 1e8"
   ]
  },
  {
   "cell_type": "code",
   "execution_count": 40,
   "metadata": {
    "iooxa": {
     "id": {
      "block": "rKsmh5PzP6U8us1CD3yQ",
      "project": "LHTckXXHJDEgbriKJT9S",
      "version": 1
     },
     "outputId": {
      "block": "akVP5shWikiGX8iXjfLZ",
      "project": "LHTckXXHJDEgbriKJT9S",
      "version": 1
     }
    }
   },
   "outputs": [],
   "source": [
    "# rho_h[interpolate_inds] = P @ mkvc(res_h_full)\n",
    "# rho_v[interpolate_inds] = P @ mkvc(res_v_full)"
   ]
  },
  {
   "cell_type": "code",
   "execution_count": 46,
   "metadata": {
    "iooxa": {
     "id": {
      "block": "Srrv6PcOt6KffSDvXcTz",
      "project": "LHTckXXHJDEgbriKJT9S",
      "version": 1
     },
     "outputId": {
      "block": "SKLSQ42MpIxpLwEh6QNI",
      "project": "LHTckXXHJDEgbriKJT9S",
      "version": 1
     }
    }
   },
   "outputs": [
    {
     "data": {
      "image/png": "[encoded data removed]",
      "text/plain": [
       "<Figure size 864x288 with 4 Axes>"
      ]
     },
     "metadata": {
      "needs_background": "light"
     },
     "output_type": "display_data"
    }
   ],
   "source": [
    "normal = \"y\"\n",
    "fig, ax = plt.subplots(1, 2, figsize=(12, 4))\n",
    "plt.colorbar(\n",
    "    mesh.plotSlice(\n",
    "        np.log10(rhoh), normal=normal, ax=ax[0], clim=[np.log10(0.32), np.log10(2000)])[0], \n",
    "    ax=ax[0]\n",
    ")\n",
    "\n",
    "plt.colorbar(\n",
    "    mesh_full.plotSlice(\n",
    "        np.log10(mkvc(res_h_full)), normal=normal, ax=ax[1], clim=[np.log10(0.32), np.log10(2000)])[0], \n",
    "    ax=ax[1]\n",
    ")\n",
    "\n",
    "# ax.set_xlim(mesh.x0[1] + np.r_[-1, 1]*domain_y)\n",
    "for a in ax: \n",
    "    a.set_ylim(np.r_[-10000, 100])"
   ]
  },
  {
   "cell_type": "code",
   "execution_count": 47,
   "metadata": {
    "iooxa": {
     "id": {
      "block": "IMtNGUtDAKLGs6O4oo8h",
      "project": "LHTckXXHJDEgbriKJT9S",
      "version": 1
     },
     "outputId": {
      "block": "haBt2n4AagEFVG0IqNjs",
      "project": "LHTckXXHJDEgbriKJT9S",
      "version": 1
     }
    }
   },
   "outputs": [],
   "source": [
    "rho = np.vstack([rhoh, rhoh, rhov]).T"
   ]
  },
  {
   "cell_type": "markdown",
   "metadata": {
    "iooxa": {
     "id": {
      "block": "Yu8jHApyKeib8K4rBDCG",
      "project": "LHTckXXHJDEgbriKJT9S",
      "version": 1
     }
    }
   },
   "source": [
    "# set up the survey"
   ]
  },
  {
   "cell_type": "code",
   "execution_count": 43,
   "metadata": {
    "iooxa": {
     "id": {
      "block": "OnaWDHuCUP92BczJGChT",
      "project": "LHTckXXHJDEgbriKJT9S",
      "version": 1
     },
     "outputId": {
      "block": "npgoU93v7z2uIubUPPTY",
      "project": "LHTckXXHJDEgbriKJT9S",
      "version": 1
     }
    }
   },
   "outputs": [],
   "source": [
    "rx_list_e = []\n",
    "rx_list_h = []\n",
    "for rxlocs in [rec_locs_il, rec_locs_bs]:\n",
    "    for orientation in [\"x\", \"y\", \"z\"]: \n",
    "        # e-field\n",
    "        rx_list_e.append(\n",
    "            fdem.receivers.Point_e(locations=rxlocs, orientation=orientation, component=\"real\")\n",
    "        )\n",
    "        rx_list_e.append(\n",
    "                fdem.receivers.Point_e(locations=rxlocs, orientation=orientation, component=\"imag\")\n",
    "        )\n",
    "        \n",
    "        # h-field\n",
    "        rx_list_h.append(\n",
    "            fdem.receivers.Point_h(locations=rxlocs, orientation=orientation, component=\"real\")\n",
    "        )\n",
    "        rx_list_h.append(\n",
    "            fdem.receivers.Point_h(locations=rxlocs, orientation=orientation, component=\"imag\")\n",
    "        )"
   ]
  },
  {
   "cell_type": "code",
   "execution_count": 44,
   "metadata": {
    "iooxa": {
     "id": {
      "block": "F59E0vd2KbZcuPIAxXFX",
      "project": "LHTckXXHJDEgbriKJT9S",
      "version": 1
     },
     "outputId": {
      "block": "jBTqVG6V9zlJfF2ZbO7o",
      "project": "LHTckXXHJDEgbriKJT9S",
      "version": 1
     }
    }
   },
   "outputs": [],
   "source": [
    "rx_list = rx_list_e + rx_list_h"
   ]
  },
  {
   "cell_type": "code",
   "execution_count": 45,
   "metadata": {
    "iooxa": {
     "id": {
      "block": "1wo4IPBv6yYuXbup0XXY",
      "project": "LHTckXXHJDEgbriKJT9S",
      "version": 1
     },
     "outputId": {
      "block": "5DsIyItcpslhPxmjk9ev",
      "project": "LHTckXXHJDEgbriKJT9S",
      "version": 1
     }
    }
   },
   "outputs": [],
   "source": [
    "Ps = mesh.getInterpolationMat(np.c_[src[0], src[1], src[2]], 'Ex')"
   ]
  },
  {
   "cell_type": "code",
   "execution_count": 46,
   "metadata": {
    "iooxa": {
     "id": {
      "block": "G8BxQE2XOUTtNUkAW740",
      "project": "LHTckXXHJDEgbriKJT9S",
      "version": 1
     },
     "outputId": {
      "block": "jtEinNdq3lL6ZnuzNXQV",
      "project": "LHTckXXHJDEgbriKJT9S",
      "version": 1
     }
    }
   },
   "outputs": [],
   "source": [
    "src_ex = Ps.T @ np.r_[1]"
   ]
  },
  {
   "cell_type": "code",
   "execution_count": 47,
   "metadata": {
    "iooxa": {
     "id": {
      "block": "JAsLky9opzDU1KD0lV7G",
      "project": "LHTckXXHJDEgbriKJT9S",
      "version": 1
     },
     "outputId": {
      "block": "HIKTsrLC0rqLfA1hVOHT",
      "project": "LHTckXXHJDEgbriKJT9S",
      "version": 1
     }
    }
   },
   "outputs": [
    {
     "data": {
      "text/plain": [
       "array([[ 3.901750e+05,  7.517799e+06, -8.800000e+02],\n",
       "       [ 3.901750e+05,  7.517799e+06, -8.000000e+02],\n",
       "       [ 3.901750e+05,  7.517999e+06, -8.800000e+02],\n",
       "       [ 3.901750e+05,  7.517999e+06, -8.000000e+02]])"
      ]
     },
     "execution_count": 47,
     "metadata": {},
     "output_type": "execute_result"
    }
   ],
   "source": [
    "mesh.gridEx[np.where(src_ex)[0], :]"
   ]
  },
  {
   "cell_type": "code",
   "execution_count": 48,
   "metadata": {
    "iooxa": {
     "id": {
      "block": "cNaAvaitHNLEndaWK0wi",
      "project": "LHTckXXHJDEgbriKJT9S",
      "version": 1
     },
     "outputId": {
      "block": "s63lWUCI0okPFVmmY7V0",
      "project": "LHTckXXHJDEgbriKJT9S",
      "version": 1
     }
    }
   },
   "outputs": [],
   "source": [
    "source_list = [\n",
    "    fdem.sources.RawVec_e(s_e=src_ex, freq=f, receiver_list=rx_list) \n",
    "    for f in freqs[:1]\n",
    "]"
   ]
  },
  {
   "cell_type": "code",
   "execution_count": 49,
   "metadata": {
    "iooxa": {
     "id": {
      "block": "BA5gCRxym8e452vIoSVY",
      "project": "LHTckXXHJDEgbriKJT9S",
      "version": 1
     },
     "outputId": {
      "block": "f0y4BK88hrPzOW8bElAq",
      "project": "LHTckXXHJDEgbriKJT9S",
      "version": 1
     }
    }
   },
   "outputs": [],
   "source": [
    "survey = fdem.Survey(source_list)"
   ]
  },
  {
   "cell_type": "code",
   "execution_count": 50,
   "metadata": {
    "iooxa": {
     "id": {
      "block": "0ZMJoyyRVdPNByLzJV1q",
      "project": "LHTckXXHJDEgbriKJT9S",
      "version": 1
     },
     "outputId": {
      "block": "I4ZFmrbrPRGYtRx6at61",
      "project": "LHTckXXHJDEgbriKJT9S",
      "version": 1
     }
    }
   },
   "outputs": [
    {
     "data": {
      "text/plain": [
       "338377"
      ]
     },
     "execution_count": 50,
     "metadata": {},
     "output_type": "execute_result"
    }
   ],
   "source": [
    "mesh.nC"
   ]
  },
  {
   "cell_type": "code",
   "execution_count": 51,
   "metadata": {
    "iooxa": {
     "id": {
      "block": "mGbDo4TZHR9d2ypllFLt",
      "project": "LHTckXXHJDEgbriKJT9S",
      "version": 1
     },
     "outputId": {
      "block": "dR94AUIWgnOq6aA7TqeK",
      "project": "LHTckXXHJDEgbriKJT9S",
      "version": 1
     }
    }
   },
   "outputs": [],
   "source": [
    "sim = fdem.simulation.Simulation3DElectricField(\n",
    "    mesh=mesh, survey=survey, solver=Pardiso, rho=rho\n",
    ")"
   ]
  },
  {
   "cell_type": "code",
   "execution_count": 52,
   "metadata": {
    "iooxa": {
     "id": {
      "block": "LibtkdrIZhxaJEX9910W",
      "project": "LHTckXXHJDEgbriKJT9S",
      "version": 1
     },
     "outputId": {
      "block": "qNfCCs4S8sF8jbD5Zb9s",
      "project": "LHTckXXHJDEgbriKJT9S",
      "version": 1
     }
    }
   },
   "outputs": [
    {
     "data": {
      "text/plain": [
       "pymatsolver.direct.Pardiso"
      ]
     },
     "execution_count": 52,
     "metadata": {},
     "output_type": "execute_result"
    }
   ],
   "source": [
    "sim.solver"
   ]
  },
  {
   "cell_type": "code",
   "execution_count": null,
   "metadata": {
    "iooxa": {
     "id": {
      "block": "4kqZuyI1fa10HPMUX8p9",
      "project": "LHTckXXHJDEgbriKJT9S",
      "version": 1
     },
     "outputId": {
      "block": "hYa8xt63LAPEMekDClTy",
      "project": "LHTckXXHJDEgbriKJT9S",
      "version": 1
     }
    }
   },
   "outputs": [
    {
     "name": "stderr",
     "output_type": "stream",
     "text": [
      "Process MemTimer-1:\n",
      "Traceback (most recent call last):\n",
      "  File \"/glade/u/home/heagy/.conda/envs/csem3d/lib/python3.7/multiprocessing/process.py\", line 297, in _bootstrap\n",
      "    self.run()\n",
      "  File \"/glade/u/home/heagy/.conda/envs/csem3d/lib/python3.7/site-packages/memory_profiler.py\", line 232, in run\n",
      "    stop = self.pipe.poll(self.interval)\n",
      "  File \"/glade/u/home/heagy/.conda/envs/csem3d/lib/python3.7/multiprocessing/connection.py\", line 257, in poll\n",
      "    return self._poll(timeout)\n",
      "  File \"/glade/u/home/heagy/.conda/envs/csem3d/lib/python3.7/multiprocessing/connection.py\", line 414, in _poll\n",
      "    r = wait([self], timeout)\n",
      "  File \"/glade/u/home/heagy/.conda/envs/csem3d/lib/python3.7/multiprocessing/connection.py\", line 920, in wait\n",
      "    ready = selector.select(timeout)\n",
      "  File \"/glade/u/home/heagy/.conda/envs/csem3d/lib/python3.7/selectors.py\", line 415, in select\n",
      "    fd_event_list = self._selector.poll(timeout)\n",
      "KeyboardInterrupt\n"
     ]
    }
   ],
   "source": [
    "%%time\n",
    "mem = %memit -o fields = sim.fields()\n",
    "ram = f\"{(mem.mem_usage[0] - mem.baseline)/1024:.3f} GiB\"\n",
    "print(f\"memory usage: {ram}\")"
   ]
  },
  {
   "cell_type": "code",
   "execution_count": null,
   "metadata": {
    "iooxa": {
     "id": {
      "block": "qUSHn7kMl01rkWWS94N0",
      "project": "LHTckXXHJDEgbriKJT9S",
      "version": 1
     },
     "outputId": {
      "block": "izU6RwavZhunb50ejmlo",
      "project": "LHTckXXHJDEgbriKJT9S",
      "version": 1
     }
    }
   },
   "outputs": [],
   "source": [
    "fields"
   ]
  },
  {
   "cell_type": "code",
   "execution_count": null,
   "metadata": {
    "iooxa": {
     "id": {
      "block": "dNDssCDD4qolcNuVHPke",
      "project": "LHTckXXHJDEgbriKJT9S",
      "version": 1
     },
     "outputId": {
      "block": "CD3VinyGCHGcOYdkuGgE",
      "project": "LHTckXXHJDEgbriKJT9S",
      "version": 1
     }
    }
   },
   "outputs": [],
   "source": [
    "dpred = sim.dpred(f=fields)\n"
   ]
  },
  {
   "cell_type": "code",
   "execution_count": null,
   "metadata": {
    "iooxa": {
     "id": {
      "block": "ZypWbRacvm9ejJbk4m3W",
      "project": "LHTckXXHJDEgbriKJT9S",
      "version": 1
     },
     "outputId": {
      "block": "23B7KcZNe088CwnC3FLt",
      "project": "LHTckXXHJDEgbriKJT9S",
      "version": 1
     }
    }
   },
   "outputs": [],
   "source": [
    "data = Data(dobs=dpred, survey=survey)"
   ]
  },
  {
   "cell_type": "code",
   "execution_count": null,
   "metadata": {
    "iooxa": {
     "id": {
      "block": "8NZhcZY5OflV9fk3cgNM",
      "project": "LHTckXXHJDEgbriKJT9S",
      "version": 1
     },
     "outputId": {
      "block": "d11FLzE4OB14Z0cQ3biO",
      "project": "LHTckXXHJDEgbriKJT9S",
      "version": 1
     }
    }
   },
   "outputs": [],
   "source": [
    "rec_locs_il"
   ]
  },
  {
   "cell_type": "code",
   "execution_count": null,
   "metadata": {
    "iooxa": {
     "id": {
      "block": "ndTnFBaklM2FmAhhcA5L",
      "project": "LHTckXXHJDEgbriKJT9S",
      "version": 1
     },
     "outputId": {
      "block": "tMATK4QJaHZqThq3TCv1",
      "project": "LHTckXXHJDEgbriKJT9S",
      "version": 1
     }
    }
   },
   "outputs": [],
   "source": [
    "data_il = np.zeros((rec_locs_il.shape[0]*2, len(source_list), 6))\n",
    "data_bs = np.zeros((rec_locs_bs.shape[0]*2, len(source_list), 6))"
   ]
  },
  {
   "cell_type": "code",
   "execution_count": null,
   "metadata": {
    "iooxa": {
     "id": {
      "block": "oVnaAdftoavWxIQAlLKi",
      "project": "LHTckXXHJDEgbriKJT9S",
      "version": 1
     },
     "outputId": {
      "block": "bUOKHWWlA5MpeNtrvyew",
      "project": "LHTckXXHJDEgbriKJT9S",
      "version": 1
     }
    }
   },
   "outputs": [],
   "source": [
    "np.mod(1, 2)"
   ]
  },
  {
   "cell_type": "code",
   "execution_count": null,
   "metadata": {
    "iooxa": {
     "id": {
      "block": "HX2EeBGPMKQFQ4idHG4B",
      "project": "LHTckXXHJDEgbriKJT9S",
      "version": 1
     },
     "outputId": {
      "block": "m4BN0IYN0IGRekXi9uDl",
      "project": "LHTckXXHJDEgbriKJT9S",
      "version": 1
     }
    }
   },
   "outputs": [],
   "source": [
    "for i, src in enumerate(source_list):\n",
    "    rx_list = src.receiver_list\n",
    "    \n",
    "    for j, offset in enumerate([0, 12]): # electric first, then magnetic\n",
    "        # inline \n",
    "        data_il[0::2, i, 0+3*j] = data[src, rx_list[0+offset]] # x, real\n",
    "        data_il[1::2, i, 0+3*j] = data[src, rx_list[1+offset]] # x, imag\n",
    "\n",
    "        data_il[0::2, i, 1+3*j] = data[src, rx_list[2+offset]] # y, real\n",
    "        data_il[1::2, i, 1+3*j] = data[src, rx_list[3+offset]] # y, imag\n",
    "\n",
    "        data_il[0::2, i, 2+3*j] = data[src, rx_list[4+offset]] # z, real\n",
    "        data_il[1::2, i, 2+3*j] = data[src, rx_list[5+offset]] # z, imag\n",
    "\n",
    "        #  broadside\n",
    "        data_bs[0::2, i, 0+3*j] = data[src, rx_list[6+offset]] # x, real\n",
    "        data_bs[1::2, i, 0+3*j] = data[src, rx_list[7+offset]] # x, imag\n",
    "\n",
    "        data_bs[0::2, i, 1+3*j] = data[src, rx_list[8+offset]] # y, real\n",
    "        data_bs[1::2, i, 1+3*j] = data[src, rx_list[9+offset]] # y, imag\n",
    "\n",
    "        data_bs[0::2, i, 2+3*j] = data[src, rx_list[10+offset]] # z, real\n",
    "        data_bs[1::2, i, 2+3*j] = data[src, rx_list[11+offset]] # z, imag\n",
    "    \n"
   ]
  },
  {
   "cell_type": "code",
   "execution_count": null,
   "metadata": {
    "iooxa": {
     "id": {
      "block": "d81OEXA7Svbs2z5ja4cn",
      "project": "LHTckXXHJDEgbriKJT9S",
      "version": 1
     },
     "outputId": {
      "block": "goccYzdt9aLUhQHVSTg0",
      "project": "LHTckXXHJDEgbriKJT9S",
      "version": 1
     }
    }
   },
   "outputs": [],
   "source": [
    "simpeg_data = {\n",
    "    \"data_il\": data_il,\n",
    "    \"data_bs\": data_bs\n",
    "}"
   ]
  },
  {
   "cell_type": "code",
   "execution_count": null,
   "metadata": {
    "iooxa": {
     "id": {
      "block": "KMwgzGVWoZsupjLyOp8C",
      "project": "LHTckXXHJDEgbriKJT9S",
      "version": 1
     },
     "outputId": {
      "block": "6DftOvFdaYQOT9nQBWjb",
      "project": "LHTckXXHJDEgbriKJT9S",
      "version": 1
     }
    }
   },
   "outputs": [],
   "source": [
    "ds.data_bs.data.shape"
   ]
  },
  {
   "cell_type": "code",
   "execution_count": null,
   "metadata": {
    "iooxa": {
     "id": {
      "block": "U7FbzP9ZBaDbMRdO4fKS",
      "project": "LHTckXXHJDEgbriKJT9S",
      "version": 1
     },
     "outputId": {
      "block": "KY1RQUb4eW2AW0uoqtQ7",
      "project": "LHTckXXHJDEgbriKJT9S",
      "version": 1
     }
    }
   },
   "outputs": [],
   "source": [
    "rx_list[0].locs.shape"
   ]
  },
  {
   "cell_type": "code",
   "execution_count": null,
   "metadata": {
    "iooxa": {
     "id": {
      "block": "oVqNF1beVfusJpniNHil",
      "project": "LHTckXXHJDEgbriKJT9S",
      "version": 1
     },
     "outputId": {
      "block": "xPkqebaeYRK88vMdHyzH",
      "project": "LHTckXXHJDEgbriKJT9S",
      "version": 1
     }
    }
   },
   "outputs": [],
   "source": [
    "data[src, rx_list[0]].shape"
   ]
  },
  {
   "cell_type": "code",
   "execution_count": null,
   "metadata": {
    "iooxa": {
     "id": {
      "block": "zkicl1gHaYP2Y3YoI3ej",
      "project": "LHTckXXHJDEgbriKJT9S",
      "version": 1
     },
     "outputId": {
      "block": "xMTiLcxFOqY9pxJEcgh3",
      "project": "LHTckXXHJDEgbriKJT9S",
      "version": 1
     }
    }
   },
   "outputs": [],
   "source": [
    "ds.data_bs.data[:, 0, :] = data_bs\n",
    "ds.data_il.data[:, 0, :] = data_il"
   ]
  },
  {
   "cell_type": "code",
   "execution_count": null,
   "metadata": {
    "iooxa": {
     "id": {
      "block": "AL3Yq3kSsf0wGULefiYi",
      "project": "LHTckXXHJDEgbriKJT9S",
      "version": 1
     },
     "outputId": {
      "block": "RddBSq0I27AWnUiSz49V",
      "project": "LHTckXXHJDEgbriKJT9S",
      "version": 1
     }
    }
   },
   "outputs": [],
   "source": [
    "# Receiver positions (reciprocity)\n",
    "offs = ds.data_il.src_x[::2] - ds.rec_x\n",
    "\n",
    "# Line styles\n",
    "ls = ['co', 'ys', 'm*', 'gd', 'rv', 'b^']\n",
    "\n",
    "def extract_line(d, n, b=None):\n",
    "    data = getattr(d, n)\n",
    "    data = np.abs(data.data[::2, :, :] + 1j*data.data[1::2, :, :])\n",
    "    \n",
    "    if b is not None:\n",
    "        comp = getattr(b, n)\n",
    "        comp = np.abs(comp.data[::2, :, :] + 1j*comp.data[1::2, :, :])\n",
    "        \n",
    "        data -= comp\n",
    "\n",
    "    return data"
   ]
  },
  {
   "cell_type": "code",
   "execution_count": null,
   "metadata": {
    "iooxa": {
     "id": {
      "block": "rJqlO255YBofwJ8azJTG",
      "project": "LHTckXXHJDEgbriKJT9S",
      "version": 1
     },
     "outputId": {
      "block": "c3Zj7AkAbqNJVPVUfJbZ",
      "project": "LHTckXXHJDEgbriKJT9S",
      "version": 1
     }
    }
   },
   "outputs": [],
   "source": [
    "fs = 12\n",
    "fig, axs = plt.subplots(4, 3, figsize=(9.5, 11), sharex=True)\n",
    "\n",
    "ls = ['-', ':', '--']\n",
    "ms = 8\n",
    "\n",
    "# Loop over Inline/Broadside\n",
    "for iii, datname in enumerate(['data_il', 'data_bs']):\n",
    "\n",
    "    # Get absolute values of this line\n",
    "    tdat = extract_line(data, datname)\n",
    "    tegd = extract_line(egd, datname)\n",
    "    tcst = extract_line(cst, datname)\n",
    "    \n",
    "    tptg = extract_line(ptg, datname)\n",
    "    tspg = tegd  ### CHANGE TO SimPEG\n",
    "\n",
    "    # Loop over components Ex, Ey, Ez\n",
    "    if datname == 'data_il':\n",
    "        values = data.components.values[:1]  # Ex\n",
    "    else:\n",
    "        values = data.components.values[:2]  # Ex, Ey\n",
    "        \n",
    "    # Loop over frequencies\n",
    "    for i, freq in enumerate(data.freqs.values[::2]):\n",
    "        \n",
    "        # Fields\n",
    "        for ii, comp in enumerate(values):\n",
    "\n",
    "            plt.sca(axs[0, ii+iii])\n",
    "            plt.title(f\"{['Inline', 'Broadside'][iii]} {comp}\")\n",
    "\n",
    "\n",
    "            # Plot this component/frequency\n",
    "            plt.plot(offs[:102]/1e3, tdat[:102, i, ii], str(.1+i*.3), lw=2,\n",
    "                     label=f\"f={freq} Hz\" if ii+iii == 0 else None)\n",
    "            plt.plot(offs[102:]/1e3, tdat[102:, i, ii], str(.1+i*.3), lw=2)\n",
    "            \n",
    "            plt.plot(offs[:102:16]/1e3, tegd[:102:16, i, ii], 'C0', ls=\"\", marker=\"+\", ms=ms,\n",
    "                     label=f\"empymod\" if (i == 0 and ii+iii == 1) else None)\n",
    "            plt.plot(offs[102::16]/1e3, tegd[102::16, i, ii], 'C0', ls=\"\", marker=\"+\", ms=ms)\n",
    "            \n",
    "            plt.plot(offs[4:102:16]/1e3, tcst[4:102:16, i, ii], 'C1', ls=\"\", marker=\"x\", ms=ms-2)\n",
    "            plt.plot(offs[106::16]/1e3, tcst[106::16, i, ii], 'C1', ls=\"\", marker=\"x\", ms=ms-2,\n",
    "                     label=f\"custEM\" if (i == 0 and ii+iii == 1) else None)\n",
    "            \n",
    "            plt.plot(offs[8:102:16]/1e3, tptg[8:102:16, i, ii], 'C2', ls=\"\", marker=\"1\", ms=ms)\n",
    "            plt.plot(offs[110::16]/1e3, tptg[110::16, i, ii], 'C2', ls=\"\", marker=\"1\", ms=ms,\n",
    "                     label=f\"PETGEM\" if (i == 0 and ii+iii == 1) else None)\n",
    "            \n",
    "            plt.plot(offs[12:102:16]/1e3, tspg[12:102:16, i, ii], 'C3', ls=\"\", marker=\"2\", ms=ms)\n",
    "            plt.plot(offs[114::16]/1e3, tspg[114::16, i, ii], 'C3', ls=\"\", marker=\"2\", ms=ms,\n",
    "                     label=f\"SimPEG\" if (i == 0 and ii+iii == 1) else None)\n",
    "\n",
    "            plt.axhline(2e-15, c='k')           \n",
    "    \n",
    "            plt.grid(axis='y', c='0.9')\n",
    "            plt.yscale('log')\n",
    "            plt.ylim([1e-16, 2e-10])\n",
    "            if ii+iii == 2:\n",
    "                axs[0, 2].yaxis.tick_right()\n",
    "            axs[0, ii+iii].yaxis.set_ticks_position('both')\n",
    "\n",
    "        axs[0, 0].set_ylabel('|Norm. E-field| (V/Am$^2$)', fontsize=fs)\n",
    "        axs[0, 1].set_yticklabels(())\n",
    "\n",
    "        # Error\n",
    "        for ii, comp in enumerate(values):\n",
    "\n",
    "            plt.sca(axs[1+i, ii+iii])\n",
    "\n",
    "            # Plot difference\n",
    "            dat_egd = 200*np.abs((tdat[:, i, ii]-tegd[:, i, ii])/(tdat[:, i, ii]+tegd[:, i, ii]))\n",
    "            dat_cst = 200*np.abs((tdat[:, i, ii]-tcst[:, i, ii])/(tdat[:, i, ii]+tcst[:, i, ii]))\n",
    "            dat_ptg = 200*np.abs((tdat[:, i, ii]-tptg[:, i, ii])/(tdat[:, i, ii]+tptg[:, i, ii]))\n",
    "            \n",
    "            egd_cst = 200*np.abs((tegd[:, i, ii]-tcst[:, i, ii])/(tegd[:, i, ii]+tcst[:, i, ii]))\n",
    "            cst_ptg = 200*np.abs((tcst[:, i, ii]-tptg[:, i, ii])/(tcst[:, i, ii]+tptg[:, i, ii]))\n",
    "            egd_ptg = 200*np.abs((tegd[:, i, ii]-tptg[:, i, ii])/(tegd[:, i, ii]+tptg[:, i, ii]))    \n",
    "            \n",
    "            plt.plot(offs/1e3, dat_egd, 'b.', label=\"emg3d/MR3D\" if i == 0 else None)\n",
    "            plt.plot(offs/1e3, dat_cst, 'm.', label=\"custEM/MR3D\" if i == 0 else None)\n",
    "            plt.plot(offs/1e3, dat_ptg, 'rx', ms=3, label=\"PETGEM/MR3D\" if i == 0 else None)\n",
    "            \n",
    "            plt.plot(offs/1e3, egd_cst, 'g.', label=\"emg3d/custEM\" if i == 0 else None)\n",
    "            plt.plot(offs/1e3, cst_ptg, 'y.', label=\"custEM/PETGEM\" if i == 0 else None)\n",
    "            plt.plot(offs/1e3, egd_ptg, 'kx', ms=3, label=\"emg3d/PETGEM\" if i == 0 else None)\n",
    "\n",
    "            plt.grid(axis='y', c='0.9')\n",
    "            plt.yscale('log')\n",
    "            plt.ylim([1e-2, 1e2])\n",
    "            if ii+iii == 2:\n",
    "                axs[1+i, 2].yaxis.tick_right()\n",
    "            axs[1+i, ii+iii].yaxis.set_ticks_position('both')\n",
    "\n",
    "        axs[1+i, 0].set_ylabel(f'NRMSD (%), f={freq} Hz', fontsize=fs)\n",
    "        axs[1+i, 1].set_yticklabels(())\n",
    "\n",
    "    axs[3, 1].set_xlabel('Offset (km)', fontsize=fs)\n",
    "\n",
    "\n",
    "# Switch off spines\n",
    "for i in range(4):\n",
    "    for ii in range(3):\n",
    "        axs[i, ii].spines['top'].set_visible(False)\n",
    "    for ii in range(2):\n",
    "        axs[i, ii].spines['right'].set_visible(False)\n",
    "    for ii in range(1, 3):\n",
    "        axs[i, ii].spines['left'].set_visible(False)\n",
    "        \n",
    "plt.tight_layout(h_pad=0.02, rect=[0, 0.1, 1, 1])\n",
    "\n",
    "plt.sca(axs[0, 1])\n",
    "plt.legend(bbox_to_anchor=(0.65, 0.01), bbox_transform=fig.transFigure,\n",
    "           loc='lower left', borderaxespad=0., ncol=2)  \n",
    "plt.sca(axs[0, 0])\n",
    "plt.legend(bbox_to_anchor=(0.05, 0.035), bbox_transform=fig.transFigure,\n",
    "           loc='lower left', borderaxespad=1., ncol=3)  \n",
    "\n",
    "plt.sca(axs[1, 0])\n",
    "plt.legend(bbox_to_anchor=(0.05, 0.01), bbox_transform=fig.transFigure,\n",
    "           loc='lower left', borderaxespad=0., ncol=3)  \n",
    "                \n",
    "plt.savefig(f'../manuscript/figures/results-marlim_2.pdf', bbox_inches='tight')\n",
    "plt.show()"
   ]
  },
  {
   "cell_type": "code",
   "execution_count": null,
   "metadata": {},
   "outputs": [],
   "source": []
  }
 ],
 "metadata": {
  "iooxa": {
   "id": {
    "block": "N2067R2C4V8PzNzLrY0A",
    "project": "LHTckXXHJDEgbriKJT9S",
    "version": 1
   }
  },
  "kernelspec": {
   "display_name": "Python 3",
   "language": "python",
   "name": "python3"
  },
  "language_info": {
   "codemirror_mode": {
    "name": "ipython",
    "version": 3
   },
   "file_extension": ".py",
   "mimetype": "text/x-python",
   "name": "python",
   "nbconvert_exporter": "python",
   "pygments_lexer": "ipython3",
   "version": "3.8.5"
  }
 },
 "nbformat": 4,
 "nbformat_minor": 4
}
