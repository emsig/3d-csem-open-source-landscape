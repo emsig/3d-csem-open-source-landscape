{
 "cells": [
  {
   "cell_type": "code",
   "execution_count": 1,
   "metadata": {},
   "outputs": [],
   "source": [
    "# core python libraries we rely on\n",
    "import numpy as np\n",
    "import matplotlib.pyplot as plt\n",
    "import xarray as xr\n",
    "\n",
    "# SimPEG ecosystem \n",
    "import discretize\n",
    "from discretize.utils import mkvc\n",
    "from SimPEG.electromagnetics import frequency_domain as fdem\n",
    "from pymatsolver import Pardiso\n",
    "import ipywidgets\n",
    "%load_ext memory_profiler"
   ]
  },
  {
   "cell_type": "code",
   "execution_count": 2,
   "metadata": {},
   "outputs": [
    {
     "data": {
      "text/html": [
       "<table>\n",
       "  <tr>\n",
       "    <td style='font-weight: bold; font-size: 1.2em; text-align: center;' colspan='3'>TensorMesh</td>\n",
       "    <td style='font-size: 1.2em; text-align: center;'colspan='4'>90,172,895 cells</td>\n",
       "  </tr>\n",
       "  <tr>\n",
       "    <th></th>\n",
       "    <th></th>\n",
       "    <th colspan='2' style='padding: 5px 20px 5px 20px;'>MESH EXTENT</th>\n",
       "    <th colspan='2' style='padding: 5px 20px 5px 20px;'>CELL WIDTH</th>\n",
       "    <th style='padding: 5px 20px 5px 20px;'>FACTOR</th>\n",
       "  </tr>\n",
       "  <tr>\n",
       "    <th style='padding: 5px 20px 5px 20px;'>dir</th>\n",
       "    <th style='padding: 5px 20px 5px 20px;'>nC</th>\n",
       "    <th style='padding: 5px 20px 5px 20px;'>min</th>\n",
       "    <th style='padding: 5px 20px 5px 20px;'>max</th>\n",
       "    <th style='padding: 5px 20px 5px 20px;'>min</th>\n",
       "    <th style='padding: 5px 20px 5px 20px;'>max</th>\n",
       "    <th style='padding: 5px 20px 5px 20px;'>max</th>\n",
       "  </tr>\n",
       "  <tr>\n",
       "    <td style='padding: 5px 20px 5px 20px;'>x</td>\n",
       "    <td style='padding: 5px 20px 5px 20px;'>515</td>\n",
       "    <td style='padding: 5px 20px 5px 20px;'>364,325.00</td>\n",
       "    <td style='padding: 5px 20px 5px 20px;'>415,825.00</td>\n",
       "    <td style='padding: 5px 20px 5px 20px;'>100.00</td>\n",
       "    <td style='padding: 5px 20px 5px 20px;'>100.00</td>\n",
       "    <td style='padding: 5px 20px 5px 20px;'>1.00</td>\n",
       "  </tr>\n",
       "  <tr>\n",
       "    <td style='padding: 5px 20px 5px 20px;'>y</td>\n",
       "    <td style='padding: 5px 20px 5px 20px;'>563</td>\n",
       "    <td style='padding: 5px 20px 5px 20px;'>7,490,049.00</td>\n",
       "    <td style='padding: 5px 20px 5px 20px;'>7,546,349.00</td>\n",
       "    <td style='padding: 5px 20px 5px 20px;'>100.00</td>\n",
       "    <td style='padding: 5px 20px 5px 20px;'>100.00</td>\n",
       "    <td style='padding: 5px 20px 5px 20px;'>1.00</td>\n",
       "  </tr>\n",
       "  <tr>\n",
       "    <td style='padding: 5px 20px 5px 20px;'>z</td>\n",
       "    <td style='padding: 5px 20px 5px 20px;'>311</td>\n",
       "    <td style='padding: 5px 20px 5px 20px;'>-6,200.00</td>\n",
       "    <td style='padding: 5px 20px 5px 20px;'>20.00</td>\n",
       "    <td style='padding: 5px 20px 5px 20px;'>20.00</td>\n",
       "    <td style='padding: 5px 20px 5px 20px;'>20.00</td>\n",
       "    <td style='padding: 5px 20px 5px 20px;'>1.00</td>\n",
       "  </tr>\n",
       "</table>\n"
      ],
      "text/plain": [
       "\n",
       "  TensorMesh: 90,172,895 cells\n",
       "\n",
       "                      MESH EXTENT             CELL WIDTH      FACTOR\n",
       "  dir    nC        min           max         min       max      max\n",
       "  ---   ---  ---------------------------  ------------------  ------\n",
       "   x    515    364,325.00    415,825.00    100.00    100.00    1.00\n",
       "   y    563  7,490,049.00  7,546,349.00    100.00    100.00    1.00\n",
       "   z    311     -6,200.00         20.00     20.00     20.00    1.00\n"
      ]
     },
     "execution_count": 2,
     "metadata": {},
     "output_type": "execute_result"
    }
   ],
   "source": [
    "data = np.load('../marlim_comp.npz')  #  or 'marlim_orig.npz'\n",
    "tres_h = data['res_h']\n",
    "tres_v = data['res_v']\n",
    "\n",
    "# We have to add an air layer\n",
    "hz = np.r_[data['hz'], 20]\n",
    "\n",
    "mesh_full = discretize.TensorMesh(\n",
    "    [data['hx'], data['hy'], hz], x0=data['x0']\n",
    ")\n",
    "\n",
    "# Add air resistivity\n",
    "res_h_full = 1e8*np.ones(mesh_full.vnC)\n",
    "res_v_full = 1e8*np.ones(mesh_full.vnC)\n",
    "res_h_full[:, :, :-1] = tres_h\n",
    "res_v_full[:, :, :-1] = tres_v\n",
    "del data, tres_h, tres_v\n",
    "\n",
    "mesh_full"
   ]
  },
  {
   "cell_type": "code",
   "execution_count": 3,
   "metadata": {},
   "outputs": [
    {
     "data": {
      "text/plain": [
       "Text(0.5, 1.0, 'rho_v')"
      ]
     },
     "execution_count": 3,
     "metadata": {},
     "output_type": "execute_result"
    },
    {
     "data": {
      "image/png": "[encoded data removed]",
      "text/plain": [
       "<Figure size 864x288 with 2 Axes>"
      ]
     },
     "metadata": {
      "needs_background": "light"
     },
     "output_type": "display_data"
    }
   ],
   "source": [
    "fig, ax = plt.subplots(1, 2, figsize=(12, 4))\n",
    "\n",
    "histh = ax[0].hist(np.log10(mkvc(res_h_full)), 10);\n",
    "histv = ax[1].hist(np.log10(mkvc(res_v_full)), 10);\n",
    "\n",
    "# ax[0].set_xlim([-1, 1])\n",
    "# ax[1].set_xlim([-1, 1])\n",
    "\n",
    "ax[0].set_title(\"rho_h\")\n",
    "ax[1].set_title(\"rho_v\")"
   ]
  },
  {
   "cell_type": "code",
   "execution_count": 4,
   "metadata": {},
   "outputs": [
    {
     "data": {
      "text/plain": [
       "0.3199999928474426"
      ]
     },
     "execution_count": 4,
     "metadata": {},
     "output_type": "execute_result"
    }
   ],
   "source": [
    "10**histh[1][0]"
   ]
  },
  {
   "cell_type": "code",
   "execution_count": 5,
   "metadata": {},
   "outputs": [
    {
     "data": {
      "text/plain": [
       "2.262741654278355"
      ]
     },
     "execution_count": 5,
     "metadata": {},
     "output_type": "execute_result"
    }
   ],
   "source": [
    "10**histh[1][1]"
   ]
  },
  {
   "cell_type": "code",
   "execution_count": 6,
   "metadata": {},
   "outputs": [
    {
     "data": {
      "text/plain": [
       "1.9427416614309125"
      ]
     },
     "execution_count": 6,
     "metadata": {},
     "output_type": "execute_result"
    }
   ],
   "source": [
    "10**histh[1][1] - 10**histh[1][0]"
   ]
  },
  {
   "cell_type": "code",
   "execution_count": 7,
   "metadata": {},
   "outputs": [
    {
     "data": {
      "text/plain": [
       "(-0.49485003138733225, -0.49485003138733225)"
      ]
     },
     "execution_count": 7,
     "metadata": {},
     "output_type": "execute_result"
    }
   ],
   "source": [
    "np.min(np.log10(res_h_full)), np.min(np.log10(res_v_full))"
   ]
  },
  {
   "cell_type": "code",
   "execution_count": 8,
   "metadata": {},
   "outputs": [
    {
     "data": {
      "text/plain": [
       "(0.3199999928474426, 0.3199999928474426)"
      ]
     },
     "execution_count": 8,
     "metadata": {},
     "output_type": "execute_result"
    }
   ],
   "source": [
    "np.min(res_h_full), np.min(res_v_full)"
   ]
  },
  {
   "cell_type": "code",
   "execution_count": 9,
   "metadata": {},
   "outputs": [
    {
     "name": "stdout",
     "output_type": "stream",
     "text": [
      "CPU times: user 17.4 s, sys: 11 s, total: 28.4 s\n",
      "Wall time: 28.4 s\n"
     ]
    }
   ],
   "source": [
    "%%time\n",
    "# compute the total gradient\n",
    "dmdx_h = np.abs(mesh_full._cellGradxStencil * mkvc(res_h_full))\n",
    "dmdy_h = np.abs(mesh_full._cellGradyStencil * mkvc(res_h_full))\n",
    "dmdz_h = np.abs(mesh_full._cellGradzStencil * mkvc(res_h_full))"
   ]
  },
  {
   "cell_type": "code",
   "execution_count": 10,
   "metadata": {},
   "outputs": [
    {
     "name": "stdout",
     "output_type": "stream",
     "text": [
      "CPU times: user 17.2 s, sys: 11.1 s, total: 28.4 s\n",
      "Wall time: 28.4 s\n"
     ]
    }
   ],
   "source": [
    "%%time\n",
    "# compute the total gradient\n",
    "dmdx_v = np.abs(mesh_full._cellGradxStencil * mkvc(res_v_full))\n",
    "dmdy_v = np.abs(mesh_full._cellGradyStencil * mkvc(res_v_full))\n",
    "dmdz_v = np.abs(mesh_full._cellGradzStencil * mkvc(res_v_full))"
   ]
  },
  {
   "cell_type": "code",
   "execution_count": 11,
   "metadata": {},
   "outputs": [],
   "source": [
    "dmdx_h_nz = np.nonzero(dmdx_h)[0]\n",
    "dmdy_h_nz = np.nonzero(dmdy_h)[0]\n",
    "dmdz_h_nz = np.nonzero(dmdz_h)[0]"
   ]
  },
  {
   "cell_type": "code",
   "execution_count": 12,
   "metadata": {},
   "outputs": [],
   "source": [
    "dmdx_v_nz = np.nonzero(dmdx_v)[0]\n",
    "dmdy_v_nz = np.nonzero(dmdy_v)[0]\n",
    "dmdz_v_nz = np.nonzero(dmdz_v)[0]"
   ]
  },
  {
   "cell_type": "code",
   "execution_count": 13,
   "metadata": {},
   "outputs": [
    {
     "data": {
      "image/png": "[encoded data removed]",
      "text/plain": [
       "<Figure size 864x288 with 2 Axes>"
      ]
     },
     "metadata": {
      "needs_background": "light"
     },
     "output_type": "display_data"
    }
   ],
   "source": [
    "fig, ax = plt.subplots(1, 2, figsize=(12, 4))\n",
    "for dim, h, v in zip(\n",
    "    [\"x\", \"y\", \"z\"],\n",
    "    [dmdx_h[dmdx_h_nz], dmdy_h[dmdy_h_nz], dmdz_h[dmdz_h_nz]],\n",
    "    [dmdx_v[dmdx_v_nz], dmdy_v[dmdy_v_nz], dmdz_v[dmdz_v_nz]]\n",
    "):\n",
    "\n",
    "    ax[0].hist(np.log10(np.abs(mkvc(h))), 30, alpha=0.5);\n",
    "    ax[1].hist(np.log10(np.abs(mkvc(v))), 30, alpha=0.5);\n",
    "\n",
    "    ax[0].set_title(\"rho_h\")\n",
    "    ax[1].set_title(\"rho_v\")"
   ]
  },
  {
   "cell_type": "code",
   "execution_count": 14,
   "metadata": {},
   "outputs": [],
   "source": [
    "# average to cell centers and sum\n",
    "\n",
    "dmdh = (\n",
    "    mesh_full.aveFx2CC * dmdx_h + \n",
    "    mesh_full.aveFy2CC * dmdy_h + \n",
    "    mesh_full.aveFz2CC * dmdz_h\n",
    ")\n",
    "\n",
    "dmdv = (\n",
    "    mesh_full.aveFx2CC * dmdx_v + \n",
    "    mesh_full.aveFy2CC * dmdy_v + \n",
    "    mesh_full.aveFz2CC * dmdz_v\n",
    ")"
   ]
  },
  {
   "cell_type": "code",
   "execution_count": 15,
   "metadata": {},
   "outputs": [],
   "source": [
    "dm = dmdh + dmdv"
   ]
  },
  {
   "cell_type": "code",
   "execution_count": 16,
   "metadata": {},
   "outputs": [],
   "source": [
    "dm_nonzero = np.nonzero(dm)[0]"
   ]
  },
  {
   "cell_type": "code",
   "execution_count": 17,
   "metadata": {},
   "outputs": [
    {
     "data": {
      "text/plain": [
       "(array([8.0000000e+00, 1.8500000e+02, 3.2470000e+03, 3.0404000e+04,\n",
       "        1.2459800e+05, 2.3574100e+05, 5.3933000e+05, 3.1231820e+06,\n",
       "        5.4718920e+06, 1.3605903e+07, 7.4602590e+06, 7.8334060e+06,\n",
       "        5.6419890e+06, 1.7179740e+06, 3.6301900e+05, 1.6212700e+05,\n",
       "        2.9446200e+05, 6.2767800e+05, 4.8823100e+05, 1.2782330e+06,\n",
       "        2.9898000e+04, 0.0000000e+00, 0.0000000e+00, 0.0000000e+00,\n",
       "        0.0000000e+00, 0.0000000e+00, 0.0000000e+00, 0.0000000e+00,\n",
       "        0.0000000e+00, 5.7989000e+05]),\n",
       " array([-6.32162991, -5.84424225, -5.36685458, -4.88946692, -4.41207925,\n",
       "        -3.93469159, -3.45730393, -2.97991626, -2.5025286 , -2.02514094,\n",
       "        -1.54775327, -1.07036561, -0.59297795, -0.11559028,  0.36179738,\n",
       "         0.83918504,  1.31657271,  1.79396037,  2.27134804,  2.7487357 ,\n",
       "         3.22612336,  3.70351103,  4.18089869,  4.65828635,  5.13567402,\n",
       "         5.61306168,  6.09044934,  6.56783701,  7.04522467,  7.52261234,\n",
       "         8.        ]),\n",
       " <a list of 30 Patch objects>)"
      ]
     },
     "execution_count": 17,
     "metadata": {},
     "output_type": "execute_result"
    },
    {
     "data": {
      "image/png": "[encoded data removed]",
      "text/plain": [
       "<Figure size 432x288 with 1 Axes>"
      ]
     },
     "metadata": {
      "needs_background": "light"
     },
     "output_type": "display_data"
    }
   ],
   "source": [
    "plt.hist(np.log10(dm[dm_nonzero]), 30)"
   ]
  },
  {
   "cell_type": "code",
   "execution_count": 161,
   "metadata": {},
   "outputs": [],
   "source": [
    "threshold = 1\n",
    "significant_dm = dm >= threshold"
   ]
  },
  {
   "cell_type": "code",
   "execution_count": 162,
   "metadata": {},
   "outputs": [
    {
     "data": {
      "text/plain": [
       "5040738"
      ]
     },
     "execution_count": 162,
     "metadata": {},
     "output_type": "execute_result"
    }
   ],
   "source": [
    "significant_dm.sum()"
   ]
  },
  {
   "cell_type": "code",
   "execution_count": 163,
   "metadata": {},
   "outputs": [
    {
     "data": {
      "image/png": "[encoded data removed]",
      "text/plain": [
       "<Figure size 432x288 with 4 Axes>"
      ]
     },
     "metadata": {
      "needs_background": "light"
     },
     "output_type": "display_data"
    }
   ],
   "source": [
    "mesh_full.plot_3d_slicer(np.log10(res_h_full),  clim=[np.log10(0.32), np.log10(2000)])"
   ]
  },
  {
   "cell_type": "code",
   "execution_count": 164,
   "metadata": {},
   "outputs": [
    {
     "data": {
      "image/png": "[encoded data removed]",
      "text/plain": [
       "<Figure size 432x288 with 4 Axes>"
      ]
     },
     "metadata": {
      "needs_background": "light"
     },
     "output_type": "display_data"
    }
   ],
   "source": [
    "mesh_full.plot_3d_slicer(significant_dm)"
   ]
  },
  {
   "cell_type": "markdown",
   "metadata": {},
   "source": [
    "## load survey info"
   ]
  },
  {
   "cell_type": "code",
   "execution_count": 165,
   "metadata": {},
   "outputs": [],
   "source": [
    "ds = xr.load_dataset('../marlim_survey.nc', engine='h5netcdf')"
   ]
  },
  {
   "cell_type": "code",
   "execution_count": 166,
   "metadata": {},
   "outputs": [
    {
     "name": "stdout",
     "output_type": "stream",
     "text": [
      "True\n"
     ]
    }
   ],
   "source": [
    "# Use reciprocity: rec becomes src\n",
    "src = [\n",
    "    ds.rec_x, ds.rec_y, ds.rec_z,\n",
    "    ds.rec_theta, ds.rec_dip\n",
    "]\n",
    "\n",
    "# Use reciprocity: src becomes rec\n",
    "rec_x = ds.data_il.src_x[::2]\n",
    "rec_y_il = ds.data_il.src_y\n",
    "rec_z_il = ds.data_il.src_z\n",
    "\n",
    "# Ensure same coordinates\n",
    "print(np.allclose(rec_x, ds.data_bs.src_x[::2]))\n",
    "\n",
    "rec_y_bs = ds.data_bs.src_y\n",
    "rec_z_bs = ds.data_bs.src_z\n",
    "\n",
    "rec_locs_il = discretize.utils.ndgrid([rec_x.data, rec_y_il, rec_z_il])\n",
    "rec_locs_bs = discretize.utils.ndgrid([rec_x.data, rec_y_bs, rec_z_bs])\n",
    "\n",
    "# Frequency\n",
    "freqs = ds.freqs.values"
   ]
  },
  {
   "cell_type": "code",
   "execution_count": 167,
   "metadata": {},
   "outputs": [
    {
     "data": {
      "text/plain": [
       "[390275.0, 7517812.0, -849.7838, 0.0, 0.0]"
      ]
     },
     "execution_count": 167,
     "metadata": {},
     "output_type": "execute_result"
    }
   ],
   "source": [
    "src"
   ]
  },
  {
   "cell_type": "code",
   "execution_count": 168,
   "metadata": {},
   "outputs": [
    {
     "name": "stdout",
     "output_type": "stream",
     "text": [
      "<xarray.DataArray 'src_x' ()>\n",
      "array(21800., dtype=float32)\n",
      "0.0\n",
      "0.0\n",
      "432.17328\n",
      "429.44952\n",
      "-1053.3586 -623.9091\n",
      "-1034.6903 -602.517\n"
     ]
    }
   ],
   "source": [
    "print(rec_x.max() - rec_x.min())\n",
    "print(rec_y_il.max() - rec_y_il.min())\n",
    "print(rec_y_bs.max() - rec_y_bs.min())\n",
    "print(rec_z_il.max() - rec_z_il.min())\n",
    "print(rec_z_bs.max() - rec_z_bs.min())\n",
    "\n",
    "print(rec_z_bs.min(), rec_z_bs.max())\n",
    "print(rec_z_il.min(), rec_z_il.max())"
   ]
  },
  {
   "cell_type": "code",
   "execution_count": null,
   "metadata": {},
   "outputs": [],
   "source": []
  },
  {
   "cell_type": "code",
   "execution_count": 169,
   "metadata": {},
   "outputs": [],
   "source": [
    "# only refine in the core region where we are collecting data \n",
    "\n",
    "extra = 400. \n",
    "\n",
    "refine_points_core = significant_dm & (\n",
    "    (mesh_full.gridCC[:, 0] > rec_x.data.min() - extra) &\n",
    "    (mesh_full.gridCC[:, 0] < rec_x.data.max() + extra) & \n",
    "    (mesh_full.gridCC[:, 1] > rec_x.data.min()) &\n",
    "    (mesh_full.gridCC[:, 1] > rec_x.data.max())\n",
    ")\n",
    "\n",
    "refine_points = mesh_full.gridCC[refine_points_core, :]"
   ]
  },
  {
   "cell_type": "code",
   "execution_count": 170,
   "metadata": {},
   "outputs": [],
   "source": [
    "tmp = refine_points_core.nonzero()"
   ]
  },
  {
   "cell_type": "code",
   "execution_count": 171,
   "metadata": {},
   "outputs": [
    {
     "data": {
      "text/plain": [
       "(3250017,)"
      ]
     },
     "execution_count": 171,
     "metadata": {},
     "output_type": "execute_result"
    }
   ],
   "source": [
    "tmp[0].shape"
   ]
  },
  {
   "cell_type": "code",
   "execution_count": 172,
   "metadata": {},
   "outputs": [
    {
     "data": {
      "text/plain": [
       "(5040738,)"
      ]
     },
     "execution_count": 172,
     "metadata": {},
     "output_type": "execute_result"
    }
   ],
   "source": [
    "significant_dm.nonzero()[0].shape"
   ]
  },
  {
   "cell_type": "code",
   "execution_count": 173,
   "metadata": {},
   "outputs": [
    {
     "data": {
      "image/png": "[encoded data removed]",
      "text/plain": [
       "<Figure size 432x288 with 1 Axes>"
      ]
     },
     "metadata": {
      "needs_background": "light"
     },
     "output_type": "display_data"
    }
   ],
   "source": [
    "fig, ax = plt.subplots(1,1)\n",
    "ax.hist(np.log10(503/np.sqrt(freqs[0]/mkvc(res_h_full))), 50, alpha=0.5);\n",
    "ax.hist(np.log10(503/np.sqrt(freqs[0]/mkvc(res_v_full))), 50, alpha=0.5);"
   ]
  },
  {
   "cell_type": "markdown",
   "metadata": {},
   "source": [
    "## design a mesh"
   ]
  },
  {
   "cell_type": "code",
   "execution_count": 183,
   "metadata": {},
   "outputs": [
    {
     "name": "stdout",
     "output_type": "stream",
     "text": [
      "109 44 78 374088\n",
      "128 64 128 1048576\n"
     ]
    }
   ],
   "source": [
    "# use the same discretization and domain extent in each dimension\n",
    "dx, dy, dz = 200, 200, 80 \n",
    "\n",
    "domain_x = float(rec_x.max() - rec_x.min())\n",
    "domain_y = 0.4*domain_x \n",
    "domain_z = refine_points[:, 2].max() - refine_points[:, 2].min()\n",
    "\n",
    "ncore_x = int(np.ceil(domain_x/dx))\n",
    "ncore_y = int(np.ceil(domain_y/dy))\n",
    "ncore_z = int(np.ceil(domain_z/dz))\n",
    "\n",
    "print(ncore_x, ncore_y, ncore_z, ncore_x*ncore_y*ncore_z)\n",
    "\n",
    "npad_x = 8\n",
    "npad_y = 8\n",
    "npad_z = 8\n",
    "\n",
    "ncx = 2**int(np.ceil(np.log(ncore_x + npad_x*2)/np.log(2.)))\n",
    "ncy = 2**int(np.ceil(np.log(ncore_y + npad_y*2)/np.log(2.)))\n",
    "ncz = 2**int(np.ceil(np.log(ncore_z + npad_z*2)/np.log(2.)))\n",
    "\n",
    "print(ncx, ncy, ncz, ncx*ncy*ncz)\n",
    "\n",
    "pf = 1.4\n"
   ]
  },
  {
   "cell_type": "code",
   "execution_count": 184,
   "metadata": {},
   "outputs": [
    {
     "data": {
      "text/plain": [
       "array([ 3.643250e+05,  7.490049e+06, -6.200000e+03])"
      ]
     },
     "execution_count": 184,
     "metadata": {},
     "output_type": "execute_result"
    }
   ],
   "source": [
    "mesh_full.x0"
   ]
  },
  {
   "cell_type": "code",
   "execution_count": 185,
   "metadata": {},
   "outputs": [],
   "source": [
    "mesh_full_center = np.r_[\n",
    "    (mesh_full.gridCC[:, 0].min() + mesh_full.gridCC[:, 0].max())/2,\n",
    "    (mesh_full.gridCC[:, 1].min() + mesh_full.gridCC[:, 1].max())/2,\n",
    "    (mesh_full.gridCC[:, 2].min() + mesh_full.gridCC[:, 2].max())/2\n",
    "]"
   ]
  },
  {
   "cell_type": "code",
   "execution_count": 186,
   "metadata": {},
   "outputs": [],
   "source": [
    "# define the base mesh\n",
    "mesh = discretize.TreeMesh(\n",
    "    [\n",
    "        [(dx, npad_x, -pf), (dx, ncx-npad_x*2), (dx, npad_x, pf)], \n",
    "        [(dy, npad_y, -pf), (dy, ncy-npad_y*2), (dy, npad_y, pf)], \n",
    "        [(dz, npad_z, -pf), (dz, ncz-npad_z*2), (dz, npad_z, pf)]\n",
    "    ]\n",
    ")\n",
    "\n",
    "mesh.x0 = np.r_[\n",
    "    -np.sum(mesh.h[0])/2., -np.sum(mesh.h[1])/2., -np.sum(mesh.h[2])/2.\n",
    "] + mesh_full_center\n",
    "\n",
    "\n",
    "# refine around the sources and receivers\n",
    "src_refine = np.c_[src[0], src[1], src[2]]\n",
    "\n",
    "mesh = discretize.utils.refine_tree_xyz(\n",
    "    mesh, src_refine, \n",
    "    octree_levels=[2, 2, 1], method=\"radial\", finalize=False\n",
    ")\n",
    "\n",
    "mesh = discretize.utils.refine_tree_xyz(\n",
    "    mesh, rec_locs_il, \n",
    "    octree_levels=[2, 2, 1], method=\"radial\", finalize=False\n",
    ")\n",
    "\n",
    "mesh = discretize.utils.refine_tree_xyz(\n",
    "    mesh, rec_locs_bs, \n",
    "    octree_levels=[2, 2, 1], method=\"radial\", finalize=False\n",
    ")\n",
    "\n",
    "# refine around interesting surfaces\n",
    "# this is currently not the best way to do this... \n",
    "# n_batches = 10\n",
    "# n_values = np.ceil(refine_points.shape[0]/n_batches)\n",
    "# for i in range(n_batches+1): \n",
    "#     inds = np.r_[int(i*n_values), int(np.min([(i+1)*n_values, refine_points.shape[0]]))]\n",
    "#     print(i, inds)\n",
    "mesh = discretize.utils.refine_tree_xyz(\n",
    "    mesh, refine_points, \n",
    "    octree_levels=[1, 1], method=\"radial\", finalize=False\n",
    ")\n",
    "\n",
    "mesh.finalize()\n",
    "\n",
    "# return mesh"
   ]
  },
  {
   "cell_type": "code",
   "execution_count": 187,
   "metadata": {},
   "outputs": [
    {
     "data": {
      "text/html": [
       "<table>\n",
       "  <tr>\n",
       "    <td style='font-weight: bold; font-size: 1.2em; text-align: center;' colspan='3'>TensorMesh</td>\n",
       "    <td style='font-size: 1.2em; text-align: center;'colspan='4'>90,172,895 cells</td>\n",
       "  </tr>\n",
       "  <tr>\n",
       "    <th></th>\n",
       "    <th></th>\n",
       "    <th colspan='2' style='padding: 5px 20px 5px 20px;'>MESH EXTENT</th>\n",
       "    <th colspan='2' style='padding: 5px 20px 5px 20px;'>CELL WIDTH</th>\n",
       "    <th style='padding: 5px 20px 5px 20px;'>FACTOR</th>\n",
       "  </tr>\n",
       "  <tr>\n",
       "    <th style='padding: 5px 20px 5px 20px;'>dir</th>\n",
       "    <th style='padding: 5px 20px 5px 20px;'>nC</th>\n",
       "    <th style='padding: 5px 20px 5px 20px;'>min</th>\n",
       "    <th style='padding: 5px 20px 5px 20px;'>max</th>\n",
       "    <th style='padding: 5px 20px 5px 20px;'>min</th>\n",
       "    <th style='padding: 5px 20px 5px 20px;'>max</th>\n",
       "    <th style='padding: 5px 20px 5px 20px;'>max</th>\n",
       "  </tr>\n",
       "  <tr>\n",
       "    <td style='padding: 5px 20px 5px 20px;'>x</td>\n",
       "    <td style='padding: 5px 20px 5px 20px;'>515</td>\n",
       "    <td style='padding: 5px 20px 5px 20px;'>364,325.00</td>\n",
       "    <td style='padding: 5px 20px 5px 20px;'>415,825.00</td>\n",
       "    <td style='padding: 5px 20px 5px 20px;'>100.00</td>\n",
       "    <td style='padding: 5px 20px 5px 20px;'>100.00</td>\n",
       "    <td style='padding: 5px 20px 5px 20px;'>1.00</td>\n",
       "  </tr>\n",
       "  <tr>\n",
       "    <td style='padding: 5px 20px 5px 20px;'>y</td>\n",
       "    <td style='padding: 5px 20px 5px 20px;'>563</td>\n",
       "    <td style='padding: 5px 20px 5px 20px;'>7,490,049.00</td>\n",
       "    <td style='padding: 5px 20px 5px 20px;'>7,546,349.00</td>\n",
       "    <td style='padding: 5px 20px 5px 20px;'>100.00</td>\n",
       "    <td style='padding: 5px 20px 5px 20px;'>100.00</td>\n",
       "    <td style='padding: 5px 20px 5px 20px;'>1.00</td>\n",
       "  </tr>\n",
       "  <tr>\n",
       "    <td style='padding: 5px 20px 5px 20px;'>z</td>\n",
       "    <td style='padding: 5px 20px 5px 20px;'>311</td>\n",
       "    <td style='padding: 5px 20px 5px 20px;'>-6,200.00</td>\n",
       "    <td style='padding: 5px 20px 5px 20px;'>20.00</td>\n",
       "    <td style='padding: 5px 20px 5px 20px;'>20.00</td>\n",
       "    <td style='padding: 5px 20px 5px 20px;'>20.00</td>\n",
       "    <td style='padding: 5px 20px 5px 20px;'>1.00</td>\n",
       "  </tr>\n",
       "</table>\n"
      ],
      "text/plain": [
       "\n",
       "  TensorMesh: 90,172,895 cells\n",
       "\n",
       "                      MESH EXTENT             CELL WIDTH      FACTOR\n",
       "  dir    nC        min           max         min       max      max\n",
       "  ---   ---  ---------------------------  ------------------  ------\n",
       "   x    515    364,325.00    415,825.00    100.00    100.00    1.00\n",
       "   y    563  7,490,049.00  7,546,349.00    100.00    100.00    1.00\n",
       "   z    311     -6,200.00         20.00     20.00     20.00    1.00\n"
      ]
     },
     "execution_count": 187,
     "metadata": {},
     "output_type": "execute_result"
    }
   ],
   "source": [
    "mesh_full"
   ]
  },
  {
   "cell_type": "code",
   "execution_count": 188,
   "metadata": {},
   "outputs": [
    {
     "data": {
      "text/html": [
       "<table>\n",
       "<tr>\n",
       "<td style='font-weight: bold; font-size: 1.2em; text-align: center;'>OcTreeMesh</td>\n",
       "<td style='font-size: 1.2em; text-align: center;' colspan='2'>34.48% filled</td>\n",
       "</tr>\n",
       "<tr>\n",
       "<td>\n",
       "<table>\n",
       "<tr>\n",
       "<th style='padding: 5px 20px 5px 20px;'>Level</th>\n",
       "<th style='padding: 5px 20px 5px 20px;'>Number of cells</th>\n",
       "</tr>\n",
       "<tr>\n",
       "<td style='padding: 5px 20px 5px 20px;'>4</td>\n",
       "<td style='padding: 5px 20px 5px 20px;'>430</td>\n",
       "</tr>\n",
       "<tr>\n",
       "<td style='padding: 5px 20px 5px 20px;'>5</td>\n",
       "<td style='padding: 5px 20px 5px 20px;'>3362</td>\n",
       "</tr>\n",
       "<tr>\n",
       "<td style='padding: 5px 20px 5px 20px;'>6</td>\n",
       "<td style='padding: 5px 20px 5px 20px;'>36503</td>\n",
       "</tr>\n",
       "<tr>\n",
       "<td style='padding: 5px 20px 5px 20px;'>7</td>\n",
       "<td style='padding: 5px 20px 5px 20px;'>321224</td>\n",
       "</tr>\n",
       "<tr>\n",
       "<td style='font-weight: bold; padding: 5px 20px 5px 20px;'> Total </td>\n",
       "<td style='padding: 5px 20px 5px 20px;'> 361519 </td>\n",
       "</tr>\n",
       "</table>\n",
       "</td>\n",
       "<td>\n",
       "<table>\n",
       "<tr>\n",
       "<th></th>\n",
       "<th style='padding: 5px 20px 5px 20px;' colspan='2'>Mesh extent</th>\n",
       "<th style='padding: 5px 20px 5px 20px;' colspan='2'>Cell widths</th>\n",
       "</tr>\n",
       "<tr>\n",
       "<th></th>\n",
       "<th style='padding: 5px 20px 5px 20px;'>min</th>\n",
       "<th style='padding: 5px 20px 5px 20px;'>max</th>\n",
       "<th style='padding: 5px 20px 5px 20px;'>min</th>\n",
       "<th style='padding: 5px 20px 5px 20px;'>max</th>\n",
       "</tr>\n",
       "<tr>\n",
       "<td style='padding: 5px 20px 5px 20px;'>x</td>\n",
       "<td style='padding: 5px 20px 5px 20px;'>369244.476608</td>\n",
       "<td style='padding: 5px 20px 5px 20px;'>410905.523392</td>\n",
       "<td style='padding: 5px 20px 5px 20px;'>200.0</td>\n",
       "<td style='padding: 5px 20px 5px 20px;'>9630.523392000003</td>\n",
       "</tr>\n",
       "<tr>\n",
       "<td style='padding: 5px 20px 5px 20px;'>y</td>\n",
       "<td style='padding: 5px 20px 5px 20px;'>7503768.476608</td>\n",
       "<td style='padding: 5px 20px 5px 20px;'>7532629.523391999</td>\n",
       "<td style='padding: 5px 20px 5px 20px;'>200.0</td>\n",
       "<td style='padding: 5px 20px 5px 20px;'>9630.523392000236</td>\n",
       "</tr>\n",
       "<tr>\n",
       "<td style='padding: 5px 20px 5px 20px;'>z</td>\n",
       "<td style='padding: 5px 20px 5px 20px;'>-11422.209356799998</td>\n",
       "<td style='padding: 5px 20px 5px 20px;'>5242.209356799998</td>\n",
       "<td style='padding: 5px 20px 5px 20px;'>79.99999999999909</td>\n",
       "<td style='padding: 5px 20px 5px 20px;'>3852.209356799999</td>\n",
       "</tr>\n",
       "</table>\n",
       "</td>\n",
       "</tr>\n",
       "</table>\n"
      ],
      "text/plain": [
       "\n",
       "OcTreeMesh: 34.48% filled\n",
       "\n",
       "Level : Number of cells               Mesh Extent               Cell Widths    \n",
       "-----------------------           min     ,     max            min   ,   max   \n",
       "  4   :       430            ---------------------------   --------------------\n",
       "  5   :      3362         x: 369244.476608,410905.523392     200.0   , 9630.523392000003\n",
       "  6   :      36503        y: 7503768.476608,7532629.523391999     200.0   , 9630.523392000236\n",
       "  7   :     321224        z: -11422.209356799998,5242.209356799998   79.99999999999909, 3852.209356799999\n",
       "-----------------------\n",
       "Total :     361519     "
      ]
     },
     "execution_count": 188,
     "metadata": {},
     "output_type": "execute_result"
    }
   ],
   "source": [
    "mesh"
   ]
  },
  {
   "cell_type": "code",
   "execution_count": 204,
   "metadata": {},
   "outputs": [
    {
     "data": {
      "text/plain": [
       "361519"
      ]
     },
     "execution_count": 204,
     "metadata": {},
     "output_type": "execute_result"
    }
   ],
   "source": [
    "mesh.nC"
   ]
  },
  {
   "cell_type": "code",
   "execution_count": 205,
   "metadata": {},
   "outputs": [
    {
     "data": {
      "text/plain": [
       "[390275.0, 7517812.0, -849.7838, 0.0, 0.0]"
      ]
     },
     "execution_count": 205,
     "metadata": {},
     "output_type": "execute_result"
    }
   ],
   "source": [
    "src"
   ]
  },
  {
   "cell_type": "code",
   "execution_count": 206,
   "metadata": {},
   "outputs": [
    {
     "data": {
      "text/plain": [
       "[<matplotlib.lines.Line2D at 0x2ad49db0bc90>]"
      ]
     },
     "execution_count": 206,
     "metadata": {},
     "output_type": "execute_result"
    },
    {
     "data": {
      "image/png": "[encoded data removed]",
      "text/plain": [
       "<Figure size 432x288 with 1 Axes>"
      ]
     },
     "metadata": {
      "needs_background": "light"
     },
     "output_type": "display_data"
    }
   ],
   "source": [
    "fig, ax = plt.subplots(1, 1)\n",
    "mesh.plotSlice(np.log10(mesh.vol), normal='y', grid=True, ax=ax)\n",
    "# ax.set_xlim(mesh.x0[1] + np.r_[-1, 1]*domain_y)\n",
    "\n",
    "ax.set_xlim(src[0] + 400*np.r_[-1, 1])\n",
    "ax.set_ylim(np.r_[-1200, -500])\n",
    "\n",
    "ax.plot(src[0], src[2], 'ro')"
   ]
  },
  {
   "cell_type": "markdown",
   "metadata": {},
   "source": [
    "## Interpolate model from basemesh to simulation mesh"
   ]
  },
  {
   "cell_type": "code",
   "execution_count": 207,
   "metadata": {},
   "outputs": [],
   "source": [
    "interpolate_inds = (\n",
    "    (mesh.gridCC[:, 0] >= mesh_full.vectorNx.min()) & (mesh.gridCC[:, 0] <= mesh_full.vectorNx.max()) &\n",
    "    (mesh.gridCC[:, 1] >= mesh_full.vectorNy.min()) & (mesh.gridCC[:, 1] <= mesh_full.vectorNy.max()) &\n",
    "    (mesh.gridCC[:, 2] >= mesh_full.vectorNz.min()) & (mesh.gridCC[:, 2] <= mesh_full.vectorNz.max()) \n",
    ")\n",
    "P = mesh_full.getInterpolationMat(mesh.gridCC[interpolate_inds, :], \"CC\")"
   ]
  },
  {
   "cell_type": "code",
   "execution_count": 208,
   "metadata": {},
   "outputs": [],
   "source": [
    "rho_h = 1e8*np.ones(mesh.nC)\n",
    "rho_v = 1e8*np.ones(mesh.nC)\n",
    "\n",
    "rho_h[mesh.gridCC[:, 2] < 0] = res_h_full[-1, -1, 0]\n",
    "rho_v[mesh.gridCC[:, 2] < 0] = res_v_full[-1, -1, 0]"
   ]
  },
  {
   "cell_type": "code",
   "execution_count": 209,
   "metadata": {},
   "outputs": [],
   "source": [
    "rho_h[interpolate_inds] = P @ mkvc(res_h_full)\n",
    "rho_v[interpolate_inds] = P @ mkvc(res_v_full)"
   ]
  },
  {
   "cell_type": "code",
   "execution_count": 210,
   "metadata": {},
   "outputs": [
    {
     "data": {
      "image/png": "[encoded data removed]",
      "text/plain": [
       "<Figure size 864x288 with 4 Axes>"
      ]
     },
     "metadata": {
      "needs_background": "light"
     },
     "output_type": "display_data"
    }
   ],
   "source": [
    "normal = \"y\"\n",
    "fig, ax = plt.subplots(1, 2, figsize=(12, 4))\n",
    "plt.colorbar(\n",
    "    mesh.plotSlice(\n",
    "        np.log10(rho_h), normal=normal, ax=ax[0], clim=[np.log10(0.32), np.log10(2000)])[0], \n",
    "    ax=ax[0]\n",
    ")\n",
    "\n",
    "plt.colorbar(\n",
    "    mesh_full.plotSlice(\n",
    "        np.log10(mkvc(res_h_full)), normal=normal, ax=ax[1], clim=[np.log10(0.32), np.log10(2000)])[0], \n",
    "    ax=ax[1]\n",
    ")\n",
    "\n",
    "# ax.set_xlim(mesh.x0[1] + np.r_[-1, 1]*domain_y)\n",
    "for a in ax: \n",
    "    a.set_ylim(np.r_[-10000, 100])"
   ]
  },
  {
   "cell_type": "code",
   "execution_count": 211,
   "metadata": {},
   "outputs": [],
   "source": [
    "rho = np.vstack([rho_h, rho_h, rho_v]).T"
   ]
  },
  {
   "cell_type": "markdown",
   "metadata": {},
   "source": [
    "# set up the survey"
   ]
  },
  {
   "cell_type": "code",
   "execution_count": 212,
   "metadata": {},
   "outputs": [],
   "source": [
    "rx_list_e = []\n",
    "rx_list_h = []\n",
    "for rxlocs in [rec_locs_il, rec_locs_bs]:\n",
    "    for orientation in [\"x\", \"y\", \"z\"]: \n",
    "        # e-field\n",
    "        rx_list_e.append(\n",
    "            fdem.receivers.Point_e(locations=rxlocs, orientation=orientation, component=\"real\")\n",
    "        )\n",
    "        rx_list_e.append(\n",
    "                fdem.receivers.Point_e(locations=rxlocs, orientation=orientation, component=\"imag\")\n",
    "        )\n",
    "        \n",
    "        # h-field\n",
    "        rx_list_h.append(\n",
    "            fdem.receivers.Point_h(locations=rxlocs, orientation=orientation, component=\"real\")\n",
    "        )\n",
    "        rx_list_h.append(\n",
    "            fdem.receivers.Point_h(locations=rxlocs, orientation=orientation, component=\"imag\")\n",
    "        )"
   ]
  },
  {
   "cell_type": "code",
   "execution_count": 213,
   "metadata": {},
   "outputs": [],
   "source": [
    "rx_list = rx_list_e + rx_list_h"
   ]
  },
  {
   "cell_type": "code",
   "execution_count": 214,
   "metadata": {},
   "outputs": [],
   "source": [
    "Ps = mesh.getInterpolationMat(np.c_[src[0], src[1], src[2]], 'Ex')"
   ]
  },
  {
   "cell_type": "code",
   "execution_count": 215,
   "metadata": {},
   "outputs": [],
   "source": [
    "src_ex = Ps.T @ np.r_[1]"
   ]
  },
  {
   "cell_type": "code",
   "execution_count": 216,
   "metadata": {},
   "outputs": [
    {
     "data": {
      "text/plain": [
       "array([[ 3.901750e+05,  7.517799e+06, -8.500000e+02],\n",
       "       [ 3.901750e+05,  7.517799e+06, -7.700000e+02],\n",
       "       [ 3.901750e+05,  7.517999e+06, -8.500000e+02],\n",
       "       [ 3.901750e+05,  7.517999e+06, -7.700000e+02]])"
      ]
     },
     "execution_count": 216,
     "metadata": {},
     "output_type": "execute_result"
    }
   ],
   "source": [
    "mesh.gridEx[np.where(src_ex)[0], :]"
   ]
  },
  {
   "cell_type": "code",
   "execution_count": 217,
   "metadata": {},
   "outputs": [],
   "source": [
    "source_list = [\n",
    "    fdem.sources.RawVec_e(s_e=src_ex, freq=f, receiver_list=rx_list) \n",
    "    for f in freqs[:1]\n",
    "]"
   ]
  },
  {
   "cell_type": "code",
   "execution_count": 218,
   "metadata": {},
   "outputs": [],
   "source": [
    "survey = fdem.Survey(source_list)"
   ]
  },
  {
   "cell_type": "code",
   "execution_count": 219,
   "metadata": {},
   "outputs": [],
   "source": [
    "sim = fdem.simulation.Simulation3DElectricField(\n",
    "    mesh=mesh, survey=survey, solver=Pardiso, rho=rho\n",
    ")"
   ]
  },
  {
   "cell_type": "code",
   "execution_count": null,
   "metadata": {},
   "outputs": [],
   "source": [
    "%%time\n",
    "mem = %memit -o fields = sim.fields()\n",
    "ram = f\"{(mem.mem_usage[0] - mem.baseline)/1024:.3f} GiB\"\n",
    "print(f\"memory usage: {ram}\")"
   ]
  },
  {
   "cell_type": "code",
   "execution_count": null,
   "metadata": {},
   "outputs": [],
   "source": [
    "fields"
   ]
  },
  {
   "cell_type": "code",
   "execution_count": null,
   "metadata": {},
   "outputs": [],
   "source": [
    "dpred = sim.dpred(f=fields)\n"
   ]
  },
  {
   "cell_type": "code",
   "execution_count": null,
   "metadata": {},
   "outputs": [],
   "source": [
    "dpred"
   ]
  },
  {
   "cell_type": "code",
   "execution_count": null,
   "metadata": {},
   "outputs": [],
   "source": []
  }
 ],
 "metadata": {
  "kernelspec": {
   "display_name": "Python [conda env:.conda-csem3d]",
   "language": "python",
   "name": "conda-env-.conda-csem3d-py"
  },
  "language_info": {
   "codemirror_mode": {
    "name": "ipython",
    "version": 3
   },
   "file_extension": ".py",
   "mimetype": "text/x-python",
   "name": "python",
   "nbconvert_exporter": "python",
   "pygments_lexer": "ipython3",
   "version": "3.7.6"
  }
 },
 "nbformat": 4,
 "nbformat_minor": 4
}
