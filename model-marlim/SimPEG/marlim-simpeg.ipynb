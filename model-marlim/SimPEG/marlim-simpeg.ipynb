{
 "cells": [
  {
   "cell_type": "code",
   "execution_count": 1,
   "metadata": {},
   "outputs": [],
   "source": [
    "# core python libraries we rely on\n",
    "import numpy as np\n",
    "import matplotlib.pyplot as plt\n",
    "import xarray as xr\n",
    "\n",
    "# SimPEG ecosystem \n",
    "import discretize\n",
    "from discretize.utils import mkvc\n",
    "from SimPEG import Data\n",
    "from SimPEG.electromagnetics import frequency_domain as fdem\n",
    "from pymatsolver import Pardiso\n",
    "import ipywidgets\n",
    "%load_ext memory_profiler"
   ]
  },
  {
   "cell_type": "code",
   "execution_count": 2,
   "metadata": {},
   "outputs": [
    {
     "data": {
      "text/html": [
       "<table>\n",
       "  <tr>\n",
       "    <td style='font-weight: bold; font-size: 1.2em; text-align: center;' colspan='3'>TensorMesh</td>\n",
       "    <td style='font-size: 1.2em; text-align: center;'colspan='4'>90,172,895 cells</td>\n",
       "  </tr>\n",
       "  <tr>\n",
       "    <th></th>\n",
       "    <th></th>\n",
       "    <th colspan='2' style='padding: 5px 20px 5px 20px;'>MESH EXTENT</th>\n",
       "    <th colspan='2' style='padding: 5px 20px 5px 20px;'>CELL WIDTH</th>\n",
       "    <th style='padding: 5px 20px 5px 20px;'>FACTOR</th>\n",
       "  </tr>\n",
       "  <tr>\n",
       "    <th style='padding: 5px 20px 5px 20px;'>dir</th>\n",
       "    <th style='padding: 5px 20px 5px 20px;'>nC</th>\n",
       "    <th style='padding: 5px 20px 5px 20px;'>min</th>\n",
       "    <th style='padding: 5px 20px 5px 20px;'>max</th>\n",
       "    <th style='padding: 5px 20px 5px 20px;'>min</th>\n",
       "    <th style='padding: 5px 20px 5px 20px;'>max</th>\n",
       "    <th style='padding: 5px 20px 5px 20px;'>max</th>\n",
       "  </tr>\n",
       "  <tr>\n",
       "    <td style='padding: 5px 20px 5px 20px;'>x</td>\n",
       "    <td style='padding: 5px 20px 5px 20px;'>515</td>\n",
       "    <td style='padding: 5px 20px 5px 20px;'>364,325.00</td>\n",
       "    <td style='padding: 5px 20px 5px 20px;'>415,825.00</td>\n",
       "    <td style='padding: 5px 20px 5px 20px;'>100.00</td>\n",
       "    <td style='padding: 5px 20px 5px 20px;'>100.00</td>\n",
       "    <td style='padding: 5px 20px 5px 20px;'>1.00</td>\n",
       "  </tr>\n",
       "  <tr>\n",
       "    <td style='padding: 5px 20px 5px 20px;'>y</td>\n",
       "    <td style='padding: 5px 20px 5px 20px;'>563</td>\n",
       "    <td style='padding: 5px 20px 5px 20px;'>7,490,049.00</td>\n",
       "    <td style='padding: 5px 20px 5px 20px;'>7,546,349.00</td>\n",
       "    <td style='padding: 5px 20px 5px 20px;'>100.00</td>\n",
       "    <td style='padding: 5px 20px 5px 20px;'>100.00</td>\n",
       "    <td style='padding: 5px 20px 5px 20px;'>1.00</td>\n",
       "  </tr>\n",
       "  <tr>\n",
       "    <td style='padding: 5px 20px 5px 20px;'>z</td>\n",
       "    <td style='padding: 5px 20px 5px 20px;'>311</td>\n",
       "    <td style='padding: 5px 20px 5px 20px;'>-6,200.00</td>\n",
       "    <td style='padding: 5px 20px 5px 20px;'>20.00</td>\n",
       "    <td style='padding: 5px 20px 5px 20px;'>20.00</td>\n",
       "    <td style='padding: 5px 20px 5px 20px;'>20.00</td>\n",
       "    <td style='padding: 5px 20px 5px 20px;'>1.00</td>\n",
       "  </tr>\n",
       "</table>\n"
      ],
      "text/plain": [
       "\n",
       "  TensorMesh: 90,172,895 cells\n",
       "\n",
       "                      MESH EXTENT             CELL WIDTH      FACTOR\n",
       "  dir    nC        min           max         min       max      max\n",
       "  ---   ---  ---------------------------  ------------------  ------\n",
       "   x    515    364,325.00    415,825.00    100.00    100.00    1.00\n",
       "   y    563  7,490,049.00  7,546,349.00    100.00    100.00    1.00\n",
       "   z    311     -6,200.00         20.00     20.00     20.00    1.00\n"
      ]
     },
     "execution_count": 2,
     "metadata": {},
     "output_type": "execute_result"
    }
   ],
   "source": [
    "data = np.load('../marlim_comp.npz')  #  or 'marlim_orig.npz'\n",
    "tres_h = data['res_h']\n",
    "tres_v = data['res_v']\n",
    "\n",
    "# We have to add an air layer\n",
    "hz = np.r_[data['hz'], 20]\n",
    "\n",
    "mesh_full = discretize.TensorMesh(\n",
    "    [data['hx'], data['hy'], hz], x0=data['x0']\n",
    ")\n",
    "\n",
    "# Add air resistivity\n",
    "res_h_full = 1e8*np.ones(mesh_full.vnC)\n",
    "res_v_full = 1e8*np.ones(mesh_full.vnC)\n",
    "res_h_full[:, :, :-1] = tres_h\n",
    "res_v_full[:, :, :-1] = tres_v\n",
    "del data, tres_h, tres_v\n",
    "\n",
    "mesh_full"
   ]
  },
  {
   "cell_type": "code",
   "execution_count": 3,
   "metadata": {},
   "outputs": [
    {
     "data": {
      "text/plain": [
       "Text(0.5, 1.0, 'rho_v')"
      ]
     },
     "execution_count": 3,
     "metadata": {},
     "output_type": "execute_result"
    },
    {
     "data": {
      "image/png": "[encoded data removed]",
      "text/plain": [
       "<Figure size 864x288 with 2 Axes>"
      ]
     },
     "metadata": {
      "needs_background": "light"
     },
     "output_type": "display_data"
    }
   ],
   "source": [
    "fig, ax = plt.subplots(1, 2, figsize=(12, 4))\n",
    "\n",
    "histh = ax[0].hist(np.log10(mkvc(res_h_full)), 10);\n",
    "histv = ax[1].hist(np.log10(mkvc(res_v_full)), 10);\n",
    "\n",
    "# ax[0].set_xlim([-1, 1])\n",
    "# ax[1].set_xlim([-1, 1])\n",
    "\n",
    "ax[0].set_title(\"rho_h\")\n",
    "ax[1].set_title(\"rho_v\")"
   ]
  },
  {
   "cell_type": "code",
   "execution_count": 4,
   "metadata": {},
   "outputs": [
    {
     "data": {
      "text/plain": [
       "0.3199999928474426"
      ]
     },
     "execution_count": 4,
     "metadata": {},
     "output_type": "execute_result"
    }
   ],
   "source": [
    "10**histh[1][0]"
   ]
  },
  {
   "cell_type": "code",
   "execution_count": 5,
   "metadata": {},
   "outputs": [
    {
     "data": {
      "text/plain": [
       "2.262741654278355"
      ]
     },
     "execution_count": 5,
     "metadata": {},
     "output_type": "execute_result"
    }
   ],
   "source": [
    "10**histh[1][1]"
   ]
  },
  {
   "cell_type": "code",
   "execution_count": 6,
   "metadata": {},
   "outputs": [
    {
     "data": {
      "text/plain": [
       "1.9427416614309125"
      ]
     },
     "execution_count": 6,
     "metadata": {},
     "output_type": "execute_result"
    }
   ],
   "source": [
    "10**histh[1][1] - 10**histh[1][0]"
   ]
  },
  {
   "cell_type": "code",
   "execution_count": 7,
   "metadata": {},
   "outputs": [
    {
     "data": {
      "text/plain": [
       "(-0.49485003138733225, -0.49485003138733225)"
      ]
     },
     "execution_count": 7,
     "metadata": {},
     "output_type": "execute_result"
    }
   ],
   "source": [
    "np.min(np.log10(res_h_full)), np.min(np.log10(res_v_full))"
   ]
  },
  {
   "cell_type": "code",
   "execution_count": 8,
   "metadata": {},
   "outputs": [
    {
     "data": {
      "text/plain": [
       "(0.3199999928474426, 0.3199999928474426)"
      ]
     },
     "execution_count": 8,
     "metadata": {},
     "output_type": "execute_result"
    }
   ],
   "source": [
    "np.min(res_h_full), np.min(res_v_full)"
   ]
  },
  {
   "cell_type": "code",
   "execution_count": 9,
   "metadata": {},
   "outputs": [
    {
     "name": "stdout",
     "output_type": "stream",
     "text": [
      "CPU times: user 22.1 s, sys: 13.2 s, total: 35.2 s\n",
      "Wall time: 35.3 s\n"
     ]
    }
   ],
   "source": [
    "%%time\n",
    "# compute the total gradient\n",
    "dmdx_h = np.abs(mesh_full._cellGradxStencil * mkvc(res_h_full))\n",
    "dmdy_h = np.abs(mesh_full._cellGradyStencil * mkvc(res_h_full))\n",
    "dmdz_h = np.abs(mesh_full._cellGradzStencil * mkvc(res_h_full))"
   ]
  },
  {
   "cell_type": "code",
   "execution_count": 10,
   "metadata": {},
   "outputs": [
    {
     "name": "stdout",
     "output_type": "stream",
     "text": [
      "CPU times: user 20.8 s, sys: 12.9 s, total: 33.7 s\n",
      "Wall time: 33.7 s\n"
     ]
    }
   ],
   "source": [
    "%%time\n",
    "# compute the total gradient\n",
    "dmdx_v = np.abs(mesh_full._cellGradxStencil * mkvc(res_v_full))\n",
    "dmdy_v = np.abs(mesh_full._cellGradyStencil * mkvc(res_v_full))\n",
    "dmdz_v = np.abs(mesh_full._cellGradzStencil * mkvc(res_v_full))"
   ]
  },
  {
   "cell_type": "code",
   "execution_count": 11,
   "metadata": {},
   "outputs": [],
   "source": [
    "dmdx_h_nz = np.nonzero(dmdx_h)[0]\n",
    "dmdy_h_nz = np.nonzero(dmdy_h)[0]\n",
    "dmdz_h_nz = np.nonzero(dmdz_h)[0]"
   ]
  },
  {
   "cell_type": "code",
   "execution_count": 12,
   "metadata": {},
   "outputs": [],
   "source": [
    "dmdx_v_nz = np.nonzero(dmdx_v)[0]\n",
    "dmdy_v_nz = np.nonzero(dmdy_v)[0]\n",
    "dmdz_v_nz = np.nonzero(dmdz_v)[0]"
   ]
  },
  {
   "cell_type": "code",
   "execution_count": 13,
   "metadata": {},
   "outputs": [
    {
     "data": {
      "image/png": "[encoded data removed]",
      "text/plain": [
       "<Figure size 864x288 with 2 Axes>"
      ]
     },
     "metadata": {
      "needs_background": "light"
     },
     "output_type": "display_data"
    }
   ],
   "source": [
    "fig, ax = plt.subplots(1, 2, figsize=(12, 4))\n",
    "for dim, h, v in zip(\n",
    "    [\"x\", \"y\", \"z\"],\n",
    "    [dmdx_h[dmdx_h_nz], dmdy_h[dmdy_h_nz], dmdz_h[dmdz_h_nz]],\n",
    "    [dmdx_v[dmdx_v_nz], dmdy_v[dmdy_v_nz], dmdz_v[dmdz_v_nz]]\n",
    "):\n",
    "\n",
    "    ax[0].hist(np.log10(np.abs(mkvc(h))), 30, alpha=0.5);\n",
    "    ax[1].hist(np.log10(np.abs(mkvc(v))), 30, alpha=0.5);\n",
    "\n",
    "    ax[0].set_title(\"rho_h\")\n",
    "    ax[1].set_title(\"rho_v\")"
   ]
  },
  {
   "cell_type": "code",
   "execution_count": 14,
   "metadata": {},
   "outputs": [],
   "source": [
    "# average to cell centers and sum\n",
    "\n",
    "dmdh = (\n",
    "    mesh_full.aveFx2CC * dmdx_h + \n",
    "    mesh_full.aveFy2CC * dmdy_h + \n",
    "    mesh_full.aveFz2CC * dmdz_h\n",
    ")\n",
    "\n",
    "dmdv = (\n",
    "    mesh_full.aveFx2CC * dmdx_v + \n",
    "    mesh_full.aveFy2CC * dmdy_v + \n",
    "    mesh_full.aveFz2CC * dmdz_v\n",
    ")"
   ]
  },
  {
   "cell_type": "code",
   "execution_count": 15,
   "metadata": {},
   "outputs": [],
   "source": [
    "dm = dmdh + dmdv"
   ]
  },
  {
   "cell_type": "code",
   "execution_count": 16,
   "metadata": {},
   "outputs": [],
   "source": [
    "dm_nonzero = np.nonzero(dm)[0]"
   ]
  },
  {
   "cell_type": "code",
   "execution_count": 17,
   "metadata": {},
   "outputs": [
    {
     "data": {
      "text/plain": [
       "(array([8.0000000e+00, 1.8500000e+02, 3.2470000e+03, 3.0404000e+04,\n",
       "        1.2459800e+05, 2.3574100e+05, 5.3933000e+05, 3.1231820e+06,\n",
       "        5.4718920e+06, 1.3605903e+07, 7.4602590e+06, 7.8334060e+06,\n",
       "        5.6419890e+06, 1.7179740e+06, 3.6301900e+05, 1.6212700e+05,\n",
       "        2.9446200e+05, 6.2767800e+05, 4.8823100e+05, 1.2782330e+06,\n",
       "        2.9898000e+04, 0.0000000e+00, 0.0000000e+00, 0.0000000e+00,\n",
       "        0.0000000e+00, 0.0000000e+00, 0.0000000e+00, 0.0000000e+00,\n",
       "        0.0000000e+00, 5.7989000e+05]),\n",
       " array([-6.32162991, -5.84424225, -5.36685458, -4.88946692, -4.41207925,\n",
       "        -3.93469159, -3.45730393, -2.97991626, -2.5025286 , -2.02514094,\n",
       "        -1.54775327, -1.07036561, -0.59297795, -0.11559028,  0.36179738,\n",
       "         0.83918504,  1.31657271,  1.79396037,  2.27134804,  2.7487357 ,\n",
       "         3.22612336,  3.70351103,  4.18089869,  4.65828635,  5.13567402,\n",
       "         5.61306168,  6.09044934,  6.56783701,  7.04522467,  7.52261234,\n",
       "         8.        ]),\n",
       " <a list of 30 Patch objects>)"
      ]
     },
     "execution_count": 17,
     "metadata": {},
     "output_type": "execute_result"
    },
    {
     "data": {
      "image/png": "[encoded data removed]",
      "text/plain": [
       "<Figure size 432x288 with 1 Axes>"
      ]
     },
     "metadata": {
      "needs_background": "light"
     },
     "output_type": "display_data"
    }
   ],
   "source": [
    "plt.hist(np.log10(dm[dm_nonzero]), 30)"
   ]
  },
  {
   "cell_type": "code",
   "execution_count": 18,
   "metadata": {},
   "outputs": [],
   "source": [
    "threshold = 1\n",
    "significant_dm = dm >= threshold"
   ]
  },
  {
   "cell_type": "code",
   "execution_count": 19,
   "metadata": {},
   "outputs": [
    {
     "data": {
      "text/plain": [
       "5040738"
      ]
     },
     "execution_count": 19,
     "metadata": {},
     "output_type": "execute_result"
    }
   ],
   "source": [
    "significant_dm.sum()"
   ]
  },
  {
   "cell_type": "code",
   "execution_count": 20,
   "metadata": {},
   "outputs": [
    {
     "data": {
      "image/png": "[encoded data removed]",
      "text/plain": [
       "<Figure size 432x288 with 4 Axes>"
      ]
     },
     "metadata": {
      "needs_background": "light"
     },
     "output_type": "display_data"
    }
   ],
   "source": [
    "mesh_full.plot_3d_slicer(np.log10(res_h_full),  clim=[np.log10(0.32), np.log10(2000)])"
   ]
  },
  {
   "cell_type": "code",
   "execution_count": 21,
   "metadata": {},
   "outputs": [
    {
     "data": {
      "image/png": "[encoded data removed]",
      "text/plain": [
       "<Figure size 432x288 with 4 Axes>"
      ]
     },
     "metadata": {
      "needs_background": "light"
     },
     "output_type": "display_data"
    }
   ],
   "source": [
    "mesh_full.plot_3d_slicer(significant_dm)"
   ]
  },
  {
   "cell_type": "markdown",
   "metadata": {},
   "source": [
    "## load survey info"
   ]
  },
  {
   "cell_type": "code",
   "execution_count": 22,
   "metadata": {},
   "outputs": [],
   "source": [
    "ds = xr.load_dataset('../marlim_survey.nc', engine='h5netcdf')"
   ]
  },
  {
   "cell_type": "code",
   "execution_count": 23,
   "metadata": {},
   "outputs": [
    {
     "name": "stdout",
     "output_type": "stream",
     "text": [
      "True\n"
     ]
    }
   ],
   "source": [
    "# Use reciprocity: rec becomes src\n",
    "src = [\n",
    "    ds.rec_x, ds.rec_y, ds.rec_z,\n",
    "    ds.rec_theta, ds.rec_dip\n",
    "]\n",
    "\n",
    "# Use reciprocity: src becomes rec\n",
    "rec_x = ds.data_il.src_x[::2]\n",
    "rec_y_il = ds.data_il.src_y\n",
    "rec_z_il = ds.data_il.src_z\n",
    "\n",
    "# Ensure same coordinates\n",
    "print(np.allclose(rec_x, ds.data_bs.src_x[::2]))\n",
    "\n",
    "rec_y_bs = ds.data_bs.src_y\n",
    "rec_z_bs = ds.data_bs.src_z\n",
    "\n",
    "rec_locs_il = np.hstack([rec_x.data, np.ones_like(rec_x.data)*rec_y_il, rec_z_il]).T\n",
    "rec_locs_bs = np.hstack([rec_x.data, np.ones_like(rec_x.data)*rec_y_bs, rec_z_bs]).T\n",
    "\n",
    "# Frequency\n",
    "freqs = ds.freqs.values"
   ]
  },
  {
   "cell_type": "code",
   "execution_count": 24,
   "metadata": {},
   "outputs": [
    {
     "name": "stdout",
     "output_type": "stream",
     "text": [
      "<xarray.DataArray 'src_x' ()>\n",
      "array(21800., dtype=float32)\n",
      "0.0\n",
      "0.0\n",
      "432.17328\n",
      "429.44952\n",
      "-1053.3586 -623.9091\n",
      "-1034.6903 -602.517\n"
     ]
    }
   ],
   "source": [
    "print(rec_x.max() - rec_x.min())\n",
    "print(rec_y_il.max() - rec_y_il.min())\n",
    "print(rec_y_bs.max() - rec_y_bs.min())\n",
    "print(rec_z_il.max() - rec_z_il.min())\n",
    "print(rec_z_bs.max() - rec_z_bs.min())\n",
    "\n",
    "print(rec_z_bs.min(), rec_z_bs.max())\n",
    "print(rec_z_il.min(), rec_z_il.max())"
   ]
  },
  {
   "cell_type": "code",
   "execution_count": null,
   "metadata": {},
   "outputs": [],
   "source": []
  },
  {
   "cell_type": "code",
   "execution_count": 25,
   "metadata": {},
   "outputs": [],
   "source": [
    "# only refine in the core region where we are collecting data \n",
    "\n",
    "extra = 400. \n",
    "\n",
    "refine_points_core = significant_dm & (\n",
    "    (mesh_full.gridCC[:, 0] > rec_x.data.min() - extra) &\n",
    "    (mesh_full.gridCC[:, 0] < rec_x.data.max() + extra) & \n",
    "    (mesh_full.gridCC[:, 1] > rec_x.data.min()) &\n",
    "    (mesh_full.gridCC[:, 1] > rec_x.data.max())\n",
    ")\n",
    "\n",
    "refine_points = mesh_full.gridCC[refine_points_core, :]"
   ]
  },
  {
   "cell_type": "code",
   "execution_count": 26,
   "metadata": {},
   "outputs": [],
   "source": [
    "tmp = refine_points_core.nonzero()"
   ]
  },
  {
   "cell_type": "code",
   "execution_count": 27,
   "metadata": {},
   "outputs": [
    {
     "data": {
      "text/plain": [
       "(3250017,)"
      ]
     },
     "execution_count": 27,
     "metadata": {},
     "output_type": "execute_result"
    }
   ],
   "source": [
    "tmp[0].shape"
   ]
  },
  {
   "cell_type": "code",
   "execution_count": 28,
   "metadata": {},
   "outputs": [
    {
     "data": {
      "text/plain": [
       "(5040738,)"
      ]
     },
     "execution_count": 28,
     "metadata": {},
     "output_type": "execute_result"
    }
   ],
   "source": [
    "significant_dm.nonzero()[0].shape"
   ]
  },
  {
   "cell_type": "code",
   "execution_count": 29,
   "metadata": {},
   "outputs": [
    {
     "data": {
      "image/png": "[encoded data removed]",
      "text/plain": [
       "<Figure size 432x288 with 1 Axes>"
      ]
     },
     "metadata": {
      "needs_background": "light"
     },
     "output_type": "display_data"
    }
   ],
   "source": [
    "fig, ax = plt.subplots(1,1)\n",
    "ax.hist(np.log10(503/np.sqrt(freqs[0]/mkvc(res_h_full))), 50, alpha=0.5);\n",
    "ax.hist(np.log10(503/np.sqrt(freqs[0]/mkvc(res_v_full))), 50, alpha=0.5);"
   ]
  },
  {
   "cell_type": "markdown",
   "metadata": {},
   "source": [
    "## design a mesh"
   ]
  },
  {
   "cell_type": "code",
   "execution_count": 30,
   "metadata": {},
   "outputs": [
    {
     "name": "stdout",
     "output_type": "stream",
     "text": [
      "109 44 78 374088\n",
      "128 64 128 1048576\n"
     ]
    }
   ],
   "source": [
    "# use the same discretization and domain extent in each dimension\n",
    "dx, dy, dz = 200, 200, 80 \n",
    "\n",
    "domain_x = float(rec_x.max() - rec_x.min())\n",
    "domain_y = 0.4*domain_x \n",
    "domain_z = refine_points[:, 2].max() - refine_points[:, 2].min()\n",
    "\n",
    "ncore_x = int(np.ceil(domain_x/dx))\n",
    "ncore_y = int(np.ceil(domain_y/dy))\n",
    "ncore_z = int(np.ceil(domain_z/dz))\n",
    "\n",
    "print(ncore_x, ncore_y, ncore_z, ncore_x*ncore_y*ncore_z)\n",
    "\n",
    "npad_x = 8\n",
    "npad_y = 8\n",
    "npad_z = 8\n",
    "\n",
    "ncx = 2**int(np.ceil(np.log(ncore_x + npad_x*2)/np.log(2.)))\n",
    "ncy = 2**int(np.ceil(np.log(ncore_y + npad_y*2)/np.log(2.)))\n",
    "ncz = 2**int(np.ceil(np.log(ncore_z + npad_z*2)/np.log(2.)))\n",
    "\n",
    "print(ncx, ncy, ncz, ncx*ncy*ncz)\n",
    "\n",
    "pf = 1.4\n"
   ]
  },
  {
   "cell_type": "code",
   "execution_count": 31,
   "metadata": {},
   "outputs": [
    {
     "data": {
      "text/plain": [
       "array([ 3.643250e+05,  7.490049e+06, -6.200000e+03])"
      ]
     },
     "execution_count": 31,
     "metadata": {},
     "output_type": "execute_result"
    }
   ],
   "source": [
    "mesh_full.x0"
   ]
  },
  {
   "cell_type": "code",
   "execution_count": 32,
   "metadata": {},
   "outputs": [],
   "source": [
    "mesh_full_center = np.r_[\n",
    "    (mesh_full.gridCC[:, 0].min() + mesh_full.gridCC[:, 0].max())/2,\n",
    "    (mesh_full.gridCC[:, 1].min() + mesh_full.gridCC[:, 1].max())/2,\n",
    "    (mesh_full.gridCC[:, 2].min() + mesh_full.gridCC[:, 2].max())/2\n",
    "]"
   ]
  },
  {
   "cell_type": "code",
   "execution_count": 33,
   "metadata": {},
   "outputs": [
    {
     "ename": "IndexError",
     "evalue": "Out of bounds on buffer access (axis 0)",
     "output_type": "error",
     "traceback": [
      "\u001b[0;31m---------------------------------------------------------------------------\u001b[0m",
      "\u001b[0;31mIndexError\u001b[0m                                Traceback (most recent call last)",
      "\u001b[0;32m<ipython-input-33-53bc98b179c1>\u001b[0m in \u001b[0;36m<module>\u001b[0;34m\u001b[0m\n\u001b[1;32m     23\u001b[0m mesh = discretize.utils.refine_tree_xyz(\n\u001b[1;32m     24\u001b[0m     \u001b[0mmesh\u001b[0m\u001b[0;34m,\u001b[0m \u001b[0mrec_locs_il\u001b[0m\u001b[0;34m,\u001b[0m\u001b[0;34m\u001b[0m\u001b[0;34m\u001b[0m\u001b[0m\n\u001b[0;32m---> 25\u001b[0;31m     \u001b[0moctree_levels\u001b[0m\u001b[0;34m=\u001b[0m\u001b[0;34m[\u001b[0m\u001b[0;36m2\u001b[0m\u001b[0;34m,\u001b[0m \u001b[0;36m2\u001b[0m\u001b[0;34m,\u001b[0m \u001b[0;36m1\u001b[0m\u001b[0;34m]\u001b[0m\u001b[0;34m,\u001b[0m \u001b[0mmethod\u001b[0m\u001b[0;34m=\u001b[0m\u001b[0;34m\"radial\"\u001b[0m\u001b[0;34m,\u001b[0m \u001b[0mfinalize\u001b[0m\u001b[0;34m=\u001b[0m\u001b[0;32mFalse\u001b[0m\u001b[0;34m\u001b[0m\u001b[0;34m\u001b[0m\u001b[0m\n\u001b[0m\u001b[1;32m     26\u001b[0m )\n\u001b[1;32m     27\u001b[0m \u001b[0;34m\u001b[0m\u001b[0m\n",
      "\u001b[0;32m~/.conda/envs/csem3d/lib/python3.7/site-packages/discretize/utils/meshutils.py\u001b[0m in \u001b[0;36mrefine_tree_xyz\u001b[0;34m(mesh, xyz, method, octree_levels, octree_levels_padding, finalize, min_level, max_distance)\u001b[0m\n\u001b[1;32m    529\u001b[0m         \u001b[0mxyz\u001b[0m\u001b[0;34m,\u001b[0m\u001b[0;34m\u001b[0m\u001b[0;34m\u001b[0m\u001b[0m\n\u001b[1;32m    530\u001b[0m         \u001b[0;34m[\u001b[0m\u001b[0mmesh\u001b[0m\u001b[0;34m.\u001b[0m\u001b[0mmax_level\u001b[0m \u001b[0;34m-\u001b[0m \u001b[0mnp\u001b[0m\u001b[0;34m.\u001b[0m\u001b[0mnonzero\u001b[0m\u001b[0;34m(\u001b[0m\u001b[0moctree_levels\u001b[0m\u001b[0;34m)\u001b[0m\u001b[0;34m[\u001b[0m\u001b[0;36m0\u001b[0m\u001b[0;34m]\u001b[0m\u001b[0;34m[\u001b[0m\u001b[0;36m0\u001b[0m\u001b[0;34m]\u001b[0m\u001b[0;34m]\u001b[0m\u001b[0;34m*\u001b[0m\u001b[0mxyz\u001b[0m\u001b[0;34m.\u001b[0m\u001b[0mshape\u001b[0m\u001b[0;34m[\u001b[0m\u001b[0;36m0\u001b[0m\u001b[0;34m]\u001b[0m\u001b[0;34m,\u001b[0m\u001b[0;34m\u001b[0m\u001b[0;34m\u001b[0m\u001b[0m\n\u001b[0;32m--> 531\u001b[0;31m         \u001b[0mfinalize\u001b[0m\u001b[0;34m=\u001b[0m\u001b[0;32mFalse\u001b[0m\u001b[0;34m\u001b[0m\u001b[0;34m\u001b[0m\u001b[0m\n\u001b[0m\u001b[1;32m    532\u001b[0m     )\n\u001b[1;32m    533\u001b[0m \u001b[0;34m\u001b[0m\u001b[0m\n",
      "\u001b[0;32mdiscretize/tree_ext.pyx\u001b[0m in \u001b[0;36mdiscretize.tree_ext._TreeMesh.insert_cells\u001b[0;34m()\u001b[0m\n",
      "\u001b[0;31mIndexError\u001b[0m: Out of bounds on buffer access (axis 0)"
     ]
    }
   ],
   "source": [
    "# define the base mesh\n",
    "mesh = discretize.TreeMesh(\n",
    "    [\n",
    "        [(dx, npad_x, -pf), (dx, ncx-npad_x*2), (dx, npad_x, pf)], \n",
    "        [(dy, npad_y, -pf), (dy, ncy-npad_y*2), (dy, npad_y, pf)], \n",
    "        [(dz, npad_z, -pf), (dz, ncz-npad_z*2), (dz, npad_z, pf)]\n",
    "    ]\n",
    ")\n",
    "\n",
    "mesh.x0 = np.r_[\n",
    "    -np.sum(mesh.h[0])/2., -np.sum(mesh.h[1])/2., -np.sum(mesh.h[2])/2.\n",
    "] + mesh_full_center\n",
    "\n",
    "\n",
    "# refine around the sources and receivers\n",
    "src_refine = np.c_[src[0], src[1], src[2]]\n",
    "\n",
    "mesh = discretize.utils.refine_tree_xyz(\n",
    "    mesh, src_refine, \n",
    "    octree_levels=[2, 2, 1], method=\"radial\", finalize=False\n",
    ")\n",
    "\n",
    "mesh = discretize.utils.refine_tree_xyz(\n",
    "    mesh, rec_locs_il, \n",
    "    octree_levels=[2, 2, 1], method=\"radial\", finalize=False\n",
    ")\n",
    "\n",
    "mesh = discretize.utils.refine_tree_xyz(\n",
    "    mesh, rec_locs_bs, \n",
    "    octree_levels=[2, 2, 1], method=\"radial\", finalize=False\n",
    ")\n",
    "\n",
    "# refine around interesting surfaces\n",
    "# this is currently not the best way to do this... \n",
    "# n_batches = 10\n",
    "# n_values = np.ceil(refine_points.shape[0]/n_batches)\n",
    "# for i in range(n_batches+1): \n",
    "#     inds = np.r_[int(i*n_values), int(np.min([(i+1)*n_values, refine_points.shape[0]]))]\n",
    "#     print(i, inds)\n",
    "mesh = discretize.utils.refine_tree_xyz(\n",
    "    mesh, refine_points, \n",
    "    octree_levels=[1, 1], method=\"radial\", finalize=False\n",
    ")\n",
    "\n",
    "mesh.finalize()\n",
    "\n",
    "# return mesh"
   ]
  },
  {
   "cell_type": "code",
   "execution_count": 34,
   "metadata": {},
   "outputs": [
    {
     "data": {
      "text/html": [
       "<table>\n",
       "  <tr>\n",
       "    <td style='font-weight: bold; font-size: 1.2em; text-align: center;' colspan='3'>TensorMesh</td>\n",
       "    <td style='font-size: 1.2em; text-align: center;'colspan='4'>90,172,895 cells</td>\n",
       "  </tr>\n",
       "  <tr>\n",
       "    <th></th>\n",
       "    <th></th>\n",
       "    <th colspan='2' style='padding: 5px 20px 5px 20px;'>MESH EXTENT</th>\n",
       "    <th colspan='2' style='padding: 5px 20px 5px 20px;'>CELL WIDTH</th>\n",
       "    <th style='padding: 5px 20px 5px 20px;'>FACTOR</th>\n",
       "  </tr>\n",
       "  <tr>\n",
       "    <th style='padding: 5px 20px 5px 20px;'>dir</th>\n",
       "    <th style='padding: 5px 20px 5px 20px;'>nC</th>\n",
       "    <th style='padding: 5px 20px 5px 20px;'>min</th>\n",
       "    <th style='padding: 5px 20px 5px 20px;'>max</th>\n",
       "    <th style='padding: 5px 20px 5px 20px;'>min</th>\n",
       "    <th style='padding: 5px 20px 5px 20px;'>max</th>\n",
       "    <th style='padding: 5px 20px 5px 20px;'>max</th>\n",
       "  </tr>\n",
       "  <tr>\n",
       "    <td style='padding: 5px 20px 5px 20px;'>x</td>\n",
       "    <td style='padding: 5px 20px 5px 20px;'>515</td>\n",
       "    <td style='padding: 5px 20px 5px 20px;'>364,325.00</td>\n",
       "    <td style='padding: 5px 20px 5px 20px;'>415,825.00</td>\n",
       "    <td style='padding: 5px 20px 5px 20px;'>100.00</td>\n",
       "    <td style='padding: 5px 20px 5px 20px;'>100.00</td>\n",
       "    <td style='padding: 5px 20px 5px 20px;'>1.00</td>\n",
       "  </tr>\n",
       "  <tr>\n",
       "    <td style='padding: 5px 20px 5px 20px;'>y</td>\n",
       "    <td style='padding: 5px 20px 5px 20px;'>563</td>\n",
       "    <td style='padding: 5px 20px 5px 20px;'>7,490,049.00</td>\n",
       "    <td style='padding: 5px 20px 5px 20px;'>7,546,349.00</td>\n",
       "    <td style='padding: 5px 20px 5px 20px;'>100.00</td>\n",
       "    <td style='padding: 5px 20px 5px 20px;'>100.00</td>\n",
       "    <td style='padding: 5px 20px 5px 20px;'>1.00</td>\n",
       "  </tr>\n",
       "  <tr>\n",
       "    <td style='padding: 5px 20px 5px 20px;'>z</td>\n",
       "    <td style='padding: 5px 20px 5px 20px;'>311</td>\n",
       "    <td style='padding: 5px 20px 5px 20px;'>-6,200.00</td>\n",
       "    <td style='padding: 5px 20px 5px 20px;'>20.00</td>\n",
       "    <td style='padding: 5px 20px 5px 20px;'>20.00</td>\n",
       "    <td style='padding: 5px 20px 5px 20px;'>20.00</td>\n",
       "    <td style='padding: 5px 20px 5px 20px;'>1.00</td>\n",
       "  </tr>\n",
       "</table>\n"
      ],
      "text/plain": [
       "\n",
       "  TensorMesh: 90,172,895 cells\n",
       "\n",
       "                      MESH EXTENT             CELL WIDTH      FACTOR\n",
       "  dir    nC        min           max         min       max      max\n",
       "  ---   ---  ---------------------------  ------------------  ------\n",
       "   x    515    364,325.00    415,825.00    100.00    100.00    1.00\n",
       "   y    563  7,490,049.00  7,546,349.00    100.00    100.00    1.00\n",
       "   z    311     -6,200.00         20.00     20.00     20.00    1.00\n"
      ]
     },
     "execution_count": 34,
     "metadata": {},
     "output_type": "execute_result"
    }
   ],
   "source": [
    "mesh_full"
   ]
  },
  {
   "cell_type": "code",
   "execution_count": 37,
   "metadata": {},
   "outputs": [
    {
     "data": {
      "text/plain": [
       "array([ 3.79375000e+05,  3.79475000e+05,  3.79575000e+05,  3.79675000e+05,\n",
       "        3.79775000e+05,  3.79875000e+05,  3.79975000e+05,  3.80075000e+05,\n",
       "        3.80175000e+05,  3.80275000e+05,  3.80375000e+05,  3.80475000e+05,\n",
       "        3.80575000e+05,  3.80675000e+05,  3.80775000e+05,  3.80875000e+05,\n",
       "        3.80975000e+05,  3.81075000e+05,  3.81175000e+05,  3.81275000e+05,\n",
       "        3.81375000e+05,  3.81475000e+05,  3.81575000e+05,  3.81675000e+05,\n",
       "        3.81775000e+05,  3.81875000e+05,  3.81975000e+05,  3.82075000e+05,\n",
       "        3.82175000e+05,  3.82275000e+05,  3.82375000e+05,  3.82475000e+05,\n",
       "        3.82575000e+05,  3.82675000e+05,  3.82775000e+05,  3.82875000e+05,\n",
       "        3.82975000e+05,  3.83075000e+05,  3.83175000e+05,  3.83275000e+05,\n",
       "        3.83375000e+05,  3.83475000e+05,  3.83575000e+05,  3.83675000e+05,\n",
       "        3.83775000e+05,  3.83875000e+05,  3.83975000e+05,  3.84075000e+05,\n",
       "        3.84175000e+05,  3.84275000e+05,  3.84375000e+05,  3.84475000e+05,\n",
       "        3.84575000e+05,  3.84675000e+05,  3.84775000e+05,  3.84875000e+05,\n",
       "        3.84975000e+05,  3.85075000e+05,  3.85175000e+05,  3.85275000e+05,\n",
       "        3.85375000e+05,  3.85475000e+05,  3.85575000e+05,  3.85675000e+05,\n",
       "        3.85775000e+05,  3.85875000e+05,  3.85975000e+05,  3.86075000e+05,\n",
       "        3.86175000e+05,  3.86275000e+05,  3.86375000e+05,  3.86475000e+05,\n",
       "        3.86575000e+05,  3.86675000e+05,  3.86775000e+05,  3.86875000e+05,\n",
       "        3.86975000e+05,  3.87075000e+05,  3.87175000e+05,  3.87275000e+05,\n",
       "        3.87375000e+05,  3.87475000e+05,  3.87575000e+05,  3.87675000e+05,\n",
       "        3.87775000e+05,  3.87875000e+05,  3.87975000e+05,  3.88075000e+05,\n",
       "        3.88175000e+05,  3.88275000e+05,  3.88375000e+05,  3.88475000e+05,\n",
       "        3.88575000e+05,  3.88675000e+05,  3.88775000e+05,  3.88875000e+05,\n",
       "        3.88975000e+05,  3.89075000e+05,  3.89175000e+05,  3.89275000e+05,\n",
       "        3.89375000e+05,  3.89475000e+05,  3.91075000e+05,  3.91175000e+05,\n",
       "        3.91275000e+05,  3.91375000e+05,  3.91475000e+05,  3.91575000e+05,\n",
       "        3.91675000e+05,  3.91775000e+05,  3.91875000e+05,  3.91975000e+05,\n",
       "        3.92075000e+05,  3.92175000e+05,  3.92275000e+05,  3.92375000e+05,\n",
       "        3.92475000e+05,  3.92575000e+05,  3.92675000e+05,  3.92775000e+05,\n",
       "        3.92875000e+05,  3.92975000e+05,  3.93075000e+05,  3.93175000e+05,\n",
       "        3.93275000e+05,  3.93375000e+05,  3.93475000e+05,  3.93575000e+05,\n",
       "        3.93675000e+05,  3.93775000e+05,  3.93875000e+05,  3.93975000e+05,\n",
       "        3.94075000e+05,  3.94175000e+05,  3.94275000e+05,  3.94375000e+05,\n",
       "        3.94475000e+05,  3.94575000e+05,  3.94675000e+05,  3.94775000e+05,\n",
       "        3.94875000e+05,  3.94975000e+05,  3.95075000e+05,  3.95175000e+05,\n",
       "        3.95275000e+05,  3.95375000e+05,  3.95475000e+05,  3.95575000e+05,\n",
       "        3.95675000e+05,  3.95775000e+05,  3.95875000e+05,  3.95975000e+05,\n",
       "        3.96075000e+05,  3.96175000e+05,  3.96275000e+05,  3.96375000e+05,\n",
       "        3.96475000e+05,  3.96575000e+05,  3.96675000e+05,  3.96775000e+05,\n",
       "        3.96875000e+05,  3.96975000e+05,  3.97075000e+05,  3.97175000e+05,\n",
       "        3.97275000e+05,  3.97375000e+05,  3.97475000e+05,  3.97575000e+05,\n",
       "        3.97675000e+05,  3.97775000e+05,  3.97875000e+05,  3.97975000e+05,\n",
       "        3.98075000e+05,  3.98175000e+05,  3.98275000e+05,  3.98375000e+05,\n",
       "        3.98475000e+05,  3.98575000e+05,  3.98675000e+05,  3.98775000e+05,\n",
       "        3.98875000e+05,  3.98975000e+05,  3.99075000e+05,  3.99175000e+05,\n",
       "        3.99275000e+05,  3.99375000e+05,  3.99475000e+05,  3.99575000e+05,\n",
       "        3.99675000e+05,  3.99775000e+05,  3.99875000e+05,  3.99975000e+05,\n",
       "        4.00075000e+05,  4.00175000e+05,  4.00275000e+05,  4.00375000e+05,\n",
       "        4.00475000e+05,  4.00575000e+05,  4.00675000e+05,  4.00775000e+05,\n",
       "        4.00875000e+05,  4.00975000e+05,  4.01075000e+05,  4.01175000e+05,\n",
       "        7.51781200e+06,  7.51781200e+06,  7.51781200e+06,  7.51781200e+06,\n",
       "        7.51781200e+06,  7.51781200e+06,  7.51781200e+06,  7.51781200e+06,\n",
       "        7.51781200e+06,  7.51781200e+06,  7.51781200e+06,  7.51781200e+06,\n",
       "        7.51781200e+06,  7.51781200e+06,  7.51781200e+06,  7.51781200e+06,\n",
       "        7.51781200e+06,  7.51781200e+06,  7.51781200e+06,  7.51781200e+06,\n",
       "        7.51781200e+06,  7.51781200e+06,  7.51781200e+06,  7.51781200e+06,\n",
       "        7.51781200e+06,  7.51781200e+06,  7.51781200e+06,  7.51781200e+06,\n",
       "        7.51781200e+06,  7.51781200e+06,  7.51781200e+06,  7.51781200e+06,\n",
       "        7.51781200e+06,  7.51781200e+06,  7.51781200e+06,  7.51781200e+06,\n",
       "        7.51781200e+06,  7.51781200e+06,  7.51781200e+06,  7.51781200e+06,\n",
       "        7.51781200e+06,  7.51781200e+06,  7.51781200e+06,  7.51781200e+06,\n",
       "        7.51781200e+06,  7.51781200e+06,  7.51781200e+06,  7.51781200e+06,\n",
       "        7.51781200e+06,  7.51781200e+06,  7.51781200e+06,  7.51781200e+06,\n",
       "        7.51781200e+06,  7.51781200e+06,  7.51781200e+06,  7.51781200e+06,\n",
       "        7.51781200e+06,  7.51781200e+06,  7.51781200e+06,  7.51781200e+06,\n",
       "        7.51781200e+06,  7.51781200e+06,  7.51781200e+06,  7.51781200e+06,\n",
       "        7.51781200e+06,  7.51781200e+06,  7.51781200e+06,  7.51781200e+06,\n",
       "        7.51781200e+06,  7.51781200e+06,  7.51781200e+06,  7.51781200e+06,\n",
       "        7.51781200e+06,  7.51781200e+06,  7.51781200e+06,  7.51781200e+06,\n",
       "        7.51781200e+06,  7.51781200e+06,  7.51781200e+06,  7.51781200e+06,\n",
       "        7.51781200e+06,  7.51781200e+06,  7.51781200e+06,  7.51781200e+06,\n",
       "        7.51781200e+06,  7.51781200e+06,  7.51781200e+06,  7.51781200e+06,\n",
       "        7.51781200e+06,  7.51781200e+06,  7.51781200e+06,  7.51781200e+06,\n",
       "        7.51781200e+06,  7.51781200e+06,  7.51781200e+06,  7.51781200e+06,\n",
       "        7.51781200e+06,  7.51781200e+06,  7.51781200e+06,  7.51781200e+06,\n",
       "        7.51781200e+06,  7.51781200e+06,  7.51781200e+06,  7.51781200e+06,\n",
       "        7.51781200e+06,  7.51781200e+06,  7.51781200e+06,  7.51781200e+06,\n",
       "        7.51781200e+06,  7.51781200e+06,  7.51781200e+06,  7.51781200e+06,\n",
       "        7.51781200e+06,  7.51781200e+06,  7.51781200e+06,  7.51781200e+06,\n",
       "        7.51781200e+06,  7.51781200e+06,  7.51781200e+06,  7.51781200e+06,\n",
       "        7.51781200e+06,  7.51781200e+06,  7.51781200e+06,  7.51781200e+06,\n",
       "        7.51781200e+06,  7.51781200e+06,  7.51781200e+06,  7.51781200e+06,\n",
       "        7.51781200e+06,  7.51781200e+06,  7.51781200e+06,  7.51781200e+06,\n",
       "        7.51781200e+06,  7.51781200e+06,  7.51781200e+06,  7.51781200e+06,\n",
       "        7.51781200e+06,  7.51781200e+06,  7.51781200e+06,  7.51781200e+06,\n",
       "        7.51781200e+06,  7.51781200e+06,  7.51781200e+06,  7.51781200e+06,\n",
       "        7.51781200e+06,  7.51781200e+06,  7.51781200e+06,  7.51781200e+06,\n",
       "        7.51781200e+06,  7.51781200e+06,  7.51781200e+06,  7.51781200e+06,\n",
       "        7.51781200e+06,  7.51781200e+06,  7.51781200e+06,  7.51781200e+06,\n",
       "        7.51781200e+06,  7.51781200e+06,  7.51781200e+06,  7.51781200e+06,\n",
       "        7.51781200e+06,  7.51781200e+06,  7.51781200e+06,  7.51781200e+06,\n",
       "        7.51781200e+06,  7.51781200e+06,  7.51781200e+06,  7.51781200e+06,\n",
       "        7.51781200e+06,  7.51781200e+06,  7.51781200e+06,  7.51781200e+06,\n",
       "        7.51781200e+06,  7.51781200e+06,  7.51781200e+06,  7.51781200e+06,\n",
       "        7.51781200e+06,  7.51781200e+06,  7.51781200e+06,  7.51781200e+06,\n",
       "        7.51781200e+06,  7.51781200e+06,  7.51781200e+06,  7.51781200e+06,\n",
       "        7.51781200e+06,  7.51781200e+06,  7.51781200e+06,  7.51781200e+06,\n",
       "        7.51781200e+06,  7.51781200e+06,  7.51781200e+06,  7.51781200e+06,\n",
       "        7.51781200e+06,  7.51781200e+06,  7.51781200e+06,  7.51781200e+06,\n",
       "        7.51781200e+06,  7.51781200e+06,  7.51781200e+06,  7.51781200e+06,\n",
       "        7.51781200e+06,  7.51781200e+06,  7.51781200e+06,  7.51781200e+06,\n",
       "       -6.02517029e+02, -6.04248657e+02, -6.05948120e+02, -6.07658447e+02,\n",
       "       -6.09439636e+02, -6.11303162e+02, -6.13183960e+02, -6.15019775e+02,\n",
       "       -6.16750854e+02, -6.18287964e+02, -6.19613220e+02, -6.20772949e+02,\n",
       "       -6.21836853e+02, -6.22907288e+02, -6.24117004e+02, -6.25491821e+02,\n",
       "       -6.27003113e+02, -6.28613708e+02, -6.30316650e+02, -6.32121704e+02,\n",
       "       -6.34004700e+02, -6.35928833e+02, -6.37853638e+02, -6.39742615e+02,\n",
       "       -6.41563538e+02, -6.43309998e+02, -6.44996948e+02, -6.46638367e+02,\n",
       "       -6.48246155e+02, -6.49838562e+02, -6.51433289e+02, -6.53044312e+02,\n",
       "       -6.54686523e+02, -6.56389160e+02, -6.58190613e+02, -6.60104370e+02,\n",
       "       -6.62099426e+02, -6.64114197e+02, -6.66058472e+02, -6.67832397e+02,\n",
       "       -6.69462524e+02, -6.71001099e+02, -6.72480408e+02, -6.73924988e+02,\n",
       "       -6.75362305e+02, -6.76828430e+02, -6.78355225e+02, -6.79968750e+02,\n",
       "       -6.81700195e+02, -6.83576660e+02, -6.85589661e+02, -6.87697510e+02,\n",
       "       -6.89859253e+02, -6.92047241e+02, -6.94237427e+02, -6.96405762e+02,\n",
       "       -6.98530945e+02, -7.00600586e+02, -7.02611938e+02, -7.04560608e+02,\n",
       "       -7.06440918e+02, -7.08251587e+02, -7.09998840e+02, -7.11698486e+02,\n",
       "       -7.13373230e+02, -7.15033386e+02, -7.16683716e+02, -7.18330872e+02,\n",
       "       -7.19997253e+02, -7.21714172e+02, -7.23482849e+02, -7.25293091e+02,\n",
       "       -7.27127014e+02, -7.28962219e+02, -7.30778259e+02, -7.32572327e+02,\n",
       "       -7.34361572e+02, -7.36169067e+02, -7.38011902e+02, -7.39911316e+02,\n",
       "       -7.41871887e+02, -7.43874695e+02, -7.45900757e+02, -7.47937744e+02,\n",
       "       -7.49968445e+02, -7.51988098e+02, -7.53999390e+02, -7.56008057e+02,\n",
       "       -7.58033203e+02, -7.60105652e+02, -7.62204346e+02, -7.64311035e+02,\n",
       "       -7.66423157e+02, -7.68543213e+02, -7.70669678e+02, -7.72789917e+02,\n",
       "       -7.74886841e+02, -7.76943054e+02, -7.78946533e+02, -7.80892700e+02,\n",
       "       -7.82791321e+02, -7.84660889e+02, -8.15693359e+02, -8.17999023e+02,\n",
       "       -8.20393066e+02, -8.22847595e+02, -8.25319580e+02, -8.27761230e+02,\n",
       "       -8.30129456e+02, -8.32388916e+02, -8.34531677e+02, -8.36562012e+02,\n",
       "       -8.38486511e+02, -8.40323486e+02, -8.42096375e+02, -8.43826477e+02,\n",
       "       -8.45535156e+02, -8.47239441e+02, -8.48958191e+02, -8.50715881e+02,\n",
       "       -8.52511108e+02, -8.54327209e+02, -8.56149658e+02, -8.57981079e+02,\n",
       "       -8.59827271e+02, -8.61707275e+02, -8.63630127e+02, -8.65589661e+02,\n",
       "       -8.67568726e+02, -8.69543884e+02, -8.71519043e+02, -8.73517700e+02,\n",
       "       -8.75560730e+02, -8.77623291e+02, -8.79653992e+02, -8.81613159e+02,\n",
       "       -8.83513306e+02, -8.85381531e+02, -8.87229675e+02, -8.89077820e+02,\n",
       "       -8.90964905e+02, -8.92955811e+02, -8.95114624e+02, -8.97391113e+02,\n",
       "       -8.99701111e+02, -9.02017151e+02, -9.04331482e+02, -9.06626099e+02,\n",
       "       -9.08846863e+02, -9.10922058e+02, -9.12873474e+02, -9.14770996e+02,\n",
       "       -9.16684082e+02, -9.18641785e+02, -9.20633423e+02, -9.22656250e+02,\n",
       "       -9.24701904e+02, -9.26747192e+02, -9.28768860e+02, -9.30749390e+02,\n",
       "       -9.32671021e+02, -9.34513123e+02, -9.36261108e+02, -9.37952881e+02,\n",
       "       -9.39643066e+02, -9.41368530e+02, -9.43146667e+02, -9.44985840e+02,\n",
       "       -9.46894348e+02, -9.48876404e+02, -9.50911011e+02, -9.52958008e+02,\n",
       "       -9.54977417e+02, -9.56957397e+02, -9.58900146e+02, -9.60836548e+02,\n",
       "       -9.62804382e+02, -9.64838623e+02, -9.66971619e+02, -9.69232666e+02,\n",
       "       -9.71611511e+02, -9.74078125e+02, -9.76593628e+02, -9.79130859e+02,\n",
       "       -9.81668457e+02, -9.84194824e+02, -9.86731323e+02, -9.89313965e+02,\n",
       "       -9.91966797e+02, -9.94705566e+02, -9.97524536e+02, -1.00038867e+03,\n",
       "       -1.00325781e+03, -1.00609973e+03, -1.00886731e+03, -1.01155347e+03,\n",
       "       -1.01418787e+03, -1.01681738e+03, -1.01951562e+03, -1.02238184e+03,\n",
       "       -1.02538220e+03, -1.02845740e+03, -1.03156689e+03, -1.03469031e+03],\n",
       "      dtype=float32)"
      ]
     },
     "execution_count": 37,
     "metadata": {},
     "output_type": "execute_result"
    }
   ],
   "source": [
    "rec_locs_il"
   ]
  },
  {
   "cell_type": "code",
   "execution_count": 36,
   "metadata": {},
   "outputs": [
    {
     "data": {
      "text/plain": [
       "array([ 369244.476608 , 7503768.476608 ,  -11422.2093568])"
      ]
     },
     "execution_count": 36,
     "metadata": {},
     "output_type": "execute_result"
    }
   ],
   "source": [
    "mesh.x0"
   ]
  },
  {
   "cell_type": "code",
   "execution_count": null,
   "metadata": {},
   "outputs": [],
   "source": [
    "mesh.save(\"./simpeg-marlim-mesh.json\")"
   ]
  },
  {
   "cell_type": "code",
   "execution_count": null,
   "metadata": {},
   "outputs": [],
   "source": [
    "fig, ax = plt.subplots(1, 1)\n",
    "mesh.plotSlice(np.log10(mesh.vol), normal='y', grid=True, ax=ax)\n",
    "# ax.set_xlim(mesh.x0[1] + np.r_[-1, 1]*domain_y)\n",
    "\n",
    "ax.set_xlim(src[0] + 400*np.r_[-1, 1])\n",
    "ax.set_ylim(np.r_[-1200, -500])\n",
    "\n",
    "ax.plot(src[0], src[2], 'ro')"
   ]
  },
  {
   "cell_type": "markdown",
   "metadata": {},
   "source": [
    "## Interpolate model from basemesh to simulation mesh"
   ]
  },
  {
   "cell_type": "code",
   "execution_count": null,
   "metadata": {},
   "outputs": [],
   "source": [
    "interpolate_inds = (\n",
    "    (mesh.gridCC[:, 0] >= mesh_full.vectorNx.min()) & (mesh.gridCC[:, 0] <= mesh_full.vectorNx.max()) &\n",
    "    (mesh.gridCC[:, 1] >= mesh_full.vectorNy.min()) & (mesh.gridCC[:, 1] <= mesh_full.vectorNy.max()) &\n",
    "    (mesh.gridCC[:, 2] >= mesh_full.vectorNz.min()) & (mesh.gridCC[:, 2] <= mesh_full.vectorNz.max()) \n",
    ")\n",
    "P = mesh_full.getInterpolationMat(mesh.gridCC[interpolate_inds, :], \"CC\")"
   ]
  },
  {
   "cell_type": "code",
   "execution_count": null,
   "metadata": {},
   "outputs": [],
   "source": [
    "rho_h = 1e8*np.ones(mesh.nC)\n",
    "rho_v = 1e8*np.ones(mesh.nC)\n",
    "\n",
    "rho_h[mesh.gridCC[:, 2] < 0] = res_h_full[-1, -1, 0]\n",
    "rho_v[mesh.gridCC[:, 2] < 0] = res_v_full[-1, -1, 0]"
   ]
  },
  {
   "cell_type": "code",
   "execution_count": null,
   "metadata": {},
   "outputs": [],
   "source": [
    "rho_h[interpolate_inds] = P @ mkvc(res_h_full)\n",
    "rho_v[interpolate_inds] = P @ mkvc(res_v_full)"
   ]
  },
  {
   "cell_type": "code",
   "execution_count": null,
   "metadata": {},
   "outputs": [],
   "source": [
    "normal = \"y\"\n",
    "fig, ax = plt.subplots(1, 2, figsize=(12, 4))\n",
    "plt.colorbar(\n",
    "    mesh.plotSlice(\n",
    "        np.log10(rho_h), normal=normal, ax=ax[0], clim=[np.log10(0.32), np.log10(2000)])[0], \n",
    "    ax=ax[0]\n",
    ")\n",
    "\n",
    "plt.colorbar(\n",
    "    mesh_full.plotSlice(\n",
    "        np.log10(mkvc(res_h_full)), normal=normal, ax=ax[1], clim=[np.log10(0.32), np.log10(2000)])[0], \n",
    "    ax=ax[1]\n",
    ")\n",
    "\n",
    "# ax.set_xlim(mesh.x0[1] + np.r_[-1, 1]*domain_y)\n",
    "for a in ax: \n",
    "    a.set_ylim(np.r_[-10000, 100])"
   ]
  },
  {
   "cell_type": "code",
   "execution_count": null,
   "metadata": {},
   "outputs": [],
   "source": [
    "rho = np.vstack([rho_h, rho_h, rho_v]).T"
   ]
  },
  {
   "cell_type": "markdown",
   "metadata": {},
   "source": [
    "# set up the survey"
   ]
  },
  {
   "cell_type": "code",
   "execution_count": null,
   "metadata": {},
   "outputs": [],
   "source": [
    "rx_list_e = []\n",
    "rx_list_h = []\n",
    "for rxlocs in [rec_locs_il, rec_locs_bs]:\n",
    "    for orientation in [\"x\", \"y\", \"z\"]: \n",
    "        # e-field\n",
    "        rx_list_e.append(\n",
    "            fdem.receivers.Point_e(locations=rxlocs, orientation=orientation, component=\"real\")\n",
    "        )\n",
    "        rx_list_e.append(\n",
    "                fdem.receivers.Point_e(locations=rxlocs, orientation=orientation, component=\"imag\")\n",
    "        )\n",
    "        \n",
    "        # h-field\n",
    "        rx_list_h.append(\n",
    "            fdem.receivers.Point_h(locations=rxlocs, orientation=orientation, component=\"real\")\n",
    "        )\n",
    "        rx_list_h.append(\n",
    "            fdem.receivers.Point_h(locations=rxlocs, orientation=orientation, component=\"imag\")\n",
    "        )"
   ]
  },
  {
   "cell_type": "code",
   "execution_count": null,
   "metadata": {},
   "outputs": [],
   "source": [
    "rx_list = rx_list_e + rx_list_h"
   ]
  },
  {
   "cell_type": "code",
   "execution_count": null,
   "metadata": {},
   "outputs": [],
   "source": [
    "Ps = mesh.getInterpolationMat(np.c_[src[0], src[1], src[2]], 'Ex')"
   ]
  },
  {
   "cell_type": "code",
   "execution_count": null,
   "metadata": {},
   "outputs": [],
   "source": [
    "src_ex = Ps.T @ np.r_[1]"
   ]
  },
  {
   "cell_type": "code",
   "execution_count": null,
   "metadata": {},
   "outputs": [],
   "source": [
    "mesh.gridEx[np.where(src_ex)[0], :]"
   ]
  },
  {
   "cell_type": "code",
   "execution_count": null,
   "metadata": {},
   "outputs": [],
   "source": [
    "source_list = [\n",
    "    fdem.sources.RawVec_e(s_e=src_ex, freq=f, receiver_list=rx_list) \n",
    "    for f in freqs[:1]\n",
    "]"
   ]
  },
  {
   "cell_type": "code",
   "execution_count": null,
   "metadata": {},
   "outputs": [],
   "source": [
    "survey = fdem.Survey(source_list)"
   ]
  },
  {
   "cell_type": "code",
   "execution_count": null,
   "metadata": {},
   "outputs": [],
   "source": [
    "sim = fdem.simulation.Simulation3DElectricField(\n",
    "    mesh=mesh, survey=survey, solver=Pardiso, rho=rho\n",
    ")"
   ]
  },
  {
   "cell_type": "code",
   "execution_count": null,
   "metadata": {},
   "outputs": [],
   "source": [
    "%%time\n",
    "mem = %memit -o fields = sim.fields()\n",
    "ram = f\"{(mem.mem_usage[0] - mem.baseline)/1024:.3f} GiB\"\n",
    "print(f\"memory usage: {ram}\")"
   ]
  },
  {
   "cell_type": "code",
   "execution_count": null,
   "metadata": {},
   "outputs": [],
   "source": [
    "fields"
   ]
  },
  {
   "cell_type": "code",
   "execution_count": null,
   "metadata": {},
   "outputs": [],
   "source": [
    "dpred = sim.dpred(f=fields)\n"
   ]
  },
  {
   "cell_type": "code",
   "execution_count": null,
   "metadata": {},
   "outputs": [],
   "source": [
    "data = Data(dobs=dpred, survey=survey)"
   ]
  },
  {
   "cell_type": "code",
   "execution_count": null,
   "metadata": {},
   "outputs": [],
   "source": [
    "rec_locs_il"
   ]
  },
  {
   "cell_type": "code",
   "execution_count": null,
   "metadata": {},
   "outputs": [],
   "source": [
    "data_il = np.zeros((rec_locs_il.shape[0]*2, len(source_list), 6))\n",
    "data_bs = np.zeros((rec_locs_bs.shape[0]*2, len(source_list), 6))"
   ]
  },
  {
   "cell_type": "code",
   "execution_count": null,
   "metadata": {},
   "outputs": [],
   "source": [
    "np.mod(1, 2)"
   ]
  },
  {
   "cell_type": "code",
   "execution_count": null,
   "metadata": {},
   "outputs": [],
   "source": [
    "for i, src in enumerate(source_list):\n",
    "    rx_list = src.receiver_list\n",
    "    \n",
    "    for j, offset in enumerate([0, 12]): # electric first, then magnetic\n",
    "        # inline \n",
    "        data_il[0::2, i, 0+3*j] = data[src, rx_list[0+offset]] # x, real\n",
    "        data_il[1::2, i, 0+3*j] = data[src, rx_list[1+offset]] # x, imag\n",
    "\n",
    "        data_il[0::2, i, 1+3*j] = data[src, rx_list[2+offset]] # y, real\n",
    "        data_il[1::2, i, 1+3*j] = data[src, rx_list[3+offset]] # y, imag\n",
    "\n",
    "        data_il[0::2, i, 2+3*j] = data[src, rx_list[4+offset]] # z, real\n",
    "        data_il[1::2, i, 2+3*j] = data[src, rx_list[5+offset]] # z, imag\n",
    "\n",
    "        #  broadside\n",
    "        data_bs[0::2, i, 0+3*j] = data[src, rx_list[6+offset]] # x, real\n",
    "        data_bs[1::2, i, 0+3*j] = data[src, rx_list[7+offset]] # x, imag\n",
    "\n",
    "        data_bs[0::2, i, 1+3*j] = data[src, rx_list[8+offset]] # y, real\n",
    "        data_bs[1::2, i, 1+3*j] = data[src, rx_list[9+offset]] # y, imag\n",
    "\n",
    "        data_bs[0::2, i, 2+3*j] = data[src, rx_list[10+offset]] # z, real\n",
    "        data_bs[1::2, i, 2+3*j] = data[src, rx_list[11+offset]] # z, imag\n",
    "    \n"
   ]
  },
  {
   "cell_type": "code",
   "execution_count": null,
   "metadata": {},
   "outputs": [],
   "source": [
    "simpeg_data = {\n",
    "    \"data_il\": data_il,\n",
    "    \"data_bs\": data_bs\n",
    "}"
   ]
  },
  {
   "cell_type": "code",
   "execution_count": null,
   "metadata": {},
   "outputs": [],
   "source": [
    "ds.data_bs.data.shape"
   ]
  },
  {
   "cell_type": "code",
   "execution_count": null,
   "metadata": {},
   "outputs": [],
   "source": [
    "rx_list[0].locs.shape"
   ]
  },
  {
   "cell_type": "code",
   "execution_count": null,
   "metadata": {},
   "outputs": [],
   "source": [
    "data[src, rx_list[0]].shape"
   ]
  },
  {
   "cell_type": "code",
   "execution_count": null,
   "metadata": {},
   "outputs": [],
   "source": [
    "ds.data_bs.data[:, 0, :] = data_bs\n",
    "ds.data_il.data[:, 0, :] = data_il"
   ]
  },
  {
   "cell_type": "code",
   "execution_count": null,
   "metadata": {},
   "outputs": [],
   "source": [
    "# Receiver positions (reciprocity)\n",
    "offs = ds.data_il.src_x[::2] - ds.rec_x\n",
    "\n",
    "# Line styles\n",
    "ls = ['co', 'ys', 'm*', 'gd', 'rv', 'b^']\n",
    "\n",
    "def extract_line(d, n, b=None):\n",
    "    data = getattr(d, n)\n",
    "    data = np.abs(data.data[::2, :, :] + 1j*data.data[1::2, :, :])\n",
    "    \n",
    "    if b is not None:\n",
    "        comp = getattr(b, n)\n",
    "        comp = np.abs(comp.data[::2, :, :] + 1j*comp.data[1::2, :, :])\n",
    "        \n",
    "        data -= comp\n",
    "\n",
    "    return data"
   ]
  },
  {
   "cell_type": "code",
   "execution_count": null,
   "metadata": {},
   "outputs": [],
   "source": [
    "fs = 12\n",
    "fig, axs = plt.subplots(4, 3, figsize=(9.5, 11), sharex=True)\n",
    "\n",
    "ls = ['-', ':', '--']\n",
    "ms = 8\n",
    "\n",
    "# Loop over Inline/Broadside\n",
    "for iii, datname in enumerate(['data_il', 'data_bs']):\n",
    "\n",
    "    # Get absolute values of this line\n",
    "    tdat = extract_line(simpeg_data, datname)\n",
    "    tegd = extract_line(egd, datname)\n",
    "    tspg = tegd  ### CHANGE TO SimPEG\n",
    "\n",
    "    # Loop over components Ex, Ey, Ez\n",
    "    if datname == 'data_il':\n",
    "        values = data.components.values[:1]  # Ex\n",
    "    else:\n",
    "        values = data.components.values[:2]  # Ex, Ey\n",
    "        \n",
    "    # Loop over frequencies\n",
    "    for i, freq in enumerate(data.freqs[:1]): # .values[::2]):\n",
    "        \n",
    "        # Fields\n",
    "        for ii, comp in enumerate(values):\n",
    "\n",
    "            plt.sca(axs[0, ii+iii])\n",
    "            plt.title(f\"{['Inline', 'Broadside'][iii]} {comp}\")\n",
    "\n",
    "\n",
    "            # Plot this component/frequency\n",
    "            plt.plot(offs[:102]/1e3, tdat[:102, i, ii], str(.1+i*.3), lw=2,\n",
    "                     label=f\"f={freq} Hz\" if ii+iii == 0 else None)\n",
    "            plt.plot(offs[102:]/1e3, tdat[102:, i, ii], str(.1+i*.3), lw=2)\n",
    "            \n",
    "            plt.plot(offs[:102:16]/1e3, tegd[:102:16, i, ii], 'C0', ls=\"\", marker=\"+\", ms=ms,\n",
    "                     label=f\"empymod\" if (i == 0 and ii+iii == 1) else None)\n",
    "            plt.plot(offs[102::16]/1e3, tegd[102::16, i, ii], 'C0', ls=\"\", marker=\"+\", ms=ms)\n",
    "            \n",
    "            plt.plot(offs[12:102:16]/1e3, tspg[12:102:16, i, ii], 'C3', ls=\"\", marker=\"2\", ms=ms)\n",
    "            plt.plot(offs[114::16]/1e3, tspg[114::16, i, ii], 'C3', ls=\"\", marker=\"2\", ms=ms,\n",
    "                     label=f\"SimPEG\" if (i == 0 and ii+iii == 1) else None)\n",
    "\n",
    "            plt.axhline(2e-15, c='k')           \n",
    "    \n",
    "            plt.grid(axis='y', c='0.9')\n",
    "            plt.yscale('log')\n",
    "            plt.ylim([1e-16, 2e-10])\n",
    "            if ii+iii == 2:\n",
    "                axs[0, 2].yaxis.tick_right()\n",
    "            axs[0, ii+iii].yaxis.set_ticks_position('both')\n",
    "\n",
    "        axs[0, 0].set_ylabel('|Norm. E-field| (V/Am$^2$)', fontsize=fs)\n",
    "        axs[0, 1].set_yticklabels(())\n",
    "\n",
    "        # Error\n",
    "        for ii, comp in enumerate(values):\n",
    "\n",
    "            plt.sca(axs[1+i, ii+iii])\n",
    "\n",
    "            # Plot difference\n",
    "            dat_egd = 200*np.abs((tdat[:, i, ii]-tegd[:, i, ii])/(tdat[:, i, ii]+tegd[:, i, ii]))\n",
    "            dat_spg = 200*np.abs((tdat[:, i, ii]-tcst[:, i, ii])/(tdat[:, i, ii]+tcst[:, i, ii]))\n",
    "            \n",
    "            plt.plot(offs/1e3, dat_egd, 'b.', label=\"emg3d/MR3D\" if i == 0 else None)\n",
    "            plt.plot(offs/1e3, dat_spg, 'm.', label=\"SimPEG/MR3D\" if i == 0 else None)\n",
    "            \n",
    "            plt.grid(axis='y', c='0.9')\n",
    "            plt.yscale('log')\n",
    "            plt.ylim([1e-2, 1e2])\n",
    "            if ii+iii == 2:\n",
    "                axs[1+i, 2].yaxis.tick_right()\n",
    "            axs[1+i, ii+iii].yaxis.set_ticks_position('both')\n",
    "\n",
    "        axs[1+i, 0].set_ylabel(f'NRMSD (%), f={freq} Hz', fontsize=fs)\n",
    "        axs[1+i, 1].set_yticklabels(())\n",
    "\n",
    "    axs[3, 1].set_xlabel('Offset (km)', fontsize=fs)\n",
    "\n",
    "\n",
    "# Switch off spines\n",
    "for i in range(4):\n",
    "    for ii in range(3):\n",
    "        axs[i, ii].spines['top'].set_visible(False)\n",
    "    for ii in range(2):\n",
    "        axs[i, ii].spines['right'].set_visible(False)\n",
    "    for ii in range(1, 3):\n",
    "        axs[i, ii].spines['left'].set_visible(False)\n",
    "        \n",
    "plt.tight_layout(h_pad=0.02, rect=[0, 0.1, 1, 1])\n",
    "\n",
    "plt.sca(axs[0, 1])\n",
    "plt.legend(bbox_to_anchor=(0.65, 0.01), bbox_transform=fig.transFigure,\n",
    "           loc='lower left', borderaxespad=0., ncol=2)  \n",
    "plt.sca(axs[0, 0])\n",
    "plt.legend(bbox_to_anchor=(0.05, 0.035), bbox_transform=fig.transFigure,\n",
    "           loc='lower left', borderaxespad=1., ncol=3)  \n",
    "\n",
    "plt.sca(axs[1, 0])\n",
    "plt.legend(bbox_to_anchor=(0.05, 0.01), bbox_transform=fig.transFigure,\n",
    "           loc='lower left', borderaxespad=0., ncol=3)  "
   ]
  },
  {
   "cell_type": "code",
   "execution_count": null,
   "metadata": {},
   "outputs": [],
   "source": []
  }
 ],
 "metadata": {
  "kernelspec": {
   "display_name": "Python [conda env:.conda-csem3d]",
   "language": "python",
   "name": "conda-env-.conda-csem3d-py"
  },
  "language_info": {
   "codemirror_mode": {
    "name": "ipython",
    "version": 3
   },
   "file_extension": ".py",
   "mimetype": "text/x-python",
   "name": "python",
   "nbconvert_exporter": "python",
   "pygments_lexer": "ipython3",
   "version": "3.7.6"
  }
 },
 "nbformat": 4,
 "nbformat_minor": 4
}
