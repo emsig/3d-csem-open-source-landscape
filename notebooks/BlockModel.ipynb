{
 "cells": [
  {
   "cell_type": "markdown",
   "metadata": {},
   "source": [
    "# Block Model with a 1D background\n",
    "\n",
    "### => Question 1: Should we make it VTI? Can all the codes handle VTI resistivity?\n",
    "\n",
    "### => Question 2: Currently x-directed dipole, 200 m long. Could make that an arbitary rotated dipole - can all codes handle arbitrary rotated dipoles? \n",
    "\n",
    "### Characteristics\n",
    "- **Layered background** can be compared to 1D codes.\n",
    "- **Simple blockmodel** as benchmark\n",
    "- The blocks are an **adjusted version of the Dublin Test Model 1** (DTM1), Miensopust et al., 2013. Changes to the model include:\n",
    "  - Added a layered background (instead of homogeneous background).\n",
    "  - Converted to a shallow marine scenario, where the airwave is still dominantly present.\n",
    "  - Layered background contains a weak, shallow resistor (e.g., tiny gas accumulations)\n",
    "    and a deep strong resistor (e.g., basalt).\n",
    "  - The blocks are made smaller in size (sort of MT to CSEM adaption):\n",
    "      - all horizontal distances were divided by a factor of 5,\n",
    "      - vertical distances by a factor of 10.\n",
    "  \n",
    "  \n",
    "#### References\n",
    "- Miensopust, M. P., P. Queralt, A. G. Jones, and the 3D MT modellers, 2013, Magnetotelluric 3-D inversion – a review of two successful workshops on forward and inversion code testing and comparison: Geophysical Journal International, 193, 1216–1238; DOI: [10.1093/gji/ggt066](https://doi.org/10.1093/gji/ggt066)."
   ]
  },
  {
   "cell_type": "code",
   "execution_count": null,
   "metadata": {
    "nbpresent": {
     "id": "4cf9c8a2-cf5f-45cd-b5da-0b1c7fe23108"
    }
   },
   "outputs": [],
   "source": [
    "import emg3d         # 3D modeller emg3d\n",
    "import empymod       # 1D modeller for comparison\n",
    "import discretize    # for the meshing\n",
    "import numpy as np\n",
    "import matplotlib.pyplot as plt"
   ]
  },
  {
   "cell_type": "code",
   "execution_count": null,
   "metadata": {},
   "outputs": [],
   "source": [
    "%matplotlib notebook\n",
    "plt.style.use('ggplot')"
   ]
  },
  {
   "cell_type": "markdown",
   "metadata": {},
   "source": [
    "## «CSEM Test Model 1»"
   ]
  },
  {
   "cell_type": "code",
   "execution_count": null,
   "metadata": {},
   "outputs": [],
   "source": [
    "# Define all the required edges in x, y, and z-directions\n",
    "hx, x0 = np.array([5500, 4000, 500, 500, 4000, 5500]), -10000\n",
    "hy, y0 = np.array([6000, 1000, 3000, 3000, 1000, 6000]), -10000\n",
    "hz, z0 = np.array([500, 100, 2500, 500, 1500, 200, 50, 250, 400, 500]), -6000\n",
    "\n",
    "# Initiate the mesh\n",
    "mesh = discretize.TensorMesh([hx, hy, hz], x0=np.array([x0, y0, z0]))\n",
    "\n",
    "# Extract the depths of the layers (extracted from mesh, to ensure they are equal)\n",
    "depth = np.r_[mesh.vectorNz[1], mesh.vectorNz[-5:-1]][::-1]\n",
    "\n",
    "print(\"x-edges:\", mesh.vectorNx)\n",
    "print(\"y-edges:\", mesh.vectorNy)\n",
    "print(\"z-edges:\", mesh.vectorNz)  # Includes background layers and blocks!\n",
    "print(\"depths :\", depth)         # Only layers"
   ]
  },
  {
   "cell_type": "code",
   "execution_count": null,
   "metadata": {},
   "outputs": [],
   "source": [
    "# 1.A Initiate the resistivity model\n",
    "res = np.zeros(mesh.nC)\n",
    "\n",
    "# 1.B Define layered background model\n",
    "res1d = [1e8, 0.3, 1, 5, 1, 1000]\n",
    "res[mesh.gridCC[:, 2] > depth[0]] = res1d[0]     # Air\n",
    "res[mesh.gridCC[:, 2] <= depth[0]] = res1d[1]    # Water\n",
    "res[mesh.gridCC[:, 2] <= depth[1]] = res1d[2]    # Background\n",
    "res[mesh.gridCC[:, 2] <= depth[-1]] = res1d[-1]  # Basement\n",
    "\n",
    "# Add a shallow layer with slightly higher resistivities (5 Ohm.m)\n",
    "res[(mesh.gridCC[:, 2] <= depth[1]) & (mesh.gridCC[:, 2] > depth[2])] = res1d[3]\n",
    "\n",
    "# 1.C Add the three blocks\n",
    "resistivities = [100, 10, 50]  # Resistivities Block 1, 2, and 3\n",
    "block1 = [ -500,  500, -4000, 4000,  -2400, -900]\n",
    "block2 = [    0, 5000, -3000,    0,  -2900, -2400]\n",
    "block3 = [-5000,    0,     0, 3000, -5400, -2400]\n",
    "for i, block in enumerate([block1, block2, block3]):\n",
    "    block_i = (\n",
    "        (mesh.gridCC[:, 0] >= block[0]) & (mesh.gridCC[:, 0] <= block[1]) &\n",
    "        (mesh.gridCC[:, 1] >= block[2]) & (mesh.gridCC[:, 1] <= block[3]) &\n",
    "        (mesh.gridCC[:, 2] >= block[4]) & (mesh.gridCC[:, 2] <= block[5])\n",
    "    )\n",
    "\n",
    "    res[block_i] = resistivities[i]"
   ]
  },
  {
   "cell_type": "markdown",
   "metadata": {},
   "source": [
    "### Define survey"
   ]
  },
  {
   "cell_type": "code",
   "execution_count": null,
   "metadata": {},
   "outputs": [],
   "source": [
    "# Source: x-directed electric dipole of 200 m length, 50 meter above seafloor\n",
    "src = [-100, 100, 0, 0, -350, -350]\n",
    "strength = 1  # 1 A source\n",
    "freq = 1      # 1 Hz frequency\n",
    "\n",
    "# 3 Receiver lines\n",
    "rec_x = np.linspace(-10, 10, 101)*1e3\n",
    "rec_y = np.array([-3, 0, 3])*1e3\n",
    "rec_z = -400"
   ]
  },
  {
   "cell_type": "code",
   "execution_count": null,
   "metadata": {},
   "outputs": [],
   "source": [
    "# Plot the resistivity model\n",
    "mesh.plot_3d_slicer(np.log10(res), clim=np.log10([0.2, 200]))\n",
    "fig = plt.gcf()\n",
    "axs = fig.get_children()[1]\n",
    "axs.plot(rec_x, np.ones(rec_x.size)*rec_y[0], 'r.')\n",
    "axs.plot(rec_x, np.ones(rec_x.size)*rec_y[1], 'r.')\n",
    "axs.plot(rec_x, np.ones(rec_x.size)*rec_y[2], 'r.')\n",
    "axs.plot(src[0], src[1], 'w*')\n",
    "plt.show()"
   ]
  },
  {
   "cell_type": "markdown",
   "metadata": {},
   "source": [
    "## 1D modelling of layered background"
   ]
  },
  {
   "cell_type": "code",
   "execution_count": null,
   "metadata": {},
   "outputs": [],
   "source": [
    "epm_1d = np.zeros((rec_x.size, 2), dtype=complex)\n",
    "for i, y in enumerate(rec_y[:2]):\n",
    "    epm_1d[:, i] = empymod.bipole(\n",
    "        [*src[:4], -src[4], -src[5]],                   # empymod has\n",
    "        [rec_x, np.ones(rec_x.size)*y, -rec_z, 10, 0],  # positive z\n",
    "        -depth,                                         # downwards\n",
    "        res1d, freq, srcpts=5, verb=2, htarg={'pts_per_dec': -1})"
   ]
  },
  {
   "cell_type": "code",
   "execution_count": null,
   "metadata": {},
   "outputs": [],
   "source": [
    "plt.figure(figsize=(9, 5))\n",
    "\n",
    "# Real\n",
    "ax1 = plt.subplot(121)\n",
    "plt.title(r'$\\Re(E_x)$')\n",
    "for i, y in enumerate(rec_y[:2]):\n",
    "    plt.plot(rec_x, epm_1d[:, i].real, f'C{i}-', label=f'y = {y/1e3} km')\n",
    "    plt.plot(rec_x, -epm_1d[:, i].real, f'C{i}--')\n",
    "    \n",
    "plt.yscale('log')\n",
    "plt.legend()\n",
    "plt.xlabel('Offset (km)')\n",
    "plt.ylabel('Amplitude (V/m)')\n",
    "\n",
    "# Imaginary\n",
    "plt.subplot(122, sharey=ax1)\n",
    "plt.title(r'$\\Im(E_x)$')\n",
    "for i, y in enumerate(rec_y[:2]):\n",
    "    plt.plot(rec_x, epm_1d[:, i].imag, f'C{i}-', label=f'y = {y/1e3} km')\n",
    "    plt.plot(rec_x, -epm_1d[:, i].imag, f'C{i}--')\n",
    "\n",
    "plt.ylim([1e-16, 1e-11])\n",
    "plt.legend()\n",
    "plt.xlabel('Offset (km)')\n",
    "plt.ylabel('Amplitude (V/m)')\n",
    "\n",
    "plt.show()"
   ]
  },
  {
   "cell_type": "markdown",
   "metadata": {},
   "source": [
    "## 3D modelling with emg3d, layered background"
   ]
  },
  {
   "cell_type": "code",
   "execution_count": null,
   "metadata": {},
   "outputs": [],
   "source": [
    "empymod.Report([discretize])"
   ]
  }
 ],
 "metadata": {
  "anaconda-cloud": {},
  "kernelspec": {
   "display_name": "Python 3",
   "language": "python",
   "name": "python3"
  },
  "language_info": {
   "codemirror_mode": {
    "name": "ipython",
    "version": 3
   },
   "file_extension": ".py",
   "mimetype": "text/x-python",
   "name": "python",
   "nbconvert_exporter": "python",
   "pygments_lexer": "ipython3",
   "version": "3.7.4"
  },
  "nbpresent": {
   "slides": {
    "2a1825bf-35ff-4370-b129-ba51addc5c69": {
     "id": "2a1825bf-35ff-4370-b129-ba51addc5c69",
     "prev": "3d6a47d5-4fff-46fe-b063-1afce739efbb",
     "regions": {
      "c651f707-58e0-4b88-b861-0c6608fca1d5": {
       "attrs": {
        "height": 0.8,
        "width": 0.8,
        "x": 0.1,
        "y": 0.1
       },
       "content": {
        "cell": "6900d774-2898-4efd-9798-78bc8f08d0da",
        "part": "whole"
       },
       "id": "c651f707-58e0-4b88-b861-0c6608fca1d5"
      }
     }
    },
    "3d6a47d5-4fff-46fe-b063-1afce739efbb": {
     "id": "3d6a47d5-4fff-46fe-b063-1afce739efbb",
     "prev": "aa9c2bcf-e54f-4714-946e-18921616a039",
     "regions": {
      "e461f359-4831-4693-84fe-480f6c1db14a": {
       "attrs": {
        "height": 0.8,
        "width": 0.8,
        "x": 0.1,
        "y": 0.1
       },
       "content": {
        "cell": "1a31a0e1-bcf6-452d-aabb-c48c94a9e85d",
        "part": "whole"
       },
       "id": "e461f359-4831-4693-84fe-480f6c1db14a"
      }
     }
    },
    "54253e19-21cb-4738-94f0-109d6bbb2bde": {
     "id": "54253e19-21cb-4738-94f0-109d6bbb2bde",
     "prev": "5f5302d2-4747-4c5a-a6c3-1d0fc8f7fb66",
     "regions": {
      "1735c9df-b5c2-40d7-b562-b869e4b966cd": {
       "attrs": {
        "height": 0.8,
        "width": 0.8,
        "x": 0.1,
        "y": 0.1
       },
       "content": {
        "cell": "f85d2094-6d09-4627-a0ab-7cab37ed3c9f",
        "part": "whole"
       },
       "id": "1735c9df-b5c2-40d7-b562-b869e4b966cd"
      }
     }
    },
    "5f5302d2-4747-4c5a-a6c3-1d0fc8f7fb66": {
     "id": "5f5302d2-4747-4c5a-a6c3-1d0fc8f7fb66",
     "prev": "fc333044-619d-44bd-8c7f-0a53dd4b220a",
     "regions": {
      "41618366-0a77-4f2d-9d9b-77ed062d6959": {
       "attrs": {
        "height": 0.8,
        "width": 0.8,
        "x": 0.1,
        "y": 0.1
       },
       "content": {
        "cell": "83e23522-1665-45d6-8bc0-869b981a0e66",
        "part": "whole"
       },
       "id": "41618366-0a77-4f2d-9d9b-77ed062d6959"
      }
     }
    },
    "aa9c2bcf-e54f-4714-946e-18921616a039": {
     "id": "aa9c2bcf-e54f-4714-946e-18921616a039",
     "prev": "54253e19-21cb-4738-94f0-109d6bbb2bde",
     "regions": {
      "1b48f280-81c6-4746-8fff-091d4b10b448": {
       "attrs": {
        "height": 0.8,
        "width": 0.8,
        "x": 0.1,
        "y": 0.1
       },
       "content": {
        "cell": "0631a68b-7d4d-4326-abff-8628f2004afc",
        "part": "whole"
       },
       "id": "1b48f280-81c6-4746-8fff-091d4b10b448"
      }
     }
    },
    "b5a49768-441a-449c-bbf3-d2a7febf0235": {
     "id": "b5a49768-441a-449c-bbf3-d2a7febf0235",
     "prev": null,
     "regions": {
      "7ae15b0a-8675-4544-8708-f2e95dda286f": {
       "attrs": {
        "height": 0.8,
        "width": 0.8,
        "x": 0.1,
        "y": 0.1
       },
       "content": {
        "cell": "4cf9c8a2-cf5f-45cd-b5da-0b1c7fe23108",
        "part": "whole"
       },
       "id": "7ae15b0a-8675-4544-8708-f2e95dda286f"
      }
     }
    },
    "bc930404-89e7-4fc9-a1f9-e9edc1f4d1d4": {
     "id": "bc930404-89e7-4fc9-a1f9-e9edc1f4d1d4",
     "prev": "2a1825bf-35ff-4370-b129-ba51addc5c69",
     "regions": {
      "76296bab-9070-4528-b79c-558debc8f675": {
       "attrs": {
        "height": 0.8,
        "width": 0.8,
        "x": 0.1,
        "y": 0.1
       },
       "content": {
        "cell": "3ac01b43-1f53-4902-a857-5a0b0a6ef59b",
        "part": "whole"
       },
       "id": "76296bab-9070-4528-b79c-558debc8f675"
      }
     }
    },
    "fc333044-619d-44bd-8c7f-0a53dd4b220a": {
     "id": "fc333044-619d-44bd-8c7f-0a53dd4b220a",
     "prev": "b5a49768-441a-449c-bbf3-d2a7febf0235",
     "regions": {
      "fea6658a-c555-450d-b33b-0e44fe7b1cf8": {
       "attrs": {
        "height": 0.8,
        "width": 0.8,
        "x": 0.1,
        "y": 0.1
       },
       "content": {
        "cell": "d0a7e487-d7b9-418c-810f-f12d33c88c85",
        "part": "whole"
       },
       "id": "fea6658a-c555-450d-b33b-0e44fe7b1cf8"
      }
     }
    }
   },
   "themes": {}
  }
 },
 "nbformat": 4,
 "nbformat_minor": 1
}
