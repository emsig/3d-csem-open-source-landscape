{
 "cells": [
  {
   "cell_type": "markdown",
   "metadata": {},
   "source": [
    "# Tensor Mesh - layers using `SimPEG`\n",
    "\n"
   ]
  },
  {
   "cell_type": "markdown",
   "metadata": {},
   "source": [
    "Note on environment: running `simulation` branch of SimPEG"
   ]
  },
  {
   "cell_type": "code",
   "execution_count": 1,
   "metadata": {},
   "outputs": [],
   "source": [
    "# core python libraries we rely on\n",
    "import numpy as np\n",
    "import matplotlib.pyplot as plt\n",
    "import xarray as xr\n",
    "\n",
    "# SimPEG ecosystem \n",
    "import discretize\n",
    "from discretize.utils import mkvc\n",
    "from SimPEG.electromagnetics import frequency_domain as fdem\n",
    "from pymatsolver import Pardiso\n",
    "import ipywidgets\n",
    "%load_ext memory_profiler"
   ]
  },
  {
   "cell_type": "markdown",
   "metadata": {},
   "source": [
    "## load the model and survey"
   ]
  },
  {
   "cell_type": "code",
   "execution_count": 2,
   "metadata": {},
   "outputs": [],
   "source": [
    "# 1D background\n",
    "depth = [0., -600, -850, -3150]\n",
    "res1d = [1e8, 0.3, 1, 2, 1000]\n",
    "aniso = [1, 1, 1, np.sqrt(2), 1]\n",
    "\n",
    "# Define dimensions of the three blocks [x1, x2, y1, y2, z1, z2]\n",
    "block1 = [ -500,  500, -4000, 4000,  -1600, -850]\n",
    "block2 = [    0, 5000, -3000,    0,  -1850, -1600]\n",
    "block3 = [-5000,    0,     0, 3000, -2900, -1600]\n",
    "\n",
    "# Resistivities Block 1, 2, and 3\n",
    "resistivities = [10, 100, 500]"
   ]
  },
  {
   "cell_type": "code",
   "execution_count": 3,
   "metadata": {},
   "outputs": [],
   "source": [
    "ds = xr.load_dataset('../block_model_and_survey.nc', engine='h5netcdf')"
   ]
  },
  {
   "cell_type": "code",
   "execution_count": 4,
   "metadata": {},
   "outputs": [
    {
     "data": {
      "text/html": [
       "<table>\n",
       "  <tr>\n",
       "    <td style='font-weight: bold; font-size: 1.2em; text-align: center;' colspan='3'>TensorMesh</td>\n",
       "    <td style='font-size: 1.2em; text-align: center;'colspan='4'>288 cells</td>\n",
       "  </tr>\n",
       "  <tr>\n",
       "    <th></th>\n",
       "    <th></th>\n",
       "    <th colspan='2' style='padding: 5px 20px 5px 20px;'>MESH EXTENT</th>\n",
       "    <th colspan='2' style='padding: 5px 20px 5px 20px;'>CELL WIDTH</th>\n",
       "    <th style='padding: 5px 20px 5px 20px;'>FACTOR</th>\n",
       "  </tr>\n",
       "  <tr>\n",
       "    <th style='padding: 5px 20px 5px 20px;'>dir</th>\n",
       "    <th style='padding: 5px 20px 5px 20px;'>nC</th>\n",
       "    <th style='padding: 5px 20px 5px 20px;'>min</th>\n",
       "    <th style='padding: 5px 20px 5px 20px;'>max</th>\n",
       "    <th style='padding: 5px 20px 5px 20px;'>min</th>\n",
       "    <th style='padding: 5px 20px 5px 20px;'>max</th>\n",
       "    <th style='padding: 5px 20px 5px 20px;'>max</th>\n",
       "  </tr>\n",
       "  <tr>\n",
       "    <td style='padding: 5px 20px 5px 20px;'>x</td>\n",
       "    <td style='padding: 5px 20px 5px 20px;'>6</td>\n",
       "    <td style='padding: 5px 20px 5px 20px;'>-10,000.00</td>\n",
       "    <td style='padding: 5px 20px 5px 20px;'>10,000.00</td>\n",
       "    <td style='padding: 5px 20px 5px 20px;'>500.00</td>\n",
       "    <td style='padding: 5px 20px 5px 20px;'>5,000.00</td>\n",
       "    <td style='padding: 5px 20px 5px 20px;'>9.00</td>\n",
       "  </tr>\n",
       "  <tr>\n",
       "    <td style='padding: 5px 20px 5px 20px;'>y</td>\n",
       "    <td style='padding: 5px 20px 5px 20px;'>6</td>\n",
       "    <td style='padding: 5px 20px 5px 20px;'>-10,000.00</td>\n",
       "    <td style='padding: 5px 20px 5px 20px;'>10,000.00</td>\n",
       "    <td style='padding: 5px 20px 5px 20px;'>1,000.00</td>\n",
       "    <td style='padding: 5px 20px 5px 20px;'>6,000.00</td>\n",
       "    <td style='padding: 5px 20px 5px 20px;'>6.00</td>\n",
       "  </tr>\n",
       "  <tr>\n",
       "    <td style='padding: 5px 20px 5px 20px;'>z</td>\n",
       "    <td style='padding: 5px 20px 5px 20px;'>8</td>\n",
       "    <td style='padding: 5px 20px 5px 20px;'>-3,400.00</td>\n",
       "    <td style='padding: 5px 20px 5px 20px;'>500.00</td>\n",
       "    <td style='padding: 5px 20px 5px 20px;'>250.00</td>\n",
       "    <td style='padding: 5px 20px 5px 20px;'>1,050.00</td>\n",
       "    <td style='padding: 5px 20px 5px 20px;'>4.20</td>\n",
       "  </tr>\n",
       "</table>\n"
      ],
      "text/plain": [
       "\n",
       "  TensorMesh: 288 cells\n",
       "\n",
       "                      MESH EXTENT             CELL WIDTH      FACTOR\n",
       "  dir    nC        min           max         min       max      max\n",
       "  ---   ---  ---------------------------  ------------------  ------\n",
       "   x      6    -10,000.00     10,000.00    500.00  5,000.00    9.00\n",
       "   y      6    -10,000.00     10,000.00  1,000.00  6,000.00    6.00\n",
       "   z      8     -3,400.00        500.00    250.00  1,050.00    4.20\n"
      ]
     },
     "execution_count": 4,
     "metadata": {},
     "output_type": "execute_result"
    }
   ],
   "source": [
    "hx, hy, hz = ds.attrs['hx'], ds.attrs['hy'], ds.attrs['hz']\n",
    "x0 = ds.attrs['x0']\n",
    "mesh_model = discretize.TensorMesh([hx, hy, hz], x0=x0)\n",
    "\n",
    "mesh_model"
   ]
  },
  {
   "cell_type": "code",
   "execution_count": 5,
   "metadata": {},
   "outputs": [],
   "source": [
    "resh_bg, resv_bg = ds.attrs['resh_bg'], ds.attrs['resv_bg']\n",
    "resh_tg, resv_bg = ds.attrs['resh_tg'], ds.attrs['resv_tg']"
   ]
  },
  {
   "cell_type": "code",
   "execution_count": 6,
   "metadata": {},
   "outputs": [
    {
     "data": {
      "image/png": "[encoded data removed]",
      "text/plain": [
       "<Figure size 720x576 with 8 Axes>"
      ]
     },
     "metadata": {
      "needs_background": "light"
     },
     "output_type": "display_data"
    }
   ],
   "source": [
    "fig, ax = plt.subplots(2, 2, figsize=(10, 8))\n",
    "\n",
    "for a, m in zip(ax.flatten(), ['resh_bg', 'resv_bg', 'resh_tg', 'resv_tg']):\n",
    "    cb = plt.colorbar(\n",
    "        mesh_model.plotSlice(np.log10(ds.attrs[m]), ax=a, normal='Y')[0], ax=a\n",
    "    )\n",
    "    a.set_title(m)\n",
    "    cb.set_label(\"log$_10$($\\\\rho$)\")\n",
    "\n",
    "plt.tight_layout()"
   ]
  },
  {
   "cell_type": "code",
   "execution_count": 7,
   "metadata": {},
   "outputs": [
    {
     "name": "stdout",
     "output_type": "stream",
     "text": [
      "[-100.  100.    0.    0. -550. -550.]\n"
     ]
    }
   ],
   "source": [
    "# Get Survey\n",
    "src = ds.attrs['src']\n",
    "strength = ds.attrs['strength']\n",
    "freq = ds.attrs['freq']\n",
    "rec_x = ds.x.data[::2]\n",
    "rec_y = ds.attrs['rec_y']\n",
    "rec_z = ds.attrs['rec_z'] - 0.1\n",
    "rx_locs = discretize.utils.ndgrid([rec_x, rec_y, np.r_[rec_z]])\n",
    "\n",
    "# Get source center (for meshing)\n",
    "src_c = np.mean(src.reshape(-1, 2), 1)\n",
    "print(src)"
   ]
  },
  {
   "cell_type": "code",
   "execution_count": 8,
   "metadata": {},
   "outputs": [
    {
     "name": "stdout",
     "output_type": "stream",
     "text": [
      "skin depth: [2.75504446e+02 5.03000000e+02 7.11349422e+02 1.59062566e+04\n",
      " 5.03000000e+06]\n"
     ]
    }
   ],
   "source": [
    "print(\n",
    "    f\"skin depth: {503/np.sqrt(freq/np.unique(resh_bg))}\"\n",
    ")"
   ]
  },
  {
   "cell_type": "markdown",
   "metadata": {},
   "source": [
    "## create a computational mesh"
   ]
  },
  {
   "cell_type": "code",
   "execution_count": 9,
   "metadata": {},
   "outputs": [
    {
     "data": {
      "text/plain": [
       "array([0., 0.])"
      ]
     },
     "execution_count": 9,
     "metadata": {},
     "output_type": "execute_result"
    }
   ],
   "source": [
    "src[2:4]"
   ]
  },
  {
   "cell_type": "code",
   "execution_count": 34,
   "metadata": {},
   "outputs": [],
   "source": [
    "# use the same discretization and domain extent in each dimension\n",
    "dx, dy, dz = 200, 200, 50 \n",
    "domain_x, domain_y, domain_z = 2e4, 6e3, np.max(np.abs(depth))\n",
    "ncx, ncy, ncz = int(domain_x/dx), int(domain_y/dy), int(domain_z/dz)\n",
    "\n",
    "npad_x = 8\n",
    "npad_y = 8\n",
    "npad_z = 8 \n",
    "\n",
    "pf = 1.5\n",
    "\n",
    "mesh = discretize.TensorMesh([\n",
    "    [(dx, npad_x, -pf), (dx, ncx), (dx, npad_x, pf)], \n",
    "    [(dy, npad_y, -pf), (dy, ncy), (dy, npad_y, pf)],\n",
    "    [(dz, npad_z, -pf), (dz, ncz), (dz, npad_z, pf)]\n",
    "])\n",
    "\n",
    "mesh.x0 = np.r_[-mesh.hx.sum()/2., -mesh.hy.sum()/2., -mesh.hz[:ncz+npad_z].sum()]\n"
   ]
  },
  {
   "cell_type": "code",
   "execution_count": 35,
   "metadata": {},
   "outputs": [
    {
     "name": "stdout",
     "output_type": "stream",
     "text": [
      "421544\n"
     ]
    }
   ],
   "source": [
    "print(mesh.nC)"
   ]
  },
  {
   "cell_type": "code",
   "execution_count": 36,
   "metadata": {},
   "outputs": [
    {
     "name": "stdout",
     "output_type": "stream",
     "text": [
      "True\n"
     ]
    }
   ],
   "source": [
    "print(np.any(mesh.gridEx[:, 2] == -550.))"
   ]
  },
  {
   "cell_type": "code",
   "execution_count": 37,
   "metadata": {},
   "outputs": [
    {
     "data": {
      "text/plain": [
       "(<matplotlib.collections.QuadMesh at 0x12d91a978>,\n",
       " <matplotlib.lines.Line2D at 0x12d91a908>)"
      ]
     },
     "execution_count": 37,
     "metadata": {},
     "output_type": "execute_result"
    },
    {
     "data": {
      "image/png": "[encoded data removed]",
      "text/plain": [
       "<Figure size 432x288 with 1 Axes>"
      ]
     },
     "metadata": {
      "needs_background": "light"
     },
     "output_type": "display_data"
    }
   ],
   "source": [
    "fig, ax = plt.subplots(1, 1)\n",
    "mesh.plotSlice(np.log10(mesh.vol), normal='y', grid=True, ax=ax)\n",
    "# ax.set_xlim([-10000, 10000])\n",
    "# ax.set_ylim([-4000, 100])"
   ]
  },
  {
   "cell_type": "code",
   "execution_count": 38,
   "metadata": {},
   "outputs": [],
   "source": [
    "def plot_mesh(normal=\"Y\", ind=1024, xmin=-10000, xmax=10000, ymin=-4000, ymax=100):\n",
    "    fig, ax = plt.subplots(1, 1)\n",
    "    mesh.plotSlice(np.log10(mesh.vol), normal=normal, grid=True, ax=ax, ind=ind)\n",
    "    ax.set_xlim([xmin, xmax])\n",
    "    ax.set_ylim([ymin, ymax])"
   ]
  },
  {
   "cell_type": "code",
   "execution_count": 39,
   "metadata": {
    "scrolled": false
   },
   "outputs": [
    {
     "data": {
      "application/vnd.jupyter.widget-view+json": {
       "model_id": "8835e7470cc248e6ab5b51287f6e7cb3",
       "version_major": 2,
       "version_minor": 0
      },
      "text/plain": [
       "interactive(children=(ToggleButtons(description='normal', index=1, options=('X', 'Y', 'Z'), value='Y'), IntSli…"
      ]
     },
     "metadata": {},
     "output_type": "display_data"
    },
    {
     "data": {
      "text/plain": [
       "<function __main__.plot_mesh(normal='Y', ind=1024, xmin=-10000, xmax=10000, ymin=-4000, ymax=100)>"
      ]
     },
     "execution_count": 39,
     "metadata": {},
     "output_type": "execute_result"
    }
   ],
   "source": [
    "max_h = np.max([len(h) for h in mesh.h])\n",
    "ipywidgets.interact(\n",
    "    plot_mesh,\n",
    "    normal=ipywidgets.ToggleButtons(options=[\"X\", \"Y\", \"Z\"], value=\"Y\"),\n",
    "    ind=ipywidgets.IntSlider(min=0, max=max_h, value=int(len(mesh.h[1])/2)),\n",
    "    xmin=ipywidgets.FloatText(value=-domain_x),\n",
    "    xmax=ipywidgets.FloatText(value=domain_x),\n",
    "    ymin=ipywidgets.FloatText(value=-4000),\n",
    "    ymax=ipywidgets.FloatText(value=100)\n",
    ")"
   ]
  },
  {
   "cell_type": "code",
   "execution_count": 40,
   "metadata": {},
   "outputs": [
    {
     "data": {
      "text/plain": [
       "-600.1"
      ]
     },
     "execution_count": 40,
     "metadata": {},
     "output_type": "execute_result"
    }
   ],
   "source": [
    "rec_z"
   ]
  },
  {
   "cell_type": "markdown",
   "metadata": {},
   "source": [
    "### put the model on the computational mesh"
   ]
  },
  {
   "cell_type": "code",
   "execution_count": 41,
   "metadata": {},
   "outputs": [],
   "source": [
    "rhoh_back = res1d[0]*np.ones(mesh.nC)\n",
    "rhov_back = res1d[0]*np.ones(mesh.nC)"
   ]
  },
  {
   "cell_type": "code",
   "execution_count": 42,
   "metadata": {},
   "outputs": [],
   "source": [
    "for r, a, d in zip(res1d[1:], aniso, depth):\n",
    "    inds = mesh.gridCC[:, 2] <= d + dz/2\n",
    "    rhoh_back[inds] = r\n",
    "    rhov_back[inds] = r*a**2"
   ]
  },
  {
   "cell_type": "code",
   "execution_count": 43,
   "metadata": {},
   "outputs": [],
   "source": [
    "rhoh_t = rhoh_back.copy()\n",
    "rhov_t = rhov_back.copy()"
   ]
  },
  {
   "cell_type": "code",
   "execution_count": 44,
   "metadata": {},
   "outputs": [],
   "source": [
    "for r, b in zip(resistivities, [block1, block2, block3]):\n",
    "    inds = (\n",
    "        (mesh.gridCC[:, 0] >= b[0]) & (mesh.gridCC[:, 0] <= b[1]) &\n",
    "        (mesh.gridCC[:, 1] >= b[2]) & (mesh.gridCC[:, 1] <= b[3]) &\n",
    "        (mesh.gridCC[:, 2] >= b[4]) & (mesh.gridCC[:, 2] <= b[5])\n",
    "    )\n",
    "    rhoh_t[inds] = r\n",
    "    rhov_t[inds] = r"
   ]
  },
  {
   "cell_type": "code",
   "execution_count": 45,
   "metadata": {},
   "outputs": [
    {
     "data": {
      "image/png": "[encoded data removed]",
      "text/plain": [
       "<Figure size 720x576 with 8 Axes>"
      ]
     },
     "metadata": {
      "needs_background": "light"
     },
     "output_type": "display_data"
    }
   ],
   "source": [
    "fig, ax = plt.subplots(2, 2, figsize=(10, 8))\n",
    "\n",
    "for a, m in zip(ax.flatten(), [rhoh_back, rhov_back, rhoh_t, rhov_t]):\n",
    "    cb = plt.colorbar(\n",
    "        mesh.plotSlice(np.log10(m), ax=a, normal='Y')[0], ax=a\n",
    "    )\n",
    "    cb.set_label(\"log$_10$($\\\\rho$)\")\n",
    "    a.set_xlim(domain_x*np.r_[-1, 1])\n",
    "    a.set_ylim([-4000, 100])\n",
    "\n",
    "plt.tight_layout()"
   ]
  },
  {
   "cell_type": "code",
   "execution_count": 46,
   "metadata": {},
   "outputs": [],
   "source": [
    "rho_back = np.vstack([rhoh_back, rhoh_back, rhov_back]).T\n",
    "rho_t = np.vstack([rhoh_t, rhoh_t, rhov_t]).T"
   ]
  },
  {
   "cell_type": "markdown",
   "metadata": {},
   "source": [
    "## set up the frequency domain simulation"
   ]
  },
  {
   "cell_type": "code",
   "execution_count": 47,
   "metadata": {},
   "outputs": [],
   "source": [
    "rx_re = fdem.receivers.Point_e(locations=rx_locs, orientation=\"x\", component=\"real\")\n",
    "rx_im = fdem.receivers.Point_e(locations=rx_locs, orientation=\"x\", component=\"imag\")"
   ]
  },
  {
   "cell_type": "code",
   "execution_count": 48,
   "metadata": {},
   "outputs": [
    {
     "name": "stdout",
     "output_type": "stream",
     "text": [
      "[-17777.34375 -12651.5625   -9234.375    -6956.25     -5437.5\n",
      "  -4425.       -3750.       -3300.       -3000.       -2800.\n",
      "  -2600.       -2400.       -2200.       -2000.       -1800.\n",
      "  -1600.       -1400.       -1200.       -1000.        -800.\n",
      "   -600.        -400.        -200.           0.         200.\n",
      "    400.         600.         800.        1000.        1200.\n",
      "   1400.        1600.        1800.        2000.        2200.\n",
      "   2400.        2600.        2800.        3000.        3300.\n",
      "   3750.        4425.        5437.5       6956.25      9234.375\n",
      "  12651.5625   17777.34375]\n"
     ]
    }
   ],
   "source": [
    "print(np.unique(mesh.gridEx[:, 1]))"
   ]
  },
  {
   "cell_type": "code",
   "execution_count": 49,
   "metadata": {},
   "outputs": [
    {
     "name": "stdout",
     "output_type": "stream",
     "text": [
      "(array([329845, 329846]),)\n"
     ]
    }
   ],
   "source": [
    "src_x = np.zeros(mesh.nEx)\n",
    "src_inds = (\n",
    "    (mesh.gridEx[:, 0] >= src[0] - 1) & (mesh.gridEx[:, 0] <= src[1] + 1) &\n",
    "    (mesh.gridEx[:, 1] >= src[2] - 1) & (mesh.gridEx[:, 1] <= src[3] + 1) &\n",
    "    (mesh.gridEx[:, 2] >= src[4] - 1) & (mesh.gridEx[:, 2] <= src[5] + 1) \n",
    ")\n",
    "src_x[src_inds] = 1\n",
    "print(src_inds.nonzero())\n",
    "\n",
    "src_vec = strength * np.hstack([\n",
    "    src_x, np.zeros(mesh.nEy), np.zeros(mesh.nEz)\n",
    "])\n",
    "source = fdem.sources.RawVec_e(s_e=src_vec, freq=freq, receiver_list=[rx_re, rx_im])"
   ]
  },
  {
   "cell_type": "code",
   "execution_count": 50,
   "metadata": {},
   "outputs": [
    {
     "data": {
      "text/plain": [
       "(array([329845, 329846]),)"
      ]
     },
     "execution_count": 50,
     "metadata": {},
     "output_type": "execute_result"
    }
   ],
   "source": [
    "np.nonzero(src_vec)"
   ]
  },
  {
   "cell_type": "code",
   "execution_count": 51,
   "metadata": {},
   "outputs": [
    {
     "data": {
      "text/plain": [
       "(array([-100.,  100.]), array([0.]), array([-550.]))"
      ]
     },
     "execution_count": 51,
     "metadata": {},
     "output_type": "execute_result"
    }
   ],
   "source": [
    "np.unique(mesh.gridEx[src_inds, 0]), np.unique(mesh.gridEx[src_inds, 1]), np.unique(mesh.gridEx[src_inds, 2])"
   ]
  },
  {
   "cell_type": "code",
   "execution_count": 52,
   "metadata": {},
   "outputs": [],
   "source": [
    "survey = fdem.Survey([source])"
   ]
  },
  {
   "cell_type": "code",
   "execution_count": 53,
   "metadata": {},
   "outputs": [],
   "source": [
    "sim_back = fdem.Simulation3DElectricField(mesh=mesh, solver=Pardiso, survey=survey, rho=rho_back)\n",
    "sim_t = fdem.Simulation3DElectricField(mesh=mesh, solver=Pardiso, survey=survey, rho=rho_t)"
   ]
  },
  {
   "cell_type": "code",
   "execution_count": null,
   "metadata": {},
   "outputs": [],
   "source": [
    "%%time\n",
    "mem_back = %memit -o fields_back = sim_back.fields()\n",
    "ram_back = f\"{(mem_back.mem_usage[0] - mem_back.baseline)/1024:.3f} GiB\"\n",
    "print(f\"memory usage: {ram_back}\")"
   ]
  },
  {
   "cell_type": "code",
   "execution_count": null,
   "metadata": {},
   "outputs": [],
   "source": [
    "%%time\n",
    "mem_t = %memit -o fields_t = sim_t.fields()\n",
    "ram_t = f\"{(mem_t.mem_usage[0] - mem_t.baseline)/1024:.3f} GiB\"\n",
    "print(f\"memory usage: {ram_t}\")"
   ]
  },
  {
   "cell_type": "code",
   "execution_count": null,
   "metadata": {},
   "outputs": [],
   "source": [
    "d_back = sim_back.dpred(f=fields_back)\n",
    "d_t = sim_t.dpred(f=fields_t)"
   ]
  },
  {
   "cell_type": "code",
   "execution_count": null,
   "metadata": {},
   "outputs": [],
   "source": [
    "def get_data_lines(fields):\n",
    "    \n",
    "    data = []\n",
    "    \n",
    "    x_inds = (mesh.gridEx[:, 0] >= rec_x.min() - 1) & (mesh.gridEx[:, 0] <= rec_x.max() + 1)\n",
    "    z_inds = (mesh.gridEx[:, 2] >= rec_z - 1) & (mesh.gridEx[:, 2] <= rec_z + 1)\n",
    "    \n",
    "    for y in rec_y: \n",
    "        y_inds = (mesh.gridEx[:, 1] >= y - 1) & (mesh.gridEx[:, 1] <= y + 1)\n",
    "        inds_x = x_inds & y_inds & z_inds\n",
    "        inds = np.hstack([inds_x, np.zeros(mesh.nEy, dtype=bool), np.zeros(mesh.nEz, dtype=bool) ])\n",
    "        \n",
    "        data.append(fields[:, \"e\"][inds])\n",
    "    \n",
    "    x = mesh.gridEx[inds_x, 0]\n",
    "    return x, data   "
   ]
  },
  {
   "cell_type": "code",
   "execution_count": null,
   "metadata": {},
   "outputs": [],
   "source": [
    "x, data_back = get_data_lines(fields_back)\n",
    "x, data_t = get_data_lines(fields_t)"
   ]
  },
  {
   "cell_type": "code",
   "execution_count": null,
   "metadata": {},
   "outputs": [],
   "source": [
    "# reshape data to desired shape\n",
    "\n",
    "def get_data_lines(data): \n",
    "    d_re = data[:rx_locs.shape[0]]\n",
    "    d_im = data[rx_locs.shape[0]:]\n",
    "\n",
    "    d_line1 = np.vstack([d_re[:101], d_im[:101]]).T\n",
    "    d_line2 = np.vstack([d_re[101:202], d_im[101:202]]).T\n",
    "    d_line3 = np.vstack([d_re[202:], d_im[202:]]).T\n",
    "    \n",
    "    return [d_line1, d_line2, d_line3]\n",
    "\n",
    "data_back_lines = get_data_lines(d_back)\n",
    "data_t_lines = get_data_lines(d_t)"
   ]
  },
  {
   "cell_type": "code",
   "execution_count": null,
   "metadata": {},
   "outputs": [],
   "source": [
    "fig, ax = plt.subplots(3, 2, figsize=(8, 9))\n",
    "\n",
    "# for i, d in enumerate(data_back):\n",
    "#     for j, comp in enumerate([\"real\", \"imag\"]):\n",
    "#         ax[i, j].semilogy(x, getattr(d, comp), \"C1-\")\n",
    "#         ax[i, j].semilogy(x, -getattr(d, comp), \"C1--\")\n",
    "\n",
    "for i, d in enumerate(data_back_lines):\n",
    "    for j, comp in enumerate([\"real\", \"imag\"]):\n",
    "        ax[i, j].semilogy(rec_x, d[:, j], \"C0-\")\n",
    "        ax[i, j].semilogy(rec_x, -d[:, j], \"C0--\")\n",
    "\n",
    "plt.tight_layout()"
   ]
  },
  {
   "cell_type": "code",
   "execution_count": null,
   "metadata": {},
   "outputs": [],
   "source": [
    "fig, ax = plt.subplots(3, 2, figsize=(8, 9))\n",
    "\n",
    "for i, d in enumerate(data_t_lines):\n",
    "    for j, comp in enumerate([\"real\", \"imag\"]):\n",
    "        ax[i, j].semilogy(rec_x, d[:, j], \"C0-\")\n",
    "        ax[i, j].semilogy(rec_x, -d[:, j], \"C0--\")\n",
    "\n",
    "plt.tight_layout()"
   ]
  },
  {
   "cell_type": "code",
   "execution_count": null,
   "metadata": {},
   "outputs": [],
   "source": [
    "def extract_lines(name):\n",
    "    import xarray as xr\n",
    "    inp = xr.load_dataset(name, engine='h5netcdf')\n",
    "    out = np.stack([\n",
    "        inp.line_1[::2]+1j*inp.line_1[1::2],\n",
    "        inp.line_2[::2]+1j*inp.line_2[1::2],\n",
    "        inp.line_3[::2]+1j*inp.line_3[1::2],\n",
    "    ]).T\n",
    "    return out\n",
    "\n",
    "epm_1d = extract_lines('../results/layered_empymod.nc')"
   ]
  },
  {
   "cell_type": "code",
   "execution_count": null,
   "metadata": {},
   "outputs": [],
   "source": [
    "epm_1d.shape"
   ]
  },
  {
   "cell_type": "code",
   "execution_count": null,
   "metadata": {},
   "outputs": [],
   "source": [
    "def get_pos_neg(resp, off, min_off):\n",
    "    \"\"\"Separate positive and negative values, enforce min_off.\"\"\"\n",
    "    resp_pos = np.array([x if x > 0 else np.nan for x in resp])\n",
    "    resp_neg = np.array([-x if x < 0 else np.nan for x in resp])\n",
    "\n",
    "    resp_pos[off < min_offset] = np.nan\n",
    "    resp_neg[off < min_offset] = np.nan\n",
    "\n",
    "    return resp_pos, resp_neg"
   ]
  },
  {
   "cell_type": "code",
   "execution_count": null,
   "metadata": {},
   "outputs": [],
   "source": [
    "# Calculate error\n",
    "error = {}\n",
    "spg_data = np.vstack([d[:, 0] + 1j*d[:, 1] for d in data_back_lines]).T\n",
    "for name, data in zip(['SimPEG'], [spg_data]):\n",
    "    rerr = np.clip(100*abs((epm_1d.real-data.real)/epm_1d.real), 0.01, 100)\n",
    "    ierr = np.clip(100*abs((epm_1d.imag-data.imag)/epm_1d.imag), 0.01, 100)\n",
    "    error[name] = rerr + 1j*ierr"
   ]
  },
  {
   "cell_type": "code",
   "execution_count": null,
   "metadata": {},
   "outputs": [],
   "source": [
    "marker = ['*', 'v', '^', 'o']\n",
    "min_offset = 500\n",
    "\n",
    "for iy, y in enumerate(rec_y[:2]):\n",
    "    \n",
    "    # Get offset\n",
    "    off = np.sqrt(rec_x**2 + y**2)\n",
    "\n",
    "    plt.figure(figsize=(9, 5))\n",
    "\n",
    "    # # Real\n",
    "    ax1 = plt.subplot(221)\n",
    "    plt.title('Real')\n",
    "\n",
    "    resp_pos, resp_neg = get_pos_neg(epm_1d[:, iy].real, off, min_offset)\n",
    "    plt.plot(rec_x/1e3, resp_pos, 'k-', label='empymod')\n",
    "    plt.plot(rec_x/1e3, resp_neg, 'k--')\n",
    "    \n",
    "    resp_pos, resp_neg = get_pos_neg(spg_data[:, iy].real, off, min_offset)\n",
    "    plt.plot(rec_x/1e3, resp_pos, f'C{i}-', ms=3, label=\"SimPEG\")\n",
    "    plt.plot(rec_x/1e3, resp_neg, f'C{i}--', ms=3)\n",
    "\n",
    "\n",
    "    plt.ylabel(r'$\\Re(E_x)$ (V/m)')\n",
    "    ax1.set_xticklabels([])\n",
    "    plt.grid(axis='y', c='0.9')\n",
    "\n",
    "\n",
    "    # # Real Error\n",
    "    ax2 = plt.subplot(223)\n",
    "\n",
    "    for i, name in enumerate(error.keys()):\n",
    "        error[name][off < min_offset, iy] = np.nan + 1j*np.nan\n",
    "        plt.plot(rec_x/1e3, error[name][:, iy].real, f'C{i}{marker[i]}', ms=3)\n",
    "\n",
    "    plt.yscale('log')\n",
    "    plt.xlim(ax1.get_xlim())\n",
    "    plt.ylabel('Rel. error %')\n",
    "#     plt.ylim([8e-3, 120])\n",
    "#     plt.yticks([0.01, 0.1, 1, 10, 100], ('0.01', '0.1', '1', '10', '100'))\n",
    "    plt.grid(axis='y', c='0.9')\n",
    "    plt.xlabel('Offset (km)')\n",
    "\n",
    "\n",
    "    # # Imaginary\n",
    "    ax3 = plt.subplot(222, sharey=ax1)\n",
    "    plt.title('Imaginary')\n",
    "\n",
    "    resp_pos, resp_neg = get_pos_neg(epm_1d[:, iy].imag, off, min_offset)\n",
    "    plt.plot(rec_x/1e3, resp_pos, 'k-', label='empymod')\n",
    "    plt.plot(rec_x/1e3, resp_neg, 'k--')\n",
    "    \n",
    "    resp_pos, resp_neg = get_pos_neg(spg_data[:, iy].imag, off, min_offset)\n",
    "    plt.plot(rec_x/1e3, resp_pos, f'C{i}-', ms=3, label=\"SimPEG\")\n",
    "    plt.plot(rec_x/1e3, resp_neg, f'C{i}--', ms=3)\n",
    "    \n",
    "    plt.yscale('log')\n",
    "    plt.ylabel(r'$\\Im(E_x)$ (V/m)')\n",
    "\n",
    "    ax3.set_xticklabels([])\n",
    "    ax3.yaxis.tick_right()\n",
    "    ax3.yaxis.set_label_position(\"right\")\n",
    "    plt.grid(axis='y', c='0.9')\n",
    "\n",
    "\n",
    "    # # Imaginary Error\n",
    "    ax4 = plt.subplot(224, sharey=ax2)\n",
    "\n",
    "    for i, name in enumerate(error.keys()):\n",
    "        plt.plot(rec_x/1e3, error[name][:, iy].imag, f'C{i}{marker[i]}', ms=3)\n",
    "\n",
    "    # Legend\n",
    "    plt.plot(0, -1, 'k', label='empymod')\n",
    "    for i, name in enumerate(error.keys()):\n",
    "        plt.plot(0, -1, f'C{i}', label=name)\n",
    "        \n",
    "    plt.yscale('log')\n",
    "    plt.xlim(ax1.get_xlim())\n",
    "    plt.xlabel('Offset (km)')\n",
    "    plt.ylabel('Rel. error (%)')\n",
    "#     plt.ylim([8e-3, 120])\n",
    "#     plt.yticks([0.01, 0.1, 1, 10, 100], ('0.01', '0.1', '1', '10', '100'))\n",
    "    ax4.yaxis.tick_right()\n",
    "    ax4.yaxis.set_label_position(\"right\")\n",
    "    plt.grid(axis='y', c='0.9')\n",
    "\n",
    "    # Switch off spines\n",
    "    ax1.spines['top'].set_visible(False)\n",
    "    ax1.spines['right'].set_visible(False)\n",
    "    ax2.spines['top'].set_visible(False)\n",
    "    ax2.spines['right'].set_visible(False)\n",
    "    ax3.spines['top'].set_visible(False)\n",
    "    ax3.spines['left'].set_visible(False)\n",
    "    ax4.spines['top'].set_visible(False)\n",
    "    ax4.spines['left'].set_visible(False)\n",
    "\n",
    "    plt.tight_layout()\n",
    "    plt.legend(loc=2, ncol=2, bbox_to_anchor=(-0.4, 1.2), framealpha=1)\n",
    "    \n",
    "    #plt.savefig(f'../manuscript/figures/results-layered-{int(y/1e3)}.pdf', bbox_inches='tight')\n",
    "    plt.suptitle(f'Receiver-line: {y/1e3} km')\n",
    "    plt.show()"
   ]
  },
  {
   "cell_type": "code",
   "execution_count": null,
   "metadata": {},
   "outputs": [],
   "source": []
  }
 ],
 "metadata": {
  "kernelspec": {
   "display_name": "Python 3",
   "language": "python",
   "name": "python3"
  },
  "language_info": {
   "codemirror_mode": {
    "name": "ipython",
    "version": 3
   },
   "file_extension": ".py",
   "mimetype": "text/x-python",
   "name": "python",
   "nbconvert_exporter": "python",
   "pygments_lexer": "ipython3",
   "version": "3.7.3"
  }
 },
 "nbformat": 4,
 "nbformat_minor": 4
}
