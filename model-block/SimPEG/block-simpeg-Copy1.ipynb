{
 "cells": [
  {
   "cell_type": "markdown",
   "metadata": {},
   "source": [
    "# Block Model using `SimPEG`\n",
    "\n"
   ]
  },
  {
   "cell_type": "markdown",
   "metadata": {},
   "source": [
    "Note on environment: running `simulation` branch of SimPEG"
   ]
  },
  {
   "cell_type": "code",
   "execution_count": 1,
   "metadata": {},
   "outputs": [],
   "source": [
    "# core python libraries we rely on\n",
    "import numpy as np\n",
    "import matplotlib.pyplot as plt\n",
    "import xarray as xr\n",
    "import time\n",
    "from datetime import datetime\n",
    "\n",
    "# SimPEG ecosystem \n",
    "import discretize\n",
    "from discretize.utils import mkvc\n",
    "import SimPEG\n",
    "from SimPEG.electromagnetics import frequency_domain as fdem\n",
    "from pymatsolver import Pardiso\n",
    "import ipywidgets\n",
    "%load_ext memory_profiler"
   ]
  },
  {
   "cell_type": "markdown",
   "metadata": {},
   "source": [
    "## load the model and survey"
   ]
  },
  {
   "cell_type": "code",
   "execution_count": 2,
   "metadata": {},
   "outputs": [],
   "source": [
    "# 1D background\n",
    "depth = [0., -600, -850, -3150]\n",
    "res1d = [1e8, 0.3, 1, 2, 1000]\n",
    "aniso = [1, 1, 1, np.sqrt(2), 1]\n",
    "\n",
    "# Define dimensions of the three blocks [x1, x2, y1, y2, z1, z2]\n",
    "block1 = [ -500,  500, -4000, 4000,  -1600, -850]\n",
    "block2 = [    0, 5000, -3000,    0,  -1850, -1600]\n",
    "block3 = [-5000,    0,     0, 3000, -2900, -1600]\n",
    "\n",
    "# Resistivities Block 1, 2, and 3\n",
    "resistivities = [10, 100, 500]"
   ]
  },
  {
   "cell_type": "code",
   "execution_count": 3,
   "metadata": {},
   "outputs": [],
   "source": [
    "ds = xr.load_dataset('../block_model_and_survey.nc', engine='h5netcdf')"
   ]
  },
  {
   "cell_type": "code",
   "execution_count": 4,
   "metadata": {},
   "outputs": [
    {
     "data": {
      "text/html": [
       "<table>\n",
       "  <tr>\n",
       "    <td style='font-weight: bold; font-size: 1.2em; text-align: center;' colspan='3'>TensorMesh</td>\n",
       "    <td style='font-size: 1.2em; text-align: center;'colspan='4'>288 cells</td>\n",
       "  </tr>\n",
       "  <tr>\n",
       "    <th></th>\n",
       "    <th></th>\n",
       "    <th colspan='2' style='padding: 5px 20px 5px 20px;'>MESH EXTENT</th>\n",
       "    <th colspan='2' style='padding: 5px 20px 5px 20px;'>CELL WIDTH</th>\n",
       "    <th style='padding: 5px 20px 5px 20px;'>FACTOR</th>\n",
       "  </tr>\n",
       "  <tr>\n",
       "    <th style='padding: 5px 20px 5px 20px;'>dir</th>\n",
       "    <th style='padding: 5px 20px 5px 20px;'>nC</th>\n",
       "    <th style='padding: 5px 20px 5px 20px;'>min</th>\n",
       "    <th style='padding: 5px 20px 5px 20px;'>max</th>\n",
       "    <th style='padding: 5px 20px 5px 20px;'>min</th>\n",
       "    <th style='padding: 5px 20px 5px 20px;'>max</th>\n",
       "    <th style='padding: 5px 20px 5px 20px;'>max</th>\n",
       "  </tr>\n",
       "  <tr>\n",
       "    <td style='padding: 5px 20px 5px 20px;'>x</td>\n",
       "    <td style='padding: 5px 20px 5px 20px;'>6</td>\n",
       "    <td style='padding: 5px 20px 5px 20px;'>-10,000.00</td>\n",
       "    <td style='padding: 5px 20px 5px 20px;'>10,000.00</td>\n",
       "    <td style='padding: 5px 20px 5px 20px;'>500.00</td>\n",
       "    <td style='padding: 5px 20px 5px 20px;'>5,000.00</td>\n",
       "    <td style='padding: 5px 20px 5px 20px;'>9.00</td>\n",
       "  </tr>\n",
       "  <tr>\n",
       "    <td style='padding: 5px 20px 5px 20px;'>y</td>\n",
       "    <td style='padding: 5px 20px 5px 20px;'>6</td>\n",
       "    <td style='padding: 5px 20px 5px 20px;'>-10,000.00</td>\n",
       "    <td style='padding: 5px 20px 5px 20px;'>10,000.00</td>\n",
       "    <td style='padding: 5px 20px 5px 20px;'>1,000.00</td>\n",
       "    <td style='padding: 5px 20px 5px 20px;'>6,000.00</td>\n",
       "    <td style='padding: 5px 20px 5px 20px;'>6.00</td>\n",
       "  </tr>\n",
       "  <tr>\n",
       "    <td style='padding: 5px 20px 5px 20px;'>z</td>\n",
       "    <td style='padding: 5px 20px 5px 20px;'>8</td>\n",
       "    <td style='padding: 5px 20px 5px 20px;'>-3,400.00</td>\n",
       "    <td style='padding: 5px 20px 5px 20px;'>500.00</td>\n",
       "    <td style='padding: 5px 20px 5px 20px;'>250.00</td>\n",
       "    <td style='padding: 5px 20px 5px 20px;'>1,050.00</td>\n",
       "    <td style='padding: 5px 20px 5px 20px;'>4.20</td>\n",
       "  </tr>\n",
       "</table>\n"
      ],
      "text/plain": [
       "\n",
       "  TensorMesh: 288 cells\n",
       "\n",
       "                      MESH EXTENT             CELL WIDTH      FACTOR\n",
       "  dir    nC        min           max         min       max      max\n",
       "  ---   ---  ---------------------------  ------------------  ------\n",
       "   x      6    -10,000.00     10,000.00    500.00  5,000.00    9.00\n",
       "   y      6    -10,000.00     10,000.00  1,000.00  6,000.00    6.00\n",
       "   z      8     -3,400.00        500.00    250.00  1,050.00    4.20\n"
      ]
     },
     "execution_count": 4,
     "metadata": {},
     "output_type": "execute_result"
    }
   ],
   "source": [
    "hx, hy, hz = ds.attrs['hx'], ds.attrs['hy'], ds.attrs['hz']\n",
    "x0 = ds.attrs['x0']\n",
    "mesh_model = discretize.TensorMesh([hx, hy, hz], x0=x0)\n",
    "\n",
    "mesh_model"
   ]
  },
  {
   "cell_type": "code",
   "execution_count": 5,
   "metadata": {},
   "outputs": [],
   "source": [
    "resh_bg, resv_bg = ds.attrs['resh_bg'], ds.attrs['resv_bg']\n",
    "resh_tg, resv_bg = ds.attrs['resh_tg'], ds.attrs['resv_tg']"
   ]
  },
  {
   "cell_type": "code",
   "execution_count": 6,
   "metadata": {},
   "outputs": [
    {
     "data": {
      "image/png": "[encoded data removed]",
      "text/plain": [
       "<Figure size 720x576 with 8 Axes>"
      ]
     },
     "metadata": {
      "needs_background": "light"
     },
     "output_type": "display_data"
    }
   ],
   "source": [
    "fig, ax = plt.subplots(2, 2, figsize=(10, 8))\n",
    "\n",
    "for a, m in zip(ax.flatten(), ['resh_bg', 'resv_bg', 'resh_tg', 'resv_tg']):\n",
    "    cb = plt.colorbar(\n",
    "        mesh_model.plotSlice(np.log10(ds.attrs[m]), ax=a, normal='X')[0], ax=a\n",
    "    )\n",
    "    a.set_title(m)\n",
    "    cb.set_label(\"log$_10$($\\\\rho$)\")\n",
    "\n",
    "plt.tight_layout()"
   ]
  },
  {
   "cell_type": "code",
   "execution_count": 7,
   "metadata": {},
   "outputs": [
    {
     "name": "stdout",
     "output_type": "stream",
     "text": [
      "[-100.  100.    0.    0. -550. -550.]\n"
     ]
    }
   ],
   "source": [
    "# Get Survey\n",
    "src = ds.attrs['src']\n",
    "strength = ds.attrs['strength']\n",
    "freq = ds.attrs['freq']\n",
    "rec_x = ds.x.data[::2]\n",
    "rec_y = ds.attrs['rec_y']\n",
    "rec_z = ds.attrs['rec_z'] - 0.01\n",
    "rx_locs = discretize.utils.ndgrid([rec_x, rec_y, np.r_[rec_z]])\n",
    "\n",
    "# Get source center (for meshing)\n",
    "src_c = np.mean(src.reshape(-1, 2), 1)\n",
    "print(src)"
   ]
  },
  {
   "cell_type": "code",
   "execution_count": 8,
   "metadata": {},
   "outputs": [
    {
     "name": "stdout",
     "output_type": "stream",
     "text": [
      "skin depth: [2.75504446e+02 5.03000000e+02 7.11349422e+02 1.59062566e+04\n",
      " 5.03000000e+06]\n"
     ]
    }
   ],
   "source": [
    "print(\n",
    "    f\"skin depth: {503/np.sqrt(freq/np.unique(resh_bg))}\"\n",
    ")"
   ]
  },
  {
   "cell_type": "markdown",
   "metadata": {},
   "source": [
    "## create a computational mesh"
   ]
  },
  {
   "cell_type": "code",
   "execution_count": 9,
   "metadata": {},
   "outputs": [],
   "source": [
    "dx, dy, dz = 100, 200, 50 \n",
    "domain_x, domain_y, domain_z = 2e4, 6e3, np.abs(depth).max()\n",
    "\n",
    "ncore_x = domain_x/dx\n",
    "ncore_y = domain_y/dy\n",
    "ncore_z = domain_z/dz\n",
    "\n",
    "# print(ncore_x, ncore_y, ncore_z, ncore_x*ncore_y*ncore_z)\n",
    "\n",
    "# npad_x = 18\n",
    "# npad_y = 16\n",
    "# npad_z = 20\n",
    "\n",
    "# ncx = 2**int(np.ceil(np.log(ncore_x + npad_x*2)/np.log(2.)))\n",
    "# ncy = 2*2**int(np.ceil(np.log(ncore_y + npad_y*2)/np.log(2.)))\n",
    "# ncz = 2**int(np.ceil(np.log(ncore_z + npad_z*2)/np.log(2.)))\n",
    "\n",
    "# print(ncx, ncy, ncz, ncx*ncy*ncz)\n",
    "\n",
    "# pf = 1.35\n",
    "# pfz = 1.35"
   ]
  },
  {
   "cell_type": "code",
   "execution_count": 10,
   "metadata": {},
   "outputs": [],
   "source": [
    "# # define the base mesh\n",
    "# def make_mesh(refine_blocks = False):\n",
    "#     mesh = discretize.TreeMesh(\n",
    "#         [\n",
    "#             [(dx, npad_x, -pf), (dx, ncx-npad_x*2), (dx, npad_x, pf)], \n",
    "#             [(dy, npad_y, -pf), (dy, ncy-npad_y*2), (dy, npad_y, pf)], \n",
    "#             [(dz, npad_z, -pf), (dz, ncz-npad_z*2), (dz, npad_z, pf)]\n",
    "#         ]\n",
    "#     )\n",
    "\n",
    "#     mesh.x0 = np.r_[\n",
    "#         -np.sum(mesh.h[0])/2., -np.sum(mesh.h[1])/2., -np.sum(mesh.h[2][:ncz-npad_z])\n",
    "#     ]\n",
    "\n",
    "\n",
    "#     # refine around the layers \n",
    "#     xrefine = 2.25*domain_x*np.r_[-1, 1]\n",
    "#     yrefine = 1.5*domain_x*np.r_[-1, 1]\n",
    "\n",
    "#     for d in depth: \n",
    "#         xr, yr, zr = np.meshgrid(xrefine, yrefine, np.r_[d])\n",
    "#         surface_refine = np.c_[mkvc(xr), mkvc(yr), mkvc(zr)]\n",
    "#         mesh = discretize.utils.refine_tree_xyz(\n",
    "#             mesh, surface_refine, \n",
    "#             octree_levels=[1, 1], method=\"surface\", finalize=False\n",
    "#         )\n",
    "\n",
    "#     # refine around the sources and receivers\n",
    "#     xr, yr, zr = np.meshgrid(src[0:2], src[2] + dy/2*np.r_[-1, 1], src[4] + dz/2*np.r_[-1, 1]) \n",
    "#     src_refine = np.c_[mkvc(xr), mkvc(yr), mkvc(zr)]\n",
    "#     mesh = discretize.utils.refine_tree_xyz(\n",
    "#         mesh, src_refine, \n",
    "#         octree_levels=[4, 4, 4, 2], method=\"box\", finalize=False\n",
    "#     )\n",
    "\n",
    "#     mesh = discretize.utils.refine_tree_xyz(\n",
    "#         mesh, rx_locs, \n",
    "#         octree_levels=[8, 4, 4, 2], method=\"radial\", finalize=False\n",
    "#     )\n",
    "\n",
    "#     if refine_blocks:\n",
    "#         # refine around the blocks\n",
    "#         for b in [block1, block2, block3]:\n",
    "#             for xb, yb, zb in zip(\n",
    "#                 [b[0], b[1], b[0:2], b[0:2], b[0:2], b[0:2]], # x\n",
    "#                 [b[2:4], b[2:4], b[2], b[3], b[2:4], b[2:4]], # y\n",
    "#                 [b[4:6], b[4:6], b[4:6], b[4:6], b[4], b[5]]  # z\n",
    "#             ):\n",
    "#                 if not isinstance(xb, list):\n",
    "#                     xb = xb + 2*dx*np.r_[-1, 1]\n",
    "#                 elif not isinstance(yb, list): \n",
    "#                     yb = yb + 2*dy*np.r_[-1, 1]\n",
    "#                 elif not isinstance(zb, list): \n",
    "#                     zb = zb + 2*dz*np.r_[-1, 1]\n",
    "\n",
    "#                 xr, yr, zr = np.meshgrid(xb, yb, zb) \n",
    "#                 surface_refine = np.c_[mkvc(xr), mkvc(yr), mkvc(zr)]\n",
    "#                 mesh = discretize.utils.refine_tree_xyz(\n",
    "#                     mesh, surface_refine, \n",
    "#                     octree_levels=[2, 1, 1],\n",
    "#                     method=\"box\", finalize=False\n",
    "#                 )\n",
    "\n",
    "#     mesh.finalize()\n",
    "    \n",
    "#     return mesh"
   ]
  },
  {
   "cell_type": "code",
   "execution_count": 11,
   "metadata": {},
   "outputs": [],
   "source": [
    "pad_x = 20000\n",
    "pad_y = 20000\n",
    "pad_z = 20000\n",
    "\n",
    "length_x = pad_x * 2 + domain_x\n",
    "length_y = pad_y * 2 + domain_y\n",
    "length_z = pad_z * 2 + domain_z\n",
    "\n",
    "nx = int(length_x/dx)\n",
    "ny = int(length_y/dy)\n",
    "nz = int(length_z/dz)\n",
    "\n",
    "nx = 2**int(np.ceil(np.log(nx)/np.log(2.)))\n",
    "ny = 2**int(np.ceil(np.log(ny)/np.log(2.)))\n",
    "nz = 2**int(np.ceil(np.log(nz)/np.log(2.)))\n",
    "\n",
    "hx = np.ones(nx) * dx\n",
    "hy = np.ones(ny) * dy\n",
    "hz = np.ones(nz) * dz\n",
    "mesh_t = discretize.TreeMesh([hx, hy, hz], x0=[-hx.sum()/2-dx/2., -hy.sum()/2, -hz.sum()/2.])\n",
    "\n",
    "# refine around the layers \n",
    "for i_layer, d in enumerate(depth[:3]):     \n",
    "    xrefine = domain_x*2*np.r_[-1, 1]\n",
    "    yrefine = domain_x*1.5*np.r_[-1, 1]    \n",
    "        \n",
    "    xr, yr, zr = np.meshgrid(xrefine, yrefine, np.r_[d])\n",
    "    surface_refine = np.c_[mkvc(xr), mkvc(yr), mkvc(zr)]\n",
    "    mesh_t = discretize.utils.refine_tree_xyz(\n",
    "        mesh_t, surface_refine, \n",
    "        octree_levels=[0, 0, 1], method=\"surface\", finalize=False\n",
    "    )\n",
    "\n",
    "# refine around the blocks\n",
    "for b in [block1, block2, block3]:\n",
    "    for xb, yb, zb in zip(\n",
    "        [b[0], b[1], b[0:2], b[0:2], b[0:2], b[0:2]], # x\n",
    "        [b[2:4], b[2:4], b[2], b[3], b[2:4], b[2:4]], # y\n",
    "        [b[4:6], b[4:6], b[4:6], b[4:6], b[4], b[5]]  # z\n",
    "    ):\n",
    "        if not isinstance(xb, list):\n",
    "            xb = xb + 2*dx*np.r_[-1, 1]\n",
    "        elif not isinstance(yb, list): \n",
    "            yb = yb + 2*dy*np.r_[-1, 1]\n",
    "        elif not isinstance(zb, list): \n",
    "            zb = zb + 2*dz*np.r_[-1, 1]\n",
    "\n",
    "        xr, yr, zr = np.meshgrid(xb, yb, zb) \n",
    "        surface_refine = np.c_[mkvc(xr), mkvc(yr), mkvc(zr)]\n",
    "        mesh_t = discretize.utils.refine_tree_xyz(\n",
    "            mesh_t, surface_refine, \n",
    "            octree_levels=[0, 0, 1],\n",
    "            method=\"box\", finalize=False\n",
    "        )\n",
    "\n",
    "# refine around the sources and receivers\n",
    "xr, yr, zr = np.meshgrid(src[0:2], src[2] + dy/2*np.r_[-1, 1], src[4] + dz/2*np.r_[-1, 1]) \n",
    "src_refine = np.c_[mkvc(xr), mkvc(yr), mkvc(zr)]\n",
    "mesh_t = discretize.utils.refine_tree_xyz(\n",
    "    mesh_t, src_refine, \n",
    "    octree_levels=[4, 4, 2, 2], method=\"box\", finalize=False\n",
    ")\n",
    "\n",
    "mesh_t = discretize.utils.refine_tree_xyz(\n",
    "    mesh_t, rx_locs, \n",
    "    octree_levels=[8, 4, 2, 2], method=\"radial\", finalize=False\n",
    ")\n",
    "mesh_t.finalize()"
   ]
  },
  {
   "cell_type": "code",
   "execution_count": 12,
   "metadata": {},
   "outputs": [
    {
     "name": "stdout",
     "output_type": "stream",
     "text": [
      "286533\n"
     ]
    }
   ],
   "source": [
    "print(mesh_t.nC)"
   ]
  },
  {
   "cell_type": "code",
   "execution_count": 13,
   "metadata": {},
   "outputs": [
    {
     "data": {
      "text/html": [
       "<table>\n",
       "<tr>\n",
       "<td style='font-weight: bold; font-size: 1.2em; text-align: center;'>OcTreeMesh</td>\n",
       "<td style='font-size: 1.2em; text-align: center;' colspan='2'>0.11% filled</td>\n",
       "</tr>\n",
       "<tr>\n",
       "<td>\n",
       "<table>\n",
       "<tr>\n",
       "<th style='padding: 5px 20px 5px 20px;'>Level</th>\n",
       "<th style='padding: 5px 20px 5px 20px;'>Number of cells</th>\n",
       "</tr>\n",
       "<tr>\n",
       "<td style='padding: 5px 20px 5px 20px;'>1</td>\n",
       "<td style='padding: 5px 20px 5px 20px;'>2</td>\n",
       "</tr>\n",
       "<tr>\n",
       "<td style='padding: 5px 20px 5px 20px;'>2</td>\n",
       "<td style='padding: 5px 20px 5px 20px;'>56</td>\n",
       "</tr>\n",
       "<tr>\n",
       "<td style='padding: 5px 20px 5px 20px;'>3</td>\n",
       "<td style='padding: 5px 20px 5px 20px;'>252</td>\n",
       "</tr>\n",
       "<tr>\n",
       "<td style='padding: 5px 20px 5px 20px;'>4</td>\n",
       "<td style='padding: 5px 20px 5px 20px;'>824</td>\n",
       "</tr>\n",
       "<tr>\n",
       "<td style='padding: 5px 20px 5px 20px;'>5</td>\n",
       "<td style='padding: 5px 20px 5px 20px;'>3080</td>\n",
       "</tr>\n",
       "<tr>\n",
       "<td style='padding: 5px 20px 5px 20px;'>6</td>\n",
       "<td style='padding: 5px 20px 5px 20px;'>11720</td>\n",
       "</tr>\n",
       "<tr>\n",
       "<td style='padding: 5px 20px 5px 20px;'>7</td>\n",
       "<td style='padding: 5px 20px 5px 20px;'>81289</td>\n",
       "</tr>\n",
       "<tr>\n",
       "<td style='padding: 5px 20px 5px 20px;'>8</td>\n",
       "<td style='padding: 5px 20px 5px 20px;'>53038</td>\n",
       "</tr>\n",
       "<tr>\n",
       "<td style='padding: 5px 20px 5px 20px;'>9</td>\n",
       "<td style='padding: 5px 20px 5px 20px;'>136272</td>\n",
       "</tr>\n",
       "<tr>\n",
       "<td style='font-weight: bold; padding: 5px 20px 5px 20px;'> Total </td>\n",
       "<td style='padding: 5px 20px 5px 20px;'> 286533 </td>\n",
       "</tr>\n",
       "</table>\n",
       "</td>\n",
       "<td>\n",
       "<table>\n",
       "<tr>\n",
       "<th></th>\n",
       "<th style='padding: 5px 20px 5px 20px;' colspan='2'>Mesh extent</th>\n",
       "<th style='padding: 5px 20px 5px 20px;' colspan='2'>Cell widths</th>\n",
       "</tr>\n",
       "<tr>\n",
       "<th></th>\n",
       "<th style='padding: 5px 20px 5px 20px;'>min</th>\n",
       "<th style='padding: 5px 20px 5px 20px;'>max</th>\n",
       "<th style='padding: 5px 20px 5px 20px;'>min</th>\n",
       "<th style='padding: 5px 20px 5px 20px;'>max</th>\n",
       "</tr>\n",
       "<tr>\n",
       "<td style='padding: 5px 20px 5px 20px;'>x</td>\n",
       "<td style='padding: 5px 20px 5px 20px;'>-51250.0</td>\n",
       "<td style='padding: 5px 20px 5px 20px;'>51150.0</td>\n",
       "<td style='padding: 5px 20px 5px 20px;'>100.0</td>\n",
       "<td style='padding: 5px 20px 5px 20px;'>25600.0</td>\n",
       "</tr>\n",
       "<tr>\n",
       "<td style='padding: 5px 20px 5px 20px;'>y</td>\n",
       "<td style='padding: 5px 20px 5px 20px;'>-25600.0</td>\n",
       "<td style='padding: 5px 20px 5px 20px;'>25600.0</td>\n",
       "<td style='padding: 5px 20px 5px 20px;'>200.0</td>\n",
       "<td style='padding: 5px 20px 5px 20px;'>51200.0</td>\n",
       "</tr>\n",
       "<tr>\n",
       "<td style='padding: 5px 20px 5px 20px;'>z</td>\n",
       "<td style='padding: 5px 20px 5px 20px;'>-25600.0</td>\n",
       "<td style='padding: 5px 20px 5px 20px;'>25600.0</td>\n",
       "<td style='padding: 5px 20px 5px 20px;'>50.0</td>\n",
       "<td style='padding: 5px 20px 5px 20px;'>12800.0</td>\n",
       "</tr>\n",
       "</table>\n",
       "</td>\n",
       "</tr>\n",
       "</table>\n"
      ],
      "text/plain": [
       "\n",
       "OcTreeMesh: 0.11% filled\n",
       "\n",
       "Level : Number of cells               Mesh Extent               Cell Widths    \n",
       "-----------------------           min     ,     max            min   ,   max   \n",
       "  1   :        2             ---------------------------   --------------------\n",
       "  2   :       56          x:   -51250.0   ,   51150.0        100.0   ,  25600.0  \n",
       "  3   :       252         y:   -25600.0   ,   25600.0        200.0   ,  51200.0  \n",
       "  4   :       824         z:   -25600.0   ,   25600.0         50.0   ,  12800.0  \n",
       "  5   :      3080      \n",
       "  6   :      11720     \n",
       "  7   :      81289     \n",
       "  8   :      53038     \n",
       "  9   :     136272     \n",
       "-----------------------\n",
       "Total :     286533     "
      ]
     },
     "execution_count": 13,
     "metadata": {},
     "output_type": "execute_result"
    }
   ],
   "source": [
    "mesh_t"
   ]
  },
  {
   "cell_type": "code",
   "execution_count": 14,
   "metadata": {},
   "outputs": [],
   "source": [
    "def plot_mesh(normal=\"Y\", ind=1024, xmin=-10000, xmax=10000, ymin=-4000, ymax=100):\n",
    "    fig, ax = plt.subplots(1, 1)\n",
    "    mesh_t.plotSlice(np.log10(mesh_t.vol), normal=normal, grid=True, ax=ax, ind=ind)\n",
    "    ax.set_xlim([xmin, xmax])\n",
    "    ax.set_ylim([ymin, ymax])"
   ]
  },
  {
   "cell_type": "code",
   "execution_count": 15,
   "metadata": {},
   "outputs": [
    {
     "data": {
      "application/vnd.jupyter.widget-view+json": {
       "model_id": "f00a5fe8909e4bfd82de4eac1ef88cfc",
       "version_major": 2,
       "version_minor": 0
      },
      "text/plain": [
       "interactive(children=(ToggleButtons(description='normal', index=1, options=('X', 'Y', 'Z'), value='Y'), IntSli…"
      ]
     },
     "metadata": {},
     "output_type": "display_data"
    },
    {
     "data": {
      "text/plain": [
       "<function __main__.plot_mesh(normal='Y', ind=1024, xmin=-10000, xmax=10000, ymin=-4000, ymax=100)>"
      ]
     },
     "execution_count": 15,
     "metadata": {},
     "output_type": "execute_result"
    }
   ],
   "source": [
    "max_h = np.max([len(h) for h in mesh_t.h])\n",
    "ipywidgets.interact(\n",
    "    plot_mesh,\n",
    "    normal=ipywidgets.ToggleButtons(options=[\"X\", \"Y\", \"Z\"], value=\"Y\"),\n",
    "    ind=ipywidgets.IntSlider(min=0, max=max_h, value=int(len(mesh_t.h[1])/2)),\n",
    "    xmin=ipywidgets.FloatText(value=-domain_x),\n",
    "    xmax=ipywidgets.FloatText(value=domain_x),\n",
    "    ymin=ipywidgets.FloatText(value=-4000),\n",
    "    ymax=ipywidgets.FloatText(value=100)\n",
    ")"
   ]
  },
  {
   "cell_type": "markdown",
   "metadata": {},
   "source": [
    "### put the model on the computational mesh"
   ]
  },
  {
   "cell_type": "code",
   "execution_count": 16,
   "metadata": {},
   "outputs": [],
   "source": [
    "mesh_tensor = discretize.TensorMesh(\n",
    "    [\n",
    "        [(dx, nx)], \n",
    "        [(dy, ny)], \n",
    "        [(dz, nz)]\n",
    "    ]\n",
    ")\n",
    "mesh_tensor.x0 = np.r_[-np.sum(mesh_tensor.h[0])/2., -np.sum(mesh_tensor.h[1])/2., -5000.]\n",
    "rho_z_h = np.ones(mesh_tensor.nC) * 1e8\n",
    "rho_z_v = np.ones(mesh_tensor.nC) * 1e8\n",
    "depth_new = np.r_[np.array(depth), -np.Inf]\n",
    "z = mesh_tensor.gridCC[:,2]\n",
    "for ii in range(4):\n",
    "    inds = np.logical_and(z<depth_new[ii], z>depth_new[ii+1])\n",
    "    rho_z_h[inds] = res1d[ii+1]\n",
    "    rho_z_v[inds] = res1d[ii+1] * aniso[ii+1]**2\n",
    "\n",
    "for r, b in zip(resistivities, [block1, block2, block3]):\n",
    "    inds = (\n",
    "        (mesh_tensor.gridCC[:, 0] >= b[0]) & (mesh_tensor.gridCC[:, 0] <= b[1]) &\n",
    "        (mesh_tensor.gridCC[:, 1] >= b[2]) & (mesh_tensor.gridCC[:, 1] <= b[3]) &\n",
    "        (mesh_tensor.gridCC[:, 2] >= b[4]) & (mesh_tensor.gridCC[:, 2] <= b[5])\n",
    "    )\n",
    "    rho_z_h[inds] = r\n",
    "    rho_z_v[inds] = r"
   ]
  },
  {
   "cell_type": "code",
   "execution_count": 17,
   "metadata": {},
   "outputs": [],
   "source": [
    "# Use volume averaging in log space\n",
    "from discretize.utils.interputils import volume_average\n",
    "rhoh_t = np.exp(volume_average(mesh_tensor, mesh_t, np.log(rho_z_h)))\n",
    "rhov_t = np.exp(volume_average(mesh_tensor, mesh_t, np.log(rho_z_v)))"
   ]
  },
  {
   "cell_type": "code",
   "execution_count": 18,
   "metadata": {},
   "outputs": [],
   "source": [
    "# def build_model(mesh, blocks=False): \n",
    "#     rhoh = res1d[0]*np.ones(mesh.nC)\n",
    "#     rhov = res1d[0]*np.ones(mesh.nC)\n",
    "    \n",
    "#     for r, a, d in zip(res1d[1:], aniso[1:], depth):\n",
    "#         inds = mesh.gridCC[:, 2] <= d \n",
    "#         rhoh[inds] = r\n",
    "#         rhov[inds] = r*a**2\n",
    "    \n",
    "#     # find the cells where we have coarsened over an interface\n",
    "#     inds_outside_domain = (\n",
    "#         (mesh.gridCC[:, 0] <= -domain_x) | (mesh.gridCC[:, 0] >= domain_x) |\n",
    "#         (mesh.gridCC[:, 1] <= -domain_y) | (mesh.gridCC[:, 1] >= domain_y) |\n",
    "#         (mesh.gridCC[:, 2] <= -domain_z)\n",
    "#     )\n",
    "\n",
    "#     cell_tops = mesh.gridCC[:, 2] + mesh.h_gridded[:, 2]/2\n",
    "#     cell_bottoms = mesh.gridCC[:, 2] - mesh.h_gridded[:, 2]/2\n",
    "\n",
    "#     inds_crossing_layers = np.zeros(mesh.nC, dtype=bool)\n",
    "#     layer_inds_crossed = 999 * np.ones(mesh.nC, dtype=int)\n",
    "#     for i, d in enumerate(depth):\n",
    "#         crossing_layer = ((d < cell_tops) & (d > cell_bottoms))\n",
    "#         layer_inds_crossed[crossing_layer] = i\n",
    "#         inds_crossing_layers = inds_crossing_layers | crossing_layer\n",
    "\n",
    "#     inds_to_average = inds_outside_domain & inds_crossing_layers\n",
    "\n",
    "#     for i in np.where(inds_to_average)[0]:\n",
    "#         cell_top = cell_tops[i]\n",
    "#         cell_bottom = cell_bottoms[i]\n",
    "#         d = depth[layer_inds_crossed[i]]\n",
    "        \n",
    "#         rhoha = res1d[layer_inds_crossed[i]]\n",
    "#         rhohb = res1d[layer_inds_crossed[i]+1]\n",
    "        \n",
    "#         rhova = res1d[layer_inds_crossed[i]] * aniso[layer_inds_crossed[i]]\n",
    "#         rhovb = res1d[layer_inds_crossed[i]+1] * aniso[layer_inds_crossed[i]+1]**2\n",
    "        \n",
    "#         rhoh[i] = 1./(\n",
    "#             (1./rhoha * (cell_top - d) + 1./rhohb * (d - cell_bottom)) / (cell_top - cell_bottom)\n",
    "#         )\n",
    "#         rhov[i] = (\n",
    "#             (rhova * (cell_top - d) + rhovb * (d - cell_bottom)) / (cell_top - cell_bottom)\n",
    "#         )\n",
    "        \n",
    "# #         rhoh[i] = np.exp(\n",
    "# #             (np.log(rhoha) * (cell_top - d) + np.log(rhohb) * (d - cell_bottom)) / (cell_top - cell_bottom)\n",
    "# #         )\n",
    "# #         rhov[i] = np.exp(\n",
    "# #             (np.log(rhova) * (cell_top - d) + np.log(rhovb) * (d - cell_bottom)) / (cell_top - cell_bottom)\n",
    "# #         )\n",
    "    \n",
    "#     if blocks: \n",
    "#         for r, b in zip(resistivities, [block1, block2, block3]):\n",
    "#             inds = (\n",
    "#                 (mesh.gridCC[:, 0] >= b[0]) & (mesh.gridCC[:, 0] <= b[1]) &\n",
    "#                 (mesh.gridCC[:, 1] >= b[2]) & (mesh.gridCC[:, 1] <= b[3]) &\n",
    "#                 (mesh.gridCC[:, 2] >= b[4]) & (mesh.gridCC[:, 2] <= b[5])\n",
    "#             )\n",
    "#             rhoh[inds] = r\n",
    "#             rhov[inds] = r\n",
    "    \n",
    "#     return rhoh, rhov"
   ]
  },
  {
   "cell_type": "code",
   "execution_count": 19,
   "metadata": {},
   "outputs": [],
   "source": [
    "# rhoh_b, rhov_b = build_model(mesh_b, False)\n",
    "# rhoh_t, rhov_t = build_model(mesh_t, True)"
   ]
  },
  {
   "cell_type": "code",
   "execution_count": 20,
   "metadata": {},
   "outputs": [
    {
     "data": {
      "image/png": "[encoded data removed]",
      "text/plain": [
       "<Figure size 720x288 with 4 Axes>"
      ]
     },
     "metadata": {
      "needs_background": "light"
     },
     "output_type": "display_data"
    }
   ],
   "source": [
    "fig, ax = plt.subplots(1, 2, figsize=(10, 4))\n",
    "\n",
    "for a, m, mesh in zip(\n",
    "    ax.flatten(), \n",
    "    [rhoh_t, rhov_t], \n",
    "    [mesh_t, mesh_t]\n",
    "):\n",
    "    cb = plt.colorbar(\n",
    "        mesh.plotSlice(\n",
    "            np.log10(m), ax=a, normal='Y', pcolorOpts={\"vmin\":-1, \"vmax\":4},\n",
    "            grid=True\n",
    "        )[0], ax=a\n",
    "    )\n",
    "    cb.set_label(\"log$_10$($\\\\rho$)\")\n",
    "#     a.set_xlim(20*domain_x*np.r_[-1, 1])\n",
    "    a.set_ylim([-4000, 100])\n",
    "\n",
    "plt.tight_layout()"
   ]
  },
  {
   "cell_type": "code",
   "execution_count": 21,
   "metadata": {},
   "outputs": [],
   "source": [
    "# rho_b = np.vstack([rhoh_b, rhoh_b, rhov_b]).T\n",
    "rho_t = np.vstack([rhoh_t, rhoh_t, rhov_t]).T"
   ]
  },
  {
   "cell_type": "markdown",
   "metadata": {},
   "source": [
    "## set up the frequency domain simulation"
   ]
  },
  {
   "cell_type": "code",
   "execution_count": 22,
   "metadata": {},
   "outputs": [],
   "source": [
    "rx_re = fdem.receivers.Point_e(locations=rx_locs, orientation=\"x\", component=\"real\")\n",
    "rx_im = fdem.receivers.Point_e(locations=rx_locs, orientation=\"x\", component=\"imag\")"
   ]
  },
  {
   "cell_type": "code",
   "execution_count": 23,
   "metadata": {},
   "outputs": [],
   "source": [
    "def build_source(mesh): \n",
    "    src_x = np.zeros(mesh.nEx)\n",
    "    src_inds = (\n",
    "        (mesh.gridEx[:, 0] >= src[0] - 1) & (mesh.gridEx[:, 0] <= src[1] + 1) &\n",
    "        (mesh.gridEx[:, 1] >= src[2] - 1) & (mesh.gridEx[:, 1] <= src[3] + 1) &\n",
    "        (mesh.gridEx[:, 2] >= src[4] - 1) & (mesh.gridEx[:, 2] <= src[5] + 1) \n",
    "    )\n",
    "    src_x[src_inds] = 1\n",
    "    print(src_inds.nonzero())\n",
    "\n",
    "    src_vec = strength * mesh.edge * np.hstack([\n",
    "        src_x, np.zeros(mesh.nEy), np.zeros(mesh.nEz)\n",
    "    ])\n",
    "    source = fdem.sources.RawVec_e(s_e=src_vec, freq=freq, receiver_list=[rx_re, rx_im])\n",
    "    return source"
   ]
  },
  {
   "cell_type": "code",
   "execution_count": 24,
   "metadata": {},
   "outputs": [
    {
     "name": "stdout",
     "output_type": "stream",
     "text": [
      "(array([117286, 118016, 119234]),)\n"
     ]
    }
   ],
   "source": [
    "# source_b = build_source(mesh_b)\n",
    "source_t = build_source(mesh_t)"
   ]
  },
  {
   "cell_type": "code",
   "execution_count": 25,
   "metadata": {},
   "outputs": [],
   "source": [
    "# survey_b = fdem.Survey([source_b])\n",
    "survey_t = fdem.Survey([source_t])"
   ]
  },
  {
   "cell_type": "code",
   "execution_count": 26,
   "metadata": {},
   "outputs": [],
   "source": [
    "# sim_b = fdem.Simulation3DElectricField(\n",
    "#     mesh=mesh_b, solver=Pardiso, solverOpts={\"is_symmetric\":True}, survey=survey_b, rho=rho_b\n",
    "# )\n",
    "sim_t = fdem.Simulation3DElectricField(\n",
    "    mesh=mesh_t, solver=Pardiso, survey=survey_t, rho=rho_t\n",
    ")"
   ]
  },
  {
   "cell_type": "code",
   "execution_count": 27,
   "metadata": {},
   "outputs": [
    {
     "data": {
      "text/plain": [
       "pymatsolver.direct.Pardiso"
      ]
     },
     "execution_count": 27,
     "metadata": {},
     "output_type": "execute_result"
    }
   ],
   "source": [
    "sim_t.solver"
   ]
  },
  {
   "cell_type": "code",
   "execution_count": 28,
   "metadata": {},
   "outputs": [],
   "source": [
    "# %%time\n",
    "# t0 = time.time()\n",
    "# mem_b = %memit -o fields_b = sim_b.fields()\n",
    "# time_b = time.time()-t0\n",
    "# ram_b = f\"{(mem_b.mem_usage[0] - mem_b.baseline)/1024:.3f} GiB\"\n",
    "# print(f\"memory usage: {ram_b}\")"
   ]
  },
  {
   "cell_type": "code",
   "execution_count": 29,
   "metadata": {},
   "outputs": [
    {
     "name": "stdout",
     "output_type": "stream",
     "text": [
      "peak memory: 9362.54 MiB, increment: 1457.21 MiB\n",
      "memory usage: 1.423 GiB\n",
      "CPU times: user 14min 37s, sys: 4min 52s, total: 19min 30s\n",
      "Wall time: 13min 6s\n"
     ]
    }
   ],
   "source": [
    "%%time\n",
    "t0 = time.time()\n",
    "mem_t = %memit -o fields_t = sim_t.fields()\n",
    "time_t = time.time()-t0\n",
    "ram_t = f\"{(mem_t.mem_usage[0] - mem_t.baseline)/1024:.3f} GiB\"\n",
    "print(f\"memory usage: {ram_t}\")"
   ]
  },
  {
   "cell_type": "code",
   "execution_count": 30,
   "metadata": {},
   "outputs": [],
   "source": [
    "# sim_b.survey = survey_b\n",
    "# d_b = sim_b.dpred(f=fields_b)\n",
    "d_t = sim_t.dpred(f=fields_t)"
   ]
  },
  {
   "cell_type": "code",
   "execution_count": 31,
   "metadata": {},
   "outputs": [],
   "source": [
    "def get_data_lines(fields, mesh):\n",
    "    \n",
    "    data = []\n",
    "    \n",
    "    every_other = np.zeros(mesh.nEx, dtype=bool)\n",
    "#     every_other[::2] = True\n",
    "    x_inds = ((mesh.gridEx[:, 0] >= rec_x.min() - 1) & (mesh.gridEx[:, 0] <= rec_x.max() + 1))\n",
    "    z_inds = (mesh.gridEx[:, 2] >= rec_z - 1) & (mesh.gridEx[:, 2] <= rec_z + 1)\n",
    "    \n",
    "    for y in rec_y: \n",
    "        y_inds = (mesh.gridEx[:, 1] >= y - 1) & (mesh.gridEx[:, 1] <= y + 1)\n",
    "        inds_x = x_inds & y_inds & z_inds\n",
    "        inds = np.hstack([inds_x, np.zeros(mesh.nEy, dtype=bool), np.zeros(mesh.nEz, dtype=bool) ])\n",
    "        \n",
    "        data.append(fields[:, \"e\"][inds])\n",
    "    \n",
    "    x = mesh.gridEx[inds_x, 0]\n",
    "    return x, data   "
   ]
  },
  {
   "cell_type": "code",
   "execution_count": 32,
   "metadata": {},
   "outputs": [],
   "source": [
    "# x, data_b = get_data_lines(fields_b, mesh_b)\n",
    "x, data_t = get_data_lines(fields_t, mesh_t)"
   ]
  },
  {
   "cell_type": "code",
   "execution_count": null,
   "metadata": {},
   "outputs": [],
   "source": []
  },
  {
   "cell_type": "code",
   "execution_count": 33,
   "metadata": {},
   "outputs": [],
   "source": [
    "# reshape data to desired shape\n",
    "\n",
    "def get_data_lines(data): \n",
    "    d_re = data[:rx_locs.shape[0]]\n",
    "    d_im = data[rx_locs.shape[0]:]\n",
    "\n",
    "    d_line1 = 1/1.5*np.vstack([d_re[:101], d_im[:101]]).T\n",
    "    d_line2 = 1/1.5*np.vstack([d_re[101:202], d_im[101:202]]).T\n",
    "    d_line3 = 1/1.5*np.vstack([d_re[202:], d_im[202:]]).T\n",
    "    \n",
    "    return [d_line1, d_line2, d_line3]\n",
    "\n",
    "# data_b_lines = get_data_lines(d_b)\n",
    "data_t_lines = get_data_lines(d_t)"
   ]
  },
  {
   "cell_type": "code",
   "execution_count": 34,
   "metadata": {},
   "outputs": [
    {
     "data": {
      "image/png": "[encoded data removed]",
      "text/plain": [
       "<Figure size 576x648 with 6 Axes>"
      ]
     },
     "metadata": {
      "needs_background": "light"
     },
     "output_type": "display_data"
    }
   ],
   "source": [
    "fig, ax = plt.subplots(3, 2, figsize=(8, 9))\n",
    "\n",
    "for i, d in enumerate(data_t):\n",
    "    for j, comp in enumerate([\"real\", \"imag\"]):\n",
    "        ax[i, j].semilogy(x, getattr(d, comp), \"C1-\")\n",
    "        ax[i, j].semilogy(x, -getattr(d, comp), \"C1--\")\n",
    "\n",
    "for i, d in enumerate(data_t_lines):\n",
    "    for j, comp in enumerate([\"real\", \"imag\"]):\n",
    "        ax[i, j].semilogy(rec_x, d[:, j], \"C0-\")\n",
    "        ax[i, j].semilogy(rec_x, -d[:, j], \"C0--\")\n",
    "\n",
    "plt.tight_layout()"
   ]
  },
  {
   "cell_type": "code",
   "execution_count": 35,
   "metadata": {},
   "outputs": [],
   "source": [
    "# fig, ax = plt.subplots(3, 2, figsize=(8, 9))\n",
    "\n",
    "# for i, d in enumerate(data_t_lines):\n",
    "#     for j, comp in enumerate([\"real\", \"imag\"]):\n",
    "#         ax[i, j].semilogy(rec_x, d[:, j], \"C0-\")\n",
    "#         ax[i, j].semilogy(rec_x, -d[:, j], \"C0--\")\n",
    "\n",
    "# plt.tight_layout()"
   ]
  },
  {
   "cell_type": "code",
   "execution_count": 36,
   "metadata": {},
   "outputs": [],
   "source": [
    "# def extract_lines(name):\n",
    "#     import xarray as xr\n",
    "#     inp = xr.load_dataset(name, engine='h5netcdf')\n",
    "#     out = np.stack([\n",
    "#         inp.line_1[::2]+1j*inp.line_1[1::2],\n",
    "#         inp.line_2[::2]+1j*inp.line_2[1::2],\n",
    "#         inp.line_3[::2]+1j*inp.line_3[1::2],\n",
    "#     ]).T\n",
    "#     return out\n",
    "\n",
    "# epm_1d = extract_lines('../results/layered_empymod.nc')"
   ]
  },
  {
   "cell_type": "code",
   "execution_count": 37,
   "metadata": {},
   "outputs": [],
   "source": [
    "# epm_1d.shape"
   ]
  },
  {
   "cell_type": "code",
   "execution_count": 38,
   "metadata": {},
   "outputs": [],
   "source": [
    "def get_pos_neg(resp, off, min_off):\n",
    "    \"\"\"Separate positive and negative values, enforce min_off.\"\"\"\n",
    "    resp_pos = np.array([x if x > 0 else np.nan for x in resp])\n",
    "    resp_neg = np.array([-x if x < 0 else np.nan for x in resp])\n",
    "\n",
    "    resp_pos[off < min_offset] = np.nan\n",
    "    resp_neg[off < min_offset] = np.nan\n",
    "\n",
    "    return resp_pos, resp_neg"
   ]
  },
  {
   "cell_type": "code",
   "execution_count": 39,
   "metadata": {},
   "outputs": [],
   "source": [
    "# Calculate error\n",
    "# error = {}\n",
    "# spg_data = np.vstack([d[:, 0] + 1j*d[:, 1] for d in data_b_lines]).T\n",
    "spg_data_t = np.vstack([d[:, 0] + 1j*d[:, 1] for d in data_t_lines]).T\n",
    "\n",
    "# spg_data = np.vstack(data_back_lines).T\n",
    "# for name, data in zip(['SimPEG'], [spg_data]):\n",
    "#     rerr = np.clip(100*abs((epm_1d.real-data.real)/epm_1d.real), 0.01, 100)\n",
    "#     ierr = np.clip(100*abs((epm_1d.imag-data.imag)/epm_1d.imag), 0.01, 100)\n",
    "#     error[name] = rerr + 1j*ierr"
   ]
  },
  {
   "cell_type": "code",
   "execution_count": 40,
   "metadata": {},
   "outputs": [],
   "source": [
    "# marker = ['*', 'v', '^', 'o']\n",
    "# min_offset = 500\n",
    "\n",
    "# for iy, y in enumerate(rec_y[:2]):\n",
    "    \n",
    "#     # Get offset\n",
    "#     off = np.sqrt(rec_x**2 + y**2)\n",
    "\n",
    "#     plt.figure(figsize=(9, 5))\n",
    "\n",
    "#     # # Real\n",
    "#     ax1 = plt.subplot(221)\n",
    "#     plt.title('Real')\n",
    "\n",
    "#     resp_pos, resp_neg = get_pos_neg(epm_1d[:, iy].real, off, min_offset)\n",
    "#     plt.plot(rec_x/1e3, resp_pos, 'k-', label='empymod')\n",
    "#     plt.plot(rec_x/1e3, resp_neg, 'k--')\n",
    "    \n",
    "#     resp_pos, resp_neg = get_pos_neg(spg_data[:, iy].real, off, min_offset)\n",
    "#     plt.plot(rec_x/1e3, resp_pos, f'C{i}-', ms=3, label=\"SimPEG\")\n",
    "#     plt.plot(rec_x/1e3, resp_neg, f'C{i}--', ms=3)\n",
    "\n",
    "\n",
    "#     plt.ylabel(r'$\\Re(E_x)$ (V/m)')\n",
    "#     ax1.set_xticklabels([])\n",
    "#     plt.grid(axis='y', c='0.9')\n",
    "\n",
    "\n",
    "#     # # Real Error\n",
    "#     ax2 = plt.subplot(223)\n",
    "\n",
    "#     for i, name in enumerate(error.keys()):\n",
    "#         error[name][off < min_offset, iy] = np.nan + 1j*np.nan\n",
    "#         plt.plot(rec_x/1e3, error[name][:, iy].real, f'C{i}{marker[i]}', ms=3)\n",
    "\n",
    "#     plt.yscale('log')\n",
    "#     plt.xlim(ax1.get_xlim())\n",
    "#     plt.ylabel('Rel. error %')\n",
    "# #     plt.ylim([8e-3, 120])\n",
    "# #     plt.yticks([0.01, 0.1, 1, 10, 100], ('0.01', '0.1', '1', '10', '100'))\n",
    "#     plt.grid(axis='y', c='0.9')\n",
    "#     plt.xlabel('Offset (km)')\n",
    "\n",
    "\n",
    "#     # # Imaginary\n",
    "#     ax3 = plt.subplot(222, sharey=ax1)\n",
    "#     plt.title('Imaginary')\n",
    "\n",
    "#     resp_pos, resp_neg = get_pos_neg(epm_1d[:, iy].imag, off, min_offset)\n",
    "#     plt.plot(rec_x/1e3, resp_pos, 'k-', label='empymod')\n",
    "#     plt.plot(rec_x/1e3, resp_neg, 'k--')\n",
    "    \n",
    "#     resp_pos, resp_neg = get_pos_neg(spg_data[:, iy].imag, off, min_offset)\n",
    "#     plt.plot(rec_x/1e3, resp_pos, f'C{i}-', ms=3, label=\"SimPEG\")\n",
    "#     plt.plot(rec_x/1e3, resp_neg, f'C{i}--', ms=3)\n",
    "    \n",
    "#     plt.yscale('log')\n",
    "#     plt.ylabel(r'$\\Im(E_x)$ (V/m)')\n",
    "\n",
    "#     ax3.set_xticklabels([])\n",
    "#     ax3.yaxis.tick_right()\n",
    "#     ax3.yaxis.set_label_position(\"right\")\n",
    "#     plt.grid(axis='y', c='0.9')\n",
    "\n",
    "\n",
    "#     # # Imaginary Error\n",
    "#     ax4 = plt.subplot(224, sharey=ax2)\n",
    "\n",
    "#     for i, name in enumerate(error.keys()):\n",
    "#         plt.plot(rec_x/1e3, error[name][:, iy].imag, f'C{i}{marker[i]}', ms=3)\n",
    "\n",
    "#     # Legend\n",
    "#     plt.plot(0, -1, 'k', label='empymod')\n",
    "#     for i, name in enumerate(error.keys()):\n",
    "#         plt.plot(0, -1, f'C{i}', label=name)\n",
    "        \n",
    "#     plt.yscale('log')\n",
    "#     plt.xlim(ax1.get_xlim())\n",
    "#     plt.xlabel('Offset (km)')\n",
    "#     plt.ylabel('Rel. error (%)')\n",
    "#     plt.ylim([8e-3, 120])\n",
    "# #     plt.yticks([0.01, 0.1, 1, 10, 100], ('0.01', '0.1', '1', '10', '100'))\n",
    "#     ax4.yaxis.tick_right()\n",
    "#     ax4.yaxis.set_label_position(\"right\")\n",
    "#     plt.grid(axis='y', c='0.9')\n",
    "\n",
    "#     # Switch off spines\n",
    "#     ax1.spines['top'].set_visible(False)\n",
    "#     ax1.spines['right'].set_visible(False)\n",
    "#     ax2.spines['top'].set_visible(False)\n",
    "#     ax2.spines['right'].set_visible(False)\n",
    "#     ax3.spines['top'].set_visible(False)\n",
    "#     ax3.spines['left'].set_visible(False)\n",
    "#     ax4.spines['top'].set_visible(False)\n",
    "#     ax4.spines['left'].set_visible(False)\n",
    "\n",
    "#     plt.tight_layout()\n",
    "#     plt.legend(loc=2, ncol=2, bbox_to_anchor=(-0.4, 1.2), framealpha=1)\n",
    "    \n",
    "#     #plt.savefig(f'../manuscript/figures/results-layered-{int(y/1e3)}.pdf', bbox_inches='tight')\n",
    "#     plt.suptitle(f'Receiver-line: {y/1e3} km')\n",
    "#     plt.show()"
   ]
  },
  {
   "cell_type": "code",
   "execution_count": null,
   "metadata": {},
   "outputs": [],
   "source": []
  },
  {
   "cell_type": "code",
   "execution_count": 41,
   "metadata": {},
   "outputs": [],
   "source": [
    "# for i in range(3):\n",
    "#     print(f\"Line {i}\")\n",
    "#     inds = ~ np.isnan(error['SimPEG'][:, i])\n",
    "#     print(f\"mean real: {np.mean(error['SimPEG'][inds, i].real):1.2f}, imag: {np.mean(error['SimPEG'][inds, i].imag):1.2f}\")\n",
    "#     print(f\"median  real: {np.median(error['SimPEG'][inds, i].real):1.2f}, imag: {np.median(error['SimPEG'][inds, i].imag):1.2f}\")             \n",
    "#     print(\"\\n\")\n",
    "                  "
   ]
  },
  {
   "cell_type": "code",
   "execution_count": 42,
   "metadata": {},
   "outputs": [],
   "source": [
    "# spg_data.shape"
   ]
  },
  {
   "cell_type": "code",
   "execution_count": null,
   "metadata": {},
   "outputs": [],
   "source": []
  },
  {
   "cell_type": "code",
   "execution_count": null,
   "metadata": {},
   "outputs": [],
   "source": [
    "# Save the three lines\n",
    "ds.line_1.data = np.vstack([spg_data[:, 0].real, spg_data[:, 0].imag]).ravel('F')\n",
    "ds.line_2.data = np.vstack([spg_data[:, 1].real, spg_data[:, 1].imag]).ravel('F')\n",
    "ds.line_3.data = np.vstack([spg_data[:, 2].real, spg_data[:, 2].imag]).ravel('F')\n",
    "\n",
    "# Add info\n",
    "ds.attrs['runtime'] = time_t\n",
    "ds.attrs['n_procs'] = 1\n",
    "ds.attrs['max_ram'] = ram_t\n",
    "ds.attrs['n_cells'] = f\"{mesh_t.nC}\"\n",
    "ds.attrs['n_nodes'] = 'N/A'\n",
    "ds.attrs['n_dof'] = f\"{mesh.nE}\"\n",
    "ds.attrs['extent'] = (f\"x = {mesh_t.vectorNx[0]:.1f}-{mesh_t.vectorNx[-1]:.1f}; \" # Total mesh extent\n",
    "                      f\"y = {mesh_t.vectorNy[0]:.1f}-{mesh_t.vectorNy[-1]:.1f}; \"\n",
    "                      f\"z = {mesh_t.vectorNz[0]:.1f}-{mesh_t.vectorNz[-1]:.1f}\")\n",
    "ds.attrs['min_vol'] = f\"{np.min(mesh_t.vol):.1f}\"\n",
    "ds.attrs['max_vol'] = f\"{np.max(mesh_t.vol):.1f}\"\n",
    "ds.attrs['machine'] = \"MacBook Pro (2016), 2.7 GHz Intel Core i7; 16GB\"\n",
    "ds.attrs['version'] = f\"SimPEG v{SimPEG.__version__}\"\n",
    "ds.attrs['date'] = datetime.today().isoformat()\n",
    "\n",
    "# Save it under <{model}_{code}.nc>\n",
    "ds.to_netcdf(f\"../results/block_simpeg_1.nc\", engine='h5netcdf')"
   ]
  },
  {
   "cell_type": "code",
   "execution_count": null,
   "metadata": {},
   "outputs": [],
   "source": []
  },
  {
   "cell_type": "code",
   "execution_count": 44,
   "metadata": {},
   "outputs": [],
   "source": [
    "# Save the three lines\n",
    "ds.line_1.data = np.vstack([spg_data_t[:, 0].real, spg_data_t[:, 0].imag]).ravel('F')\n",
    "ds.line_2.data = np.vstack([spg_data_t[:, 1].real, spg_data_t[:, 1].imag]).ravel('F')\n",
    "ds.line_3.data = np.vstack([spg_data_t[:, 2].real, spg_data_t[:, 2].imag]).ravel('F')\n",
    "\n",
    "# Add info\n",
    "ds.attrs['runtime'] = time_t\n",
    "ds.attrs['n_procs'] = 1\n",
    "ds.attrs['max_ram'] = ram_t\n",
    "ds.attrs['n_cells'] = f\"{mesh_t.nC}\"\n",
    "ds.attrs['n_nodes'] = 'N/A'\n",
    "ds.attrs['n_dof'] = f\"{mesh.nE}\"\n",
    "ds.attrs['extent'] = (f\"x = {mesh_t.vectorNx[0]:.1f}-{mesh_t.vectorNx[-1]:.1f}; \" # Total mesh extent\n",
    "                      f\"y = {mesh_t.vectorNy[0]:.1f}-{mesh_t.vectorNy[-1]:.1f}; \"\n",
    "                      f\"z = {mesh_t.vectorNz[0]:.1f}-{mesh_t.vectorNz[-1]:.1f}\")\n",
    "ds.attrs['min_vol'] = f\"{np.min(mesh_t.vol):.1f}\"\n",
    "ds.attrs['max_vol'] = f\"{np.max(mesh_t.vol):.1f}\"\n",
    "ds.attrs['machine'] = \"GKE e2-highmem-8; Intel(R) Xeon(R) CPU @ 2.20GHz; 64GB RAM\"\n",
    "ds.attrs['version'] = f\"SimPEG v{SimPEG.__version__}\"\n",
    "ds.attrs['date'] = datetime.today().isoformat()\n",
    "\n",
    "# Save it under <{model}_{code}.nc>\n",
    "ds.to_netcdf(f\"../results/block_simpeg.nc\", engine='h5netcdf')"
   ]
  },
  {
   "cell_type": "code",
   "execution_count": null,
   "metadata": {},
   "outputs": [],
   "source": []
  }
 ],
 "metadata": {
  "kernelspec": {
   "display_name": "Python 3",
   "language": "python",
   "name": "python3"
  },
  "language_info": {
   "codemirror_mode": {
    "name": "ipython",
    "version": 3
   },
   "file_extension": ".py",
   "mimetype": "text/x-python",
   "name": "python",
   "nbconvert_exporter": "python",
   "pygments_lexer": "ipython3",
   "version": "3.8.5"
  }
 },
 "nbformat": 4,
 "nbformat_minor": 4
}
