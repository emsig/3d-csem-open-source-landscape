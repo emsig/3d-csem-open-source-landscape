{
 "cells": [
  {
   "cell_type": "markdown",
   "metadata": {},
   "source": [
    "# 1D Layered Earth model using `SimPEG`\n",
    "\n"
   ]
  },
  {
   "cell_type": "code",
   "execution_count": 1,
   "metadata": {},
   "outputs": [],
   "source": [
    "# core python libraries we rely on\n",
    "import numpy as np\n",
    "import matplotlib.pyplot as plt\n",
    "import xarray as xr\n",
    "import time\n",
    "from datetime import datetime\n",
    "\n",
    "# SimPEG ecosystem \n",
    "import discretize\n",
    "from discretize.utils import mkvc\n",
    "import SimPEG\n",
    "from SimPEG.electromagnetics import frequency_domain as fdem\n",
    "from pymatsolver import Pardiso\n",
    "import ipywidgets\n",
    "%load_ext memory_profiler"
   ]
  },
  {
   "cell_type": "markdown",
   "metadata": {},
   "source": [
    "## load the model and survey"
   ]
  },
  {
   "cell_type": "code",
   "execution_count": 2,
   "metadata": {},
   "outputs": [],
   "source": [
    "# 1D background\n",
    "depth = [0., -600, -850, -3150]\n",
    "res1d = [1e8, 0.3, 1, 2, 1000]\n",
    "aniso = [1, 1, 1, np.sqrt(2), 1]\n",
    "\n",
    "# Define dimensions of the three blocks [x1, x2, y1, y2, z1, z2]\n",
    "block1 = [ -500,  500, -4000, 4000,  -1600, -850]\n",
    "block2 = [    0, 5000, -3000,    0,  -1850, -1600]\n",
    "block3 = [-5000,    0,     0, 3000, -2900, -1600]\n",
    "\n",
    "# Resistivities Block 1, 2, and 3\n",
    "resistivities = [10, 100, 500]"
   ]
  },
  {
   "cell_type": "code",
   "execution_count": 3,
   "metadata": {},
   "outputs": [],
   "source": [
    "ds = xr.load_dataset('../block_model_and_survey.nc', engine='h5netcdf')"
   ]
  },
  {
   "cell_type": "code",
   "execution_count": 4,
   "metadata": {},
   "outputs": [
    {
     "name": "stdout",
     "output_type": "stream",
     "text": [
      "[-100.  100.    0.    0. -550. -550.]\n"
     ]
    }
   ],
   "source": [
    "# Get Survey\n",
    "src = ds.attrs['src']\n",
    "strength = ds.attrs['strength']\n",
    "freq = ds.attrs['freq']\n",
    "rec_x = ds.x.data[::2]\n",
    "rec_y = ds.attrs['rec_y']\n",
    "rec_z = ds.attrs['rec_z']\n",
    "rx_locs = discretize.utils.ndgrid([rec_x, rec_y, np.r_[rec_z]])\n",
    "\n",
    "# Get source center (for meshing)\n",
    "src_c = np.mean(src.reshape(-1, 2), 1)\n",
    "print(src)"
   ]
  },
  {
   "cell_type": "code",
   "execution_count": 5,
   "metadata": {},
   "outputs": [
    {
     "data": {
      "text/plain": [
       "[<matplotlib.lines.Line2D at 0x167d50af0>]"
      ]
     },
     "execution_count": 5,
     "metadata": {},
     "output_type": "execute_result"
    },
    {
     "data": {
      "image/png": "[encoded data removed]",
      "text/plain": [
       "<Figure size 432x288 with 1 Axes>"
      ]
     },
     "metadata": {
      "needs_background": "light"
     },
     "output_type": "display_data"
    }
   ],
   "source": [
    "plt.plot(rx_locs[:,0], rx_locs[:,1], 'k. ')\n",
    "plt.plot(src[:2], np.zeros(2), 'r-', lw=5)\n"
   ]
  },
  {
   "cell_type": "code",
   "execution_count": 6,
   "metadata": {},
   "outputs": [
    {
     "data": {
      "text/plain": [
       "array([3.e-01, 1.e+00, 2.e+00, 1.e+03, 1.e+08])"
      ]
     },
     "execution_count": 6,
     "metadata": {},
     "output_type": "execute_result"
    }
   ],
   "source": [
    "np.unique(res1d)"
   ]
  },
  {
   "cell_type": "code",
   "execution_count": 7,
   "metadata": {},
   "outputs": [
    {
     "name": "stdout",
     "output_type": "stream",
     "text": [
      "skin depth: [2.75504446e+02 5.03000000e+02 7.11349422e+02 1.59062566e+04\n",
      " 5.03000000e+06]\n"
     ]
    }
   ],
   "source": [
    "print(\n",
    "    f\"skin depth: {503/np.sqrt(freq/np.unique(res1d))}\"\n",
    ")"
   ]
  },
  {
   "cell_type": "markdown",
   "metadata": {},
   "source": [
    "## create a computational mesh\n",
    "\n",
    "Start by defining the underlying tensor mesh"
   ]
  },
  {
   "cell_type": "code",
   "execution_count": 45,
   "metadata": {},
   "outputs": [
    {
     "ename": "NameError",
     "evalue": "name 'npad_x' is not defined",
     "output_type": "error",
     "traceback": [
      "\u001b[0;31m---------------------------------------------------------------------------\u001b[0m",
      "\u001b[0;31mNameError\u001b[0m                                 Traceback (most recent call last)",
      "\u001b[0;32m<ipython-input-45-ed9cd2ea6182>\u001b[0m in \u001b[0;36m<module>\u001b[0;34m\u001b[0m\n\u001b[1;32m     12\u001b[0m \u001b[0;31m# npad_z = 20\u001b[0m\u001b[0;34m\u001b[0m\u001b[0;34m\u001b[0m\u001b[0;34m\u001b[0m\u001b[0m\n\u001b[1;32m     13\u001b[0m \u001b[0;34m\u001b[0m\u001b[0m\n\u001b[0;32m---> 14\u001b[0;31m \u001b[0mncx\u001b[0m \u001b[0;34m=\u001b[0m \u001b[0;36m2\u001b[0m\u001b[0;34m**\u001b[0m\u001b[0mint\u001b[0m\u001b[0;34m(\u001b[0m\u001b[0mnp\u001b[0m\u001b[0;34m.\u001b[0m\u001b[0mceil\u001b[0m\u001b[0;34m(\u001b[0m\u001b[0mnp\u001b[0m\u001b[0;34m.\u001b[0m\u001b[0mlog\u001b[0m\u001b[0;34m(\u001b[0m\u001b[0mncore_x\u001b[0m \u001b[0;34m+\u001b[0m \u001b[0mnpad_x\u001b[0m\u001b[0;34m*\u001b[0m\u001b[0;36m2\u001b[0m\u001b[0;34m)\u001b[0m\u001b[0;34m/\u001b[0m\u001b[0mnp\u001b[0m\u001b[0;34m.\u001b[0m\u001b[0mlog\u001b[0m\u001b[0;34m(\u001b[0m\u001b[0;36m2.\u001b[0m\u001b[0;34m)\u001b[0m\u001b[0;34m)\u001b[0m\u001b[0;34m)\u001b[0m\u001b[0;34m\u001b[0m\u001b[0;34m\u001b[0m\u001b[0m\n\u001b[0m\u001b[1;32m     15\u001b[0m \u001b[0mncy\u001b[0m \u001b[0;34m=\u001b[0m \u001b[0;36m2\u001b[0m\u001b[0;34m*\u001b[0m\u001b[0;36m2\u001b[0m\u001b[0;34m**\u001b[0m\u001b[0mint\u001b[0m\u001b[0;34m(\u001b[0m\u001b[0mnp\u001b[0m\u001b[0;34m.\u001b[0m\u001b[0mceil\u001b[0m\u001b[0;34m(\u001b[0m\u001b[0mnp\u001b[0m\u001b[0;34m.\u001b[0m\u001b[0mlog\u001b[0m\u001b[0;34m(\u001b[0m\u001b[0mncore_y\u001b[0m \u001b[0;34m+\u001b[0m \u001b[0mnpad_y\u001b[0m\u001b[0;34m*\u001b[0m\u001b[0;36m2\u001b[0m\u001b[0;34m)\u001b[0m\u001b[0;34m/\u001b[0m\u001b[0mnp\u001b[0m\u001b[0;34m.\u001b[0m\u001b[0mlog\u001b[0m\u001b[0;34m(\u001b[0m\u001b[0;36m2.\u001b[0m\u001b[0;34m)\u001b[0m\u001b[0;34m)\u001b[0m\u001b[0;34m)\u001b[0m\u001b[0;34m\u001b[0m\u001b[0;34m\u001b[0m\u001b[0m\n\u001b[1;32m     16\u001b[0m \u001b[0mncz\u001b[0m \u001b[0;34m=\u001b[0m \u001b[0;36m2\u001b[0m\u001b[0;34m**\u001b[0m\u001b[0mint\u001b[0m\u001b[0;34m(\u001b[0m\u001b[0mnp\u001b[0m\u001b[0;34m.\u001b[0m\u001b[0mceil\u001b[0m\u001b[0;34m(\u001b[0m\u001b[0mnp\u001b[0m\u001b[0;34m.\u001b[0m\u001b[0mlog\u001b[0m\u001b[0;34m(\u001b[0m\u001b[0mncore_z\u001b[0m \u001b[0;34m+\u001b[0m \u001b[0mnpad_z\u001b[0m\u001b[0;34m*\u001b[0m\u001b[0;36m2\u001b[0m\u001b[0;34m)\u001b[0m\u001b[0;34m/\u001b[0m\u001b[0mnp\u001b[0m\u001b[0;34m.\u001b[0m\u001b[0mlog\u001b[0m\u001b[0;34m(\u001b[0m\u001b[0;36m2.\u001b[0m\u001b[0;34m)\u001b[0m\u001b[0;34m)\u001b[0m\u001b[0;34m)\u001b[0m\u001b[0;34m\u001b[0m\u001b[0;34m\u001b[0m\u001b[0m\n",
      "\u001b[0;31mNameError\u001b[0m: name 'npad_x' is not defined"
     ]
    }
   ],
   "source": [
    "dx, dy, dz = 100, 200, 50 \n",
    "domain_x, domain_y, domain_z = 2e4, 6e3, np.abs(depth).max()\n",
    "\n",
    "ncore_x = domain_x/dx\n",
    "ncore_y = domain_y/dy\n",
    "ncore_z = domain_z/dz\n",
    "\n",
    "# print(ncore_x, ncore_y, ncore_z, ncore_x*ncore_y*ncore_z)\n",
    "\n",
    "# npad_x = 18\n",
    "# npad_y = 16\n",
    "# npad_z = 20\n",
    "\n",
    "ncx = 2**int(np.ceil(np.log(ncore_x + npad_x*2)/np.log(2.)))\n",
    "ncy = 2*2**int(np.ceil(np.log(ncore_y + npad_y*2)/np.log(2.)))\n",
    "ncz = 2**int(np.ceil(np.log(ncore_z + npad_z*2)/np.log(2.)))\n",
    "\n",
    "# print(ncx, ncy, ncz, ncx*ncy*ncz)\n",
    "\n",
    "# pf = 1.35\n",
    "# pfz = 1.35"
   ]
  },
  {
   "cell_type": "code",
   "execution_count": 46,
   "metadata": {},
   "outputs": [],
   "source": [
    "pad_x = 20000\n",
    "pad_y = 20000\n",
    "pad_z = 20000\n",
    "\n",
    "length_x = pad_x * 2 + domain_x\n",
    "length_y = pad_y * 2 + domain_y\n",
    "length_z = pad_z * 2 + domain_z\n",
    "\n",
    "nx = int(length_x/dx)\n",
    "ny = int(length_y/dy)\n",
    "nz = int(length_z/dz)\n",
    "\n",
    "nx = 2**int(np.ceil(np.log(nx)/np.log(2.)))\n",
    "ny = 2**int(np.ceil(np.log(ny)/np.log(2.)))\n",
    "nz = 2**int(np.ceil(np.log(nz)/np.log(2.)))\n",
    "\n",
    "hx = np.ones(nx) * dx\n",
    "hy = np.ones(ny) * dy\n",
    "hz = np.ones(nz) * dz\n",
    "mesh_b = discretize.TreeMesh([hx, hy, hz], x0=[-hx.sum()/2, -hy.sum()/2, -hz.sum()/2.])\n",
    "\n",
    "# refine around the layers \n",
    "for i_layer, d in enumerate(depth[:3]):     \n",
    "    xrefine = domain_x*2*np.r_[-1, 1]\n",
    "    yrefine = domain_x*1.5*np.r_[-1, 1]    \n",
    "        \n",
    "    xr, yr, zr = np.meshgrid(xrefine, yrefine, np.r_[d])\n",
    "    surface_refine = np.c_[mkvc(xr), mkvc(yr), mkvc(zr)]\n",
    "    mesh_b = discretize.utils.refine_tree_xyz(\n",
    "        mesh_b, surface_refine, \n",
    "        octree_levels=[0, 0, 1], method=\"surface\", finalize=False\n",
    "    )\n",
    "# refine around the sources and receivers\n",
    "xr, yr, zr = np.meshgrid(src[0:2], src[2] + dy/2*np.r_[-1, 1], src[4] + dz/2*np.r_[-1, 1]) \n",
    "src_refine = np.c_[mkvc(xr), mkvc(yr), mkvc(zr)]\n",
    "mesh_b = discretize.utils.refine_tree_xyz(\n",
    "    mesh_b, src_refine, \n",
    "    octree_levels=[4, 4, 2, 2], method=\"box\", finalize=False\n",
    ")\n",
    "\n",
    "mesh_b = discretize.utils.refine_tree_xyz(\n",
    "    mesh_b, rx_locs, \n",
    "    octree_levels=[8, 4, 2, 2], method=\"radial\", finalize=False\n",
    ")\n",
    "mesh_b.finalize()"
   ]
  },
  {
   "cell_type": "markdown",
   "metadata": {},
   "source": [
    "### create the octree mesh"
   ]
  },
  {
   "cell_type": "code",
   "execution_count": 47,
   "metadata": {},
   "outputs": [],
   "source": [
    "def plot_mesh(normal=\"Y\", ind=1024, xmin=-10000, xmax=10000, ymin=-4000, ymax=100):\n",
    "    fig, ax = plt.subplots(1, 1)\n",
    "    mesh_b.plotSlice(np.log10(mesh_b.vol), normal=normal, grid=True, ax=ax, ind=ind)\n",
    "    ax.set_xlim([xmin, xmax])\n",
    "    ax.set_ylim([ymin, ymax])"
   ]
  },
  {
   "cell_type": "code",
   "execution_count": 48,
   "metadata": {},
   "outputs": [
    {
     "data": {
      "application/vnd.jupyter.widget-view+json": {
       "model_id": "df5385a75a1d4eb9acbbcde93189fba7",
       "version_major": 2,
       "version_minor": 0
      },
      "text/plain": [
       "interactive(children=(ToggleButtons(description='normal', index=1, options=('X', 'Y', 'Z'), value='Y'), IntSli…"
      ]
     },
     "metadata": {},
     "output_type": "display_data"
    },
    {
     "data": {
      "text/plain": [
       "<function __main__.plot_mesh(normal='Y', ind=1024, xmin=-10000, xmax=10000, ymin=-4000, ymax=100)>"
      ]
     },
     "execution_count": 48,
     "metadata": {},
     "output_type": "execute_result"
    }
   ],
   "source": [
    "max_h = np.max([len(h) for h in mesh_b.h])\n",
    "ipywidgets.interact(\n",
    "    plot_mesh,\n",
    "    normal=ipywidgets.ToggleButtons(options=[\"X\", \"Y\", \"Z\"], value=\"Y\"),\n",
    "    ind=ipywidgets.IntSlider(min=0, max=max_h, value=int(len(mesh_b.h[1])/2)),\n",
    "    xmin=ipywidgets.FloatText(value=-domain_x),\n",
    "    xmax=ipywidgets.FloatText(value=domain_x),\n",
    "    ymin=ipywidgets.FloatText(value=-4000),\n",
    "    ymax=ipywidgets.FloatText(value=100)\n",
    ")"
   ]
  },
  {
   "cell_type": "markdown",
   "metadata": {},
   "source": [
    "### put the model on the computational mesh"
   ]
  },
  {
   "cell_type": "code",
   "execution_count": 49,
   "metadata": {},
   "outputs": [
    {
     "ename": "NameError",
     "evalue": "name 'ncx' is not defined",
     "output_type": "error",
     "traceback": [
      "\u001b[0;31m---------------------------------------------------------------------------\u001b[0m",
      "\u001b[0;31mNameError\u001b[0m                                 Traceback (most recent call last)",
      "\u001b[0;32m<ipython-input-49-c8091014d033>\u001b[0m in \u001b[0;36m<module>\u001b[0;34m\u001b[0m\n\u001b[1;32m      1\u001b[0m mesh_tensor = discretize.TensorMesh(\n\u001b[1;32m      2\u001b[0m     [\n\u001b[0;32m----> 3\u001b[0;31m         \u001b[0;34m[\u001b[0m\u001b[0;34m(\u001b[0m\u001b[0mdx\u001b[0m\u001b[0;34m,\u001b[0m \u001b[0mncx\u001b[0m\u001b[0;34m)\u001b[0m\u001b[0;34m]\u001b[0m\u001b[0;34m,\u001b[0m\u001b[0;34m\u001b[0m\u001b[0;34m\u001b[0m\u001b[0m\n\u001b[0m\u001b[1;32m      4\u001b[0m         \u001b[0;34m[\u001b[0m\u001b[0;34m(\u001b[0m\u001b[0mdy\u001b[0m\u001b[0;34m,\u001b[0m \u001b[0mncy\u001b[0m\u001b[0;34m)\u001b[0m\u001b[0;34m]\u001b[0m\u001b[0;34m,\u001b[0m\u001b[0;34m\u001b[0m\u001b[0;34m\u001b[0m\u001b[0m\n\u001b[1;32m      5\u001b[0m         \u001b[0;34m[\u001b[0m\u001b[0;34m(\u001b[0m\u001b[0mdz\u001b[0m\u001b[0;34m,\u001b[0m \u001b[0mncz\u001b[0m\u001b[0;34m)\u001b[0m\u001b[0;34m]\u001b[0m\u001b[0;34m\u001b[0m\u001b[0;34m\u001b[0m\u001b[0m\n",
      "\u001b[0;31mNameError\u001b[0m: name 'ncx' is not defined"
     ]
    }
   ],
   "source": [
    "mesh_tensor = discretize.TensorMesh(\n",
    "    [\n",
    "        [(dx, ncx)], \n",
    "        [(dy, ncy)], \n",
    "        [(dz, ncz)]\n",
    "    ]\n",
    ")\n",
    "mesh_tensor.x0 = np.r_[-np.sum(mesh_tensor.h[0])/2., -np.sum(mesh_tensor.h[1])/2., -5000.]\n",
    "rho_z_h = np.ones(mesh_tensor.nC) * 1e8\n",
    "rho_z_v = np.ones(mesh_tensor.nC) * 1e8\n",
    "depth_new = np.r_[np.array(depth), -np.Inf]\n",
    "z = mesh_tensor.gridCC[:,2]\n",
    "for ii in range(4):\n",
    "    inds = np.logical_and(z<depth_new[ii], z>depth_new[ii+1])\n",
    "    rho_z_h[inds] = res1d[ii+1]\n",
    "    rho_z_v[inds] = res1d[ii+1] * aniso[ii+1]**2"
   ]
  },
  {
   "cell_type": "code",
   "execution_count": null,
   "metadata": {},
   "outputs": [],
   "source": [
    "# Use volume averaging in log space\n",
    "from discretize.utils.interputils import volume_average\n",
    "rhoh_b = np.exp(volume_average(mesh_tensor, mesh_b, np.log(rho_z_h)))\n",
    "rhov_b = np.exp(volume_average(mesh_tensor, mesh_b, np.log(rho_z_v)))"
   ]
  },
  {
   "cell_type": "code",
   "execution_count": null,
   "metadata": {},
   "outputs": [],
   "source": [
    "# mesh_emg3d = discretize.TensorMesh.readUBC(\"mesh_tensor\")\n",
    "# rhoh_emg3d = mesh_emg3d.readModelUBC(\"rhoh.mod\")"
   ]
  },
  {
   "cell_type": "code",
   "execution_count": null,
   "metadata": {},
   "outputs": [],
   "source": [
    "# mesh_emg3d.write_vtk(\"emg3d.vtr\", models={'rhoh':rhoh_emg3d})"
   ]
  },
  {
   "cell_type": "code",
   "execution_count": null,
   "metadata": {},
   "outputs": [],
   "source": [
    "mesh_b"
   ]
  },
  {
   "cell_type": "code",
   "execution_count": null,
   "metadata": {},
   "outputs": [],
   "source": [
    "fig, ax = plt.subplots(1, 2, figsize=(10, 4))\n",
    "\n",
    "for a, m, mesh in zip(\n",
    "    ax.flatten(), \n",
    "    [rhoh_b, rhov_b], #rhoh_t, rhov_t], \n",
    "    [mesh_b, mesh_b], #mesh_t, mesh_t]\n",
    "):\n",
    "    cb = plt.colorbar(\n",
    "        mesh.plotSlice(\n",
    "            np.log10(m), ax=a, normal='Y', \n",
    "            pcolorOpts={\"vmin\":-1, \"vmax\":4}, grid=True\n",
    "        )[0],ax=a)\n",
    "    cb.set_label(\"log$_10$($\\\\rho$)\")\n",
    "#     a.set_xlim(10*domain_x*np.r_[-1, 1])\n",
    "    a.set_ylim([-4000, 100])\n",
    "\n",
    "plt.tight_layout()"
   ]
  },
  {
   "cell_type": "code",
   "execution_count": null,
   "metadata": {},
   "outputs": [],
   "source": [
    "rho_b = np.vstack([rhoh_b, rhoh_b, rhov_b]).T"
   ]
  },
  {
   "cell_type": "markdown",
   "metadata": {},
   "source": [
    "## set up the frequency domain simulation"
   ]
  },
  {
   "cell_type": "code",
   "execution_count": null,
   "metadata": {},
   "outputs": [],
   "source": [
    "rx_re = fdem.receivers.Point_e(locations=rx_locs, orientation=\"x\", component=\"real\")\n",
    "rx_im = fdem.receivers.Point_e(locations=rx_locs, orientation=\"x\", component=\"imag\")"
   ]
  },
  {
   "cell_type": "code",
   "execution_count": null,
   "metadata": {},
   "outputs": [],
   "source": [
    "def build_source(mesh): \n",
    "    src_x = np.zeros(mesh.nEx)\n",
    "    src_inds = (\n",
    "        (mesh.gridEx[:, 0] >= src[0] - 1) & (mesh.gridEx[:, 0] <= src[1] + 1) &\n",
    "        (mesh.gridEx[:, 1] >= src[2] - 1) & (mesh.gridEx[:, 1] <= src[3] + 1) &\n",
    "        (mesh.gridEx[:, 2] >= src[4] - 1) & (mesh.gridEx[:, 2] <= src[5] + 1) \n",
    "    )\n",
    "    src_x[src_inds] = 1\n",
    "    print(src_inds.nonzero())\n",
    "\n",
    "    src_vec = strength * mesh.edge * np.hstack([\n",
    "        src_x, np.zeros(mesh.nEy), np.zeros(mesh.nEz)\n",
    "    ])\n",
    "    source = fdem.sources.RawVec_e(s_e=src_vec, freq=freq, receiver_list=[rx_re, rx_im])\n",
    "    \n",
    "    return source"
   ]
  },
  {
   "cell_type": "code",
   "execution_count": null,
   "metadata": {},
   "outputs": [],
   "source": [
    "source_b = build_source(mesh_b)"
   ]
  },
  {
   "cell_type": "code",
   "execution_count": null,
   "metadata": {},
   "outputs": [],
   "source": [
    "survey_b = fdem.Survey([source_b])"
   ]
  },
  {
   "cell_type": "code",
   "execution_count": null,
   "metadata": {},
   "outputs": [],
   "source": [
    "sim_b = fdem.Simulation3DElectricField(\n",
    "    mesh=mesh_b, solver=Pardiso, survey=survey_b, rho=rho_b\n",
    ")"
   ]
  },
  {
   "cell_type": "code",
   "execution_count": null,
   "metadata": {},
   "outputs": [],
   "source": [
    "%%time\n",
    "t0 = time.time()\n",
    "mem_b = %memit -o fields_b = sim_b.fields()\n",
    "time_b = time.time()-t0\n",
    "ram_b = f\"{(mem_b.mem_usage[0] - mem_b.baseline)/1024:.3f} GiB\"\n",
    "print(f\"memory usage: {ram_b}\")"
   ]
  },
  {
   "cell_type": "code",
   "execution_count": null,
   "metadata": {},
   "outputs": [],
   "source": [
    "from scipy import interpolate"
   ]
  },
  {
   "cell_type": "code",
   "execution_count": null,
   "metadata": {},
   "outputs": [],
   "source": [
    "# n_data_locs = rx_re.locs.shape[0]\n",
    "# data_re_rbf = np.zeros(n_data_locs)\n",
    "# data_im_rbf = np.zeros(n_data_locs)\n",
    "\n",
    "# ncells_interp = 4 \n",
    "# dx_interp = ncells_interp * dx\n",
    "# dy_interp = ncells_interp * dy\n",
    "# dz_interp = ncells_interp * dz\n",
    "\n",
    "# ex = fields_b[:, \"e\"][:mesh_b.nEx]\n",
    "\n",
    "# for i in range(n_data_locs):\n",
    "#     inds = (\n",
    "#         (mesh_b.gridEx[:, 0] >= rx_re.locs[i, 0] - dx_interp) & \n",
    "#         (mesh_b.gridEx[:, 0] <= rx_re.locs[i, 0] + dx_interp) &\n",
    "#         (mesh_b.gridEx[:, 1] >= rx_re.locs[i, 1] - dy_interp) & \n",
    "#         (mesh_b.gridEx[:, 1] <= rx_re.locs[i, 1] + dy_interp) &\n",
    "#         (mesh_b.gridEx[:, 2] >= rx_re.locs[i, 2] - dz_interp) & \n",
    "#         (mesh_b.gridEx[:, 2] <= rx_re.locs[i, 2] + dz_interp) \n",
    "#     )\n",
    "    \n",
    "#     grid = mesh_b.gridEx[inds, :]\n",
    "#     ex_re = ex[inds].real\n",
    "#     ex_im = ex[inds].imag\n",
    "    \n",
    "#     rbf_re = interpolate.Rbf(grid[:, 0], grid[:, 1], grid[:, 2], ex_re) #, function=\"cubic\")\n",
    "#     rbf_im = interpolate.Rbf(grid[:, 0], grid[:, 1], grid[:, 2], ex_im) #, function=\"cubic\")\n",
    "    \n",
    "#     data_re_rbf[i] = rbf_re(rx_re.locs[i, 0], rx_re.locs[i, 1], rx_re.locs[i, 2])\n",
    "#     data_im_rbf[i] = rbf_im(rx_re.locs[i, 0], rx_re.locs[i, 1], rx_re.locs[i, 2])\n",
    "# d_b_rbf = np.hstack([data_re_rbf, data_im_rbf])    "
   ]
  },
  {
   "cell_type": "code",
   "execution_count": null,
   "metadata": {},
   "outputs": [],
   "source": [
    "d_b = sim_b.dpred(f=fields_b)  # this uses linear interpolation "
   ]
  },
  {
   "cell_type": "code",
   "execution_count": null,
   "metadata": {},
   "outputs": [],
   "source": [
    "# reshape data to desired shape\n",
    "\n",
    "def get_data_lines(data): \n",
    "    d_re = data[:rx_locs.shape[0]]\n",
    "    d_im = data[rx_locs.shape[0]:]\n",
    "\n",
    "    d_line1 = 1/1.5*np.vstack([d_re[:101], d_im[:101]]).T\n",
    "    d_line2 = 1/1.5*np.vstack([d_re[101:202], d_im[101:202]]).T\n",
    "    d_line3 = 1/1.5*np.vstack([d_re[202:], d_im[202:]]).T\n",
    "    \n",
    "    return [d_line1, d_line2, d_line3]\n",
    "\n",
    "data_b_lines = get_data_lines(d_b)"
   ]
  },
  {
   "cell_type": "code",
   "execution_count": null,
   "metadata": {},
   "outputs": [],
   "source": [
    "# data_b_lines_rbf = get_data_lines(d_b_rbf)\n",
    "# data_b_lines_rbf = data_b_lines.copy()"
   ]
  },
  {
   "cell_type": "code",
   "execution_count": null,
   "metadata": {},
   "outputs": [],
   "source": [
    "ex = fields_b[source_b, 'e'][:mesh_b.nEx]"
   ]
  },
  {
   "cell_type": "code",
   "execution_count": null,
   "metadata": {},
   "outputs": [],
   "source": [
    "ex_r_cc = mesh_b.aveEx2CC * ex.real\n",
    "ex_i_cc = mesh_b.aveEx2CC * ex.imag"
   ]
  },
  {
   "cell_type": "code",
   "execution_count": null,
   "metadata": {},
   "outputs": [],
   "source": [
    "# mesh_b.write_vtk(\n",
    "#     \"csem.vtu\", \n",
    "#     models={'rhoh':rhoh_b, 'rhov':rhov_b, 'ex_r':abs(ex_r_cc), 'ex_i':abs(ex_i_cc)}\n",
    "# )\n"
   ]
  },
  {
   "cell_type": "code",
   "execution_count": null,
   "metadata": {},
   "outputs": [],
   "source": [
    "def extract_lines(name):\n",
    "    import xarray as xr\n",
    "    inp = xr.load_dataset(name, engine='h5netcdf')\n",
    "    out = np.stack([\n",
    "        inp.line_1[::2]+1j*inp.line_1[1::2],\n",
    "        inp.line_2[::2]+1j*inp.line_2[1::2],\n",
    "        inp.line_3[::2]+1j*inp.line_3[1::2],\n",
    "    ]).T\n",
    "    return out\n",
    "\n",
    "epm_1d = extract_lines('../results/layered_empymod.nc')"
   ]
  },
  {
   "cell_type": "code",
   "execution_count": null,
   "metadata": {},
   "outputs": [],
   "source": [
    "def get_pos_neg(resp, off, min_off):\n",
    "    \"\"\"Separate positive and negative values, enforce min_off.\"\"\"\n",
    "    resp_pos = np.array([x if x > 0 else np.nan for x in resp])\n",
    "    resp_neg = np.array([-x if x < 0 else np.nan for x in resp])\n",
    "\n",
    "    resp_pos[off < min_offset] = np.nan\n",
    "    resp_neg[off < min_offset] = np.nan\n",
    "\n",
    "    return resp_pos, resp_neg"
   ]
  },
  {
   "cell_type": "code",
   "execution_count": null,
   "metadata": {},
   "outputs": [],
   "source": [
    "# Calculate error\n",
    "error = {}\n",
    "spg_data = np.vstack([d[:, 0] + 1j*d[:, 1] for d in data_b_lines]).T\n",
    "\n",
    "# spg_data = np.vstack(data_back_lines).T\n",
    "for name, data in zip(['SimPEG'], [spg_data]):\n",
    "    rerr = np.clip(100*abs((epm_1d.real-data.real)/epm_1d.real), 0.01, 100)\n",
    "    ierr = np.clip(100*abs((epm_1d.imag-data.imag)/epm_1d.imag), 0.01, 100)\n",
    "    error[name] = rerr + 1j*ierr"
   ]
  },
  {
   "cell_type": "code",
   "execution_count": null,
   "metadata": {},
   "outputs": [],
   "source": [
    "marker = ['*', 'v', '^', 'o']\n",
    "min_offset = 500\n",
    "\n",
    "for iy, y in enumerate(rec_y[:2]):\n",
    "    \n",
    "    # Get offset\n",
    "    off = np.sqrt(rec_x**2 + y**2)\n",
    "\n",
    "    plt.figure(figsize=(9, 5))\n",
    "\n",
    "    # # Real\n",
    "    ax1 = plt.subplot(221)\n",
    "    plt.title('Real')\n",
    "\n",
    "    resp_pos, resp_neg = get_pos_neg(epm_1d[:, iy].real, off, min_offset)\n",
    "    plt.plot(rec_x/1e3, resp_pos, 'k-', label='empymod')\n",
    "    plt.plot(rec_x/1e3, resp_neg, 'k--')\n",
    "    \n",
    "    resp_pos, resp_neg = get_pos_neg(spg_data[:, iy].real, off, min_offset)\n",
    "    plt.plot(rec_x/1e3, resp_pos, f'C0-', ms=3, label=\"SimPEG\")\n",
    "    plt.plot(rec_x/1e3, resp_neg, f'C0--', ms=3)\n",
    "\n",
    "\n",
    "    plt.ylabel(r'$\\Re(E_x)$ (V/m)')\n",
    "    ax1.set_xticklabels([])\n",
    "    plt.grid(axis='y', c='0.9')\n",
    "\n",
    "\n",
    "    # # Real Error\n",
    "    ax2 = plt.subplot(223)\n",
    "\n",
    "    for i, name in enumerate(error.keys()):\n",
    "        error[name][off < min_offset, iy] = np.nan + 1j*np.nan\n",
    "        plt.plot(rec_x/1e3, error[name][:, iy].real, f'C{i}{marker[i]}', ms=3)\n",
    "\n",
    "    plt.yscale('log')\n",
    "    plt.xlim(ax1.get_xlim())\n",
    "    plt.ylabel('Rel. error %')\n",
    "#     plt.ylim([8e-3, 120])\n",
    "#     plt.yticks([0.01, 0.1, 1, 10, 100], ('0.01', '0.1', '1', '10', '100'))\n",
    "    plt.grid(axis='y', c='0.9')\n",
    "    plt.xlabel('Offset (km)')\n",
    "\n",
    "\n",
    "    # # Imaginary\n",
    "    ax3 = plt.subplot(222, sharey=ax1)\n",
    "    plt.title('Imaginary')\n",
    "\n",
    "    resp_pos, resp_neg = get_pos_neg(epm_1d[:, iy].imag, off, min_offset)\n",
    "    plt.plot(rec_x/1e3, resp_pos, 'k-', label='empymod')\n",
    "    plt.plot(rec_x/1e3, resp_neg, 'k--')\n",
    "    \n",
    "    resp_pos, resp_neg = get_pos_neg(spg_data[:, iy].imag, off, min_offset)\n",
    "    plt.plot(rec_x/1e3, resp_pos, f'C{i}-', ms=3, label=\"SimPEG\")\n",
    "    plt.plot(rec_x/1e3, resp_neg, f'C{i}--', ms=3)\n",
    "    \n",
    "    plt.yscale('log')\n",
    "    plt.ylabel(r'$\\Im(E_x)$ (V/m)')\n",
    "\n",
    "    ax3.set_xticklabels([])\n",
    "    ax3.yaxis.tick_right()\n",
    "    ax3.yaxis.set_label_position(\"right\")\n",
    "    plt.grid(axis='y', c='0.9')\n",
    "\n",
    "\n",
    "    # # Imaginary Error\n",
    "    ax4 = plt.subplot(224, sharey=ax2)\n",
    "\n",
    "    for i, name in enumerate(error.keys()):\n",
    "        plt.plot(rec_x/1e3, error[name][:, iy].imag, f'C{i}{marker[i]}', ms=3)\n",
    "\n",
    "    # Legend\n",
    "    plt.plot(0, -1, 'k', label='empymod')\n",
    "    for i, name in enumerate(error.keys()):\n",
    "        plt.plot(0, -1, f'C{i}', label=name)\n",
    "        \n",
    "    plt.yscale('log')\n",
    "    plt.xlim(ax1.get_xlim())\n",
    "    plt.xlabel('Offset (km)')\n",
    "    plt.ylabel('Rel. error (%)')\n",
    "    plt.ylim([8e-3, 120])\n",
    "#     plt.yticks([0.01, 0.1, 1, 10, 100], ('0.01', '0.1', '1', '10', '100'))\n",
    "    ax4.yaxis.tick_right()\n",
    "    ax4.yaxis.set_label_position(\"right\")\n",
    "    plt.grid(axis='y', c='0.9')\n",
    "\n",
    "    # Switch off spines\n",
    "    ax1.spines['top'].set_visible(False)\n",
    "    ax1.spines['right'].set_visible(False)\n",
    "    ax2.spines['top'].set_visible(False)\n",
    "    ax2.spines['right'].set_visible(False)\n",
    "    ax3.spines['top'].set_visible(False)\n",
    "    ax3.spines['left'].set_visible(False)\n",
    "    ax4.spines['top'].set_visible(False)\n",
    "    ax4.spines['left'].set_visible(False)\n",
    "\n",
    "    plt.tight_layout()\n",
    "    plt.legend(loc=2, ncol=2, bbox_to_anchor=(-0.4, 1.2), framealpha=1)\n",
    "    \n",
    "    plt.suptitle(f'Receiver-line: {y/1e3} km')\n",
    "    plt.show()"
   ]
  },
  {
   "cell_type": "code",
   "execution_count": null,
   "metadata": {},
   "outputs": [],
   "source": [
    "# import pyvista as pv"
   ]
  },
  {
   "cell_type": "code",
   "execution_count": null,
   "metadata": {},
   "outputs": [],
   "source": [
    "# tmp = pv.PolyData(rx_locs)"
   ]
  },
  {
   "cell_type": "code",
   "execution_count": null,
   "metadata": {},
   "outputs": [],
   "source": [
    "# tmp.save(\"pts.vtk\")"
   ]
  },
  {
   "cell_type": "code",
   "execution_count": null,
   "metadata": {},
   "outputs": [],
   "source": [
    "for i in range(3):\n",
    "    print(f\"Line {i}\")\n",
    "    inds = ~ np.isnan(error['SimPEG'][:, i])\n",
    "    print(f\"mean real: {np.mean(error['SimPEG'][inds, i].real):1.2f}, imag: {np.mean(error['SimPEG'][inds, i].imag):1.2f}\")\n",
    "    print(f\"median  real: {np.median(error['SimPEG'][inds, i].real):1.2f}, imag: {np.median(error['SimPEG'][inds, i].imag):1.2f}\")             \n",
    "    print(\"\\n\")\n",
    "                  "
   ]
  },
  {
   "cell_type": "code",
   "execution_count": 41,
   "metadata": {},
   "outputs": [],
   "source": [
    "# save_results = True"
   ]
  },
  {
   "cell_type": "code",
   "execution_count": 42,
   "metadata": {},
   "outputs": [],
   "source": [
    "# if save_results: \n",
    "#     # Save the three lines\n",
    "#     ds.line_1.data = np.vstack([spg_data[:, 0].real, spg_data[:, 0].imag]).ravel('F')\n",
    "#     ds.line_2.data = np.vstack([spg_data[:, 1].real, spg_data[:, 1].imag]).ravel('F')\n",
    "#     ds.line_3.data = np.vstack([spg_data[:, 2].real, spg_data[:, 2].imag]).ravel('F')\n",
    "\n",
    "#     # Add info\n",
    "#     ds.attrs['runtime'] = time_b\n",
    "#     ds.attrs['n_procs'] = 1\n",
    "#     ds.attrs['max_ram'] = ram_b\n",
    "#     ds.attrs['n_cells'] = f\"{mesh_b.nC}\"\n",
    "#     ds.attrs['n_nodes'] = 'N/A'\n",
    "#     ds.attrs['n_dof'] = f\"{mesh.nE}\"\n",
    "#     ds.attrs['extent'] = (f\"x = {mesh_b.vectorNx[0]:.1f}-{mesh_b.vectorNx[-1]:.1f}; \" # Total mesh extent\n",
    "#                           f\"y = {mesh_b.vectorNy[0]:.1f}-{mesh_b.vectorNy[-1]:.1f}; \"\n",
    "#                           f\"z = {mesh_b.vectorNz[0]:.1f}-{mesh_b.vectorNz[-1]:.1f}\")\n",
    "#     ds.attrs['min_vol'] = f\"{np.min(mesh_b.vol):.1f}\"\n",
    "#     ds.attrs['max_vol'] = f\"{np.max(mesh_b.vol):.1f}\"\n",
    "#     ds.attrs['machine'] = \"GKE e2-highmem-16; Intel(R) Xeon(R) CPU @ 2.20GHz; 64GB RAM\"\n",
    "#     ds.attrs['version'] = f\"SimPEG v{SimPEG.__version__}\"\n",
    "#     ds.attrs['date'] = datetime.today().isoformat()\n",
    "\n",
    "#     # Save it under <{model}_{code}.nc>\n",
    "#     ds.to_netcdf(f\"../results/layered_simpeg.nc\", engine='h5netcdf')"
   ]
  },
  {
   "cell_type": "code",
   "execution_count": 43,
   "metadata": {},
   "outputs": [],
   "source": [
    "# # Save the three lines\n",
    "# ds.line_1.data = np.vstack([spg_data_t[:, 0].real, spg_data_t[:, 0].imag]).ravel('F')\n",
    "# ds.line_2.data = np.vstack([spg_data_t[:, 1].real, spg_data_t[:, 1].imag]).ravel('F')\n",
    "# ds.line_3.data = np.vstack([spg_data_t[:, 2].real, spg_data_t[:, 2].imag]).ravel('F')\n",
    "\n",
    "# # Add info\n",
    "# ds.attrs['runtime'] = time_t\n",
    "# ds.attrs['n_procs'] = 1\n",
    "# ds.attrs['max_ram'] = ram_t\n",
    "# ds.attrs['n_cells'] = f\"{mesh_t.nC}\"\n",
    "# ds.attrs['n_nodes'] = 'N/A'\n",
    "# ds.attrs['n_dof'] = f\"{mesh.nE}\"\n",
    "# ds.attrs['extent'] = (f\"x = {mesh_t.vectorNx[0]:.1f}-{mesh_t.vectorNx[-1]:.1f}; \" # Total mesh extent\n",
    "#                       f\"y = {mesh_t.vectorNy[0]:.1f}-{mesh_t.vectorNy[-1]:.1f}; \"\n",
    "#                       f\"z = {mesh_t.vectorNz[0]:.1f}-{mesh_t.vectorNz[-1]:.1f}\")\n",
    "# ds.attrs['min_vol'] = f\"{np.min(mesh_t.vol):.1f}\"\n",
    "# ds.attrs['max_vol'] = f\"{np.max(mesh_t.vol):.1f}\"\n",
    "# ds.attrs['machine'] = \"Cheyenne Supercomputer - shared node; Intel(R) Xeon(R) CPU E5-2697 v4 @ 2.30GHz\"\n",
    "# ds.attrs['version'] = f\"SimPEG v{SimPEG.__version__}\"\n",
    "# ds.attrs['date'] = datetime.today().isoformat()\n",
    "\n",
    "# # Save it under <{model}_{code}.nc>\n",
    "# ds.to_netcdf(f\"../results/block_simpeg.nc\", engine='h5netcdf')"
   ]
  }
 ],
 "metadata": {
  "kernelspec": {
   "display_name": "Python 3",
   "language": "python",
   "name": "python3"
  },
  "language_info": {
   "codemirror_mode": {
    "name": "ipython",
    "version": 3
   },
   "file_extension": ".py",
   "mimetype": "text/x-python",
   "name": "python",
   "nbconvert_exporter": "python",
   "pygments_lexer": "ipython3",
   "version": "3.8.5"
  }
 },
 "nbformat": 4,
 "nbformat_minor": 4
}
