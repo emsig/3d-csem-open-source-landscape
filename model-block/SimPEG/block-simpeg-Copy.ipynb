{
 "cells": [
  {
   "cell_type": "markdown",
   "metadata": {},
   "source": [
    "# Block Model using `SimPEG`\n",
    "\n"
   ]
  },
  {
   "cell_type": "markdown",
   "metadata": {},
   "source": [
    "Note on environment: running `simulation` branch of SimPEG"
   ]
  },
  {
   "cell_type": "code",
   "execution_count": 4,
   "metadata": {},
   "outputs": [],
   "source": [
    "# core python libraries we rely on\n",
    "import numpy as np\n",
    "import matplotlib.pyplot as plt\n",
    "import xarray as xr\n",
    "import time\n",
    "from datetime import datetime\n",
    "\n",
    "# SimPEG ecosystem \n",
    "import discretize\n",
    "from discretize.utils import mkvc\n",
    "import SimPEG\n",
    "from SimPEG.electromagnetics import frequency_domain as fdem\n",
    "from pymatsolver import Pardiso\n",
    "import ipywidgets\n",
    "%load_ext memory_profiler"
   ]
  },
  {
   "cell_type": "markdown",
   "metadata": {},
   "source": [
    "## load the model and survey"
   ]
  },
  {
   "cell_type": "code",
   "execution_count": 5,
   "metadata": {},
   "outputs": [],
   "source": [
    "# 1D background\n",
    "depth = [0., -600, -850, -3150]\n",
    "res1d = [1e8, 0.3, 1, 2, 1000]\n",
    "aniso = [1, 1, 1, np.sqrt(2), 1]\n",
    "\n",
    "# Define dimensions of the three blocks [x1, x2, y1, y2, z1, z2]\n",
    "block1 = [ -500,  500, -4000, 4000,  -1600, -850]\n",
    "block2 = [    0, 5000, -3000,    0,  -1850, -1600]\n",
    "block3 = [-5000,    0,     0, 3000, -2900, -1600]\n",
    "\n",
    "# Resistivities Block 1, 2, and 3\n",
    "resistivities = [10, 100, 500]"
   ]
  },
  {
   "cell_type": "code",
   "execution_count": 6,
   "metadata": {},
   "outputs": [],
   "source": [
    "ds = xr.load_dataset('../block_model_and_survey.nc', engine='h5netcdf')"
   ]
  },
  {
   "cell_type": "code",
   "execution_count": 7,
   "metadata": {},
   "outputs": [
    {
     "data": {
      "text/html": [
       "<table>\n",
       "  <tr>\n",
       "    <td style='font-weight: bold; font-size: 1.2em; text-align: center;' colspan='3'>TensorMesh</td>\n",
       "    <td style='font-size: 1.2em; text-align: center;'colspan='4'>288 cells</td>\n",
       "  </tr>\n",
       "  <tr>\n",
       "    <th></th>\n",
       "    <th></th>\n",
       "    <th colspan='2' style='padding: 5px 20px 5px 20px;'>MESH EXTENT</th>\n",
       "    <th colspan='2' style='padding: 5px 20px 5px 20px;'>CELL WIDTH</th>\n",
       "    <th style='padding: 5px 20px 5px 20px;'>FACTOR</th>\n",
       "  </tr>\n",
       "  <tr>\n",
       "    <th style='padding: 5px 20px 5px 20px;'>dir</th>\n",
       "    <th style='padding: 5px 20px 5px 20px;'>nC</th>\n",
       "    <th style='padding: 5px 20px 5px 20px;'>min</th>\n",
       "    <th style='padding: 5px 20px 5px 20px;'>max</th>\n",
       "    <th style='padding: 5px 20px 5px 20px;'>min</th>\n",
       "    <th style='padding: 5px 20px 5px 20px;'>max</th>\n",
       "    <th style='padding: 5px 20px 5px 20px;'>max</th>\n",
       "  </tr>\n",
       "  <tr>\n",
       "    <td style='padding: 5px 20px 5px 20px;'>x</td>\n",
       "    <td style='padding: 5px 20px 5px 20px;'>6</td>\n",
       "    <td style='padding: 5px 20px 5px 20px;'>-10,000.00</td>\n",
       "    <td style='padding: 5px 20px 5px 20px;'>10,000.00</td>\n",
       "    <td style='padding: 5px 20px 5px 20px;'>500.00</td>\n",
       "    <td style='padding: 5px 20px 5px 20px;'>5,000.00</td>\n",
       "    <td style='padding: 5px 20px 5px 20px;'>9.00</td>\n",
       "  </tr>\n",
       "  <tr>\n",
       "    <td style='padding: 5px 20px 5px 20px;'>y</td>\n",
       "    <td style='padding: 5px 20px 5px 20px;'>6</td>\n",
       "    <td style='padding: 5px 20px 5px 20px;'>-10,000.00</td>\n",
       "    <td style='padding: 5px 20px 5px 20px;'>10,000.00</td>\n",
       "    <td style='padding: 5px 20px 5px 20px;'>1,000.00</td>\n",
       "    <td style='padding: 5px 20px 5px 20px;'>6,000.00</td>\n",
       "    <td style='padding: 5px 20px 5px 20px;'>6.00</td>\n",
       "  </tr>\n",
       "  <tr>\n",
       "    <td style='padding: 5px 20px 5px 20px;'>z</td>\n",
       "    <td style='padding: 5px 20px 5px 20px;'>8</td>\n",
       "    <td style='padding: 5px 20px 5px 20px;'>-3,400.00</td>\n",
       "    <td style='padding: 5px 20px 5px 20px;'>500.00</td>\n",
       "    <td style='padding: 5px 20px 5px 20px;'>250.00</td>\n",
       "    <td style='padding: 5px 20px 5px 20px;'>1,050.00</td>\n",
       "    <td style='padding: 5px 20px 5px 20px;'>4.20</td>\n",
       "  </tr>\n",
       "</table>\n"
      ],
      "text/plain": [
       "\n",
       "  TensorMesh: 288 cells\n",
       "\n",
       "                      MESH EXTENT             CELL WIDTH      FACTOR\n",
       "  dir    nC        min           max         min       max      max\n",
       "  ---   ---  ---------------------------  ------------------  ------\n",
       "   x      6    -10,000.00     10,000.00    500.00  5,000.00    9.00\n",
       "   y      6    -10,000.00     10,000.00  1,000.00  6,000.00    6.00\n",
       "   z      8     -3,400.00        500.00    250.00  1,050.00    4.20\n"
      ]
     },
     "execution_count": 7,
     "metadata": {},
     "output_type": "execute_result"
    }
   ],
   "source": [
    "hx, hy, hz = ds.attrs['hx'], ds.attrs['hy'], ds.attrs['hz']\n",
    "x0 = ds.attrs['x0']\n",
    "mesh_model = discretize.TensorMesh([hx, hy, hz], x0=x0)\n",
    "\n",
    "mesh_model"
   ]
  },
  {
   "cell_type": "code",
   "execution_count": 8,
   "metadata": {},
   "outputs": [],
   "source": [
    "resh_bg, resv_bg = ds.attrs['resh_bg'], ds.attrs['resv_bg']\n",
    "resh_tg, resv_bg = ds.attrs['resh_tg'], ds.attrs['resv_tg']"
   ]
  },
  {
   "cell_type": "code",
   "execution_count": 9,
   "metadata": {},
   "outputs": [
    {
     "data": {
      "image/png": "[encoded data removed]",
      "text/plain": [
       "<Figure size 720x576 with 8 Axes>"
      ]
     },
     "metadata": {
      "needs_background": "light"
     },
     "output_type": "display_data"
    }
   ],
   "source": [
    "fig, ax = plt.subplots(2, 2, figsize=(10, 8))\n",
    "\n",
    "for a, m in zip(ax.flatten(), ['resh_bg', 'resv_bg', 'resh_tg', 'resv_tg']):\n",
    "    cb = plt.colorbar(\n",
    "        mesh_model.plotSlice(np.log10(ds.attrs[m]), ax=a, normal='Y')[0], ax=a\n",
    "    )\n",
    "    a.set_title(m)\n",
    "    cb.set_label(\"log$_10$($\\\\rho$)\")\n",
    "\n",
    "plt.tight_layout()"
   ]
  },
  {
   "cell_type": "code",
   "execution_count": 10,
   "metadata": {},
   "outputs": [
    {
     "name": "stdout",
     "output_type": "stream",
     "text": [
      "[-100.  100.    0.    0. -550. -550.]\n"
     ]
    }
   ],
   "source": [
    "# Get Survey\n",
    "src = ds.attrs['src']\n",
    "strength = ds.attrs['strength']\n",
    "freq = ds.attrs['freq']\n",
    "rec_x = ds.x.data[::2]\n",
    "rec_y = ds.attrs['rec_y']\n",
    "rec_z = ds.attrs['rec_z'] - 0.1\n",
    "rx_locs = discretize.utils.ndgrid([rec_x, rec_y, np.r_[rec_z]])\n",
    "\n",
    "# Get source center (for meshing)\n",
    "src_c = np.mean(src.reshape(-1, 2), 1)\n",
    "print(src)"
   ]
  },
  {
   "cell_type": "code",
   "execution_count": 11,
   "metadata": {},
   "outputs": [
    {
     "name": "stdout",
     "output_type": "stream",
     "text": [
      "skin depth: [2.75504446e+02 5.03000000e+02 7.11349422e+02 1.59062566e+04\n",
      " 5.03000000e+06]\n"
     ]
    }
   ],
   "source": [
    "print(\n",
    "    f\"skin depth: {503/np.sqrt(freq/np.unique(resh_bg))}\"\n",
    ")"
   ]
  },
  {
   "cell_type": "markdown",
   "metadata": {},
   "source": [
    "## create a computational mesh"
   ]
  },
  {
   "cell_type": "code",
   "execution_count": 12,
   "metadata": {},
   "outputs": [
    {
     "name": "stdout",
     "output_type": "stream",
     "text": [
      "200.0 60.0 63.0 756000.0\n",
      "256 128 128 4194304\n"
     ]
    }
   ],
   "source": [
    "# use the same discretization and domain extent in each dimension\n",
    "dx, dy, dz = 100, 100, 50 \n",
    "domain_x, domain_y, domain_z = 2e4, 6e3, np.abs(depth).max()\n",
    "\n",
    "ncore_x = domain_x/dx\n",
    "ncore_y = domain_y/dy\n",
    "ncore_z = domain_z/dz\n",
    "\n",
    "print(ncore_x, ncore_y, ncore_z, ncore_x*ncore_y*ncore_z)\n",
    "\n",
    "npad_x = 20\n",
    "npad_y = 20\n",
    "npad_z = 20\n",
    "\n",
    "ncx = 2**int(np.ceil(np.log(ncore_x + npad_x*2)/np.log(2.)))\n",
    "ncy = 2**int(np.ceil(np.log(ncore_y + npad_y*2)/np.log(2.)))\n",
    "ncz = 2**int(np.ceil(np.log(ncore_z + npad_z*2)/np.log(2.)))\n",
    "\n",
    "print(ncx, ncy, ncz, ncx*ncy*ncz)\n",
    "\n",
    "# npad_x = int((ncx - ncore_x)/2)\n",
    "# npad_y = int((ncy - ncore_y)/2)\n",
    "# npad_z = int((ncz - ncore_z)/2)\n",
    "\n",
    "pf = 1.4\n"
   ]
  },
  {
   "cell_type": "code",
   "execution_count": null,
   "metadata": {},
   "outputs": [],
   "source": [
    "# define the base mesh\n",
    "def make_mesh(refine_blocks = False):\n",
    "    mesh = discretize.TreeMesh(\n",
    "        [\n",
    "            [(dx, npad_x, -pf), (dx, ncx-npad_x*2), (dx, npad_x, pf)], \n",
    "            [(dy, npad_y, -pf), (dy, ncy-npad_y*2), (dy, npad_y, pf)], \n",
    "            [(dz, npad_z, -pf), (dz, ncz-npad_z*2), (dz, npad_z, pf)]\n",
    "        ]\n",
    "    )\n",
    "\n",
    "    mesh.x0 = np.r_[\n",
    "        -np.sum(mesh.h[0])/2., -np.sum(mesh.h[1])/2., -np.sum(mesh.h[2][:ncz-npad_z])\n",
    "    ]\n",
    "\n",
    "\n",
    "    # refine around the layers \n",
    "    xrefine = 2.25*domain_x*np.r_[-1, 1]\n",
    "    yrefine = 1.5*domain_x*np.r_[-1, 1]\n",
    "\n",
    "    for d in depth: \n",
    "        xr, yr, zr = np.meshgrid(xrefine, yrefine, np.r_[d])\n",
    "        surface_refine = np.c_[mkvc(xr), mkvc(yr), mkvc(zr)]\n",
    "        mesh = discretize.utils.refine_tree_xyz(\n",
    "            mesh, surface_refine, \n",
    "            octree_levels=[1, 1], method=\"surface\", finalize=False\n",
    "        )\n",
    "\n",
    "    # refine around the sources and receivers\n",
    "    xr, yr, zr = np.meshgrid(src[0:2], src[2] + dy/2*np.r_[-1, 1], src[4] + dz/2*np.r_[-1, 1]) \n",
    "    src_refine = np.c_[mkvc(xr), mkvc(yr), mkvc(zr)]\n",
    "    mesh = discretize.utils.refine_tree_xyz(\n",
    "        mesh, src_refine, \n",
    "        octree_levels=[4, 4, 4, 2], method=\"box\", finalize=False\n",
    "    )\n",
    "\n",
    "    mesh = discretize.utils.refine_tree_xyz(\n",
    "        mesh, rx_locs, \n",
    "        octree_levels=[8, 4, 4, 2], method=\"radial\", finalize=False\n",
    "    )\n",
    "\n",
    "    if refine_blocks:\n",
    "        # refine around the blocks\n",
    "        for b in [block1, block2, block3]:\n",
    "            for xb, yb, zb in zip(\n",
    "                [b[0], b[1], b[0:2], b[0:2], b[0:2], b[0:2]], # x\n",
    "                [b[2:4], b[2:4], b[2], b[3], b[2:4], b[2:4]], # y\n",
    "                [b[4:6], b[4:6], b[4:6], b[4:6], b[4], b[5]]  # z\n",
    "            ):\n",
    "                if not isinstance(xb, list):\n",
    "                    xb = xb + 2*dx*np.r_[-1, 1]\n",
    "                elif not isinstance(yb, list): \n",
    "                    yb = yb + 2*dy*np.r_[-1, 1]\n",
    "                elif not isinstance(zb, list): \n",
    "                    zb = zb + 2*dz*np.r_[-1, 1]\n",
    "\n",
    "                xr, yr, zr = np.meshgrid(xb, yb, zb) \n",
    "                surface_refine = np.c_[mkvc(xr), mkvc(yr), mkvc(zr)]\n",
    "                mesh = discretize.utils.refine_tree_xyz(\n",
    "                    mesh, surface_refine, \n",
    "                    octree_levels=[1, 1, 1],\n",
    "                    method=\"box\", finalize=False\n",
    "                )\n",
    "\n",
    "    mesh.finalize()\n",
    "    \n",
    "    return mesh"
   ]
  },
  {
   "cell_type": "code",
   "execution_count": null,
   "metadata": {},
   "outputs": [],
   "source": [
    "mesh_b = make_mesh(False)\n",
    "# mesh_t = make_mesh(True)"
   ]
  },
  {
   "cell_type": "code",
   "execution_count": null,
   "metadata": {},
   "outputs": [],
   "source": [
    "print(mesh_b.nC) #, mesh_t.nC)"
   ]
  },
  {
   "cell_type": "code",
   "execution_count": 16,
   "metadata": {},
   "outputs": [
    {
     "data": {
      "text/html": [
       "<table>\n",
       "<tr>\n",
       "<td style='font-weight: bold; font-size: 1.2em; text-align: center;'>OcTreeMesh</td>\n",
       "<td style='font-size: 1.2em; text-align: center;' colspan='2'>9.16% filled</td>\n",
       "</tr>\n",
       "<tr>\n",
       "<td>\n",
       "<table>\n",
       "<tr>\n",
       "<th style='padding: 5px 20px 5px 20px;'>Level</th>\n",
       "<th style='padding: 5px 20px 5px 20px;'>Number of cells</th>\n",
       "</tr>\n",
       "<tr>\n",
       "<td style='padding: 5px 20px 5px 20px;'>4</td>\n",
       "<td style='padding: 5px 20px 5px 20px;'>128</td>\n",
       "</tr>\n",
       "<tr>\n",
       "<td style='padding: 5px 20px 5px 20px;'>5</td>\n",
       "<td style='padding: 5px 20px 5px 20px;'>2056</td>\n",
       "</tr>\n",
       "<tr>\n",
       "<td style='padding: 5px 20px 5px 20px;'>6</td>\n",
       "<td style='padding: 5px 20px 5px 20px;'>21148</td>\n",
       "</tr>\n",
       "<tr>\n",
       "<td style='padding: 5px 20px 5px 20px;'>7</td>\n",
       "<td style='padding: 5px 20px 5px 20px;'>129019</td>\n",
       "</tr>\n",
       "<tr>\n",
       "<td style='padding: 5px 20px 5px 20px;'>8</td>\n",
       "<td style='padding: 5px 20px 5px 20px;'>231720</td>\n",
       "</tr>\n",
       "<tr>\n",
       "<td style='font-weight: bold; padding: 5px 20px 5px 20px;'> Total </td>\n",
       "<td style='padding: 5px 20px 5px 20px;'> 384071 </td>\n",
       "</tr>\n",
       "</table>\n",
       "</td>\n",
       "<td>\n",
       "<table>\n",
       "<tr>\n",
       "<th></th>\n",
       "<th style='padding: 5px 20px 5px 20px;' colspan='2'>Mesh extent</th>\n",
       "<th style='padding: 5px 20px 5px 20px;' colspan='2'>Cell widths</th>\n",
       "</tr>\n",
       "<tr>\n",
       "<th></th>\n",
       "<th style='padding: 5px 20px 5px 20px;'>min</th>\n",
       "<th style='padding: 5px 20px 5px 20px;'>max</th>\n",
       "<th style='padding: 5px 20px 5px 20px;'>min</th>\n",
       "<th style='padding: 5px 20px 5px 20px;'>max</th>\n",
       "</tr>\n",
       "<tr>\n",
       "<td style='padding: 5px 20px 5px 20px;'>x</td>\n",
       "<td style='padding: 5px 20px 5px 20px;'>-303288.89398849645</td>\n",
       "<td style='padding: 5px 20px 5px 20px;'>303288.89398849645</td>\n",
       "<td style='padding: 5px 20px 5px 20px;'>100.0</td>\n",
       "<td style='padding: 5px 20px 5px 20px;'>291494.33398849645</td>\n",
       "</tr>\n",
       "<tr>\n",
       "<td style='padding: 5px 20px 5px 20px;'>y</td>\n",
       "<td style='padding: 5px 20px 5px 20px;'>-296888.8939884965</td>\n",
       "<td style='padding: 5px 20px 5px 20px;'>296888.8939884964</td>\n",
       "<td style='padding: 5px 20px 5px 20px;'>100.0</td>\n",
       "<td style='padding: 5px 20px 5px 20px;'>291494.33398849645</td>\n",
       "</tr>\n",
       "<tr>\n",
       "<td style='padding: 5px 20px 5px 20px;'>z</td>\n",
       "<td style='padding: 5px 20px 5px 20px;'>-150644.44699424822</td>\n",
       "<td style='padding: 5px 20px 5px 20px;'>146244.44699424822</td>\n",
       "<td style='padding: 5px 20px 5px 20px;'>50.0</td>\n",
       "<td style='padding: 5px 20px 5px 20px;'>145747.16699424823</td>\n",
       "</tr>\n",
       "</table>\n",
       "</td>\n",
       "</tr>\n",
       "</table>\n"
      ],
      "text/plain": [
       "\n",
       "OcTreeMesh: 9.16% filled\n",
       "\n",
       "Level : Number of cells               Mesh Extent               Cell Widths    \n",
       "-----------------------           min     ,     max            min   ,   max   \n",
       "  4   :       128            ---------------------------   --------------------\n",
       "  5   :      2056         x: -303288.89398849645,303288.89398849645     100.0   , 291494.33398849645\n",
       "  6   :      21148        y: -296888.8939884965,296888.8939884964     100.0   , 291494.33398849645\n",
       "  7   :     129019        z: -150644.44699424822,146244.44699424822      50.0   , 145747.16699424823\n",
       "  8   :     231720     \n",
       "-----------------------\n",
       "Total :     384071     "
      ]
     },
     "execution_count": 16,
     "metadata": {},
     "output_type": "execute_result"
    }
   ],
   "source": [
    "mesh_b"
   ]
  },
  {
   "cell_type": "code",
   "execution_count": 17,
   "metadata": {},
   "outputs": [],
   "source": [
    "# mesh_t"
   ]
  },
  {
   "cell_type": "code",
   "execution_count": 18,
   "metadata": {},
   "outputs": [
    {
     "data": {
      "text/plain": [
       "(<matplotlib.cm.ScalarMappable at 0x2b7f92796310>,)"
      ]
     },
     "execution_count": 18,
     "metadata": {},
     "output_type": "execute_result"
    },
    {
     "data": {
      "image/png": "[encoded data removed]",
      "text/plain": [
       "<Figure size 432x288 with 1 Axes>"
      ]
     },
     "metadata": {
      "needs_background": "light"
     },
     "output_type": "display_data"
    }
   ],
   "source": [
    "fig, ax = plt.subplots(1, 1)\n",
    "mesh_b.plotSlice(np.log10(mesh_b.vol), normal='x', grid=True, ax=ax)\n",
    "# ax.set_xlim([-10000, 10000])\n",
    "# ax.set_ylim([-4000, 100])"
   ]
  },
  {
   "cell_type": "code",
   "execution_count": 19,
   "metadata": {},
   "outputs": [],
   "source": [
    "def plot_mesh(normal=\"Y\", ind=1024, xmin=-10000, xmax=10000, ymin=-4000, ymax=100):\n",
    "    fig, ax = plt.subplots(1, 1)\n",
    "    mesh_b.plotSlice(np.log10(mesh_b.vol), normal=normal, grid=True, ax=ax, ind=ind)\n",
    "    ax.set_xlim([xmin, xmax])\n",
    "    ax.set_ylim([ymin, ymax])"
   ]
  },
  {
   "cell_type": "code",
   "execution_count": 20,
   "metadata": {},
   "outputs": [
    {
     "data": {
      "application/vnd.jupyter.widget-view+json": {
       "model_id": "5ccfac0c23484f93a3ca38f4b6aee7c2",
       "version_major": 2,
       "version_minor": 0
      },
      "text/plain": [
       "interactive(children=(ToggleButtons(description='normal', index=1, options=('X', 'Y', 'Z'), value='Y'), IntSli…"
      ]
     },
     "metadata": {},
     "output_type": "display_data"
    },
    {
     "data": {
      "text/plain": [
       "<function __main__.plot_mesh(normal='Y', ind=1024, xmin=-10000, xmax=10000, ymin=-4000, ymax=100)>"
      ]
     },
     "execution_count": 20,
     "metadata": {},
     "output_type": "execute_result"
    }
   ],
   "source": [
    "max_h = np.max([len(h) for h in mesh_b.h])\n",
    "ipywidgets.interact(\n",
    "    plot_mesh,\n",
    "    normal=ipywidgets.ToggleButtons(options=[\"X\", \"Y\", \"Z\"], value=\"Y\"),\n",
    "    ind=ipywidgets.IntSlider(min=0, max=max_h, value=int(len(mesh_b.h[1])/2)),\n",
    "    xmin=ipywidgets.FloatText(value=-domain_x),\n",
    "    xmax=ipywidgets.FloatText(value=domain_x),\n",
    "    ymin=ipywidgets.FloatText(value=-4000),\n",
    "    ymax=ipywidgets.FloatText(value=100)\n",
    ")"
   ]
  },
  {
   "cell_type": "markdown",
   "metadata": {},
   "source": [
    "### put the model on the computational mesh"
   ]
  },
  {
   "cell_type": "code",
   "execution_count": 21,
   "metadata": {},
   "outputs": [],
   "source": [
    "def build_model(mesh, blocks=False): \n",
    "    rhoh = res1d[0]*np.ones(mesh.nC)\n",
    "    rhov = res1d[0]*np.ones(mesh.nC)\n",
    "    \n",
    "    for r, a, d in zip(res1d[1:], aniso[1:], depth):\n",
    "        inds = mesh.gridCC[:, 2] <= d \n",
    "        rhoh[inds] = r\n",
    "        rhov[inds] = r*a**2\n",
    "    \n",
    "    # find the cells where we have coarsened over an interface\n",
    "    inds_outside_domain = (\n",
    "        (mesh.gridCC[:, 0] <= -domain_x) | (mesh.gridCC[:, 0] >= domain_x) |\n",
    "        (mesh.gridCC[:, 1] <= -domain_y) | (mesh.gridCC[:, 1] >= domain_y) |\n",
    "        (mesh.gridCC[:, 2] <= -domain_z)\n",
    "    )\n",
    "\n",
    "    cell_tops = mesh.gridCC[:, 2] + mesh.h_gridded[:, 2]/2\n",
    "    cell_bottoms = mesh.gridCC[:, 2] - mesh.h_gridded[:, 2]/2\n",
    "\n",
    "    inds_crossing_layers = np.zeros(mesh.nC, dtype=bool)\n",
    "    layer_inds_crossed = 999 * np.ones(mesh.nC, dtype=int)\n",
    "    for i, d in enumerate(depth):\n",
    "        crossing_layer = ((d < cell_tops) & (d > cell_bottoms))\n",
    "        layer_inds_crossed[crossing_layer] = i\n",
    "        inds_crossing_layers = inds_crossing_layers | crossing_layer\n",
    "\n",
    "    inds_to_average = inds_outside_domain & inds_crossing_layers\n",
    "\n",
    "    for i in np.where(inds_to_average)[0]:\n",
    "        cell_top = cell_tops[i]\n",
    "        cell_bottom = cell_bottoms[i]\n",
    "        d = depth[layer_inds_crossed[i]]\n",
    "        \n",
    "        rhoha = res1d[layer_inds_crossed[i]]\n",
    "        rhohb = res1d[layer_inds_crossed[i]+1]\n",
    "        \n",
    "        rhova = res1d[layer_inds_crossed[i]] * aniso[layer_inds_crossed[i]]\n",
    "        rhovb = res1d[layer_inds_crossed[i]+1] * aniso[layer_inds_crossed[i]+1]**2\n",
    "        \n",
    "        rhoh[i] = 1./(\n",
    "            (1./rhoha * (cell_top - d) + 1./rhohb * (d - cell_bottom)) / (cell_top - cell_bottom)\n",
    "        )\n",
    "        rhov[i] = (\n",
    "            (rhova * (cell_top - d) + rhovb * (d - cell_bottom)) / (cell_top - cell_bottom)\n",
    "        )\n",
    "        \n",
    "#         rhoh[i] = np.exp(\n",
    "#             (np.log(rhoha) * (cell_top - d) + np.log(rhohb) * (d - cell_bottom)) / (cell_top - cell_bottom)\n",
    "#         )\n",
    "#         rhov[i] = np.exp(\n",
    "#             (np.log(rhova) * (cell_top - d) + np.log(rhovb) * (d - cell_bottom)) / (cell_top - cell_bottom)\n",
    "#         )\n",
    "    \n",
    "    if blocks: \n",
    "        for r, b in zip(resistivities, [block1, block2, block3]):\n",
    "            inds = (\n",
    "                (mesh.gridCC[:, 0] >= b[0]) & (mesh.gridCC[:, 0] <= b[1]) &\n",
    "                (mesh.gridCC[:, 1] >= b[2]) & (mesh.gridCC[:, 1] <= b[3]) &\n",
    "                (mesh.gridCC[:, 2] >= b[4]) & (mesh.gridCC[:, 2] <= b[5])\n",
    "            )\n",
    "            rhoh[inds] = r\n",
    "            rhov[inds] = r\n",
    "    \n",
    "    return rhoh, rhov"
   ]
  },
  {
   "cell_type": "code",
   "execution_count": 22,
   "metadata": {},
   "outputs": [],
   "source": [
    "rhoh_b, rhov_b = build_model(mesh_b, False)\n",
    "# rhoh_t, rhov_t = build_model(mesh_t, True)"
   ]
  },
  {
   "cell_type": "code",
   "execution_count": 23,
   "metadata": {},
   "outputs": [
    {
     "data": {
      "image/png": "[encoded data removed]",
      "text/plain": [
       "<Figure size 720x576 with 6 Axes>"
      ]
     },
     "metadata": {
      "needs_background": "light"
     },
     "output_type": "display_data"
    }
   ],
   "source": [
    "fig, ax = plt.subplots(2, 2, figsize=(10, 8))\n",
    "\n",
    "for a, m, mesh in zip(\n",
    "    ax.flatten(), \n",
    "    [rhoh_b, rhov_b], #rhoh_t, rhov_t], \n",
    "    [mesh_b, mesh_b], #mesh_t, mesh_t]\n",
    "):\n",
    "    cb = plt.colorbar(\n",
    "        mesh.plotSlice(np.log10(m), ax=a, normal='Y', pcolorOpts={\"vmin\":-1, \"vmax\":4})[0], ax=a\n",
    "    )\n",
    "    cb.set_label(\"log$_10$($\\\\rho$)\")\n",
    "    a.set_xlim(20*domain_x*np.r_[-1, 1])\n",
    "    a.set_ylim([-4000, 100])\n",
    "\n",
    "plt.tight_layout()"
   ]
  },
  {
   "cell_type": "code",
   "execution_count": 24,
   "metadata": {},
   "outputs": [],
   "source": [
    "rho_b = np.vstack([rhoh_b, rhoh_b, rhov_b]).T\n",
    "# rho_t = np.vstack([rhoh_t, rhoh_t, rhov_t]).T"
   ]
  },
  {
   "cell_type": "markdown",
   "metadata": {},
   "source": [
    "## set up the frequency domain simulation"
   ]
  },
  {
   "cell_type": "code",
   "execution_count": 25,
   "metadata": {},
   "outputs": [],
   "source": [
    "rx_re = fdem.receivers.Point_e(locations=rx_locs, orientation=\"x\", component=\"real\")\n",
    "rx_im = fdem.receivers.Point_e(locations=rx_locs, orientation=\"x\", component=\"imag\")"
   ]
  },
  {
   "cell_type": "code",
   "execution_count": 26,
   "metadata": {},
   "outputs": [],
   "source": [
    "def build_source(mesh): \n",
    "    src_x = np.zeros(mesh.nEx)\n",
    "    src_inds = (\n",
    "        (mesh.gridEx[:, 0] >= src[0] - 1) & (mesh.gridEx[:, 0] <= src[1] + 1) &\n",
    "        (mesh.gridEx[:, 1] >= src[2] - 1) & (mesh.gridEx[:, 1] <= src[3] + 1) &\n",
    "        (mesh.gridEx[:, 2] >= src[4] - 1) & (mesh.gridEx[:, 2] <= src[5] + 1) \n",
    "    )\n",
    "    src_x[src_inds] = 1\n",
    "    print(src_inds.nonzero())\n",
    "\n",
    "    src_vec = strength * mesh.edge * np.hstack([\n",
    "        src_x, np.zeros(mesh.nEy), np.zeros(mesh.nEz)\n",
    "    ])\n",
    "    source = fdem.sources.RawVec_e(s_e=src_vec, freq=freq, receiver_list=[rx_re, rx_im])\n",
    "    return source"
   ]
  },
  {
   "cell_type": "code",
   "execution_count": 27,
   "metadata": {},
   "outputs": [
    {
     "name": "stdout",
     "output_type": "stream",
     "text": [
      "(array([139464, 139938]),)\n"
     ]
    }
   ],
   "source": [
    "source_b = build_source(mesh_b)\n",
    "# source_t = build_source(mesh_t)"
   ]
  },
  {
   "cell_type": "code",
   "execution_count": 28,
   "metadata": {},
   "outputs": [],
   "source": [
    "survey_b = fdem.Survey([source_b])\n",
    "# survey_t = fdem.Survey([source_t])"
   ]
  },
  {
   "cell_type": "code",
   "execution_count": 29,
   "metadata": {},
   "outputs": [],
   "source": [
    "sim_b = fdem.Simulation3DElectricField(\n",
    "    mesh=mesh_b, solver=Pardiso, solverOpts={\"is_symmetric\":True}, survey=survey_b, rho=rho_b\n",
    ")\n",
    "# sim_t = fdem.Simulation3DElectricField(\n",
    "#     mesh=mesh_t, solver=Pardiso, survey=survey_t, rho=rho_t\n",
    "# )"
   ]
  },
  {
   "cell_type": "code",
   "execution_count": 30,
   "metadata": {},
   "outputs": [
    {
     "data": {
      "text/plain": [
       "pymatsolver.direct.Pardiso"
      ]
     },
     "execution_count": 30,
     "metadata": {},
     "output_type": "execute_result"
    }
   ],
   "source": [
    "sim_b.solver"
   ]
  },
  {
   "cell_type": "code",
   "execution_count": 31,
   "metadata": {},
   "outputs": [
    {
     "name": "stderr",
     "output_type": "stream",
     "text": [
      "Process MemTimer-1:\n",
      "Traceback (most recent call last):\n",
      "  File \"/glade/u/home/heagy/.conda/envs/csem3d/lib/python3.7/multiprocessing/process.py\", line 297, in _bootstrap\n",
      "    self.run()\n",
      "  File \"/glade/u/home/heagy/.conda/envs/csem3d/lib/python3.7/site-packages/memory_profiler.py\", line 232, in run\n",
      "    stop = self.pipe.poll(self.interval)\n",
      "  File \"/glade/u/home/heagy/.conda/envs/csem3d/lib/python3.7/multiprocessing/connection.py\", line 257, in poll\n",
      "    return self._poll(timeout)\n",
      "  File \"/glade/u/home/heagy/.conda/envs/csem3d/lib/python3.7/multiprocessing/connection.py\", line 414, in _poll\n",
      "    r = wait([self], timeout)\n",
      "  File \"/glade/u/home/heagy/.conda/envs/csem3d/lib/python3.7/multiprocessing/connection.py\", line 920, in wait\n",
      "    ready = selector.select(timeout)\n",
      "  File \"/glade/u/home/heagy/.conda/envs/csem3d/lib/python3.7/selectors.py\", line 415, in select\n",
      "    fd_event_list = self._selector.poll(timeout)\n",
      "KeyboardInterrupt\n"
     ]
    },
    {
     "ename": "KeyboardInterrupt",
     "evalue": "",
     "output_type": "error",
     "traceback": [
      "\u001b[0;31m---------------------------------------------------------------------------\u001b[0m",
      "\u001b[0;31mKeyboardInterrupt\u001b[0m                         Traceback (most recent call last)",
      "\u001b[0;32m<timed exec>\u001b[0m in \u001b[0;36m<module>\u001b[0;34m\u001b[0m\n",
      "\u001b[0;32m~/.conda/envs/csem3d/lib/python3.7/site-packages/IPython/core/interactiveshell.py\u001b[0m in \u001b[0;36mrun_line_magic\u001b[0;34m(self, magic_name, line, _stack_depth)\u001b[0m\n\u001b[1;32m   2315\u001b[0m                 \u001b[0mkwargs\u001b[0m\u001b[0;34m[\u001b[0m\u001b[0;34m'local_ns'\u001b[0m\u001b[0;34m]\u001b[0m \u001b[0;34m=\u001b[0m \u001b[0msys\u001b[0m\u001b[0;34m.\u001b[0m\u001b[0m_getframe\u001b[0m\u001b[0;34m(\u001b[0m\u001b[0mstack_depth\u001b[0m\u001b[0;34m)\u001b[0m\u001b[0;34m.\u001b[0m\u001b[0mf_locals\u001b[0m\u001b[0;34m\u001b[0m\u001b[0;34m\u001b[0m\u001b[0m\n\u001b[1;32m   2316\u001b[0m             \u001b[0;32mwith\u001b[0m \u001b[0mself\u001b[0m\u001b[0;34m.\u001b[0m\u001b[0mbuiltin_trap\u001b[0m\u001b[0;34m:\u001b[0m\u001b[0;34m\u001b[0m\u001b[0;34m\u001b[0m\u001b[0m\n\u001b[0;32m-> 2317\u001b[0;31m                 \u001b[0mresult\u001b[0m \u001b[0;34m=\u001b[0m \u001b[0mfn\u001b[0m\u001b[0;34m(\u001b[0m\u001b[0;34m*\u001b[0m\u001b[0margs\u001b[0m\u001b[0;34m,\u001b[0m \u001b[0;34m**\u001b[0m\u001b[0mkwargs\u001b[0m\u001b[0;34m)\u001b[0m\u001b[0;34m\u001b[0m\u001b[0;34m\u001b[0m\u001b[0m\n\u001b[0m\u001b[1;32m   2318\u001b[0m             \u001b[0;32mreturn\u001b[0m \u001b[0mresult\u001b[0m\u001b[0;34m\u001b[0m\u001b[0;34m\u001b[0m\u001b[0m\n\u001b[1;32m   2319\u001b[0m \u001b[0;34m\u001b[0m\u001b[0m\n",
      "\u001b[0;32m<decorator-gen-127>\u001b[0m in \u001b[0;36mmemit\u001b[0;34m(self, line, cell)\u001b[0m\n",
      "\u001b[0;32m~/.conda/envs/csem3d/lib/python3.7/site-packages/IPython/core/magic.py\u001b[0m in \u001b[0;36m<lambda>\u001b[0;34m(f, *a, **k)\u001b[0m\n\u001b[1;32m    185\u001b[0m     \u001b[0;31m# but it's overkill for just that one bit of state.\u001b[0m\u001b[0;34m\u001b[0m\u001b[0;34m\u001b[0m\u001b[0;34m\u001b[0m\u001b[0m\n\u001b[1;32m    186\u001b[0m     \u001b[0;32mdef\u001b[0m \u001b[0mmagic_deco\u001b[0m\u001b[0;34m(\u001b[0m\u001b[0marg\u001b[0m\u001b[0;34m)\u001b[0m\u001b[0;34m:\u001b[0m\u001b[0;34m\u001b[0m\u001b[0;34m\u001b[0m\u001b[0m\n\u001b[0;32m--> 187\u001b[0;31m         \u001b[0mcall\u001b[0m \u001b[0;34m=\u001b[0m \u001b[0;32mlambda\u001b[0m \u001b[0mf\u001b[0m\u001b[0;34m,\u001b[0m \u001b[0;34m*\u001b[0m\u001b[0ma\u001b[0m\u001b[0;34m,\u001b[0m \u001b[0;34m**\u001b[0m\u001b[0mk\u001b[0m\u001b[0;34m:\u001b[0m \u001b[0mf\u001b[0m\u001b[0;34m(\u001b[0m\u001b[0;34m*\u001b[0m\u001b[0ma\u001b[0m\u001b[0;34m,\u001b[0m \u001b[0;34m**\u001b[0m\u001b[0mk\u001b[0m\u001b[0;34m)\u001b[0m\u001b[0;34m\u001b[0m\u001b[0;34m\u001b[0m\u001b[0m\n\u001b[0m\u001b[1;32m    188\u001b[0m \u001b[0;34m\u001b[0m\u001b[0m\n\u001b[1;32m    189\u001b[0m         \u001b[0;32mif\u001b[0m \u001b[0mcallable\u001b[0m\u001b[0;34m(\u001b[0m\u001b[0marg\u001b[0m\u001b[0;34m)\u001b[0m\u001b[0;34m:\u001b[0m\u001b[0;34m\u001b[0m\u001b[0;34m\u001b[0m\u001b[0m\n",
      "\u001b[0;32m~/.conda/envs/csem3d/lib/python3.7/site-packages/memory_profiler.py\u001b[0m in \u001b[0;36mmemit\u001b[0;34m(self, line, cell)\u001b[0m\n\u001b[1;32m   1052\u001b[0m                                \u001b[0mtimeout\u001b[0m\u001b[0;34m=\u001b[0m\u001b[0mtimeout\u001b[0m\u001b[0;34m,\u001b[0m \u001b[0minterval\u001b[0m\u001b[0;34m=\u001b[0m\u001b[0minterval\u001b[0m\u001b[0;34m,\u001b[0m\u001b[0;34m\u001b[0m\u001b[0;34m\u001b[0m\u001b[0m\n\u001b[1;32m   1053\u001b[0m                                \u001b[0mmax_usage\u001b[0m\u001b[0;34m=\u001b[0m\u001b[0;32mTrue\u001b[0m\u001b[0;34m,\u001b[0m\u001b[0;34m\u001b[0m\u001b[0;34m\u001b[0m\u001b[0m\n\u001b[0;32m-> 1054\u001b[0;31m                                include_children=include_children)\n\u001b[0m\u001b[1;32m   1055\u001b[0m             \u001b[0mmem_usage\u001b[0m\u001b[0;34m.\u001b[0m\u001b[0mappend\u001b[0m\u001b[0;34m(\u001b[0m\u001b[0mtmp\u001b[0m\u001b[0;34m)\u001b[0m\u001b[0;34m\u001b[0m\u001b[0;34m\u001b[0m\u001b[0m\n\u001b[1;32m   1056\u001b[0m \u001b[0;34m\u001b[0m\u001b[0m\n",
      "\u001b[0;32m~/.conda/envs/csem3d/lib/python3.7/site-packages/memory_profiler.py\u001b[0m in \u001b[0;36mmemory_usage\u001b[0;34m(proc, interval, timeout, timestamps, include_children, multiprocess, max_usage, retval, stream, backend, max_iterations)\u001b[0m\n\u001b[1;32m    341\u001b[0m             \u001b[0;31m# Therefore, the whole process hangs indefinitely. Here, we are ensuring that the process gets killed!\u001b[0m\u001b[0;34m\u001b[0m\u001b[0;34m\u001b[0m\u001b[0;34m\u001b[0m\u001b[0m\n\u001b[1;32m    342\u001b[0m             \u001b[0;32mtry\u001b[0m\u001b[0;34m:\u001b[0m\u001b[0;34m\u001b[0m\u001b[0;34m\u001b[0m\u001b[0m\n\u001b[0;32m--> 343\u001b[0;31m                 \u001b[0mreturned\u001b[0m \u001b[0;34m=\u001b[0m \u001b[0mf\u001b[0m\u001b[0;34m(\u001b[0m\u001b[0;34m*\u001b[0m\u001b[0margs\u001b[0m\u001b[0;34m,\u001b[0m \u001b[0;34m**\u001b[0m\u001b[0mkw\u001b[0m\u001b[0;34m)\u001b[0m\u001b[0;34m\u001b[0m\u001b[0;34m\u001b[0m\u001b[0m\n\u001b[0m\u001b[1;32m    344\u001b[0m                 \u001b[0mparent_conn\u001b[0m\u001b[0;34m.\u001b[0m\u001b[0msend\u001b[0m\u001b[0;34m(\u001b[0m\u001b[0;36m0\u001b[0m\u001b[0;34m)\u001b[0m  \u001b[0;31m# finish timing\u001b[0m\u001b[0;34m\u001b[0m\u001b[0;34m\u001b[0m\u001b[0m\n\u001b[1;32m    345\u001b[0m                 \u001b[0mret\u001b[0m \u001b[0;34m=\u001b[0m \u001b[0mparent_conn\u001b[0m\u001b[0;34m.\u001b[0m\u001b[0mrecv\u001b[0m\u001b[0;34m(\u001b[0m\u001b[0;34m)\u001b[0m\u001b[0;34m\u001b[0m\u001b[0;34m\u001b[0m\u001b[0m\n",
      "\u001b[0;32m~/.conda/envs/csem3d/lib/python3.7/site-packages/memory_profiler.py\u001b[0m in \u001b[0;36m_func_exec\u001b[0;34m(stmt, ns)\u001b[0m\n\u001b[1;32m    825\u001b[0m     \u001b[0;31m# helper for magic_memit, just a function proxy for the exec\u001b[0m\u001b[0;34m\u001b[0m\u001b[0;34m\u001b[0m\u001b[0;34m\u001b[0m\u001b[0m\n\u001b[1;32m    826\u001b[0m     \u001b[0;31m# statement\u001b[0m\u001b[0;34m\u001b[0m\u001b[0;34m\u001b[0m\u001b[0;34m\u001b[0m\u001b[0m\n\u001b[0;32m--> 827\u001b[0;31m     \u001b[0mexec\u001b[0m\u001b[0;34m(\u001b[0m\u001b[0mstmt\u001b[0m\u001b[0;34m,\u001b[0m \u001b[0mns\u001b[0m\u001b[0;34m)\u001b[0m\u001b[0;34m\u001b[0m\u001b[0;34m\u001b[0m\u001b[0m\n\u001b[0m\u001b[1;32m    828\u001b[0m \u001b[0;34m\u001b[0m\u001b[0m\n\u001b[1;32m    829\u001b[0m \u001b[0;34m\u001b[0m\u001b[0m\n",
      "\u001b[0;32m<string>\u001b[0m in \u001b[0;36m<module>\u001b[0;34m\u001b[0m\n",
      "\u001b[0;32m~/.conda/envs/csem3d/lib/python3.7/site-packages/SimPEG/electromagnetics/frequency_domain/simulation.py\u001b[0m in \u001b[0;36mfields\u001b[0;34m(self, m)\u001b[0m\n\u001b[1;32m     83\u001b[0m             \u001b[0mrhs\u001b[0m \u001b[0;34m=\u001b[0m \u001b[0mself\u001b[0m\u001b[0;34m.\u001b[0m\u001b[0mgetRHS\u001b[0m\u001b[0;34m(\u001b[0m\u001b[0mfreq\u001b[0m\u001b[0;34m)\u001b[0m\u001b[0;34m\u001b[0m\u001b[0;34m\u001b[0m\u001b[0m\n\u001b[1;32m     84\u001b[0m             \u001b[0mAinv\u001b[0m \u001b[0;34m=\u001b[0m \u001b[0mself\u001b[0m\u001b[0;34m.\u001b[0m\u001b[0mSolver\u001b[0m\u001b[0;34m(\u001b[0m\u001b[0mA\u001b[0m\u001b[0;34m,\u001b[0m \u001b[0;34m**\u001b[0m\u001b[0mself\u001b[0m\u001b[0;34m.\u001b[0m\u001b[0msolver_opts\u001b[0m\u001b[0;34m)\u001b[0m\u001b[0;34m\u001b[0m\u001b[0;34m\u001b[0m\u001b[0m\n\u001b[0;32m---> 85\u001b[0;31m             \u001b[0mu\u001b[0m \u001b[0;34m=\u001b[0m \u001b[0mAinv\u001b[0m \u001b[0;34m*\u001b[0m \u001b[0mrhs\u001b[0m\u001b[0;34m\u001b[0m\u001b[0;34m\u001b[0m\u001b[0m\n\u001b[0m\u001b[1;32m     86\u001b[0m             \u001b[0mSrcs\u001b[0m \u001b[0;34m=\u001b[0m \u001b[0mself\u001b[0m\u001b[0;34m.\u001b[0m\u001b[0msurvey\u001b[0m\u001b[0;34m.\u001b[0m\u001b[0mget_sources_by_frequency\u001b[0m\u001b[0;34m(\u001b[0m\u001b[0mfreq\u001b[0m\u001b[0;34m)\u001b[0m\u001b[0;34m\u001b[0m\u001b[0;34m\u001b[0m\u001b[0m\n\u001b[1;32m     87\u001b[0m             \u001b[0mf\u001b[0m\u001b[0;34m[\u001b[0m\u001b[0mSrcs\u001b[0m\u001b[0;34m,\u001b[0m \u001b[0mself\u001b[0m\u001b[0;34m.\u001b[0m\u001b[0m_solutionType\u001b[0m\u001b[0;34m]\u001b[0m \u001b[0;34m=\u001b[0m \u001b[0mu\u001b[0m\u001b[0;34m\u001b[0m\u001b[0;34m\u001b[0m\u001b[0m\n",
      "\u001b[0;32m~/.conda/envs/csem3d/lib/python3.7/site-packages/pymatsolver/solvers.py\u001b[0m in \u001b[0;36m__mul__\u001b[0;34m(self, val)\u001b[0m\n\u001b[1;32m     80\u001b[0m     \u001b[0;32mdef\u001b[0m \u001b[0m__mul__\u001b[0m\u001b[0;34m(\u001b[0m\u001b[0mself\u001b[0m\u001b[0;34m,\u001b[0m \u001b[0mval\u001b[0m\u001b[0;34m)\u001b[0m\u001b[0;34m:\u001b[0m\u001b[0;34m\u001b[0m\u001b[0;34m\u001b[0m\u001b[0m\n\u001b[1;32m     81\u001b[0m         \u001b[0;32mif\u001b[0m \u001b[0mtype\u001b[0m\u001b[0;34m(\u001b[0m\u001b[0mval\u001b[0m\u001b[0;34m)\u001b[0m \u001b[0;32mis\u001b[0m \u001b[0mnp\u001b[0m\u001b[0;34m.\u001b[0m\u001b[0mndarray\u001b[0m\u001b[0;34m:\u001b[0m\u001b[0;34m\u001b[0m\u001b[0;34m\u001b[0m\u001b[0m\n\u001b[0;32m---> 82\u001b[0;31m             \u001b[0;32mreturn\u001b[0m \u001b[0mself\u001b[0m\u001b[0;34m.\u001b[0m\u001b[0m_solve\u001b[0m\u001b[0;34m(\u001b[0m\u001b[0mval\u001b[0m\u001b[0;34m)\u001b[0m\u001b[0;34m\u001b[0m\u001b[0;34m\u001b[0m\u001b[0m\n\u001b[0m\u001b[1;32m     83\u001b[0m         \u001b[0;32mraise\u001b[0m \u001b[0mTypeError\u001b[0m\u001b[0;34m(\u001b[0m\u001b[0;34m'Can only multiply by a numpy array.'\u001b[0m\u001b[0;34m)\u001b[0m\u001b[0;34m\u001b[0m\u001b[0;34m\u001b[0m\u001b[0m\n\u001b[1;32m     84\u001b[0m \u001b[0;34m\u001b[0m\u001b[0m\n",
      "\u001b[0;32m~/.conda/envs/csem3d/lib/python3.7/site-packages/pymatsolver/solvers.py\u001b[0m in \u001b[0;36m_solve\u001b[0;34m(self, rhs)\u001b[0m\n\u001b[1;32m     63\u001b[0m \u001b[0;34m\u001b[0m\u001b[0m\n\u001b[1;32m     64\u001b[0m         \u001b[0;32mif\u001b[0m \u001b[0mlen\u001b[0m\u001b[0;34m(\u001b[0m\u001b[0mrhs\u001b[0m\u001b[0;34m.\u001b[0m\u001b[0mshape\u001b[0m\u001b[0;34m)\u001b[0m \u001b[0;34m==\u001b[0m \u001b[0;36m1\u001b[0m \u001b[0;32mor\u001b[0m \u001b[0mrhs\u001b[0m\u001b[0;34m.\u001b[0m\u001b[0mshape\u001b[0m\u001b[0;34m[\u001b[0m\u001b[0;36m1\u001b[0m\u001b[0;34m]\u001b[0m \u001b[0;34m==\u001b[0m \u001b[0;36m1\u001b[0m\u001b[0;34m:\u001b[0m\u001b[0;34m\u001b[0m\u001b[0;34m\u001b[0m\u001b[0m\n\u001b[0;32m---> 65\u001b[0;31m             \u001b[0mx\u001b[0m \u001b[0;34m=\u001b[0m \u001b[0mself\u001b[0m\u001b[0;34m.\u001b[0m\u001b[0m_solve1\u001b[0m\u001b[0;34m(\u001b[0m\u001b[0mrhs\u001b[0m\u001b[0;34m)\u001b[0m\u001b[0;34m\u001b[0m\u001b[0;34m\u001b[0m\u001b[0m\n\u001b[0m\u001b[1;32m     66\u001b[0m         \u001b[0;32melse\u001b[0m\u001b[0;34m:\u001b[0m\u001b[0;34m\u001b[0m\u001b[0;34m\u001b[0m\u001b[0m\n\u001b[1;32m     67\u001b[0m             \u001b[0mx\u001b[0m \u001b[0;34m=\u001b[0m \u001b[0mself\u001b[0m\u001b[0;34m.\u001b[0m\u001b[0m_solveM\u001b[0m\u001b[0;34m(\u001b[0m\u001b[0mrhs\u001b[0m\u001b[0;34m)\u001b[0m\u001b[0;34m\u001b[0m\u001b[0;34m\u001b[0m\u001b[0m\n",
      "\u001b[0;32m~/.conda/envs/csem3d/lib/python3.7/site-packages/pymatsolver/direct.py\u001b[0m in \u001b[0;36m_solveM\u001b[0;34m(self, rhs)\u001b[0m\n\u001b[1;32m     84\u001b[0m \u001b[0;34m\u001b[0m\u001b[0m\n\u001b[1;32m     85\u001b[0m     \u001b[0;32mdef\u001b[0m \u001b[0m_solveM\u001b[0m\u001b[0;34m(\u001b[0m\u001b[0mself\u001b[0m\u001b[0;34m,\u001b[0m \u001b[0mrhs\u001b[0m\u001b[0;34m)\u001b[0m\u001b[0;34m:\u001b[0m\u001b[0;34m\u001b[0m\u001b[0;34m\u001b[0m\u001b[0m\n\u001b[0;32m---> 86\u001b[0;31m         \u001b[0mself\u001b[0m\u001b[0;34m.\u001b[0m\u001b[0mfactor\u001b[0m\u001b[0;34m(\u001b[0m\u001b[0;34m)\u001b[0m\u001b[0;34m\u001b[0m\u001b[0;34m\u001b[0m\u001b[0m\n\u001b[0m\u001b[1;32m     87\u001b[0m         \u001b[0msol\u001b[0m \u001b[0;34m=\u001b[0m \u001b[0mself\u001b[0m\u001b[0;34m.\u001b[0m\u001b[0msolver\u001b[0m\u001b[0;34m.\u001b[0m\u001b[0msolve\u001b[0m\u001b[0;34m(\u001b[0m\u001b[0mrhs\u001b[0m\u001b[0;34m)\u001b[0m\u001b[0;34m\u001b[0m\u001b[0;34m\u001b[0m\u001b[0m\n\u001b[1;32m     88\u001b[0m         \u001b[0;32mreturn\u001b[0m \u001b[0msol\u001b[0m\u001b[0;34m\u001b[0m\u001b[0;34m\u001b[0m\u001b[0m\n",
      "\u001b[0;32m~/.conda/envs/csem3d/lib/python3.7/site-packages/pymatsolver/direct.py\u001b[0m in \u001b[0;36mfactor\u001b[0;34m(self)\u001b[0m\n\u001b[1;32m     80\u001b[0m     \u001b[0;32mdef\u001b[0m \u001b[0mfactor\u001b[0m\u001b[0;34m(\u001b[0m\u001b[0mself\u001b[0m\u001b[0;34m)\u001b[0m\u001b[0;34m:\u001b[0m\u001b[0;34m\u001b[0m\u001b[0;34m\u001b[0m\u001b[0m\n\u001b[1;32m     81\u001b[0m         \u001b[0;32mif\u001b[0m \u001b[0mself\u001b[0m\u001b[0;34m.\u001b[0m\u001b[0misfactored\u001b[0m \u001b[0;32mis\u001b[0m \u001b[0;32mnot\u001b[0m \u001b[0;32mTrue\u001b[0m\u001b[0;34m:\u001b[0m\u001b[0;34m\u001b[0m\u001b[0;34m\u001b[0m\u001b[0m\n\u001b[0;32m---> 82\u001b[0;31m             \u001b[0mself\u001b[0m\u001b[0;34m.\u001b[0m\u001b[0msolver\u001b[0m\u001b[0;34m.\u001b[0m\u001b[0mfactor\u001b[0m\u001b[0;34m(\u001b[0m\u001b[0;34m)\u001b[0m\u001b[0;34m\u001b[0m\u001b[0;34m\u001b[0m\u001b[0m\n\u001b[0m\u001b[1;32m     83\u001b[0m             \u001b[0mself\u001b[0m\u001b[0;34m.\u001b[0m\u001b[0misfactored\u001b[0m \u001b[0;34m=\u001b[0m \u001b[0;32mTrue\u001b[0m\u001b[0;34m\u001b[0m\u001b[0;34m\u001b[0m\u001b[0m\n\u001b[1;32m     84\u001b[0m \u001b[0;34m\u001b[0m\u001b[0m\n",
      "\u001b[0;32m~/.conda/envs/csem3d/lib/python3.7/site-packages/pyMKL/pardisoSolver.py\u001b[0m in \u001b[0;36mfactor\u001b[0;34m(self)\u001b[0m\n\u001b[1;32m    144\u001b[0m \u001b[0;34m\u001b[0m\u001b[0m\n\u001b[1;32m    145\u001b[0m     \u001b[0;32mdef\u001b[0m \u001b[0mfactor\u001b[0m\u001b[0;34m(\u001b[0m\u001b[0mself\u001b[0m\u001b[0;34m)\u001b[0m\u001b[0;34m:\u001b[0m\u001b[0;34m\u001b[0m\u001b[0;34m\u001b[0m\u001b[0m\n\u001b[0;32m--> 146\u001b[0;31m         \u001b[0mout\u001b[0m \u001b[0;34m=\u001b[0m \u001b[0mself\u001b[0m\u001b[0;34m.\u001b[0m\u001b[0mrun_pardiso\u001b[0m\u001b[0;34m(\u001b[0m\u001b[0mphase\u001b[0m\u001b[0;34m=\u001b[0m\u001b[0;36m12\u001b[0m\u001b[0;34m)\u001b[0m\u001b[0;34m\u001b[0m\u001b[0;34m\u001b[0m\u001b[0m\n\u001b[0m\u001b[1;32m    147\u001b[0m \u001b[0;34m\u001b[0m\u001b[0m\n\u001b[1;32m    148\u001b[0m     \u001b[0;32mdef\u001b[0m \u001b[0msolve\u001b[0m\u001b[0;34m(\u001b[0m\u001b[0mself\u001b[0m\u001b[0;34m,\u001b[0m \u001b[0mrhs\u001b[0m\u001b[0;34m)\u001b[0m\u001b[0;34m:\u001b[0m\u001b[0;34m\u001b[0m\u001b[0;34m\u001b[0m\u001b[0m\n",
      "\u001b[0;32m~/.conda/envs/csem3d/lib/python3.7/site-packages/pyMKL/pardisoSolver.py\u001b[0m in \u001b[0;36mrun_pardiso\u001b[0;34m(self, phase, rhs)\u001b[0m\n\u001b[1;32m    218\u001b[0m                 \u001b[0mMKL_rhs\u001b[0m\u001b[0;34m,\u001b[0m                    \u001b[0;31m# b\u001b[0m\u001b[0;34m\u001b[0m\u001b[0;34m\u001b[0m\u001b[0m\n\u001b[1;32m    219\u001b[0m                 \u001b[0mMKL_x\u001b[0m\u001b[0;34m,\u001b[0m                      \u001b[0;31m# x\u001b[0m\u001b[0;34m\u001b[0m\u001b[0;34m\u001b[0m\u001b[0m\n\u001b[0;32m--> 220\u001b[0;31m                 byref(c_int(ERR)))          # error\n\u001b[0m\u001b[1;32m    221\u001b[0m \u001b[0;34m\u001b[0m\u001b[0m\n\u001b[1;32m    222\u001b[0m         \u001b[0;32mif\u001b[0m \u001b[0mnrhs\u001b[0m \u001b[0;34m>\u001b[0m \u001b[0;36m1\u001b[0m\u001b[0;34m:\u001b[0m\u001b[0;34m\u001b[0m\u001b[0;34m\u001b[0m\u001b[0m\n",
      "\u001b[0;31mKeyboardInterrupt\u001b[0m: "
     ]
    }
   ],
   "source": [
    "%%time\n",
    "t0 = time.time()\n",
    "mem_b = %memit -o fields_b = sim_b.fields()\n",
    "time_b = time.time()-t0\n",
    "ram_b = f\"{(mem_b.mem_usage[0] - mem_b.baseline)/1024:.3f} GiB\"\n",
    "print(f\"memory usage: {ram_b}\")"
   ]
  },
  {
   "cell_type": "code",
   "execution_count": 32,
   "metadata": {},
   "outputs": [],
   "source": [
    "# %%time\n",
    "# mem_t = %memit -o fields_t = sim_t.fields()\n",
    "# ram_t = f\"{(mem_t.mem_usage[0] - mem_t.baseline)/1024:.3f} GiB\"\n",
    "# print(f\"memory usage: {ram_t}\")"
   ]
  },
  {
   "cell_type": "code",
   "execution_count": 33,
   "metadata": {},
   "outputs": [
    {
     "ename": "NameError",
     "evalue": "name 'fields_b' is not defined",
     "output_type": "error",
     "traceback": [
      "\u001b[0;31m---------------------------------------------------------------------------\u001b[0m",
      "\u001b[0;31mNameError\u001b[0m                                 Traceback (most recent call last)",
      "\u001b[0;32m<ipython-input-33-56f32c874bdd>\u001b[0m in \u001b[0;36m<module>\u001b[0;34m\u001b[0m\n\u001b[1;32m      1\u001b[0m \u001b[0;31m# sim_b.survey = survey_b\u001b[0m\u001b[0;34m\u001b[0m\u001b[0;34m\u001b[0m\u001b[0;34m\u001b[0m\u001b[0m\n\u001b[0;32m----> 2\u001b[0;31m \u001b[0md_b\u001b[0m \u001b[0;34m=\u001b[0m \u001b[0msim_b\u001b[0m\u001b[0;34m.\u001b[0m\u001b[0mdpred\u001b[0m\u001b[0;34m(\u001b[0m\u001b[0mf\u001b[0m\u001b[0;34m=\u001b[0m\u001b[0mfields_b\u001b[0m\u001b[0;34m)\u001b[0m\u001b[0;34m\u001b[0m\u001b[0;34m\u001b[0m\u001b[0m\n\u001b[0m\u001b[1;32m      3\u001b[0m \u001b[0;31m# d_t = sim_t.dpred(f=fields_t)\u001b[0m\u001b[0;34m\u001b[0m\u001b[0;34m\u001b[0m\u001b[0;34m\u001b[0m\u001b[0m\n",
      "\u001b[0;31mNameError\u001b[0m: name 'fields_b' is not defined"
     ]
    }
   ],
   "source": [
    "# sim_b.survey = survey_b\n",
    "d_b = sim_b.dpred(f=fields_b)\n",
    "# d_t = sim_t.dpred(f=fields_t)"
   ]
  },
  {
   "cell_type": "code",
   "execution_count": null,
   "metadata": {},
   "outputs": [],
   "source": [
    "def get_data_lines(fields, mesh):\n",
    "    \n",
    "    data = []\n",
    "    \n",
    "    every_other = np.zeros(mesh.nEx, dtype=bool)\n",
    "#     every_other[::2] = True\n",
    "    x_inds = ((mesh.gridEx[:, 0] >= rec_x.min() - 1) & (mesh.gridEx[:, 0] <= rec_x.max() + 1))\n",
    "    z_inds = (mesh.gridEx[:, 2] >= rec_z - 1) & (mesh.gridEx[:, 2] <= rec_z + 1)\n",
    "    \n",
    "    for y in rec_y: \n",
    "        y_inds = (mesh.gridEx[:, 1] >= y - 1) & (mesh.gridEx[:, 1] <= y + 1)\n",
    "        inds_x = x_inds & y_inds & z_inds\n",
    "        inds = np.hstack([inds_x, np.zeros(mesh.nEy, dtype=bool), np.zeros(mesh.nEz, dtype=bool) ])\n",
    "        \n",
    "        data.append(fields[:, \"e\"][inds])\n",
    "    \n",
    "    x = mesh.gridEx[inds_x, 0]\n",
    "    return x, data   "
   ]
  },
  {
   "cell_type": "code",
   "execution_count": null,
   "metadata": {},
   "outputs": [],
   "source": [
    "x, data_b = get_data_lines(fields_b, mesh_b)\n",
    "# x, data_t = get_data_lines(fields_t)"
   ]
  },
  {
   "cell_type": "code",
   "execution_count": null,
   "metadata": {},
   "outputs": [],
   "source": []
  },
  {
   "cell_type": "code",
   "execution_count": null,
   "metadata": {},
   "outputs": [],
   "source": [
    "# reshape data to desired shape\n",
    "\n",
    "def get_data_lines(data): \n",
    "    d_re = data[:rx_locs.shape[0]]\n",
    "    d_im = data[rx_locs.shape[0]:]\n",
    "\n",
    "    d_line1 = np.vstack([d_re[:101], d_im[:101]]).T\n",
    "    d_line2 = np.vstack([d_re[101:202], d_im[101:202]]).T\n",
    "    d_line3 = np.vstack([d_re[202:], d_im[202:]]).T\n",
    "    \n",
    "    return [d_line1, d_line2, d_line3]\n",
    "\n",
    "data_b_lines = get_data_lines(d_b)\n",
    "# data_t_lines = get_data_lines(d_t)"
   ]
  },
  {
   "cell_type": "code",
   "execution_count": null,
   "metadata": {},
   "outputs": [],
   "source": [
    "fig, ax = plt.subplots(3, 2, figsize=(8, 9))\n",
    "\n",
    "for i, d in enumerate(data_b):\n",
    "    for j, comp in enumerate([\"real\", \"imag\"]):\n",
    "        ax[i, j].semilogy(x, getattr(d, comp), \"C1-\")\n",
    "        ax[i, j].semilogy(x, -getattr(d, comp), \"C1--\")\n",
    "\n",
    "for i, d in enumerate(data_b_lines):\n",
    "    for j, comp in enumerate([\"real\", \"imag\"]):\n",
    "        ax[i, j].semilogy(rec_x, d[:, j], \"C0-\")\n",
    "        ax[i, j].semilogy(rec_x, -d[:, j], \"C0--\")\n",
    "\n",
    "plt.tight_layout()"
   ]
  },
  {
   "cell_type": "code",
   "execution_count": 35,
   "metadata": {},
   "outputs": [],
   "source": [
    "# fig, ax = plt.subplots(3, 2, figsize=(8, 9))\n",
    "\n",
    "# for i, d in enumerate(data_t_lines):\n",
    "#     for j, comp in enumerate([\"real\", \"imag\"]):\n",
    "#         ax[i, j].semilogy(rec_x, d[:, j], \"C0-\")\n",
    "#         ax[i, j].semilogy(rec_x, -d[:, j], \"C0--\")\n",
    "\n",
    "# plt.tight_layout()"
   ]
  },
  {
   "cell_type": "code",
   "execution_count": 36,
   "metadata": {},
   "outputs": [],
   "source": [
    "def extract_lines(name):\n",
    "    import xarray as xr\n",
    "    inp = xr.load_dataset(name, engine='h5netcdf')\n",
    "    out = np.stack([\n",
    "        inp.line_1[::2]+1j*inp.line_1[1::2],\n",
    "        inp.line_2[::2]+1j*inp.line_2[1::2],\n",
    "        inp.line_3[::2]+1j*inp.line_3[1::2],\n",
    "    ]).T\n",
    "    return out\n",
    "\n",
    "epm_1d = extract_lines('../results/layered_empymod.nc')"
   ]
  },
  {
   "cell_type": "code",
   "execution_count": 37,
   "metadata": {},
   "outputs": [
    {
     "data": {
      "text/plain": [
       "(101, 3)"
      ]
     },
     "execution_count": 37,
     "metadata": {},
     "output_type": "execute_result"
    }
   ],
   "source": [
    "epm_1d.shape"
   ]
  },
  {
   "cell_type": "code",
   "execution_count": 38,
   "metadata": {},
   "outputs": [],
   "source": [
    "def get_pos_neg(resp, off, min_off):\n",
    "    \"\"\"Separate positive and negative values, enforce min_off.\"\"\"\n",
    "    resp_pos = np.array([x if x > 0 else np.nan for x in resp])\n",
    "    resp_neg = np.array([-x if x < 0 else np.nan for x in resp])\n",
    "\n",
    "    resp_pos[off < min_offset] = np.nan\n",
    "    resp_neg[off < min_offset] = np.nan\n",
    "\n",
    "    return resp_pos, resp_neg"
   ]
  },
  {
   "cell_type": "code",
   "execution_count": 39,
   "metadata": {},
   "outputs": [],
   "source": [
    "# Calculate error\n",
    "error = {}\n",
    "spg_data = np.vstack([d[:, 0] + 1j*d[:, 1] for d in data_b_lines]).T\n",
    "\n",
    "# spg_data = np.vstack(data_back_lines).T\n",
    "for name, data in zip(['SimPEG'], [spg_data]):\n",
    "    rerr = np.clip(100*abs((epm_1d.real-data.real)/epm_1d.real), 0.01, 100)\n",
    "    ierr = np.clip(100*abs((epm_1d.imag-data.imag)/epm_1d.imag), 0.01, 100)\n",
    "    error[name] = rerr + 1j*ierr"
   ]
  },
  {
   "cell_type": "code",
   "execution_count": 40,
   "metadata": {},
   "outputs": [
    {
     "data": {
      "image/png": "[encoded data removed]",
      "text/plain": [
       "<Figure size 648x360 with 4 Axes>"
      ]
     },
     "metadata": {
      "needs_background": "light"
     },
     "output_type": "display_data"
    },
    {
     "data": {
      "image/png": "[encoded data removed]",
      "text/plain": [
       "<Figure size 648x360 with 4 Axes>"
      ]
     },
     "metadata": {
      "needs_background": "light"
     },
     "output_type": "display_data"
    }
   ],
   "source": [
    "marker = ['*', 'v', '^', 'o']\n",
    "min_offset = 500\n",
    "\n",
    "for iy, y in enumerate(rec_y[:2]):\n",
    "    \n",
    "    # Get offset\n",
    "    off = np.sqrt(rec_x**2 + y**2)\n",
    "\n",
    "    plt.figure(figsize=(9, 5))\n",
    "\n",
    "    # # Real\n",
    "    ax1 = plt.subplot(221)\n",
    "    plt.title('Real')\n",
    "\n",
    "    resp_pos, resp_neg = get_pos_neg(epm_1d[:, iy].real, off, min_offset)\n",
    "    plt.plot(rec_x/1e3, resp_pos, 'k-', label='empymod')\n",
    "    plt.plot(rec_x/1e3, resp_neg, 'k--')\n",
    "    \n",
    "    resp_pos, resp_neg = get_pos_neg(spg_data[:, iy].real, off, min_offset)\n",
    "    plt.plot(rec_x/1e3, resp_pos, f'C{i}-', ms=3, label=\"SimPEG\")\n",
    "    plt.plot(rec_x/1e3, resp_neg, f'C{i}--', ms=3)\n",
    "\n",
    "\n",
    "    plt.ylabel(r'$\\Re(E_x)$ (V/m)')\n",
    "    ax1.set_xticklabels([])\n",
    "    plt.grid(axis='y', c='0.9')\n",
    "\n",
    "\n",
    "    # # Real Error\n",
    "    ax2 = plt.subplot(223)\n",
    "\n",
    "    for i, name in enumerate(error.keys()):\n",
    "        error[name][off < min_offset, iy] = np.nan + 1j*np.nan\n",
    "        plt.plot(rec_x/1e3, error[name][:, iy].real, f'C{i}{marker[i]}', ms=3)\n",
    "\n",
    "    plt.yscale('log')\n",
    "    plt.xlim(ax1.get_xlim())\n",
    "    plt.ylabel('Rel. error %')\n",
    "#     plt.ylim([8e-3, 120])\n",
    "#     plt.yticks([0.01, 0.1, 1, 10, 100], ('0.01', '0.1', '1', '10', '100'))\n",
    "    plt.grid(axis='y', c='0.9')\n",
    "    plt.xlabel('Offset (km)')\n",
    "\n",
    "\n",
    "    # # Imaginary\n",
    "    ax3 = plt.subplot(222, sharey=ax1)\n",
    "    plt.title('Imaginary')\n",
    "\n",
    "    resp_pos, resp_neg = get_pos_neg(epm_1d[:, iy].imag, off, min_offset)\n",
    "    plt.plot(rec_x/1e3, resp_pos, 'k-', label='empymod')\n",
    "    plt.plot(rec_x/1e3, resp_neg, 'k--')\n",
    "    \n",
    "    resp_pos, resp_neg = get_pos_neg(spg_data[:, iy].imag, off, min_offset)\n",
    "    plt.plot(rec_x/1e3, resp_pos, f'C{i}-', ms=3, label=\"SimPEG\")\n",
    "    plt.plot(rec_x/1e3, resp_neg, f'C{i}--', ms=3)\n",
    "    \n",
    "    plt.yscale('log')\n",
    "    plt.ylabel(r'$\\Im(E_x)$ (V/m)')\n",
    "\n",
    "    ax3.set_xticklabels([])\n",
    "    ax3.yaxis.tick_right()\n",
    "    ax3.yaxis.set_label_position(\"right\")\n",
    "    plt.grid(axis='y', c='0.9')\n",
    "\n",
    "\n",
    "    # # Imaginary Error\n",
    "    ax4 = plt.subplot(224, sharey=ax2)\n",
    "\n",
    "    for i, name in enumerate(error.keys()):\n",
    "        plt.plot(rec_x/1e3, error[name][:, iy].imag, f'C{i}{marker[i]}', ms=3)\n",
    "\n",
    "    # Legend\n",
    "    plt.plot(0, -1, 'k', label='empymod')\n",
    "    for i, name in enumerate(error.keys()):\n",
    "        plt.plot(0, -1, f'C{i}', label=name)\n",
    "        \n",
    "    plt.yscale('log')\n",
    "    plt.xlim(ax1.get_xlim())\n",
    "    plt.xlabel('Offset (km)')\n",
    "    plt.ylabel('Rel. error (%)')\n",
    "    plt.ylim([8e-3, 120])\n",
    "#     plt.yticks([0.01, 0.1, 1, 10, 100], ('0.01', '0.1', '1', '10', '100'))\n",
    "    ax4.yaxis.tick_right()\n",
    "    ax4.yaxis.set_label_position(\"right\")\n",
    "    plt.grid(axis='y', c='0.9')\n",
    "\n",
    "    # Switch off spines\n",
    "    ax1.spines['top'].set_visible(False)\n",
    "    ax1.spines['right'].set_visible(False)\n",
    "    ax2.spines['top'].set_visible(False)\n",
    "    ax2.spines['right'].set_visible(False)\n",
    "    ax3.spines['top'].set_visible(False)\n",
    "    ax3.spines['left'].set_visible(False)\n",
    "    ax4.spines['top'].set_visible(False)\n",
    "    ax4.spines['left'].set_visible(False)\n",
    "\n",
    "    plt.tight_layout()\n",
    "    plt.legend(loc=2, ncol=2, bbox_to_anchor=(-0.4, 1.2), framealpha=1)\n",
    "    \n",
    "    #plt.savefig(f'../manuscript/figures/results-layered-{int(y/1e3)}.pdf', bbox_inches='tight')\n",
    "    plt.suptitle(f'Receiver-line: {y/1e3} km')\n",
    "    plt.show()"
   ]
  },
  {
   "cell_type": "code",
   "execution_count": 41,
   "metadata": {},
   "outputs": [
    {
     "name": "stdout",
     "output_type": "stream",
     "text": [
      "Line 0\n",
      "mean real: 12.90, imag: 8.48\n",
      "median  real: 6.57, imag: 4.27\n",
      "\n",
      "\n",
      "Line 1\n",
      "mean real: 16.09, imag: 10.09\n",
      "median  real: 7.89, imag: 5.80\n",
      "\n",
      "\n",
      "Line 2\n",
      "mean real: 12.90, imag: 8.48\n",
      "median  real: 6.57, imag: 4.27\n",
      "\n",
      "\n"
     ]
    }
   ],
   "source": [
    "for i in range(3):\n",
    "    print(f\"Line {i}\")\n",
    "    inds = ~ np.isnan(error['SimPEG'][:, i])\n",
    "    print(f\"mean real: {np.mean(error['SimPEG'][inds, i].real):1.2f}, imag: {np.mean(error['SimPEG'][inds, i].imag):1.2f}\")\n",
    "    print(f\"median  real: {np.median(error['SimPEG'][inds, i].real):1.2f}, imag: {np.median(error['SimPEG'][inds, i].imag):1.2f}\")             \n",
    "    print(\"\\n\")\n",
    "                  "
   ]
  },
  {
   "cell_type": "code",
   "execution_count": 42,
   "metadata": {},
   "outputs": [
    {
     "data": {
      "text/plain": [
       "(101, 3)"
      ]
     },
     "execution_count": 42,
     "metadata": {},
     "output_type": "execute_result"
    }
   ],
   "source": [
    "spg_data.shape"
   ]
  },
  {
   "cell_type": "code",
   "execution_count": 43,
   "metadata": {},
   "outputs": [],
   "source": [
    "# # Save the three lines\n",
    "# ds.line_1.data = np.vstack([spg_data[:, 0].real, spg_data[:, 0].imag]).ravel('F')\n",
    "# ds.line_2.data = np.vstack([spg_data[:, 1].real, spg_data[:, 1].imag]).ravel('F')\n",
    "# ds.line_3.data = np.vstack([spg_data[:, 2].real, spg_data[:, 2].imag]).ravel('F')\n",
    "\n",
    "# # Add info\n",
    "# ds.attrs['runtime'] = 6*60 + 51.0 #time_b\n",
    "# ds.attrs['n_procs'] = 1\n",
    "# ds.attrs['max_ram'] = ram_b\n",
    "# ds.attrs['n_cells'] = f\"{mesh_b.nC}\"\n",
    "# ds.attrs['n_nodes'] = 'N/A'\n",
    "# ds.attrs['n_dof'] = f\"{mesh.nE}\"\n",
    "# ds.attrs['extent'] = (f\"x = {mesh_b.vectorNx[0]:.1f}-{mesh_b.vectorNx[-1]:.1f}; \" # Total mesh extent\n",
    "#                       f\"y = {mesh_b.vectorNy[0]:.1f}-{mesh_b.vectorNy[-1]:.1f}; \"\n",
    "#                       f\"z = {mesh_b.vectorNz[0]:.1f}-{mesh_b.vectorNz[-1]:.1f}\")\n",
    "# ds.attrs['min_vol'] = f\"{np.min(mesh_b.vol):.1f}\"\n",
    "# ds.attrs['max_vol'] = f\"{np.max(mesh_b.vol):.1f}\"\n",
    "# ds.attrs['machine'] = \"Cheyenne Supercomputer - shared node; Intel(R) Xeon(R) CPU E5-2697 v4 @ 2.30GHz\"\n",
    "# ds.attrs['version'] = f\"SimPEG v{SimPEG.__version__}\"\n",
    "# ds.attrs['date'] = datetime.today().isoformat()\n",
    "\n",
    "# # Save it under <{model}_{code}.nc>\n",
    "# ds.to_netcdf(f\"../results/layered_simpeg.nc\", engine='h5netcdf')"
   ]
  },
  {
   "cell_type": "code",
   "execution_count": null,
   "metadata": {},
   "outputs": [],
   "source": []
  },
  {
   "cell_type": "code",
   "execution_count": null,
   "metadata": {},
   "outputs": [],
   "source": []
  }
 ],
 "metadata": {
  "kernelspec": {
   "display_name": "Python [conda env:.conda-csem3d]",
   "language": "python",
   "name": "conda-env-.conda-csem3d-py"
  },
  "language_info": {
   "codemirror_mode": {
    "name": "ipython",
    "version": 3
   },
   "file_extension": ".py",
   "mimetype": "text/x-python",
   "name": "python",
   "nbconvert_exporter": "python",
   "pygments_lexer": "ipython3",
   "version": "3.7.6"
  }
 },
 "nbformat": 4,
 "nbformat_minor": 4
}
