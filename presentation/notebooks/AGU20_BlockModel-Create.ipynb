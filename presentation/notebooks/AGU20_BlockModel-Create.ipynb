{
 "cells": [
  {
   "cell_type": "markdown",
   "metadata": {},
   "source": [
    "# Figures for the AGU presentation"
   ]
  },
  {
   "cell_type": "code",
   "execution_count": 1,
   "metadata": {
    "nbpresent": {
     "id": "4cf9c8a2-cf5f-45cd-b5da-0b1c7fe23108"
    }
   },
   "outputs": [],
   "source": [
    "import discretize\n",
    "import numpy as np\n",
    "import xarray as xr\n",
    "from datetime import datetime\n",
    "import matplotlib.pyplot as plt\n",
    "import matplotlib.patches as patches\n",
    "from matplotlib.patches import Circle, Ellipse\n",
    "from matplotlib.collections import PatchCollection"
   ]
  },
  {
   "cell_type": "code",
   "execution_count": 2,
   "metadata": {},
   "outputs": [],
   "source": [
    "plt.style.use('seaborn-talk')"
   ]
  },
  {
   "cell_type": "code",
   "execution_count": 3,
   "metadata": {},
   "outputs": [],
   "source": [
    "# 1D background\n",
    "depth = [0., -600, -850, -3150]\n",
    "res1d = [1e8, 0.3, 1, 2, 1000]\n",
    "aniso = [1, 1, 1, np.sqrt(2), 1]\n",
    "\n",
    "# Define dimensions of the three blocks [x1, x2, y1, y2, z1, z2]\n",
    "#        [ -500,  500, -4000, 4000,  -1600, -850]\n",
    "block1 = [ -450,  450, -3950, 3950,  -1550, -900]\n",
    "#        [    0, 5000, -3000,    0,  -1850, -1600]\n",
    "block2 = [   50, 4950, -2950,  -50,  -1800, -1650]\n",
    "#        [-5000,    0,     0, 3000, -2900, -1600]\n",
    "block3 = [-4950,  -50,    50, 2950, -2850, -1650]\n",
    "\n",
    "# Resistivities Block 1, 2, and 3\n",
    "resistivities = [10, 100, 500]"
   ]
  },
  {
   "cell_type": "code",
   "execution_count": 4,
   "metadata": {},
   "outputs": [],
   "source": [
    "x0 = -10000\n",
    "hx = np.diff(np.unique(np.r_[x0, block1[:2], block2[:2], block3[:2], -x0]))\n",
    "\n",
    "y0 = -10000\n",
    "hy = np.diff(np.unique(np.r_[y0, block1[2:4], block2[2:4], block3[2:4], -y0]))\n",
    "\n",
    "z0 = -3400\n",
    "hz = np.diff(np.unique(np.r_[z0, block1[4:], block2[4:], block3[4:], depth, 500]))\n",
    "\n",
    "# Initiate the mesh\n",
    "mesh = discretize.TensorMesh([hx, hy, hz], x0=np.array([x0, y0, z0]))"
   ]
  },
  {
   "cell_type": "code",
   "execution_count": 5,
   "metadata": {},
   "outputs": [],
   "source": [
    "# 1.A Initiate the horizontal and vertical resistivity models\n",
    "resh = np.zeros(mesh.nC)\n",
    "resv = np.zeros(mesh.nC)\n",
    "\n",
    "# 1.B Define layered background model\n",
    "resh[mesh.gridCC[:, 2] > depth[0]] = res1d[0]     # Air\n",
    "resv[mesh.gridCC[:, 2] > depth[0]] = res1d[0]*aniso[0]**2\n",
    "resh[mesh.gridCC[:, 2] <= depth[0]] = res1d[1]    # Water\n",
    "resv[mesh.gridCC[:, 2] <= depth[0]] = res1d[1]*aniso[1]**2\n",
    "resh[mesh.gridCC[:, 2] <= depth[1]] = res1d[2]    # Overburden\n",
    "resv[mesh.gridCC[:, 2] <= depth[1]] = res1d[2]*aniso[2]**2\n",
    "resh[mesh.gridCC[:, 2] <= depth[2]] = res1d[3]    # Background\n",
    "resv[mesh.gridCC[:, 2] <= depth[2]] = res1d[3]*aniso[3]**2\n",
    "resh[mesh.gridCC[:, 2] <= depth[-1]] = res1d[-1]  # Basement\n",
    "resv[mesh.gridCC[:, 2] <= depth[-1]] = res1d[-1]*aniso[-1]**2\n",
    "\n",
    "# Store as background resistivity\n",
    "resh_bg = resh.copy()\n",
    "resv_bg = resv.copy()\n",
    "\n",
    "# 1.C Add the three blocks\n",
    "for i, block in enumerate([block1, block2, block3]):\n",
    "    block_i = (\n",
    "        (mesh.gridCC[:, 0] >= block[0]) & (mesh.gridCC[:, 0] <= block[1]) &\n",
    "        (mesh.gridCC[:, 1] >= block[2]) & (mesh.gridCC[:, 1] <= block[3]) &\n",
    "        (mesh.gridCC[:, 2] >= block[4]) & (mesh.gridCC[:, 2] <= block[5])\n",
    "    )\n",
    "    resh[block_i] = resistivities[i]\n",
    "    resv[block_i] = resistivities[i]\n",
    "    \n",
    "# Reshape them\n",
    "resh = resh.reshape(mesh.vnC, order='F')\n",
    "resv = resv.reshape(mesh.vnC, order='F')\n",
    "resh_bg = resh_bg.reshape(mesh.vnC, order='F')\n",
    "resv_bg = resv_bg.reshape(mesh.vnC, order='F')"
   ]
  },
  {
   "cell_type": "code",
   "execution_count": 6,
   "metadata": {},
   "outputs": [],
   "source": [
    "# Source: x-directed electric dipole of 200 m length, 50 meter above seafloor\n",
    "src = np.array([-100., 100, 0, 0, -550, -550])\n",
    "src_c = np.mean(src.reshape(-1, 2), 1)\n",
    "strength = 800.0  # 800 A strength => 160 kAm source\n",
    "freq = 1.0        # 1 Hz frequency\n",
    "\n",
    "# 3 Receiver lines\n",
    "rec_x = np.linspace(-10., 10, 101)*1e3\n",
    "rec_y = np.array([-3., 0, 3])*1e3\n",
    "rec_z = -600.0"
   ]
  },
  {
   "cell_type": "code",
   "execution_count": 7,
   "metadata": {},
   "outputs": [
    {
     "data": {
      "image/png": "[encoded data removed]",
      "text/plain": [
       "<Figure size 432x396 with 1 Axes>"
      ]
     },
     "metadata": {
      "needs_background": "light"
     },
     "output_type": "display_data"
    }
   ],
   "source": [
    "ls = ['C0', 'C1', 'C2']\n",
    "alpha = [0.1, 0.2, 0.3]\n",
    "# Background-alpha is a function of log10-resistivity\n",
    "alphabg = (np.log10(res1d)-min(np.log10(res1d)))/max(np.log10(res1d)-min(np.log10(res1d)))\n",
    "xlim = [-10, 10]\n",
    "ylim = [-5.5, 5.5]\n",
    "zlim = [-4, 0.5]\n",
    "\n",
    "fig = plt.figure(figsize=(6, 5.5))\n",
    "fig.subplots_adjust(wspace=.075, hspace=.1)\n",
    "\n",
    "# X-Z\n",
    "ax2 = plt.subplot2grid((3, 3), (2, 0), colspan=2, rowspan=1)\n",
    "ax2.yaxis.set_ticks_position('both')\n",
    "\n",
    "# Draw layered background\n",
    "prev = zlim[1]\n",
    "for i, d in enumerate(np.r_[depth, zlim[0]*1e3]):\n",
    "    plt.fill_between([xlim[0], xlim[1]], [prev, prev],\n",
    "                     [d/1e3, d/1e3],\n",
    "                     color='k', alpha=alphabg[i])\n",
    "    if i < 4:\n",
    "        plt.axhline(d/1e3, c='k', lw=1)\n",
    "    prev = d/1e3\n",
    "    \n",
    "# Annotate background resistivities\n",
    "plt.text(0, 0.1, r'1e8$\\,\\Omega\\,$m', c='w', horizontalalignment='center')\n",
    "plt.text(7, -0.5, r'0.3$\\,\\Omega\\,$m', horizontalalignment='center')\n",
    "plt.annotate(r'1$\\,\\Omega\\,$m', (-5, -0.65), xytext=(-8, -1.8), arrowprops=dict(arrowstyle=\"->\"))\n",
    "plt.text(5, -2.4, r'$\\rho_h=2\\,\\Omega\\,$m', horizontalalignment='center')\n",
    "plt.text(5, -3, r'$\\rho_v=4\\,\\Omega\\,$m', horizontalalignment='center')\n",
    "plt.text(0, -3.7, r'1e4$\\,\\Omega\\,$m', horizontalalignment='center')\n",
    "\n",
    "# Source and receivers\n",
    "plt.plot(np.array([src[0], src[1]])/1000, np.array([src[4], src[5]])/1000, 'C3', lw=1)\n",
    "rec_xx = rec_x.copy()\n",
    "rec_xx[abs(rec_x)<500] = np.nan  # min_offset\n",
    "plt.plot(rec_xx/1000, rec_x*0+rec_z/1000, 'C6.', ms=4)\n",
    "\n",
    "ax2.set_xlabel('Easting (km)')\n",
    "ax2.set_xlim([xlim[0], xlim[1]])\n",
    "ax2.set_ylabel('Depth (km)')\n",
    "ax2.set_ylim([zlim[0], zlim[1]])\n",
    "ax2.set_yticks([0, -1, -2, -3, -4])\n",
    "\n",
    "p = PatchCollection([Ellipse((0, -0.57), 2, 0.3), ], ec='k', fc='none', alpha=1)\n",
    "ax2.add_collection(p)\n",
    "\n",
    "plt.savefig('../figures/model-layered.pdf', bbox_inches='tight')\n",
    "plt.show()"
   ]
  },
  {
   "cell_type": "code",
   "execution_count": 8,
   "metadata": {},
   "outputs": [
    {
     "data": {
      "image/png": "[encoded data removed]",
      "text/plain": [
       "<Figure size 216x108 with 1 Axes>"
      ]
     },
     "metadata": {
      "needs_background": "light"
     },
     "output_type": "display_data"
    }
   ],
   "source": [
    "fig, ax = plt.subplots(figsize=(3, 1.5))\n",
    "\n",
    "    \n",
    "ix=46\n",
    "# Move source by 50 m up for better visibility\n",
    "plt.plot([-0.9, 0.9], [-0.6, -0.6], '.6', lw=1)\n",
    "plt.text(0, -0.530, r'200$\\,$m; 800$\\,$A', horizontalalignment='center')\n",
    "plt.plot([src[0]/1e3, src[1]/1e3], [src[4]/1e3, src[5]/1e3], 'C3')\n",
    "plt.plot(rec_xx[ix:-ix]/1e3, rec_x[ix:-ix]*0+rec_z/1e3, 'C6v', ms=6)\n",
    "plt.annotate(r'', (0, -0.55), xytext=(0, -0.6), arrowprops=dict(arrowstyle=\"->\"))\n",
    "plt.text(0.05, -0.59, r'50$\\,$m')\n",
    "\n",
    "\n",
    "p = PatchCollection([Ellipse((0, -0.57), 2, 0.15), ], ec='C0', fc='C0', alpha=0.1)\n",
    "ax.add_collection(p)\n",
    "\n",
    "\n",
    "#plt.axhline(d/1e3, c='k', lw=1)\n",
    "plt.xlim([-1, 1])\n",
    "plt.ylim([-0.65, -0.45])\n",
    "plt.yticks([-0.55, -0.6])\n",
    "plt.axis('off')\n",
    "\n",
    "plt.savefig('../figures/model-layered-src.pdf', bbox_inches='tight')\n",
    "plt.show()"
   ]
  },
  {
   "cell_type": "code",
   "execution_count": 9,
   "metadata": {
    "scrolled": false
   },
   "outputs": [
    {
     "name": "stderr",
     "output_type": "stream",
     "text": [
      "/home/dtr/anaconda3/lib/python3.8/site-packages/numpy/core/_asarray.py:83: VisibleDeprecationWarning: Creating an ndarray from ragged nested sequences (which is a list-or-tuple of lists-or-tuples-or ndarrays with different lengths or shapes) is deprecated. If you meant to do this, you must specify 'dtype=object' when creating the ndarray\n",
      "  return array(a, dtype, copy=False, order=order)\n",
      "/home/dtr/anaconda3/lib/python3.8/site-packages/numpy/core/_asarray.py:83: VisibleDeprecationWarning: Creating an ndarray from ragged nested sequences (which is a list-or-tuple of lists-or-tuples-or ndarrays with different lengths or shapes) is deprecated. If you meant to do this, you must specify 'dtype=object' when creating the ndarray\n",
      "  return array(a, dtype, copy=False, order=order)\n",
      "/home/dtr/anaconda3/lib/python3.8/site-packages/numpy/core/_asarray.py:83: VisibleDeprecationWarning: Creating an ndarray from ragged nested sequences (which is a list-or-tuple of lists-or-tuples-or ndarrays with different lengths or shapes) is deprecated. If you meant to do this, you must specify 'dtype=object' when creating the ndarray\n",
      "  return array(a, dtype, copy=False, order=order)\n",
      "/home/dtr/anaconda3/lib/python3.8/site-packages/numpy/core/_asarray.py:83: VisibleDeprecationWarning: Creating an ndarray from ragged nested sequences (which is a list-or-tuple of lists-or-tuples-or ndarrays with different lengths or shapes) is deprecated. If you meant to do this, you must specify 'dtype=object' when creating the ndarray\n",
      "  return array(a, dtype, copy=False, order=order)\n",
      "/home/dtr/anaconda3/lib/python3.8/site-packages/numpy/core/_asarray.py:83: VisibleDeprecationWarning: Creating an ndarray from ragged nested sequences (which is a list-or-tuple of lists-or-tuples-or ndarrays with different lengths or shapes) is deprecated. If you meant to do this, you must specify 'dtype=object' when creating the ndarray\n",
      "  return array(a, dtype, copy=False, order=order)\n",
      "/home/dtr/anaconda3/lib/python3.8/site-packages/numpy/core/_asarray.py:83: VisibleDeprecationWarning: Creating an ndarray from ragged nested sequences (which is a list-or-tuple of lists-or-tuples-or ndarrays with different lengths or shapes) is deprecated. If you meant to do this, you must specify 'dtype=object' when creating the ndarray\n",
      "  return array(a, dtype, copy=False, order=order)\n",
      "/home/dtr/anaconda3/lib/python3.8/site-packages/numpy/core/_asarray.py:83: VisibleDeprecationWarning: Creating an ndarray from ragged nested sequences (which is a list-or-tuple of lists-or-tuples-or ndarrays with different lengths or shapes) is deprecated. If you meant to do this, you must specify 'dtype=object' when creating the ndarray\n",
      "  return array(a, dtype, copy=False, order=order)\n",
      "/home/dtr/anaconda3/lib/python3.8/site-packages/numpy/core/_asarray.py:83: VisibleDeprecationWarning: Creating an ndarray from ragged nested sequences (which is a list-or-tuple of lists-or-tuples-or ndarrays with different lengths or shapes) is deprecated. If you meant to do this, you must specify 'dtype=object' when creating the ndarray\n",
      "  return array(a, dtype, copy=False, order=order)\n",
      "/home/dtr/anaconda3/lib/python3.8/site-packages/numpy/core/_asarray.py:83: VisibleDeprecationWarning: Creating an ndarray from ragged nested sequences (which is a list-or-tuple of lists-or-tuples-or ndarrays with different lengths or shapes) is deprecated. If you meant to do this, you must specify 'dtype=object' when creating the ndarray\n",
      "  return array(a, dtype, copy=False, order=order)\n",
      "/home/dtr/anaconda3/lib/python3.8/site-packages/numpy/core/_asarray.py:83: VisibleDeprecationWarning: Creating an ndarray from ragged nested sequences (which is a list-or-tuple of lists-or-tuples-or ndarrays with different lengths or shapes) is deprecated. If you meant to do this, you must specify 'dtype=object' when creating the ndarray\n",
      "  return array(a, dtype, copy=False, order=order)\n",
      "/home/dtr/anaconda3/lib/python3.8/site-packages/numpy/core/_asarray.py:83: VisibleDeprecationWarning: Creating an ndarray from ragged nested sequences (which is a list-or-tuple of lists-or-tuples-or ndarrays with different lengths or shapes) is deprecated. If you meant to do this, you must specify 'dtype=object' when creating the ndarray\n",
      "  return array(a, dtype, copy=False, order=order)\n"
     ]
    },
    {
     "data": {
      "image/png": "[encoded data removed]",
      "text/plain": [
       "<Figure size 432x396 with 3 Axes>"
      ]
     },
     "metadata": {
      "needs_background": "light"
     },
     "output_type": "display_data"
    }
   ],
   "source": [
    "ls = ['C0', 'C3', 'C2']\n",
    "alpha = [0.1, 0.2, 0.3]\n",
    "# Background-alpha is a function of log10-resistivity\n",
    "alphabg = (np.log10(res1d)-min(np.log10(res1d)))/max(np.log10(res1d)-min(np.log10(res1d)))\n",
    "xlim = [-10, 10]\n",
    "ylim = [-5.5, 5.5]\n",
    "zlim = [-4, 0.5]\n",
    "\n",
    "fig = plt.figure(figsize=(6, 5.5))\n",
    "fig.subplots_adjust(wspace=.075, hspace=.1)\n",
    "\n",
    "# X-Y\n",
    "ax1 = plt.subplot2grid((3, 3), (0, 0), colspan=2, rowspan=2) #, aspect='equal')\n",
    "\n",
    "# Draw blocks\n",
    "for i, b in enumerate([block1, block2, block3]):\n",
    "    tg = plt.Rectangle((b[0]/1e3, b[2]/1e3),\n",
    "                       np.diff(b[:2])/1e3, np.diff(b[2:4])/1e3,\n",
    "                       facecolor=\"black\", alpha=alpha[i])\n",
    "    ax1.add_patch(tg)\n",
    "    plt.plot(np.r_[b[:2], b[1::-1], b[0]]/1e3,\n",
    "             np.r_[2*[b[2]], 2*[b[3]], b[2]]/1e3, ls[i])\n",
    "\n",
    "# Annotate block resistivities\n",
    "plt.annotate(r'$10\\,\\Omega\\,$m', (0.5, 4), xytext=(2, 4.5), arrowprops=dict(arrowstyle=\"->\"))\n",
    "plt.text(2.5, -1.5, r'$100\\,\\Omega\\,$m', horizontalalignment='center')\n",
    "plt.text(-2.5, 1.5, r'$500\\,\\Omega\\,$m', horizontalalignment='center')\n",
    "plt.text(-9, -0.6, 'Rec-line $0$')\n",
    "plt.text(-9, 3.2, r'Rec-line $+3$')\n",
    "plt.text(-9, -2.8, r'Rec-line $-3$')\n",
    "plt.annotate('Source', (0.5, 0.2), xytext=(3, 1), arrowprops=dict(arrowstyle=\"->\"))\n",
    "    \n",
    "# Plot source and receiver lines\n",
    "plt.plot(rec_x/1e3, -3+0*rec_x, 'C6.', ms=4)\n",
    "plt.plot(rec_xx/1e3, 0*rec_xx, 'C6.', ms=4)\n",
    "plt.plot(rec_x/1e3, 3+0*rec_x, 'C6.', ms=4)\n",
    "plt.plot(np.array([src[0], src[1]])/1000, np.array([src[2], src[3]])/1000, 'C3')\n",
    "\n",
    "ax1.set_ylabel('Northing (km)')\n",
    "ax1.set_xlim([xlim[0], xlim[1]])\n",
    "ax1.set_ylim([ylim[0], ylim[1]])\n",
    "ax1.xaxis.set_ticks_position('top')\n",
    "plt.setp(ax1.get_xticklabels(), visible=False)\n",
    "\n",
    "# X-Z\n",
    "ax2 = plt.subplot2grid((3, 3), (2, 0), colspan=2, rowspan=1, sharex=ax1)\n",
    "ax2.yaxis.set_ticks_position('both')\n",
    "\n",
    "# Draw layered background\n",
    "prev = zlim[1]\n",
    "for i, d in enumerate(np.r_[depth, zlim[0]*1e3]):\n",
    "    plt.fill_between([xlim[0], xlim[1]], [prev, prev],\n",
    "                     [d/1e3, d/1e3],\n",
    "                     color='k', alpha=alphabg[i])\n",
    "    if i < 4:\n",
    "        plt.axhline(d/1e3, c='k', lw=1)\n",
    "    prev = d/1e3\n",
    "    \n",
    "# Draw blocks\n",
    "for i, b in enumerate([block1, block2, block3]):\n",
    "    tg = plt.Rectangle((b[0]/1e3, b[4]/1e3),\n",
    "                       np.diff(b[:2])/1e3, np.diff(b[4:])/1e3,\n",
    "                       facecolor=\"black\", alpha=alpha[i])\n",
    "    ax2.add_patch(tg)\n",
    "    plt.plot(np.r_[b[:2], b[1::-1], b[0]]/1e3,\n",
    "             np.r_[2*[b[4]], 2*[b[5]], b[4]]/1e3, ls[i])\n",
    "\n",
    "# Annotate background resistivities\n",
    "plt.text(0, 0.1, r'1e8$\\,\\Omega\\,$m', c='w', horizontalalignment='center')\n",
    "plt.text(7, -0.5, r'0.3$\\,\\Omega\\,$m', horizontalalignment='center')\n",
    "plt.annotate(r'1$\\,\\Omega\\,$m', (-5, -0.65), xytext=(-8, -1.8), arrowprops=dict(arrowstyle=\"->\"))\n",
    "plt.text(5, -2.4, r'$\\rho_h=2\\,\\Omega\\,$m', horizontalalignment='center')\n",
    "plt.text(5, -3, r'$\\rho_v=4\\,\\Omega\\,$m', horizontalalignment='center')\n",
    "plt.text(0, -3.7, r'1e4$\\,\\Omega\\,$m', horizontalalignment='center')\n",
    "\n",
    "plt.plot(rec_xx/1e3, -0.6+0*rec_xx, 'C6.', ms=4)\n",
    "plt.plot(np.array([src[0], src[1]])/1000, np.array([src[4], src[5]])/1000, 'C3')\n",
    "\n",
    "\n",
    "ax2.set_xlabel('Easting (km)')\n",
    "ax2.set_xlim([xlim[0], xlim[1]])\n",
    "ax2.set_ylabel('Depth (km)')\n",
    "ax2.set_ylim([zlim[0], zlim[1]])\n",
    "ax2.set_yticks([0, -1, -2, -3, -4])\n",
    "\n",
    "# Z-Y\n",
    "ax3 = plt.subplot2grid((3, 3), (0, 2), colspan=1, rowspan=2, sharey=ax1)\n",
    "\n",
    "# Draw layered background\n",
    "prev = zlim[1]\n",
    "for i, d in enumerate(np.r_[depth, zlim[0]*1e3]):\n",
    "    plt.fill_betweenx([ylim[0], ylim[1]], [prev, prev],\n",
    "                     [d/1e3, d/1e3],\n",
    "                     color='k', alpha=alphabg[i])\n",
    "    if i < 4:\n",
    "        plt.axvline(d/1e3, c='k', lw=1)\n",
    "    prev = d/1e3\n",
    "    \n",
    "# Draw blocks\n",
    "for i, b in enumerate([block1, block2, block3]):\n",
    "    tg = plt.Rectangle((b[4]/1e3, b[2]/1e3),\n",
    "                       np.diff(b[4:])/1e3, np.diff(b[2:4])/1e3,\n",
    "                       facecolor=\"black\", alpha=alpha[i])\n",
    "    ax3.add_patch(tg)\n",
    "    plt.plot(np.r_[b[4:], b[-1:3:-1], b[4]]/1e3,\n",
    "             np.r_[2*[b[2]], 2*[b[3]], b[2]]/1e3, ls[i])\n",
    "\n",
    "plt.plot(np.array([src[4], src[5]])/1000, np.array([src[2], src[3]])/1000, 'C3o', ms=2)\n",
    "plt.plot(np.ones(3)*rec_z/1e3, np.array([-3, 0, 3]), 'C6.', ms=6)\n",
    "\n",
    "ax3.yaxis.set_ticks_position('right')\n",
    "ax3.xaxis.set_ticks_position('both')\n",
    "ax3.invert_xaxis()\n",
    "plt.setp(ax3.get_yticklabels(), visible=False)\n",
    "ax3.set_ylim([ylim[0], ylim[1]])\n",
    "ax3.set_xlim([zlim[1], zlim[0]])\n",
    "ax3.set_xticks([0, -1, -2, -3, -4])\n",
    "\n",
    "plt.savefig('../figures/model-block.pdf', bbox_inches='tight')\n",
    "plt.show()"
   ]
  },
  {
   "cell_type": "code",
   "execution_count": null,
   "metadata": {},
   "outputs": [],
   "source": []
  }
 ],
 "metadata": {
  "anaconda-cloud": {},
  "kernelspec": {
   "display_name": "Python 3",
   "language": "python",
   "name": "python3"
  },
  "language_info": {
   "codemirror_mode": {
    "name": "ipython",
    "version": 3
   },
   "file_extension": ".py",
   "mimetype": "text/x-python",
   "name": "python",
   "nbconvert_exporter": "python",
   "pygments_lexer": "ipython3",
   "version": "3.8.6"
  },
  "nbpresent": {
   "slides": {
    "2a1825bf-35ff-4370-b129-ba51addc5c69": {
     "id": "2a1825bf-35ff-4370-b129-ba51addc5c69",
     "prev": "3d6a47d5-4fff-46fe-b063-1afce739efbb",
     "regions": {
      "c651f707-58e0-4b88-b861-0c6608fca1d5": {
       "attrs": {
        "height": 0.8,
        "width": 0.8,
        "x": 0.1,
        "y": 0.1
       },
       "content": {
        "cell": "6900d774-2898-4efd-9798-78bc8f08d0da",
        "part": "whole"
       },
       "id": "c651f707-58e0-4b88-b861-0c6608fca1d5"
      }
     }
    },
    "3d6a47d5-4fff-46fe-b063-1afce739efbb": {
     "id": "3d6a47d5-4fff-46fe-b063-1afce739efbb",
     "prev": "aa9c2bcf-e54f-4714-946e-18921616a039",
     "regions": {
      "e461f359-4831-4693-84fe-480f6c1db14a": {
       "attrs": {
        "height": 0.8,
        "width": 0.8,
        "x": 0.1,
        "y": 0.1
       },
       "content": {
        "cell": "1a31a0e1-bcf6-452d-aabb-c48c94a9e85d",
        "part": "whole"
       },
       "id": "e461f359-4831-4693-84fe-480f6c1db14a"
      }
     }
    },
    "54253e19-21cb-4738-94f0-109d6bbb2bde": {
     "id": "54253e19-21cb-4738-94f0-109d6bbb2bde",
     "prev": "5f5302d2-4747-4c5a-a6c3-1d0fc8f7fb66",
     "regions": {
      "1735c9df-b5c2-40d7-b562-b869e4b966cd": {
       "attrs": {
        "height": 0.8,
        "width": 0.8,
        "x": 0.1,
        "y": 0.1
       },
       "content": {
        "cell": "f85d2094-6d09-4627-a0ab-7cab37ed3c9f",
        "part": "whole"
       },
       "id": "1735c9df-b5c2-40d7-b562-b869e4b966cd"
      }
     }
    },
    "5f5302d2-4747-4c5a-a6c3-1d0fc8f7fb66": {
     "id": "5f5302d2-4747-4c5a-a6c3-1d0fc8f7fb66",
     "prev": "fc333044-619d-44bd-8c7f-0a53dd4b220a",
     "regions": {
      "41618366-0a77-4f2d-9d9b-77ed062d6959": {
       "attrs": {
        "height": 0.8,
        "width": 0.8,
        "x": 0.1,
        "y": 0.1
       },
       "content": {
        "cell": "83e23522-1665-45d6-8bc0-869b981a0e66",
        "part": "whole"
       },
       "id": "41618366-0a77-4f2d-9d9b-77ed062d6959"
      }
     }
    },
    "aa9c2bcf-e54f-4714-946e-18921616a039": {
     "id": "aa9c2bcf-e54f-4714-946e-18921616a039",
     "prev": "54253e19-21cb-4738-94f0-109d6bbb2bde",
     "regions": {
      "1b48f280-81c6-4746-8fff-091d4b10b448": {
       "attrs": {
        "height": 0.8,
        "width": 0.8,
        "x": 0.1,
        "y": 0.1
       },
       "content": {
        "cell": "0631a68b-7d4d-4326-abff-8628f2004afc",
        "part": "whole"
       },
       "id": "1b48f280-81c6-4746-8fff-091d4b10b448"
      }
     }
    },
    "b5a49768-441a-449c-bbf3-d2a7febf0235": {
     "id": "b5a49768-441a-449c-bbf3-d2a7febf0235",
     "prev": null,
     "regions": {
      "7ae15b0a-8675-4544-8708-f2e95dda286f": {
       "attrs": {
        "height": 0.8,
        "width": 0.8,
        "x": 0.1,
        "y": 0.1
       },
       "content": {
        "cell": "4cf9c8a2-cf5f-45cd-b5da-0b1c7fe23108",
        "part": "whole"
       },
       "id": "7ae15b0a-8675-4544-8708-f2e95dda286f"
      }
     }
    },
    "bc930404-89e7-4fc9-a1f9-e9edc1f4d1d4": {
     "id": "bc930404-89e7-4fc9-a1f9-e9edc1f4d1d4",
     "prev": "2a1825bf-35ff-4370-b129-ba51addc5c69",
     "regions": {
      "76296bab-9070-4528-b79c-558debc8f675": {
       "attrs": {
        "height": 0.8,
        "width": 0.8,
        "x": 0.1,
        "y": 0.1
       },
       "content": {
        "cell": "3ac01b43-1f53-4902-a857-5a0b0a6ef59b",
        "part": "whole"
       },
       "id": "76296bab-9070-4528-b79c-558debc8f675"
      }
     }
    },
    "fc333044-619d-44bd-8c7f-0a53dd4b220a": {
     "id": "fc333044-619d-44bd-8c7f-0a53dd4b220a",
     "prev": "b5a49768-441a-449c-bbf3-d2a7febf0235",
     "regions": {
      "fea6658a-c555-450d-b33b-0e44fe7b1cf8": {
       "attrs": {
        "height": 0.8,
        "width": 0.8,
        "x": 0.1,
        "y": 0.1
       },
       "content": {
        "cell": "d0a7e487-d7b9-418c-810f-f12d33c88c85",
        "part": "whole"
       },
       "id": "fea6658a-c555-450d-b33b-0e44fe7b1cf8"
      }
     }
    }
   },
   "themes": {}
  }
 },
 "nbformat": 4,
 "nbformat_minor": 1
}
