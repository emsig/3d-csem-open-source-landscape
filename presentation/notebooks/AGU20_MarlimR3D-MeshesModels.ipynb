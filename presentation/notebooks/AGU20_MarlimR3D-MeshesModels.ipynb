{
 "cells": [
  {
   "cell_type": "markdown",
   "metadata": {},
   "source": [
    "# MarlimR3D - Meshes and Models"
   ]
  },
  {
   "cell_type": "code",
   "execution_count": 1,
   "metadata": {
    "nbpresent": {
     "id": "4cf9c8a2-cf5f-45cd-b5da-0b1c7fe23108"
    }
   },
   "outputs": [],
   "source": [
    "import emg3d\n",
    "import discretize\n",
    "import numpy as np\n",
    "import xarray as xr\n",
    "import pyvista as pv\n",
    "import matplotlib.pyplot as plt\n",
    "from scipy.spatial import ConvexHull\n",
    "from matplotlib.colors import LogNorm"
   ]
  },
  {
   "cell_type": "code",
   "execution_count": 2,
   "metadata": {},
   "outputs": [],
   "source": [
    "plt.style.use('seaborn-talk')"
   ]
  },
  {
   "cell_type": "markdown",
   "metadata": {},
   "source": [
    "## Load survey info"
   ]
  },
  {
   "cell_type": "code",
   "execution_count": 3,
   "metadata": {},
   "outputs": [],
   "source": [
    "data = xr.load_dataset('../../model-marlim/marlim_survey.nc', engine='h5netcdf')"
   ]
  },
  {
   "cell_type": "markdown",
   "metadata": {},
   "source": [
    "## Load results from modellers\n",
    "\n",
    "### Tensor Mesh: emg3d"
   ]
  },
  {
   "cell_type": "code",
   "execution_count": 4,
   "metadata": {},
   "outputs": [
    {
     "name": "stdout",
     "output_type": "stream",
     "text": [
      "Data loaded from «/home/dtr/Codes/article-os-csem/model-marlim/results/emg3d_model.h5»\n",
      "[emg3d v0.12.0 (format 0.12.0) on 2020-10-09T18:53:08.692116].\n"
     ]
    }
   ],
   "source": [
    "egd = emg3d.load('../../model-marlim/results/emg3d_model.h5')\n",
    "mesh_emg3d = egd['mesh']\n",
    "model_emg3d = egd['model']"
   ]
  },
  {
   "cell_type": "markdown",
   "metadata": {},
   "source": [
    "### OcTree Mesh: SimPEG"
   ]
  },
  {
   "cell_type": "code",
   "execution_count": 5,
   "metadata": {},
   "outputs": [],
   "source": [
    "# Load mesh\n",
    "mesh_simpeg = discretize.TreeMesh.readUBC(\"../../model-marlim/results/simpeg_marlim_mesh.txt\")\n",
    "rhoh = np.load('../../model-marlim/results/simpeg_marlim_rhoh.npy')"
   ]
  },
  {
   "cell_type": "markdown",
   "metadata": {},
   "source": [
    "### Tetrahedral Mesh: custEM"
   ]
  },
  {
   "cell_type": "code",
   "execution_count": 6,
   "metadata": {},
   "outputs": [
    {
     "data": {
      "text/html": [
       "<table><tr><th>Header</th><th>Data Arrays</th></tr><tr><td>\n",
       "<table>\n",
       "<tr><th>UnstructuredGrid</th><th>Information</th></tr>\n",
       "<tr><td>N Cells</td><td>303010</td></tr>\n",
       "<tr><td>N Points</td><td>49594</td></tr>\n",
       "<tr><td>X Bounds</td><td>-2.508e+04, 2.508e+04</td></tr>\n",
       "<tr><td>Y Bounds</td><td>-2.508e+04, 2.508e+04</td></tr>\n",
       "<tr><td>Z Bounds</td><td>-2.508e+04, 2.508e+04</td></tr>\n",
       "<tr><td>N Arrays</td><td>1</td></tr>\n",
       "</table>\n",
       "\n",
       "</td><td>\n",
       "<table>\n",
       "<tr><th>Name</th><th>Field</th><th>Type</th><th>N Comp</th><th>Min</th><th>Max</th></tr>\n",
       "<tr><td><b>f_29</b></td><td>Cells</td><td>float64</td><td>1</td><td>3.156e-01</td><td>1.000e+08</td></tr>\n",
       "</table>\n",
       "\n",
       "</td></tr> </table>"
      ],
      "text/plain": [
       "UnstructuredGrid (0x7f4f19017940)\n",
       "  N Cells:\t303010\n",
       "  N Points:\t49594\n",
       "  X Bounds:\t-2.508e+04, 2.508e+04\n",
       "  Y Bounds:\t-2.508e+04, 2.508e+04\n",
       "  Z Bounds:\t-2.508e+04, 2.508e+04\n",
       "  N Arrays:\t1"
      ]
     },
     "execution_count": 6,
     "metadata": {},
     "output_type": "execute_result"
    }
   ],
   "source": [
    "path = \"../../model-marlim/results/custEM_mesh_and_fields/\"\n",
    "mesh = pv.read(path+\"res_h000000.vtu\")\n",
    "\n",
    "def create_cartesian_slice_for_mpl(mesh, normal='x', origin=None, scalars=None):\n",
    "    \"\"\"This only works if the slice is to be along a cartesian axes\n",
    "    \n",
    "    See https://github.com/pyvista/pyvista-support/issues/70\n",
    "\n",
    "    normal is a str of the axes norma to slice (x, y, or z)\n",
    "    origin is location of slice. \n",
    "    scalars is name of array to use.\n",
    "    \"\"\"\n",
    "    data = mesh.slice(normal=normal, origin=origin, generate_triangles=True)\n",
    "    assert data.is_all_triangles()\n",
    "\n",
    "    # Grab data for Matplotlib\n",
    "    x = data.points\n",
    "    tri = data.faces.reshape((-1, 4))[:, 1:]\n",
    "    if scalars is None:\n",
    "        u = data.active_scalars\n",
    "    else:\n",
    "        u = data[scalars]\n",
    "    \n",
    "    if normal == 'x':\n",
    "        a, b = x[:,1], x[:,2] # YZ\n",
    "    elif normal == 'y':\n",
    "        a, b = x[:,0], x[:,2] # XZ\n",
    "    elif normal == 'z':\n",
    "        a, b = x[:,0], x[:,1] # XY\n",
    "    else:\n",
    "        raise ValueError(\"Normal must be 'x', 'y', or 'z' to align with cartesian axes.\")\n",
    "    \n",
    "    return a, b, tri, u\n",
    "\n",
    "xtri, ytri, tri, u = create_cartesian_slice_for_mpl(mesh, 'y', (0, 0, 0))\n",
    "\n",
    "xtri += 390275\n",
    "   \n",
    "mesh"
   ]
  },
  {
   "cell_type": "markdown",
   "metadata": {},
   "source": [
    "## Figure"
   ]
  },
  {
   "cell_type": "code",
   "execution_count": 7,
   "metadata": {
    "scrolled": false
   },
   "outputs": [
    {
     "name": "stdout",
     "output_type": "stream",
     "text": [
      "emg3d  :: y=7517799.0\n",
      "SimPEG :: y=7517849.0\n",
      "Vertical exaggeration: 2.8\n"
     ]
    },
    {
     "name": "stderr",
     "output_type": "stream",
     "text": [
      "<ipython-input-7-302621d767ff>:79: UserWarning: Matplotlib is currently using module://ipykernel.pylab.backend_inline, which is a non-GUI backend, so cannot show the figure.\n",
      "  fig.show()\n"
     ]
    },
    {
     "data": {
      "image/png": "[encoded data removed]",
      "text/plain": [
       "<Figure size 648x190.8 with 4 Axes>"
      ]
     },
     "metadata": {
      "needs_background": "light"
     },
     "output_type": "display_data"
    }
   ],
   "source": [
    "vmin, vmax = 0.32, 1200\n",
    "\n",
    "# Initiate figure (axes shared)\n",
    "fig, axs = plt.subplots(1, 3, figsize=(9, 2.65), sharey=True, sharex=True)\n",
    "(ax1, ax2, ax3) = axs\n",
    "\n",
    "\n",
    "# # # (A) TensorMesh # # #\n",
    "e_ind = 45\n",
    "print(f\"emg3d  :: y={mesh_emg3d.vectorCCy[e_ind]}\")\n",
    "dat = mesh_emg3d.plotSlice(\n",
    "    model_emg3d.property_x.ravel('F'),\n",
    "    ind=e_ind, normal=\"Y\", ax=ax1,\n",
    "    pcolor_opts={'rasterized': True, \"norm\": LogNorm(vmin=vmin, vmax=vmax)}\n",
    ")\n",
    "ax1.set_title('Rectilinear')\n",
    "ax1.set_ylabel('Depth (km)')\n",
    "ax1.set_xlabel('')\n",
    "\n",
    "\n",
    "# # # (B) OcTreeMesh (ax4-ax6) # # #\n",
    "\n",
    "s_ind = 508 # Inline\n",
    "print(f\"SimPEG :: y={mesh_simpeg.vectorCCy[s_ind]}\")\n",
    "# Plot Ex-field\n",
    "mesh_simpeg.plotSlice(\n",
    "    rhoh, normal=\"Y\", ind=s_ind, ax=ax2,\n",
    "    pcolor_opts={'rasterized': True, \"norm\": LogNorm(vmin=vmin, vmax=vmax)}\n",
    ")\n",
    "ax2.set_title('OcTree')\n",
    "ax2.set_xlabel('Easting (km)')\n",
    "ax2.set_ylabel('')\n",
    "\n",
    "\n",
    "# # # (C) TetrahedralMesh (ax7-ax9) # # #\n",
    "\n",
    "ax3.set_title('Tetrahedra')\n",
    "ax3.tripcolor(xtri, ytri, tri, u, rasterized=True, norm=LogNorm(vmin=vmin, vmax=vmax))\n",
    "\n",
    "# # # FINALIZE # # #\n",
    "\n",
    "# Plot survey over meshes.\n",
    "#for ax in axs:\n",
    "#    ax.plot(data.attrs['rec_x'], data.attrs['rec_z'], 'C1*', ms=5)\n",
    "#    ax.plot(data.src_x[::2], data.data_il.attrs['src_z'], 'C0.')\n",
    "\n",
    "# Set x- and y-limits\n",
    "ax1.set_xlim([data.src_x[0], data.src_x[-1]])\n",
    "ax1.set_ylim([-5500, 0])\n",
    "\n",
    "# Turn spines off, but ticks on all sides.\n",
    "for ax in axs.ravel():\n",
    "    [ax.spines[k].set_visible(False) for k in ax.spines.keys()]\n",
    "    ax.xaxis.set_ticks_position('both')\n",
    "    ax.yaxis.set_ticks_position('both')\n",
    "\n",
    "# Reduce number of ticks.\n",
    "ax1.set_xticks(1000*np.array([380, 390, 400]))\n",
    "ax1.set_xticklabels(['380', '390', '400'])\n",
    "ax1.set_yticks(-1000*np.arange(6)[::-1])\n",
    "ax1.set_yticklabels(['-5', '-4', '-3', '-2', '-1', '0'])\n",
    "\n",
    "# Make tight, leave space for colorbar.\n",
    "fig.tight_layout(rect=[0, 0, 0.95, 1])\n",
    "\n",
    "# Colorbar.\n",
    "c = fig.colorbar(dat[0], ax=axs, fraction=0.025)\n",
    "c.ax.set_ylabel(\"$\\Omega\\,$m (log10)\")\n",
    "\n",
    "# Print exaggeration.\n",
    "fw, fh = ax1.get_figure().get_size_inches()\n",
    "_, _, aw, ah = ax1.get_position().bounds\n",
    "ratio = (fh * ah) / (fw * aw)\n",
    "ratio /= np.diff(ax1.get_ylim()) / np.diff(ax1.get_xlim())\n",
    "print(f\"Vertical exaggeration: {ratio[0]:.1f}\")\n",
    "\n",
    "# Save and show.\n",
    "fig.savefig(f'../figures/results-marlim_allmodels.pdf', bbox_inches='tight')\n",
    "fig.show()"
   ]
  },
  {
   "cell_type": "code",
   "execution_count": 8,
   "metadata": {},
   "outputs": [
    {
     "data": {
      "text/html": [
       "<table style='border: 3px solid #ddd;'>\n",
       "  <tr>\n",
       "     <td style='text-align: center; font-weight: bold; font-size: 1.2em; border: 2px solid #fff;' colspan='6'>Fri Nov 20 16:18:59 2020 CET</td>\n",
       "  </tr>\n",
       "  <tr>\n",
       "    <td style='text-align: right; background-color: #ccc; border: 2px solid #fff;'>OS</td>\n",
       "    <td style='text-align: left; border: 2px solid #fff;'>Linux</td>\n",
       "    <td style='text-align: right; background-color: #ccc; border: 2px solid #fff;'>CPU(s)</td>\n",
       "    <td style='text-align: left; border: 2px solid #fff;'>4</td>\n",
       "    <td style='text-align: right; background-color: #ccc; border: 2px solid #fff;'>Machine</td>\n",
       "    <td style='text-align: left; border: 2px solid #fff;'>x86_64</td>\n",
       "  </tr>\n",
       "  <tr>\n",
       "    <td style='text-align: right; background-color: #ccc; border: 2px solid #fff;'>Architecture</td>\n",
       "    <td style='text-align: left; border: 2px solid #fff;'>64bit</td>\n",
       "    <td style='text-align: right; background-color: #ccc; border: 2px solid #fff;'>RAM</td>\n",
       "    <td style='text-align: left; border: 2px solid #fff;'>15.5 GB</td>\n",
       "    <td style='text-align: right; background-color: #ccc; border: 2px solid #fff;'>Environment</td>\n",
       "    <td style='text-align: left; border: 2px solid #fff;'>Jupyter</td>\n",
       "  </tr>\n",
       "  <tr>\n",
       "     <td style='text-align: center; border: 2px solid #fff;' colspan='6'>Python 3.8.6 | packaged by conda-forge | (default, Oct  7 2020, 19:08:05) \n",
       "[GCC 7.5.0]</td>\n",
       "  </tr>\n",
       "  <tr>\n",
       "    <td style='text-align: right; background-color: #ccc; border: 2px solid #fff;'>numpy</td>\n",
       "    <td style='text-align: left; border: 2px solid #fff;'>1.19.2</td>\n",
       "    <td style='text-align: right; background-color: #ccc; border: 2px solid #fff;'>scipy</td>\n",
       "    <td style='text-align: left; border: 2px solid #fff;'>1.5.3</td>\n",
       "    <td style='text-align: right; background-color: #ccc; border: 2px solid #fff;'>numba</td>\n",
       "    <td style='text-align: left; border: 2px solid #fff;'>0.51.2</td>\n",
       "  </tr>\n",
       "  <tr>\n",
       "    <td style='text-align: right; background-color: #ccc; border: 2px solid #fff;'>emg3d</td>\n",
       "    <td style='text-align: left; border: 2px solid #fff;'>0.14.3.dev2+g1b907cf</td>\n",
       "    <td style='text-align: right; background-color: #ccc; border: 2px solid #fff;'>empymod</td>\n",
       "    <td style='text-align: left; border: 2px solid #fff;'>2.0.3</td>\n",
       "    <td style='text-align: right; background-color: #ccc; border: 2px solid #fff;'>xarray</td>\n",
       "    <td style='text-align: left; border: 2px solid #fff;'>0.16.1</td>\n",
       "  </tr>\n",
       "  <tr>\n",
       "    <td style='text-align: right; background-color: #ccc; border: 2px solid #fff;'>discretize</td>\n",
       "    <td style='text-align: left; border: 2px solid #fff;'>0.6.1</td>\n",
       "    <td style='text-align: right; background-color: #ccc; border: 2px solid #fff;'>h5py</td>\n",
       "    <td style='text-align: left; border: 2px solid #fff;'>3.1.0</td>\n",
       "    <td style='text-align: right; background-color: #ccc; border: 2px solid #fff;'>matplotlib</td>\n",
       "    <td style='text-align: left; border: 2px solid #fff;'>3.3.3</td>\n",
       "  </tr>\n",
       "  <tr>\n",
       "    <td style='text-align: right; background-color: #ccc; border: 2px solid #fff;'>tqdm</td>\n",
       "    <td style='text-align: left; border: 2px solid #fff;'>4.52.0</td>\n",
       "    <td style='text-align: right; background-color: #ccc; border: 2px solid #fff;'>IPython</td>\n",
       "    <td style='text-align: left; border: 2px solid #fff;'>7.16.1</td>\n",
       "    <td style= border: 2px solid #fff;'></td>\n",
       "    <td style= border: 2px solid #fff;'></td>\n",
       "  </tr>\n",
       "  <tr>\n",
       "     <td style='text-align: center; background-color: #ddd;border: 2px solid #fff;' colspan='6'>Intel(R) Math Kernel Library Version 2020.0.1 Product Build 20200208 for Intel(R) 64 architecture applications</td>\n",
       "  </tr>\n",
       "</table>"
      ],
      "text/plain": [
       "\n",
       "--------------------------------------------------------------------------------\n",
       "  Date: Fri Nov 20 16:18:59 2020 CET\n",
       "\n",
       "                OS : Linux\n",
       "            CPU(s) : 4\n",
       "           Machine : x86_64\n",
       "      Architecture : 64bit\n",
       "               RAM : 15.5 GB\n",
       "       Environment : Jupyter\n",
       "\n",
       "  Python 3.8.6 | packaged by conda-forge | (default, Oct  7 2020, 19:08:05)\n",
       "  [GCC 7.5.0]\n",
       "\n",
       "             numpy : 1.19.2\n",
       "             scipy : 1.5.3\n",
       "             numba : 0.51.2\n",
       "             emg3d : 0.14.3.dev2+g1b907cf\n",
       "           empymod : 2.0.3\n",
       "            xarray : 0.16.1\n",
       "        discretize : 0.6.1\n",
       "              h5py : 3.1.0\n",
       "        matplotlib : 3.3.3\n",
       "              tqdm : 4.52.0\n",
       "           IPython : 7.16.1\n",
       "\n",
       "  Intel(R) Math Kernel Library Version 2020.0.1 Product Build 20200208 for\n",
       "  Intel(R) 64 architecture applications\n",
       "--------------------------------------------------------------------------------"
      ]
     },
     "execution_count": 8,
     "metadata": {},
     "output_type": "execute_result"
    }
   ],
   "source": [
    "emg3d.Report()"
   ]
  }
 ],
 "metadata": {
  "anaconda-cloud": {},
  "kernelspec": {
   "display_name": "Python 3",
   "language": "python",
   "name": "python3"
  },
  "language_info": {
   "codemirror_mode": {
    "name": "ipython",
    "version": 3
   },
   "file_extension": ".py",
   "mimetype": "text/x-python",
   "name": "python",
   "nbconvert_exporter": "python",
   "pygments_lexer": "ipython3",
   "version": "3.8.6"
  },
  "nbpresent": {
   "slides": {
    "2a1825bf-35ff-4370-b129-ba51addc5c69": {
     "id": "2a1825bf-35ff-4370-b129-ba51addc5c69",
     "prev": "3d6a47d5-4fff-46fe-b063-1afce739efbb",
     "regions": {
      "c651f707-58e0-4b88-b861-0c6608fca1d5": {
       "attrs": {
        "height": 0.8,
        "width": 0.8,
        "x": 0.1,
        "y": 0.1
       },
       "content": {
        "cell": "6900d774-2898-4efd-9798-78bc8f08d0da",
        "part": "whole"
       },
       "id": "c651f707-58e0-4b88-b861-0c6608fca1d5"
      }
     }
    },
    "3d6a47d5-4fff-46fe-b063-1afce739efbb": {
     "id": "3d6a47d5-4fff-46fe-b063-1afce739efbb",
     "prev": "aa9c2bcf-e54f-4714-946e-18921616a039",
     "regions": {
      "e461f359-4831-4693-84fe-480f6c1db14a": {
       "attrs": {
        "height": 0.8,
        "width": 0.8,
        "x": 0.1,
        "y": 0.1
       },
       "content": {
        "cell": "1a31a0e1-bcf6-452d-aabb-c48c94a9e85d",
        "part": "whole"
       },
       "id": "e461f359-4831-4693-84fe-480f6c1db14a"
      }
     }
    },
    "54253e19-21cb-4738-94f0-109d6bbb2bde": {
     "id": "54253e19-21cb-4738-94f0-109d6bbb2bde",
     "prev": "5f5302d2-4747-4c5a-a6c3-1d0fc8f7fb66",
     "regions": {
      "1735c9df-b5c2-40d7-b562-b869e4b966cd": {
       "attrs": {
        "height": 0.8,
        "width": 0.8,
        "x": 0.1,
        "y": 0.1
       },
       "content": {
        "cell": "f85d2094-6d09-4627-a0ab-7cab37ed3c9f",
        "part": "whole"
       },
       "id": "1735c9df-b5c2-40d7-b562-b869e4b966cd"
      }
     }
    },
    "5f5302d2-4747-4c5a-a6c3-1d0fc8f7fb66": {
     "id": "5f5302d2-4747-4c5a-a6c3-1d0fc8f7fb66",
     "prev": "fc333044-619d-44bd-8c7f-0a53dd4b220a",
     "regions": {
      "41618366-0a77-4f2d-9d9b-77ed062d6959": {
       "attrs": {
        "height": 0.8,
        "width": 0.8,
        "x": 0.1,
        "y": 0.1
       },
       "content": {
        "cell": "83e23522-1665-45d6-8bc0-869b981a0e66",
        "part": "whole"
       },
       "id": "41618366-0a77-4f2d-9d9b-77ed062d6959"
      }
     }
    },
    "aa9c2bcf-e54f-4714-946e-18921616a039": {
     "id": "aa9c2bcf-e54f-4714-946e-18921616a039",
     "prev": "54253e19-21cb-4738-94f0-109d6bbb2bde",
     "regions": {
      "1b48f280-81c6-4746-8fff-091d4b10b448": {
       "attrs": {
        "height": 0.8,
        "width": 0.8,
        "x": 0.1,
        "y": 0.1
       },
       "content": {
        "cell": "0631a68b-7d4d-4326-abff-8628f2004afc",
        "part": "whole"
       },
       "id": "1b48f280-81c6-4746-8fff-091d4b10b448"
      }
     }
    },
    "b5a49768-441a-449c-bbf3-d2a7febf0235": {
     "id": "b5a49768-441a-449c-bbf3-d2a7febf0235",
     "prev": null,
     "regions": {
      "7ae15b0a-8675-4544-8708-f2e95dda286f": {
       "attrs": {
        "height": 0.8,
        "width": 0.8,
        "x": 0.1,
        "y": 0.1
       },
       "content": {
        "cell": "4cf9c8a2-cf5f-45cd-b5da-0b1c7fe23108",
        "part": "whole"
       },
       "id": "7ae15b0a-8675-4544-8708-f2e95dda286f"
      }
     }
    },
    "bc930404-89e7-4fc9-a1f9-e9edc1f4d1d4": {
     "id": "bc930404-89e7-4fc9-a1f9-e9edc1f4d1d4",
     "prev": "2a1825bf-35ff-4370-b129-ba51addc5c69",
     "regions": {
      "76296bab-9070-4528-b79c-558debc8f675": {
       "attrs": {
        "height": 0.8,
        "width": 0.8,
        "x": 0.1,
        "y": 0.1
       },
       "content": {
        "cell": "3ac01b43-1f53-4902-a857-5a0b0a6ef59b",
        "part": "whole"
       },
       "id": "76296bab-9070-4528-b79c-558debc8f675"
      }
     }
    },
    "fc333044-619d-44bd-8c7f-0a53dd4b220a": {
     "id": "fc333044-619d-44bd-8c7f-0a53dd4b220a",
     "prev": "b5a49768-441a-449c-bbf3-d2a7febf0235",
     "regions": {
      "fea6658a-c555-450d-b33b-0e44fe7b1cf8": {
       "attrs": {
        "height": 0.8,
        "width": 0.8,
        "x": 0.1,
        "y": 0.1
       },
       "content": {
        "cell": "d0a7e487-d7b9-418c-810f-f12d33c88c85",
        "part": "whole"
       },
       "id": "fea6658a-c555-450d-b33b-0e44fe7b1cf8"
      }
     }
    }
   },
   "themes": {}
  }
 },
 "nbformat": 4,
 "nbformat_minor": 1
}
